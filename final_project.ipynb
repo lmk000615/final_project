{
 "cells": [
  {
   "cell_type": "code",
   "execution_count": 1,
   "id": "7fa2124787128ed2",
   "metadata": {
    "ExecuteTime": {
     "end_time": "2023-12-03T06:10:09.709890700Z",
     "start_time": "2023-12-03T06:10:09.027181400Z"
    }
   },
   "outputs": [],
   "source": [
    "import pandas as pd\n",
    "import requests\n",
    "import geopandas as gpd\n",
    "from shapely.geometry import Point"
   ]
  },
  {
   "cell_type": "code",
   "execution_count": 2,
   "id": "1624f0365a54c523",
   "metadata": {
    "ExecuteTime": {
     "end_time": "2023-12-03T04:27:22.472078600Z",
     "start_time": "2023-12-03T04:27:22.465568600Z"
    }
   },
   "outputs": [],
   "source": [
    "app_token = \"Rl5BUiRawpr4H2LA9OQeKB47L\""
   ]
  },
  {
   "cell_type": "markdown",
   "id": "3f6c2feb6b97c6ff",
   "metadata": {},
   "source": [
    "# 1 Data Preprocessing"
   ]
  },
  {
   "cell_type": "markdown",
   "id": "330c4bf21749066b",
   "metadata": {},
   "source": [
    "## 1.1 Download 311 data and 2015 tree cencus data"
   ]
  },
  {
   "cell_type": "code",
   "execution_count": 3,
   "id": "3295db8a6395ef7d",
   "metadata": {
    "ExecuteTime": {
     "end_time": "2023-11-29T17:12:02.906961900Z",
     "start_time": "2023-11-29T17:12:02.897088700Z"
    }
   },
   "outputs": [],
   "source": [
    "from datetime import datetime, timedelta\n",
    "\n",
    "def generate_month_ranges(start_date, end_date):\n",
    "    current = start_date\n",
    "    temp = 0\n",
    "    while current < end_date:\n",
    "        temp += 1\n",
    "        month_end = current.replace(day=1) + timedelta(days=32)\n",
    "        month_end = month_end.replace(day=1) - timedelta(days=1) # 9 30\n",
    "        yield (current, month_end)\n",
    "        current = month_end + timedelta(days=1)\n",
    "        if temp == 100:\n",
    "            break\n",
    "\n",
    "#Set start date and end ate\n",
    "start_date = datetime(2018, 10, 1)\n",
    "end_date = datetime(2023, 9, 30)\n",
    "\n",
    "#Generate month's range\n",
    "month_ranges = list(generate_month_ranges(start_date, end_date))"
   ]
  },
  {
   "cell_type": "code",
   "execution_count": 4,
   "id": "83354ebeb00066c5",
   "metadata": {
    "ExecuteTime": {
     "end_time": "2023-11-29T17:24:11.674616400Z",
     "start_time": "2023-11-29T17:12:24.126641100Z"
    }
   },
   "outputs": [
    {
     "name": "stdout",
     "output_type": "stream",
     "text": [
      "Downloading data for the period: 2018-10-01 to 2018-10-31\n",
      "Downloading data for the period: 2018-11-01 to 2018-11-30\n",
      "Downloading data for the period: 2018-12-01 to 2018-12-31\n",
      "Downloading data for the period: 2019-01-01 to 2019-01-31\n",
      "Downloading data for the period: 2019-02-01 to 2019-02-28\n",
      "Downloading data for the period: 2019-03-01 to 2019-03-31\n",
      "Downloading data for the period: 2019-04-01 to 2019-04-30\n",
      "Downloading data for the period: 2019-05-01 to 2019-05-31\n",
      "Downloading data for the period: 2019-06-01 to 2019-06-30\n",
      "Downloading data for the period: 2019-07-01 to 2019-07-31\n",
      "Downloading data for the period: 2019-08-01 to 2019-08-31\n",
      "Downloading data for the period: 2019-09-01 to 2019-09-30\n",
      "Downloading data for the period: 2019-10-01 to 2019-10-31\n",
      "Downloading data for the period: 2019-11-01 to 2019-11-30\n",
      "Downloading data for the period: 2019-12-01 to 2019-12-31\n",
      "Downloading data for the period: 2020-01-01 to 2020-01-31\n",
      "Downloading data for the period: 2020-02-01 to 2020-02-29\n",
      "Downloading data for the period: 2020-03-01 to 2020-03-31\n",
      "Downloading data for the period: 2020-04-01 to 2020-04-30\n",
      "Downloading data for the period: 2020-05-01 to 2020-05-31\n",
      "Downloading data for the period: 2020-06-01 to 2020-06-30\n",
      "Downloading data for the period: 2020-07-01 to 2020-07-31\n",
      "Downloading data for the period: 2020-08-01 to 2020-08-31\n",
      "Downloading data for the period: 2020-09-01 to 2020-09-30\n",
      "Downloading data for the period: 2020-10-01 to 2020-10-31\n",
      "Downloading data for the period: 2020-11-01 to 2020-11-30\n",
      "Downloading data for the period: 2020-12-01 to 2020-12-31\n",
      "Downloading data for the period: 2021-01-01 to 2021-01-31\n",
      "Downloading data for the period: 2021-02-01 to 2021-02-28\n",
      "Downloading data for the period: 2021-03-01 to 2021-03-31\n",
      "Downloading data for the period: 2021-04-01 to 2021-04-30\n",
      "Downloading data for the period: 2021-05-01 to 2021-05-31\n",
      "Downloading data for the period: 2021-06-01 to 2021-06-30\n",
      "Downloading data for the period: 2021-07-01 to 2021-07-31\n",
      "Downloading data for the period: 2021-08-01 to 2021-08-31\n",
      "Downloading data for the period: 2021-09-01 to 2021-09-30\n",
      "Downloading data for the period: 2021-10-01 to 2021-10-31\n",
      "Downloading data for the period: 2021-11-01 to 2021-11-30\n",
      "Downloading data for the period: 2021-12-01 to 2021-12-31\n",
      "Downloading data for the period: 2022-01-01 to 2022-01-31\n",
      "Downloading data for the period: 2022-02-01 to 2022-02-28\n",
      "Downloading data for the period: 2022-03-01 to 2022-03-31\n",
      "Downloading data for the period: 2022-04-01 to 2022-04-30\n",
      "Downloading data for the period: 2022-05-01 to 2022-05-31\n",
      "Downloading data for the period: 2022-06-01 to 2022-06-30\n",
      "Downloading data for the period: 2022-07-01 to 2022-07-31\n",
      "Downloading data for the period: 2022-08-01 to 2022-08-31\n",
      "Downloading data for the period: 2022-09-01 to 2022-09-30\n",
      "Downloading data for the period: 2022-10-01 to 2022-10-31\n",
      "Downloading data for the period: 2022-11-01 to 2022-11-30\n",
      "Downloading data for the period: 2022-12-01 to 2022-12-31\n",
      "Downloading data for the period: 2023-01-01 to 2023-01-31\n",
      "Downloading data for the period: 2023-02-01 to 2023-02-28\n",
      "Downloading data for the period: 2023-03-01 to 2023-03-31\n",
      "Downloading data for the period: 2023-04-01 to 2023-04-30\n",
      "Downloading data for the period: 2023-05-01 to 2023-05-31\n",
      "Downloading data for the period: 2023-06-01 to 2023-06-30\n",
      "Downloading data for the period: 2023-07-01 to 2023-07-31\n",
      "Downloading data for the period: 2023-08-01 to 2023-08-31\n",
      "Downloading data for the period: 2023-09-01 to 2023-09-30\n",
      "Data download complete.\n"
     ]
    }
   ],
   "source": [
    "import os\n",
    "\n",
    "for start, end in month_ranges:\n",
    "    year = start.year\n",
    "    csv_file = f\"data/complaints_data_{year}.csv\"\n",
    "    print(f\"Downloading data for the period: {start.strftime('%Y-%m-%d')} to {end.strftime('%Y-%m-%d')}\")\n",
    "\n",
    "    query = f\"created_date between '{start.strftime('%Y-%m-%dT%H:%M:%S')}' and '{end.strftime('%Y-%m-%dT%H:%M:%S')}'\"\n",
    "    response = requests.get(\n",
    "        url=\"https://data.cityofnewyork.us/resource/erm2-nwe9.json\",\n",
    "        params={\"$$app_token\": app_token, \"$where\": query, \"$limit\": 999999,\n",
    "                \"$select\": \"unique_key, created_date, closed_date, agency,  complaint_type, descriptor, location_type, incident_zip, latitude, longitude, borough\"\n",
    "                }\n",
    "    )\n",
    "    data = response.json()\n",
    "    batch_df = pd.DataFrame(data)\n",
    "\n",
    "    # 根据年份写入或追加到对应的CSV文件\n",
    "    mode = 'a' if os.path.exists(csv_file) else 'w'\n",
    "    batch_df.to_csv(csv_file, mode=mode, index=False, header=not os.path.exists(csv_file))\n",
    "\n",
    "print(\"Data download complete.\")"
   ]
  },
  {
   "cell_type": "code",
   "execution_count": 5,
   "id": "96d3be5437f18791",
   "metadata": {
    "ExecuteTime": {
     "end_time": "2023-11-24T12:28:17.404288300Z",
     "start_time": "2023-11-24T12:27:10.545855600Z"
    }
   },
   "outputs": [],
   "source": [
    "tree_data = requests.get(url=\"https://data.cityofnewyork.us/resource/5rq2-4hqu.json\",\n",
    "                         params={\"$$app_token\": app_token, \"$limit\": 99999999999999999999}).json()\n",
    "tree_df = pd.DataFrame(tree_data)\n",
    "tree_df.to_csv(\"data/tree.csv\")"
   ]
  },
  {
   "cell_type": "markdown",
   "id": "6b696afcf38df01b",
   "metadata": {},
   "source": [
    "## 1.2 Data Cleaning & Filtering"
   ]
  },
  {
   "cell_type": "markdown",
   "id": "df2cdda1a5658915",
   "metadata": {},
   "source": [
    "### 1.2.1 311 Data Cleaning & Filtering"
   ]
  },
  {
   "cell_type": "code",
   "execution_count": 6,
   "id": "e56f7fc9c3685163",
   "metadata": {
    "ExecuteTime": {
     "end_time": "2023-12-03T06:25:53.102756800Z",
     "start_time": "2023-12-03T06:25:53.094669300Z"
    }
   },
   "outputs": [],
   "source": [
    "def clean_311_data(datafile):\n",
    "    import pandas as pd\n",
    "    import numpy as np\n",
    "    import datetime\n",
    "    import geopandas as gpd\n",
    "    from shapely.geometry import Point\n",
    "    \n",
    "    #Add fix_zip function\n",
    "    def fix_zip(input_zip):\n",
    "        try:\n",
    "            input_zip = int(float(input_zip))\n",
    "        except:\n",
    "            try:\n",
    "                input_zip = int(input_zip.split('-')[0])\n",
    "            except:\n",
    "                return np.NaN\n",
    "        if input_zip < 10000 or input_zip > 12000:\n",
    "            return np.NaN\n",
    "        return str(input_zip)\n",
    "\n",
    "    #Read the file\n",
    "    df = pd.read_csv(datafile, low_memory=False)\n",
    "\n",
    "    #fix the zip\n",
    "    df['incident_zip'] = df['incident_zip'].apply(fix_zip)\n",
    "\n",
    "    df = df.dropna(how='any')\n",
    "\n",
    "    #get rid of unspecified boroughs\n",
    "    df = df[df['borough'] != 'Unspecified']\n",
    "\n",
    "    df['latitude'] = df['latitude'].astype('float64')\n",
    "    df['longitude'] = df['longitude'].astype('float64')\n",
    "\n",
    "    #Converts the 'closed_date','created_date' column into a datetime object\n",
    "    df['created_date'] = pd.to_datetime(df['created_date'])\n",
    "    df['closed_date'] = pd.to_datetime(df['closed_date'])\n",
    "    # Convert longitude and latitude to a 'geometry' column for geopandas\n",
    "    df['geometry'] = df.apply(lambda row: Point(row['longitude'], row['latitude']), axis=1)\n",
    "\n",
    "    # Create a GeoDataFrame and set the coordinate reference system (CRS) to WGS84 (EPSG:4326)\n",
    "    gdf = gpd.GeoDataFrame(df, geometry='geometry')\n",
    "    gdf.set_crs(epsg=4326, inplace=True)\n",
    "    gdf = gdf.reset_index(drop=True)\n",
    "    \n",
    "    return gdf"
   ]
  },
  {
   "cell_type": "markdown",
   "id": "d9a118f36cd1e40d",
   "metadata": {},
   "source": [
    "### 1.2.2 2015 Tree census Data Cleaning & Filtering"
   ]
  },
  {
   "cell_type": "code",
   "execution_count": 7,
   "id": "5d3f4ec5dfdeeffc",
   "metadata": {
    "ExecuteTime": {
     "end_time": "2023-12-03T05:47:03.136128300Z",
     "start_time": "2023-12-03T05:46:58.894190800Z"
    }
   },
   "outputs": [],
   "source": [
    "tree = pd.read_csv('data/tree.csv', usecols=['tree_id', 'the_geom',   'spc_common', 'status', 'health', 'zipcode', 'boroname', 'latitude', 'longitude'])\n",
    "tree.to_csv('data/tree_data.csv',index=False)"
   ]
  },
  {
   "cell_type": "code",
   "execution_count": 8,
   "id": "6fa2f0e9bd8bfbdb",
   "metadata": {
    "ExecuteTime": {
     "end_time": "2023-12-03T05:47:05.683508800Z",
     "start_time": "2023-12-03T05:47:05.672005Z"
    }
   },
   "outputs": [],
   "source": [
    "import pandas as pd\n",
    "import numpy as np\n",
    "import geopandas as gpd\n",
    "from shapely.geometry import Point\n",
    "\n",
    "\n",
    "def clean_tree_data(datafile):\n",
    "\n",
    "    # Add fix_zip function\n",
    "    def fix_zip(input_zip):\n",
    "        try:\n",
    "            input_zip = int(float(input_zip))\n",
    "        except:\n",
    "            try:\n",
    "                input_zip = int(input_zip.split('-')[0]) \n",
    "            except:\n",
    "                return np.NaN\n",
    "        if input_zip < 10000 or input_zip > 12000:\n",
    "            return np.NaN\n",
    "        return str(input_zip)\n",
    "\n",
    "    # Read the file\n",
    "    df = pd.read_csv(datafile)\n",
    "\n",
    "    # Fix the zip\n",
    "    df['zipcode'] = df['zipcode'].apply(fix_zip)\n",
    "\n",
    "    df = df.dropna(how='any')\n",
    "\n",
    "    # Make some columns name readable\n",
    "    df.rename(columns={'the_geom': 'geometry', 'spc_common': 'species', 'boroname': 'borough'}, inplace=True)\n",
    "\n",
    "    # Convert longitude and latitude to a 'geometry' column for geopandas\n",
    "    df['geometry'] = df.apply(lambda row: Point(row['longitude'], row['latitude']), axis=1)\n",
    "\n",
    "    # Create a GeoDataFrame and set the coordinate reference system (CRS) to WGS84 (EPSG:4326)\n",
    "    gdf = gpd.GeoDataFrame(df, geometry='geometry')\n",
    "    gdf.set_crs(epsg=4326, inplace=True)\n",
    "    gdf = gdf.reset_index(drop=True)\n",
    "\n",
    "\n",
    "    return gdf"
   ]
  },
  {
   "cell_type": "code",
   "execution_count": 9,
   "id": "d8e5b3ff515cb203",
   "metadata": {
    "ExecuteTime": {
     "end_time": "2023-12-03T05:47:20.458620100Z",
     "start_time": "2023-12-03T05:47:10.020066200Z"
    }
   },
   "outputs": [
    {
     "name": "stdout",
     "output_type": "stream",
     "text": [
      "<class 'geopandas.geodataframe.GeoDataFrame'>\n",
      "RangeIndex: 651235 entries, 0 to 651234\n",
      "Data columns (total 9 columns):\n",
      " #   Column     Non-Null Count   Dtype   \n",
      "---  ------     --------------   -----   \n",
      " 0   tree_id    651235 non-null  int64   \n",
      " 1   geometry   651235 non-null  geometry\n",
      " 2   status     651235 non-null  object  \n",
      " 3   health     651235 non-null  object  \n",
      " 4   species    651235 non-null  object  \n",
      " 5   zipcode    651235 non-null  object  \n",
      " 6   borough    651235 non-null  object  \n",
      " 7   latitude   651235 non-null  float64 \n",
      " 8   longitude  651235 non-null  float64 \n",
      "dtypes: float64(2), geometry(1), int64(1), object(5)\n",
      "memory usage: 44.7+ MB\n"
     ]
    }
   ],
   "source": [
    "tree = clean_tree_data('data/tree_data.csv')\n",
    "tree.info()"
   ]
  },
  {
   "cell_type": "markdown",
   "id": "ce46dd6154979aed",
   "metadata": {},
   "source": [
    "### 1.2.3 Zillow Data Cleaning & Filtering"
   ]
  },
  {
   "cell_type": "code",
   "execution_count": 10,
   "id": "11cff05825dba5c",
   "metadata": {
    "ExecuteTime": {
     "end_time": "2023-12-03T07:58:01.540787700Z",
     "start_time": "2023-12-03T07:58:01.532191200Z"
    }
   },
   "outputs": [],
   "source": [
    "def clean_zillow_data(datafile):\n",
    "    import pandas as pd\n",
    "\n",
    "    df = pd.read_csv(datafile, low_memory=False)\n",
    "\n",
    "    df = df[df['City'] == 'New York']\n",
    "\n",
    "    # Select the 'RegionName' and 'CountyName' columns and store them in df1\n",
    "    df1 = df[['RegionName', 'CountyName']]\n",
    "    # Select all columns from '2018-09-30' onwards and store them in df2\n",
    "    df2 = df.loc[:, '2018-09-30':]\n",
    "\n",
    "    # Concatenate df1 and df2 along the columns (axis=1)\n",
    "    df = pd.concat([df1, df2], axis=1)\n",
    "\n",
    "    # Make columns' name more readable\n",
    "    df.rename(columns={'RegionName': 'zipcode', 'CountyName': 'county'}, inplace=True)\n",
    "\n",
    "    # Convert the 'zipcode' column to a string data type\n",
    "    df['zipcode'] = df['zipcode'].astype(str)\n",
    "\n",
    "    df = df.melt(id_vars=[\"zipcode\", \"county\"], var_name=\"date\")\n",
    "    \n",
    "    df = df.reset_index(drop=True)\n",
    "\n",
    "    return df"
   ]
  },
  {
   "cell_type": "code",
   "execution_count": 11,
   "id": "c2152708328b6953",
   "metadata": {
    "ExecuteTime": {
     "end_time": "2023-12-03T07:58:07.981365900Z",
     "start_time": "2023-12-03T07:58:07.901104400Z"
    }
   },
   "outputs": [
    {
     "data": {
      "text/html": [
       "<div>\n",
       "<style scoped>\n",
       "    .dataframe tbody tr th:only-of-type {\n",
       "        vertical-align: middle;\n",
       "    }\n",
       "\n",
       "    .dataframe tbody tr th {\n",
       "        vertical-align: top;\n",
       "    }\n",
       "\n",
       "    .dataframe thead th {\n",
       "        text-align: right;\n",
       "    }\n",
       "</style>\n",
       "<table border=\"1\" class=\"dataframe\">\n",
       "  <thead>\n",
       "    <tr style=\"text-align: right;\">\n",
       "      <th></th>\n",
       "      <th>zipcode</th>\n",
       "      <th>county</th>\n",
       "      <th>date</th>\n",
       "      <th>value</th>\n",
       "    </tr>\n",
       "  </thead>\n",
       "  <tbody>\n",
       "    <tr>\n",
       "      <th>0</th>\n",
       "      <td>11385</td>\n",
       "      <td>Queens County</td>\n",
       "      <td>2018-09-30</td>\n",
       "      <td>2401.525193</td>\n",
       "    </tr>\n",
       "    <tr>\n",
       "      <th>1</th>\n",
       "      <td>11208</td>\n",
       "      <td>Kings County</td>\n",
       "      <td>2018-09-30</td>\n",
       "      <td>NaN</td>\n",
       "    </tr>\n",
       "    <tr>\n",
       "      <th>2</th>\n",
       "      <td>11236</td>\n",
       "      <td>Kings County</td>\n",
       "      <td>2018-09-30</td>\n",
       "      <td>NaN</td>\n",
       "    </tr>\n",
       "    <tr>\n",
       "      <th>3</th>\n",
       "      <td>10467</td>\n",
       "      <td>Bronx County</td>\n",
       "      <td>2018-09-30</td>\n",
       "      <td>1773.839053</td>\n",
       "    </tr>\n",
       "    <tr>\n",
       "      <th>4</th>\n",
       "      <td>11373</td>\n",
       "      <td>Queens County</td>\n",
       "      <td>2018-09-30</td>\n",
       "      <td>NaN</td>\n",
       "    </tr>\n",
       "  </tbody>\n",
       "</table>\n",
       "</div>"
      ],
      "text/plain": [
       "  zipcode         county        date        value\n",
       "0   11385  Queens County  2018-09-30  2401.525193\n",
       "1   11208   Kings County  2018-09-30          NaN\n",
       "2   11236   Kings County  2018-09-30          NaN\n",
       "3   10467   Bronx County  2018-09-30  1773.839053\n",
       "4   11373  Queens County  2018-09-30          NaN"
      ]
     },
     "execution_count": 11,
     "metadata": {},
     "output_type": "execute_result"
    }
   ],
   "source": [
    "zillow = clean_zillow_data('data/zillow_rent_data.csv')\n",
    "zillow.head()"
   ]
  },
  {
   "cell_type": "markdown",
   "id": "ea1ccceb0d7b6b24",
   "metadata": {},
   "source": [
    "### 1.2.4 Zipcode data Cleaning & Filtering"
   ]
  },
  {
   "cell_type": "code",
   "execution_count": 12,
   "id": "a929ad3b8b67829",
   "metadata": {
    "ExecuteTime": {
     "end_time": "2023-12-03T08:07:41.777519300Z",
     "start_time": "2023-12-03T08:07:41.770032900Z"
    }
   },
   "outputs": [],
   "source": [
    "def clean_zipcode_data(datafile):\n",
    "    import geopandas as gpd\n",
    "\n",
    "    gdf = gpd.read_file(datafile)\n",
    "    \n",
    "    gdf.crs = 'EPSG:4326'\n",
    "    \n",
    "    gdf = gdf.to_crs('EPSG:4326')\n",
    "    #Select specific columns\n",
    "    gdf = gdf[['ZIPCODE', 'POPULATION', 'geometry' ]]\n",
    "\n",
    "    gdf.rename(columns={'ZIPCODE':'zipcode', 'POPULATION':'population'}, inplace=True)\n",
    "    gdf = gdf.reset_index(drop=True)\n",
    "    \n",
    "\n",
    "    return gdf"
   ]
  },
  {
   "cell_type": "code",
   "execution_count": 13,
   "id": "4d48f7e9f76065e4",
   "metadata": {
    "ExecuteTime": {
     "end_time": "2023-12-03T08:07:45.657200300Z",
     "start_time": "2023-12-03T08:07:45.514297700Z"
    }
   },
   "outputs": [
    {
     "name": "stdout",
     "output_type": "stream",
     "text": [
      "<class 'geopandas.geodataframe.GeoDataFrame'>\n",
      "RangeIndex: 263 entries, 0 to 262\n",
      "Data columns (total 3 columns):\n",
      " #   Column      Non-Null Count  Dtype   \n",
      "---  ------      --------------  -----   \n",
      " 0   zipcode     263 non-null    object  \n",
      " 1   population  263 non-null    float64 \n",
      " 2   geometry    263 non-null    geometry\n",
      "dtypes: float64(1), geometry(1), object(1)\n",
      "memory usage: 6.3+ KB\n"
     ]
    }
   ],
   "source": [
    "zipcode = clean_zipcode_data('data/nyc_zipcodes.shp')\n",
    "zipcode.info()\n"
   ]
  },
  {
   "cell_type": "markdown",
   "id": "16dea2f1da9eaed5",
   "metadata": {},
   "source": [
    "# 2 Storing Data"
   ]
  },
  {
   "cell_type": "markdown",
   "id": "5a64512fc942f7cb",
   "metadata": {},
   "source": [
    "## 2.1 Creating database"
   ]
  },
  {
   "cell_type": "code",
   "execution_count": 79,
   "id": "6dbefcc832d105dc",
   "metadata": {
    "ExecuteTime": {
     "end_time": "2023-12-03T05:47:59.269297100Z",
     "start_time": "2023-12-03T05:47:59.216624500Z"
    }
   },
   "outputs": [
    {
     "name": "stdout",
     "output_type": "stream",
     "text": [
      "createdb: error: database creation failed: ERROR:  database \"FINAL_PROJECT\" already exists\n",
      "ERROR:  extension \"postgis\" already exists\n"
     ]
    }
   ],
   "source": [
    "!createdb FINAL_PROJECT\n",
    "!psql --dbname FINAL_PROJECT -c 'CREATE EXTENSION postgis;'\n",
    "!psql --dbname FINAL_PROJECT -f schema.sql"
   ]
  },
  {
   "cell_type": "code",
   "execution_count": 80,
   "id": "63488583",
   "metadata": {
    "ExecuteTime": {
     "end_time": "2023-12-03T06:10:37.125321900Z",
     "start_time": "2023-12-03T06:10:37.106148300Z"
    }
   },
   "outputs": [],
   "source": [
    "import psycopg2"
   ]
  },
  {
   "cell_type": "code",
   "execution_count": 81,
   "id": "796567f058261f19",
   "metadata": {
    "ExecuteTime": {
     "end_time": "2023-12-03T06:10:39.396423200Z",
     "start_time": "2023-12-03T06:10:39.335554500Z"
    }
   },
   "outputs": [],
   "source": [
    "conn = psycopg2.connect(\"dbname=FINAL_PROJECT user=postgres password=123456\")\n",
    "cur = conn.cursor()"
   ]
  },
  {
   "cell_type": "markdown",
   "id": "b16cf8921a117d8f",
   "metadata": {},
   "source": [
    "## 2.2 Creating tables"
   ]
  },
  {
   "cell_type": "code",
   "execution_count": 88,
   "id": "e4743c70",
   "metadata": {
    "ExecuteTime": {
     "end_time": "2023-12-03T08:13:36.579366200Z",
     "start_time": "2023-12-03T08:13:36.573242400Z"
    }
   },
   "outputs": [],
   "source": [
    "create_nyc_zipcodes_table = \"\"\"\n",
    "    CREATE TABLE IF NOT EXISTS zipcodes_nyc (\n",
    "        id INTEGER PRIMARY KEY,\n",
    "        zipcode INTEGER NOT NULL,\n",
    "        population INTEGER,\n",
    "        geometry geometry(Geometry, 4326)\n",
    "    );\n",
    "\"\"\""
   ]
  },
  {
   "cell_type": "code",
   "execution_count": 93,
   "id": "2e657cdd",
   "metadata": {
    "ExecuteTime": {
     "end_time": "2023-12-03T06:10:42.710317Z",
     "start_time": "2023-12-03T06:10:42.705092400Z"
    }
   },
   "outputs": [],
   "source": [
    "create_trees_table = \"\"\"\n",
    "    CREATE TABLE IF NOT EXISTS treecensus_2015 (\n",
    "        id INTEGER PRIMARY KEY,\n",
    "        geometry geometry(Geometry, 4326),\n",
    "        status VARCHAR,\n",
    "        health VARCHAR,\n",
    "        species VARCHAR,\n",
    "        zipcode INTEGER,\n",
    "        borough VARCHAR,\n",
    "        latitude FLOAT,\n",
    "        longitude FLOAT\n",
    "    );\n",
    "\"\"\""
   ]
  },
  {
   "cell_type": "code",
   "execution_count": 94,
   "id": "03829280",
   "metadata": {
    "ExecuteTime": {
     "end_time": "2023-12-03T08:02:02.341795400Z",
     "start_time": "2023-12-03T08:02:02.337487900Z"
    }
   },
   "outputs": [],
   "source": [
    "create_zillow_table = \"\"\"\n",
    "    CREATE TABLE IF NOT EXISTS zillow_average_rents(\n",
    "        id INTEGER PRIMARY KEY,\n",
    "        zipcode INTEGER,\n",
    "        county VARCHAR,\n",
    "        date DATE,\n",
    "        value FLOAT\n",
    "    );\n",
    "\"\"\""
   ]
  },
  {
   "cell_type": "code",
   "execution_count": 95,
   "id": "586eec250fe493e8",
   "metadata": {
    "ExecuteTime": {
     "end_time": "2023-12-03T08:14:21.578861300Z",
     "start_time": "2023-12-03T08:14:21.516124400Z"
    }
   },
   "outputs": [],
   "source": [
    "import psycopg2\n",
    "\n",
    "conn = psycopg2.connect(\"dbname=FINAL_PROJECT user=postgres password=123456\")\n",
    "cur = conn.cursor()"
   ]
  },
  {
   "cell_type": "code",
   "execution_count": 96,
   "id": "626a1db7e91690b3",
   "metadata": {
    "ExecuteTime": {
     "end_time": "2023-12-03T08:14:23.442563600Z",
     "start_time": "2023-12-03T08:14:23.423656100Z"
    }
   },
   "outputs": [],
   "source": [
    "cur.execute(create_nyc_zipcodes_table)\n",
    "cur.execute(create_trees_table)\n",
    "cur.execute(create_zillow_table)\n",
    "conn.commit()"
   ]
  },
  {
   "cell_type": "code",
   "execution_count": 97,
   "id": "846730599ab91416",
   "metadata": {},
   "outputs": [],
   "source": [
    "conn = psycopg2.connect(\"dbname=FINAL_PROJECT user=postgres password=123456\")\n",
    "cur = conn.cursor()\n",
    "\n",
    "#Creating 311 tables by years\n",
    "for year in range(2018, 2024):\n",
    "    table_name = f\"complaints311_{year}\"\n",
    "    create_table_query = f\"\"\"\n",
    "        CREATE TABLE IF NOT EXISTS {table_name} (\n",
    "            id INTEGER PRIMARY KEY,\n",
    "            created_date DATE,\n",
    "            closed_date DATE,\n",
    "            agency VARCHAR,\n",
    "            complaint_type VARCHAR,\n",
    "            descriptor VARCHAR,\n",
    "            location_type VARCHAR,\n",
    "            incident_zip INTEGER,\n",
    "            latitude FLOAT,\n",
    "            longitude FLOAT,\n",
    "            borough VARCHAR,\n",
    "            geometry geometry(Geometry, 4326)\n",
    "        );\n",
    "    \"\"\"\n",
    "    \n",
    "    cur.execute(create_table_query)\n",
    "\n",
    "\n",
    "conn.commit()"
   ]
  },
  {
   "cell_type": "markdown",
   "id": "9c3276b5d3a1d935",
   "metadata": {},
   "source": [
    "## 2.3 Inserting data"
   ]
  },
  {
   "cell_type": "markdown",
   "id": "b7a1d086bc637e38",
   "metadata": {},
   "source": [
    "### 2.3.1 Inserting tree data"
   ]
  },
  {
   "cell_type": "code",
   "execution_count": 100,
   "id": "2c0af8c7",
   "metadata": {},
   "outputs": [],
   "source": [
    "import psycopg2\n",
    "from shapely import wkt  # Import the Well-Known Text (WKT) module from Shapely\n",
    "\n",
    "# Assuming you have a function clean_tree_data that reads and processes the CSV\n",
    "gdf = clean_tree_data('data/tree_data.csv')\n",
    "\n",
    "# Connect to PostgreSQL\n",
    "conn = psycopg2.connect(\"dbname=FINAL_PROJECT user=postgres password=123456\")\n",
    "cur = conn.cursor()\n",
    "\n",
    "# Define the table schema\n",
    "create_trees_table = \"\"\"\n",
    "    CREATE TABLE IF NOT EXISTS treecensus_2015 (\n",
    "        id INTEGER PRIMARY KEY,\n",
    "        geometry geometry(Point, 4326),\n",
    "        status VARCHAR,\n",
    "        health VARCHAR,\n",
    "        species VARCHAR,\n",
    "        zipcode INTEGER,\n",
    "        borough VARCHAR,\n",
    "        latitude FLOAT,\n",
    "        longitude FLOAT\n",
    "    );\n",
    "\"\"\"\n",
    "cur.execute(create_trees_table)\n",
    "conn.commit()\n",
    "gdf=clean_tree_data('data/tree_data.csv')\n",
    "# Prepare data for insertion\n",
    "data_to_insert = [\n",
    "    (row.Index, wkt.dumps(row.geometry), row.status, row.health, row.species, row.zipcode, row.borough, row.latitude, row.longitude)\n",
    "                  for row in gdf.itertuples()]\n",
    "\n",
    "# Insert data into the table\n",
    "insert_query = \"\"\"\n",
    "    INSERT INTO treecensus_2015 (id, geometry, status, health, species, zipcode, borough, latitude, longitude)\n",
    "    VALUES (%s, ST_GeomFromText(%s, 4326), %s, %s, %s, %s,%s, %s, %s);\n",
    "\"\"\"\n",
    "cur.executemany(insert_query, data_to_insert)\n",
    "\n",
    "# Commit the changes\n",
    "conn.commit()\n",
    "\n",
    "# Close the connection\n",
    "conn.close()"
   ]
  },
  {
   "cell_type": "markdown",
   "id": "44e6558e5d670a48",
   "metadata": {},
   "source": [
    "### 2.3.2 Inserting 311 data"
   ]
  },
  {
   "cell_type": "code",
   "execution_count": 25,
   "id": "7f7f28d19fda77ef",
   "metadata": {
    "ExecuteTime": {
     "end_time": "2023-12-03T07:31:27.545600300Z",
     "start_time": "2023-12-03T07:04:04.461413100Z"
    }
   },
   "outputs": [
    {
     "name": "stdout",
     "output_type": "stream",
     "text": [
      "2018\n",
      "2019\n",
      "2020\n",
      "2021\n",
      "2022\n",
      "2023\n"
     ]
    }
   ],
   "source": [
    "import psycopg2\n",
    "from shapely import wkt\n",
    "\n",
    "# Connect to the PostgreSQL database\n",
    "conn = psycopg2.connect(\"dbname=FINAL_PROJECT user=postgres password=123456\")\n",
    "cur = conn.cursor()\n",
    "\n",
    "for year in range(2018, 2024):\n",
    "    # Clean the data\n",
    "    complaints = clean_311_data(f\"data/complaints_data_{year}.csv\")\n",
    "\n",
    "\n",
    "    print(year)\n",
    "\n",
    "    # Prepare the SQL statement for data insertion, dynamically updating the table name\n",
    "    insert_query = f\"\"\"\n",
    "        INSERT INTO complaints311_{year} (id, created_date, closed_date, agency, complaint_type, descriptor, location_type, incident_zip, latitude, longitude, borough, geometry)\n",
    "        VALUES (%s, %s, %s, %s, %s, %s, %s, %s, %s, %s, %s, ST_GeomFromText(%s, 4326));\n",
    "    \"\"\"\n",
    "\n",
    "    # Prepare the data to be inserted\n",
    "    data_to_insert = [\n",
    "        (row.Index, row.created_date, row.closed_date, row.agency, row.complaint_type, row.descriptor, row.location_type, row.incident_zip, row.latitude, row.longitude, row.borough, wkt.dumps(row.geometry))\n",
    "        for row in complaints.itertuples()]\n",
    "\n",
    "    # Execute the insertion\n",
    "    cur.executemany(insert_query, data_to_insert)\n",
    "\n",
    "    # Commit the changes\n",
    "    conn.commit()\n",
    "\n",
    "# Close the connection\n",
    "conn.close()\n"
   ]
  },
  {
   "cell_type": "markdown",
   "id": "8fb252e99b0c40d1",
   "metadata": {},
   "source": [
    "### 2.3.3 Inserting zillow data"
   ]
  },
  {
   "cell_type": "code",
   "execution_count": 101,
   "id": "63003a71c729e7e2",
   "metadata": {
    "ExecuteTime": {
     "end_time": "2023-12-03T08:04:45.838655400Z",
     "start_time": "2023-12-03T08:04:45.029153300Z"
    }
   },
   "outputs": [],
   "source": [
    "# Connect to PostgreSQL\n",
    "conn = psycopg2.connect(\"dbname=FINAL_PROJECT user=postgres password=123456\")\n",
    "cur = conn.cursor()\n",
    "\n",
    "# Prepare data for insertion\n",
    "data_to_insert = [\n",
    "    (row.Index,  row.zipcode, row.county, row.date, row.value)\n",
    "    for row in zillow.itertuples()]\n",
    "\n",
    "# Insert data into the table\n",
    "insert_query = \"\"\"\n",
    "    INSERT INTO zillow_average_rents (id,  zipcode, county, date, value)\n",
    "    VALUES ( %s, %s,%s, %s, %s);\n",
    "\"\"\"\n",
    "cur.executemany(insert_query, data_to_insert)\n",
    "\n",
    "# Commit the changes\n",
    "conn.commit()\n",
    "\n",
    "# Close the connection\n",
    "conn.close()"
   ]
  },
  {
   "cell_type": "markdown",
   "id": "de4069d763dbe3e1",
   "metadata": {},
   "source": [
    "### 2.3.4 Inserting zipcodes data"
   ]
  },
  {
   "cell_type": "code",
   "execution_count": 102,
   "id": "c43aae6c3ae889fd",
   "metadata": {
    "ExecuteTime": {
     "end_time": "2023-12-03T08:14:52.440564800Z",
     "start_time": "2023-12-03T08:14:51.792655Z"
    }
   },
   "outputs": [],
   "source": [
    "# Connect to PostgreSQL\n",
    "conn = psycopg2.connect(\"dbname=FINAL_PROJECT user=postgres password=123456\")\n",
    "cur = conn.cursor()\n",
    "\n",
    "# Prepare data for insertion\n",
    "data_to_insert = [\n",
    "    (row.Index,  row.zipcode, row.population, wkt.dumps(row.geometry) )\n",
    "    for row in zipcode.itertuples()]\n",
    "\n",
    "# Insert data into the table\n",
    "insert_query = \"\"\"\n",
    "    INSERT INTO zipcodes_nyc (id,  zipcode, population, geometry)\n",
    "    VALUES ( %s, %s,%s, ST_GeomFromText(%s, 4326));\n",
    "\"\"\"\n",
    "cur.executemany(insert_query, data_to_insert)\n",
    "\n",
    "# Commit the changes\n",
    "conn.commit()\n",
    "\n",
    "# Close the conn\n",
    "conn.close()"
   ]
  },
  {
   "cell_type": "markdown",
   "id": "b42c6bc5c024a8c2",
   "metadata": {},
   "source": [
    "# Understanding Data"
   ]
  },
  {
   "cell_type": "markdown",
   "id": "ec2a0ebc",
   "metadata": {},
   "source": [
    "### Query 1: Which area might be more calm to live in?\n"
   ]
  },
  {
   "cell_type": "code",
   "execution_count": 112,
   "id": "43267455",
   "metadata": {},
   "outputs": [
    {
     "name": "stdout",
     "output_type": "stream",
     "text": [
      "[(11226, 166722), (10467, 161694), (10468, 152643), (10452, 150937), (10457, 143894), (10458, 141509), (10456, 138635), (11385, 137536), (10453, 131956), (11207, 129944), (11201, 121806), (11208, 120507), (10031, 113644), (10466, 112061), (10032, 110307), (11221, 105819), (10462, 100442), (11368, 96386), (11230, 95102), (10025, 91737), (11225, 91270), (10460, 91036), (11238, 91029), (11220, 90580), (11212, 90390), (10463, 88960), (11216, 87295), (10472, 86701), (11203, 86407), (11214, 85674), (11235, 84784), (11213, 84510), (10027, 84496), (11377, 81392), (11233, 81173), (10033, 80556), (11218, 78553), (11101, 78142), (11209, 77202), (11206, 76915), (10002, 76374), (11223, 76343), (11222, 75681), (10034, 75514), (11373, 74889), (10023, 74669), (11211, 74219), (10019, 73754), (11234, 73608), (10026, 72325), (11237, 72027), (10461, 71966), (11215, 71135), (11236, 69828), (11229, 68215), (10469, 67541), (11204, 67318), (10459, 67253), (10040, 66846), (10451, 66178), (11210, 65623), (10029, 65566), (11419, 63517), (11372, 63408), (10455, 61889), (11378, 61854), (10030, 61515), (11231, 61412), (11432, 61362), (11420, 60812), (11217, 59636), (10035, 59615), (10003, 59508), (10009, 59387), (11355, 58506), (11219, 58015), (11421, 57292), (11375, 56833), (10314, 55735), (11366, 54978), (10011, 53916), (11205, 53527), (11435, 52353), (10473, 51448), (11434, 50774), (11691, 49300), (11103, 49153), (10312, 47377), (11106, 46539), (11224, 46127), (10024, 45834), (11433, 45733), (11414, 45553), (11379, 45094), (10454, 44334), (11105, 44143), (10465, 43193), (10301, 42257), (10036, 42180), (10306, 42067), (10028, 41642), (10016, 41101), (10039, 40669), (11354, 40426), (11239, 40001), (11369, 39687), (10304, 38857), (11249, 38851), (11417, 37826), (11102, 36894), (11374, 36777), (11365, 36640), (11232, 36550), (11418, 36369), (11228, 35941), (10014, 35170), (11357, 34121), (10001, 33743), (10012, 33170), (10013, 32197), (11412, 31686), (10128, 31447), (11356, 31400), (11413, 30192), (10305, 29840), (11358, 29815), (11104, 29738), (10470, 29381), (10309, 27366), (11416, 26955), (10021, 26234), (11367, 26093), (11361, 25892), (10037, 25814), (10022, 25281), (11423, 25209), (11694, 24166), (11436, 24156), (11422, 23009), (10474, 22587), (11370, 22425), (10471, 21971), (10010, 21077), (10065, 20725), (10302, 19268), (11364, 19266), (10310, 19173), (10303, 18882), (10308, 17775), (11429, 17691), (11692, 17572), (10038, 17122), (11415, 16661), (10017, 16163), (11411, 16008), (10018, 15910), (11428, 15753), (10075, 14804), (11427, 13715), (11693, 12293), (10007, 11187), (10475, 11060), (11360, 10861), (11426, 10614), (10307, 10065), (11430, 9171), (11362, 8177), (10464, 7683), (10004, 6955), (11109, 6292), (11004, 6202), (11363, 4904), (10005, 4733), (10006, 4520), (10044, 2920), (11001, 2404), (11040, 1970), (10069, 1841), (10282, 1656), (10280, 1428), (10000, 1117), (10020, 961), (10121, 785), (10278, 701), (11359, 402), (10153, 223), (10120, 179), (11697, 164), (10281, 158), (10103, 150), (10118, 130), (11251, 128), (10106, 125), (10105, 122), (10168, 121), (10162, 118), (10151, 104), (11005, 103), (10271, 98), (10041, 75), (10045, 68), (11371, 67), (10112, 63), (10110, 63), (10119, 62), (10107, 62), (10165, 61), (10154, 61), (10178, 59), (10169, 55), (10170, 55), (10172, 51), (10179, 48), (10123, 43), (10171, 40), (10279, 35), (11695, 34), (10111, 32), (10158, 31), (10152, 28), (11241, 27), (10115, 24), (11242, 23), (10174, 23), (10177, 20), (10173, 16), (10048, 16), (10803, 16), (10122, 12), (10167, 12), (10176, 12), (10166, 8), (10080, 4), (10155, 4), (10175, 4)]\n"
     ]
    }
   ],
   "source": [
    "import psycopg2\n",
    "\n",
    "# Connect to the PostgreSQL database\n",
    "conn = psycopg2.connect(\"dbname=FINAL_PROJECT user=postgres password=123456\")\n",
    "cur = conn.cursor()\n",
    "\n",
    "# Execute the SQL query\n",
    "result_query = \"\"\"\n",
    "    SELECT \n",
    "        incident_zip AS zipcode,\n",
    "        COUNT(*) AS number_of_complaints\n",
    "     FROM\n",
    "        (SELECT * FROM complaints311_2022 WHERE created_date >= '2022-10-01'\n",
    "         UNION ALL\n",
    "         SELECT * FROM complaints311_2023 WHERE created_date <= '2023-09-30') AS combined_data\n",
    "    WHERE  \n",
    "        created_date BETWEEN '2022-10-01' AND '2023-09-30'\n",
    "    GROUP BY\n",
    "        incident_zip\n",
    "    ORDER BY\n",
    "        number_of_complaints DESC\n",
    "\"\"\"\n",
    "\n",
    "cur.execute(result_query)\n",
    "result = cur.fetchall()\n",
    "print(result)\n",
    "\n",
    "conn.commit()\n",
    "conn.close()"
   ]
  },
  {
   "cell_type": "markdown",
   "id": "831798e0",
   "metadata": {},
   "source": [
    "### Query 2: Where has the most greenery?\n"
   ]
  },
  {
   "cell_type": "code",
   "execution_count": 113,
   "id": "6d5f2334",
   "metadata": {},
   "outputs": [
    {
     "name": "stdout",
     "output_type": "stream",
     "text": [
      "[(10312, 21356), (10314, 16330), (10306, 12616), (10309, 12105), (11234, 10838), (11385, 10262), (11357, 9016), (11207, 8293), (11208, 7896), (11434, 7833)]\n"
     ]
    }
   ],
   "source": [
    "conn = psycopg2.connect(\"dbname=FINAL_PROJECT user=postgres password=123456\")\n",
    "cur = conn.cursor()\n",
    "\n",
    "# Execute the SQL query to find the top 10 zip codes with the most trees\n",
    "trees_query = \"\"\"\n",
    "    SELECT \n",
    "        zipcode,\n",
    "        COUNT(*) AS total_trees\n",
    "    FROM\n",
    "        treecensus_2015\n",
    "    GROUP BY\n",
    "        zipcode\n",
    "    ORDER BY\n",
    "        total_trees DESC\n",
    "    LIMIT 10;\n",
    "\"\"\"\n",
    "\n",
    "cur.execute(trees_query)\n",
    "result = cur.fetchall()\n",
    "\n",
    "print(result)\n",
    "\n",
    "conn.commit()\n",
    "conn.close()"
   ]
  },
  {
   "cell_type": "code",
   "execution_count": null,
   "id": "95c97ff5",
   "metadata": {},
   "outputs": [],
   "source": []
  },
  {
   "cell_type": "markdown",
   "id": "d1a7210e",
   "metadata": {},
   "source": [
    "### Query 3: Can I afford a place in the areas with the most trees?\n"
   ]
  },
  {
   "cell_type": "code",
   "execution_count": 115,
   "id": "b4c56589",
   "metadata": {},
   "outputs": [
    {
     "name": "stdout",
     "output_type": "stream",
     "text": [
      "[(10312, 21356, 1775.090066991707), (10314, 16330, 2465.4730986380027), (10306, 12616, 2331.5359912813365), (10309, 12105, 1832.011753915415), (11234, 10838, 2312.3148271736404), (11385, 10262, 3064.476502786387), (11357, 9016, 2458.80843986437), (11207, 8293, 3079.087462051537), (11208, 7896, 2737.547470143483), (11434, 7833, 2645.9225802250326)]\n"
     ]
    }
   ],
   "source": [
    "conn = psycopg2.connect(\"dbname=FINAL_PROJECT user=postgres password=123456\")\n",
    "cur = conn.cursor()\n",
    "\n",
    "# Execute the SQL query to find the average rent for the top 10 zip codes with the most trees\n",
    "average_rent_query = \"\"\"\n",
    "    SELECT \n",
    "        treecensus_2015.zipcode,\n",
    "        COUNT(*) AS total_trees,\n",
    "        AVG(zillow_average_rents.value) AS average_rent\n",
    "    FROM\n",
    "        treecensus_2015 \n",
    "    JOIN\n",
    "        zillow_average_rents ON treecensus_2015.zipcode = zillow_average_rents.zipcode\n",
    "    WHERE\n",
    "        zillow_average_rents.date = '2023-08-31'  \n",
    "    GROUP BY\n",
    "        treecensus_2015.zipcode\n",
    "    ORDER BY\n",
    "        total_trees DESC\n",
    "    LIMIT 10;\n",
    "\"\"\"\n",
    "\n",
    "cur.execute(average_rent_query)\n",
    "result = cur.fetchall()\n",
    "\n",
    "print(result)\n",
    "\n",
    "conn.commit()\n",
    "conn.close()\n"
   ]
  },
  {
   "cell_type": "markdown",
   "id": "f798effb",
   "metadata": {},
   "source": [
    "### Query 4: Could there be a correlation between an area’s rent, the number of its trees, and the number of 311 complaints?\n"
   ]
  },
  {
   "cell_type": "code",
   "execution_count": 117,
   "id": "1d839a14",
   "metadata": {},
   "outputs": [
    {
     "ename": "SyntaxError",
     "evalue": "syntax error at or near \"GROUP\"\nLINE 25:     GROUP BY\n             ^\n",
     "output_type": "error",
     "traceback": [
      "\u001b[0;31m---------------------------------------------------------------------------\u001b[0m",
      "\u001b[0;31mSyntaxError\u001b[0m                               Traceback (most recent call last)",
      "\u001b[0;32m/var/folders/98/l9_9vlzx4vs8g303whfvnnjc0000gn/T/ipykernel_29286/2991354681.py\u001b[0m in \u001b[0;36m<module>\u001b[0;34m\u001b[0m\n\u001b[1;32m     53\u001b[0m \"\"\"\n\u001b[1;32m     54\u001b[0m \u001b[0;34m\u001b[0m\u001b[0m\n\u001b[0;32m---> 55\u001b[0;31m \u001b[0mcur\u001b[0m\u001b[0;34m.\u001b[0m\u001b[0mexecute\u001b[0m\u001b[0;34m(\u001b[0m\u001b[0mrent_query\u001b[0m\u001b[0;34m)\u001b[0m\u001b[0;34m\u001b[0m\u001b[0;34m\u001b[0m\u001b[0m\n\u001b[0m\u001b[1;32m     56\u001b[0m \u001b[0mresult\u001b[0m \u001b[0;34m=\u001b[0m \u001b[0mcur\u001b[0m\u001b[0;34m.\u001b[0m\u001b[0mfetchall\u001b[0m\u001b[0;34m(\u001b[0m\u001b[0;34m)\u001b[0m\u001b[0;34m\u001b[0m\u001b[0;34m\u001b[0m\u001b[0m\n\u001b[1;32m     57\u001b[0m \u001b[0;34m\u001b[0m\u001b[0m\n",
      "\u001b[0;31mSyntaxError\u001b[0m: syntax error at or near \"GROUP\"\nLINE 25:     GROUP BY\n             ^\n"
     ]
    }
   ],
   "source": [
    "conn = psycopg2.connect(\"dbname=FINAL_PROJECT user=postgres password=123456\")\n",
    "cur = conn.cursor()\n",
    "\n",
    "# Execute the SQL query to find the 5 zip codes with the lowest and highest average rent for January 2023\n",
    "rent_query = \"\"\"\n",
    "    WITH arearents AS (\n",
    "        SELECT\n",
    "            zillow_average_rents.zipcode,\n",
    "            AVG(zillow_average_rents.value) AS avg_rent\n",
    "        FROM\n",
    "            zillow_average_rents \n",
    "        WHERE\n",
    "            zillow_average_rents.date = '2023-01-31'  \n",
    "        GROUP BY\n",
    "            zillow_average_rents.zipcode\n",
    "    )\n",
    "\n",
    "    SELECT\n",
    "        arearents.zipcode,\n",
    "        arearents.avg_rent,\n",
    "        COUNT(treecensus_2015.id) AS number_of_trees,\n",
    "        COUNT(complaints.id) AS number_of_complaints\n",
    "    FROM(\n",
    "        arearents\n",
    "    LEFT JOIN\n",
    "        treecensus_2015 ON arearents.zipcode = treecensus_2015.zipcode\n",
    "    LEFT JOIN\n",
    "        complaints ON arearents.zipcode = complaints.incident_zip\n",
    "    GROUP BY\n",
    "        arearents.zipcode, arearents.avg_rent\n",
    "    ORDER BY\n",
    "        avg_rent ASC\n",
    "    LIMIT 5)\n",
    "\n",
    "    UNION ALL\n",
    "\n",
    "    SELECT\n",
    "        arearents.zipcode,\n",
    "        arearents.avg_rent,\n",
    "        COUNT(treecensus_2015.id) AS number_of_trees,\n",
    "        COUNT(complaints.id) AS number_of_complaints\n",
    "    FROM (\n",
    "        arearents\n",
    "    LEFT JOIN\n",
    "        treecensus_2015 ON arearents.zipcode = treecensus_2015.zipcode\n",
    "    LEFT JOIN\n",
    "        complaints ON arearents.zipcode = complaints.incident_zip\n",
    "    GROUP BY\n",
    "        arearents.zipcode, arearents.avg_rent\n",
    "    ORDER BY\n",
    "        avg_rent DESC\n",
    "    LIMIT 5;)\n",
    "\"\"\"\n",
    "\n",
    "cur.execute(rent_query)\n",
    "result = cur.fetchall()\n",
    "\n",
    "# Print or process the result as needed\n",
    "print(result)\n",
    "\n",
    "# Commit the changes (if applicable)\n",
    "conn.commit()\n",
    "\n",
    "# Close the connection\n",
    "conn.close()"
   ]
  },
  {
   "cell_type": "code",
   "execution_count": null,
   "id": "276e0330",
   "metadata": {},
   "outputs": [],
   "source": []
  },
  {
   "cell_type": "markdown",
   "id": "40f052bd",
   "metadata": {},
   "source": [
    "### Query 5: Where has the most greenery (take 2)?\n"
   ]
  },
  {
   "cell_type": "code",
   "execution_count": 123,
   "id": "540d20eb",
   "metadata": {},
   "outputs": [
    {
     "name": "stdout",
     "output_type": "stream",
     "text": [
      "[(10001, 0), (10002, 0), (10003, 0), (10004, 0), (10005, 0), (10006, 0), (10007, 0), (10009, 0), (10010, 0), (83, 0)]\n"
     ]
    }
   ],
   "source": [
    "conn = psycopg2.connect(\"dbname=FINAL_PROJECT user=postgres password=123456\")\n",
    "cur = conn.cursor()\n",
    "\n",
    "# Execute the SQL query to find the top 10 zip codes with the most trees\n",
    "query_5 = \"\"\"\n",
    "    SELECT\n",
    "        zipcodes_nyc.zipcode,\n",
    "        COUNT(treecensus_2015.zipcode) AS number_of_trees\n",
    "    FROM\n",
    "        zipcodes_nyc\n",
    "    LEFT JOIN\n",
    "        treecensus_2015 ON ST_Within(treecensus_2015.geometry, zipcodes_nyc.geometry)\n",
    "    GROUP BY\n",
    "        zipcodes_nyc.zipcode\n",
    "    ORDER BY\n",
    "        number_of_trees DESC\n",
    "    LIMIT 10;\n",
    "\"\"\"\n",
    "\n",
    "cur.execute(query_5)\n",
    "result = cur.fetchall()\n",
    "\n",
    "# Print or process the result as needed\n",
    "print(result)\n",
    "\n",
    "# Commit the changes (if applicable)\n",
    "conn.commit()\n",
    "\n",
    "# Close the connection\n",
    "conn.close()"
   ]
  },
  {
   "cell_type": "markdown",
   "id": "a5d5ee24",
   "metadata": {},
   "source": [
    "### Query 6: What is the immediate area like?"
   ]
  },
  {
   "cell_type": "code",
   "execution_count": null,
   "id": "4ce647de",
   "metadata": {},
   "outputs": [],
   "source": []
  },
  {
   "cell_type": "code",
   "execution_count": null,
   "id": "4cb83e1c",
   "metadata": {},
   "outputs": [],
   "source": []
  },
  {
   "cell_type": "markdown",
   "id": "18ffd1bb99075ea9",
   "metadata": {},
   "source": [
    "# Visualizing Data"
   ]
  },
  {
   "cell_type": "code",
   "execution_count": null,
   "id": "83af7d548eed2ae8",
   "metadata": {
    "ExecuteTime": {
     "start_time": "2023-12-03T03:48:51.949889700Z"
    }
   },
   "outputs": [],
   "source": []
  }
 ],
 "metadata": {
  "kernelspec": {
   "display_name": "Python 3 (ipykernel)",
   "language": "python",
   "name": "python3"
  },
  "language_info": {
   "codemirror_mode": {
    "name": "ipython",
    "version": 3
   },
   "file_extension": ".py",
   "mimetype": "text/x-python",
   "name": "python",
   "nbconvert_exporter": "python",
   "pygments_lexer": "ipython3",
   "version": "3.9.13"
  }
 },
 "nbformat": 4,
 "nbformat_minor": 5
}

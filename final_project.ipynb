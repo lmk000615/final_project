{
 "cells": [
  {
   "cell_type": "code",
   "execution_count": 1,
   "id": "7fa2124787128ed2",
   "metadata": {
    "ExecuteTime": {
     "end_time": "2023-11-24T12:31:50.698143600Z",
     "start_time": "2023-11-24T12:31:50.264334500Z"
    }
   },
   "outputs": [],
   "source": [
    "import pandas as pd\n",
    "import requests"
   ]
  },
  {
   "cell_type": "code",
   "execution_count": 2,
   "id": "1624f0365a54c523",
   "metadata": {
    "ExecuteTime": {
     "end_time": "2023-11-24T12:31:51.065657200Z",
     "start_time": "2023-11-24T12:31:51.062733900Z"
    }
   },
   "outputs": [],
   "source": [
    "app_token = \"Rl5BUiRawpr4H2LA9OQeKB47L\""
   ]
  },
  {
   "cell_type": "markdown",
   "id": "3f6c2feb6b97c6ff",
   "metadata": {},
   "source": [
    "# Data Preprocessing"
   ]
  },
  {
   "cell_type": "code",
   "execution_count": 9,
   "id": "ec03733eb377e5f1",
   "metadata": {
    "ExecuteTime": {
     "end_time": "2023-11-24T12:31:52.758581700Z",
     "start_time": "2023-11-24T12:31:52.698655800Z"
    }
   },
   "outputs": [],
   "source": [
    "zillow_df = pd.read_csv(\"zillow_rent_data.csv\")"
   ]
  },
  {
   "cell_type": "code",
   "execution_count": 10,
   "id": "5fa0d83ff0ab42b8",
   "metadata": {
    "ExecuteTime": {
     "end_time": "2023-11-24T12:33:04.115076600Z",
     "start_time": "2023-11-24T12:32:41.320111Z"
    }
   },
   "outputs": [],
   "source": [
    "complaints_data = requests.get(url=\"https://data.cityofnewyork.us/resource/erm2-nwe9.json\",\n",
    "                               params={\"$$app_token\": app_token, \"$where\": \"created_date between '2015-01-01T00:00:00' and '2015-01-31T23:59:59.9999'\", \"$limit\": 999999}).json()\n",
    "complaints_df = pd.DataFrame(complaints_data)"
   ]
  },
  {
   "cell_type": "code",
   "execution_count": 11,
   "id": "c897ac444f8148ea",
   "metadata": {
    "ExecuteTime": {
     "start_time": "2023-11-24T12:32:36.506826500Z"
    }
   },
   "outputs": [
    {
     "data": {
      "text/plain": [
       "(194137, 41)"
      ]
     },
     "execution_count": 11,
     "metadata": {},
     "output_type": "execute_result"
    }
   ],
   "source": [
    "complaints_df.shape"
   ]
  },
  {
   "cell_type": "code",
   "execution_count": 12,
   "id": "335f0b9f4294314d",
   "metadata": {
    "ExecuteTime": {
     "end_time": "2023-11-24T12:25:59.146972300Z",
     "start_time": "2023-11-24T12:25:59.129686400Z"
    }
   },
   "outputs": [
    {
     "data": {
      "text/html": [
       "<div>\n",
       "<style scoped>\n",
       "    .dataframe tbody tr th:only-of-type {\n",
       "        vertical-align: middle;\n",
       "    }\n",
       "\n",
       "    .dataframe tbody tr th {\n",
       "        vertical-align: top;\n",
       "    }\n",
       "\n",
       "    .dataframe thead th {\n",
       "        text-align: right;\n",
       "    }\n",
       "</style>\n",
       "<table border=\"1\" class=\"dataframe\">\n",
       "  <thead>\n",
       "    <tr style=\"text-align: right;\">\n",
       "      <th></th>\n",
       "      <th>unique_key</th>\n",
       "      <th>created_date</th>\n",
       "      <th>closed_date</th>\n",
       "      <th>agency</th>\n",
       "      <th>agency_name</th>\n",
       "      <th>complaint_type</th>\n",
       "      <th>descriptor</th>\n",
       "      <th>incident_zip</th>\n",
       "      <th>intersection_street_1</th>\n",
       "      <th>intersection_street_2</th>\n",
       "      <th>...</th>\n",
       "      <th>due_date</th>\n",
       "      <th>bbl</th>\n",
       "      <th>taxi_pick_up_location</th>\n",
       "      <th>bridge_highway_name</th>\n",
       "      <th>bridge_highway_direction</th>\n",
       "      <th>road_ramp</th>\n",
       "      <th>bridge_highway_segment</th>\n",
       "      <th>taxi_company_borough</th>\n",
       "      <th>vehicle_type</th>\n",
       "      <th>landmark</th>\n",
       "    </tr>\n",
       "  </thead>\n",
       "  <tbody>\n",
       "    <tr>\n",
       "      <th>0</th>\n",
       "      <td>29831247</td>\n",
       "      <td>2015-01-31T23:59:46.000</td>\n",
       "      <td>2015-02-05T10:00:00.000</td>\n",
       "      <td>DOT</td>\n",
       "      <td>Department of Transportation</td>\n",
       "      <td>Street Condition</td>\n",
       "      <td>Pothole</td>\n",
       "      <td>10451</td>\n",
       "      <td>EAST 149 STREET</td>\n",
       "      <td>PARK AVENUE</td>\n",
       "      <td>...</td>\n",
       "      <td>NaN</td>\n",
       "      <td>NaN</td>\n",
       "      <td>NaN</td>\n",
       "      <td>NaN</td>\n",
       "      <td>NaN</td>\n",
       "      <td>NaN</td>\n",
       "      <td>NaN</td>\n",
       "      <td>NaN</td>\n",
       "      <td>NaN</td>\n",
       "      <td>NaN</td>\n",
       "    </tr>\n",
       "    <tr>\n",
       "      <th>1</th>\n",
       "      <td>29835781</td>\n",
       "      <td>2015-01-31T23:59:25.000</td>\n",
       "      <td>2015-02-01T02:50:39.000</td>\n",
       "      <td>NYPD</td>\n",
       "      <td>New York City Police Department</td>\n",
       "      <td>Noise - Residential</td>\n",
       "      <td>Loud Television</td>\n",
       "      <td>11375</td>\n",
       "      <td>NaN</td>\n",
       "      <td>NaN</td>\n",
       "      <td>...</td>\n",
       "      <td>2015-02-01T07:59:25.000</td>\n",
       "      <td>4021860038</td>\n",
       "      <td>NaN</td>\n",
       "      <td>NaN</td>\n",
       "      <td>NaN</td>\n",
       "      <td>NaN</td>\n",
       "      <td>NaN</td>\n",
       "      <td>NaN</td>\n",
       "      <td>NaN</td>\n",
       "      <td>NaN</td>\n",
       "    </tr>\n",
       "    <tr>\n",
       "      <th>2</th>\n",
       "      <td>29837850</td>\n",
       "      <td>2015-01-31T23:59:08.000</td>\n",
       "      <td>2015-04-02T06:33:30.000</td>\n",
       "      <td>DOHMH</td>\n",
       "      <td>Department of Health and Mental Hygiene</td>\n",
       "      <td>Food Establishment</td>\n",
       "      <td>Food Worker Hygiene</td>\n",
       "      <td>10016</td>\n",
       "      <td>NaN</td>\n",
       "      <td>NaN</td>\n",
       "      <td>...</td>\n",
       "      <td>2015-04-01T23:59:08.000</td>\n",
       "      <td>1008820047</td>\n",
       "      <td>NaN</td>\n",
       "      <td>NaN</td>\n",
       "      <td>NaN</td>\n",
       "      <td>NaN</td>\n",
       "      <td>NaN</td>\n",
       "      <td>NaN</td>\n",
       "      <td>NaN</td>\n",
       "      <td>NaN</td>\n",
       "    </tr>\n",
       "    <tr>\n",
       "      <th>3</th>\n",
       "      <td>29833911</td>\n",
       "      <td>2015-01-31T23:58:50.000</td>\n",
       "      <td>2015-02-01T01:28:12.000</td>\n",
       "      <td>NYPD</td>\n",
       "      <td>New York City Police Department</td>\n",
       "      <td>Noise - Residential</td>\n",
       "      <td>Banging/Pounding</td>\n",
       "      <td>10474</td>\n",
       "      <td>NaN</td>\n",
       "      <td>NaN</td>\n",
       "      <td>...</td>\n",
       "      <td>2015-02-01T07:58:50.000</td>\n",
       "      <td>2027630252</td>\n",
       "      <td>NaN</td>\n",
       "      <td>NaN</td>\n",
       "      <td>NaN</td>\n",
       "      <td>NaN</td>\n",
       "      <td>NaN</td>\n",
       "      <td>NaN</td>\n",
       "      <td>NaN</td>\n",
       "      <td>NaN</td>\n",
       "    </tr>\n",
       "    <tr>\n",
       "      <th>4</th>\n",
       "      <td>29837016</td>\n",
       "      <td>2015-01-31T23:58:47.000</td>\n",
       "      <td>2015-02-01T05:26:00.000</td>\n",
       "      <td>NYPD</td>\n",
       "      <td>New York City Police Department</td>\n",
       "      <td>Noise - Residential</td>\n",
       "      <td>Loud Music/Party</td>\n",
       "      <td>10034</td>\n",
       "      <td>NaN</td>\n",
       "      <td>NaN</td>\n",
       "      <td>...</td>\n",
       "      <td>2015-02-01T07:58:47.000</td>\n",
       "      <td>1022170035</td>\n",
       "      <td>NaN</td>\n",
       "      <td>NaN</td>\n",
       "      <td>NaN</td>\n",
       "      <td>NaN</td>\n",
       "      <td>NaN</td>\n",
       "      <td>NaN</td>\n",
       "      <td>NaN</td>\n",
       "      <td>NaN</td>\n",
       "    </tr>\n",
       "  </tbody>\n",
       "</table>\n",
       "<p>5 rows × 41 columns</p>\n",
       "</div>"
      ],
      "text/plain": [
       "  unique_key             created_date              closed_date agency  \\\n",
       "0   29831247  2015-01-31T23:59:46.000  2015-02-05T10:00:00.000    DOT   \n",
       "1   29835781  2015-01-31T23:59:25.000  2015-02-01T02:50:39.000   NYPD   \n",
       "2   29837850  2015-01-31T23:59:08.000  2015-04-02T06:33:30.000  DOHMH   \n",
       "3   29833911  2015-01-31T23:58:50.000  2015-02-01T01:28:12.000   NYPD   \n",
       "4   29837016  2015-01-31T23:58:47.000  2015-02-01T05:26:00.000   NYPD   \n",
       "\n",
       "                               agency_name       complaint_type  \\\n",
       "0             Department of Transportation     Street Condition   \n",
       "1          New York City Police Department  Noise - Residential   \n",
       "2  Department of Health and Mental Hygiene   Food Establishment   \n",
       "3          New York City Police Department  Noise - Residential   \n",
       "4          New York City Police Department  Noise - Residential   \n",
       "\n",
       "            descriptor incident_zip intersection_street_1  \\\n",
       "0              Pothole        10451       EAST 149 STREET   \n",
       "1      Loud Television        11375                   NaN   \n",
       "2  Food Worker Hygiene        10016                   NaN   \n",
       "3     Banging/Pounding        10474                   NaN   \n",
       "4     Loud Music/Party        10034                   NaN   \n",
       "\n",
       "  intersection_street_2  ...                 due_date         bbl  \\\n",
       "0           PARK AVENUE  ...                      NaN         NaN   \n",
       "1                   NaN  ...  2015-02-01T07:59:25.000  4021860038   \n",
       "2                   NaN  ...  2015-04-01T23:59:08.000  1008820047   \n",
       "3                   NaN  ...  2015-02-01T07:58:50.000  2027630252   \n",
       "4                   NaN  ...  2015-02-01T07:58:47.000  1022170035   \n",
       "\n",
       "  taxi_pick_up_location bridge_highway_name bridge_highway_direction  \\\n",
       "0                   NaN                 NaN                      NaN   \n",
       "1                   NaN                 NaN                      NaN   \n",
       "2                   NaN                 NaN                      NaN   \n",
       "3                   NaN                 NaN                      NaN   \n",
       "4                   NaN                 NaN                      NaN   \n",
       "\n",
       "  road_ramp bridge_highway_segment taxi_company_borough vehicle_type landmark  \n",
       "0       NaN                    NaN                  NaN          NaN      NaN  \n",
       "1       NaN                    NaN                  NaN          NaN      NaN  \n",
       "2       NaN                    NaN                  NaN          NaN      NaN  \n",
       "3       NaN                    NaN                  NaN          NaN      NaN  \n",
       "4       NaN                    NaN                  NaN          NaN      NaN  \n",
       "\n",
       "[5 rows x 41 columns]"
      ]
     },
     "execution_count": 12,
     "metadata": {},
     "output_type": "execute_result"
    }
   ],
   "source": [
    "complaints_df.head()"
   ]
  },
  {
   "cell_type": "markdown",
   "id": "6642b7c86e51ace0",
   "metadata": {},
   "source": []
  },
  {
   "cell_type": "code",
   "execution_count": 13,
   "id": "96d3be5437f18791",
   "metadata": {
    "ExecuteTime": {
     "end_time": "2023-11-24T12:28:17.404288300Z",
     "start_time": "2023-11-24T12:27:10.545855600Z"
    }
   },
   "outputs": [],
   "source": [
    "tree_data = requests.get(url=\"https://data.cityofnewyork.us/resource/5rq2-4hqu.json\",\n",
    "                         params={\"$$app_token\": app_token, \"$limit\": 99999999999999999999}).json()\n",
    "tree_df = pd.DataFrame(tree_data)"
   ]
  },
  {
   "cell_type": "code",
   "execution_count": 14,
   "id": "93fc1876d444cc23",
   "metadata": {
    "ExecuteTime": {
     "end_time": "2023-11-24T12:28:17.411914400Z",
     "start_time": "2023-11-24T12:28:17.404288300Z"
    }
   },
   "outputs": [
    {
     "data": {
      "text/plain": [
       "(683788, 42)"
      ]
     },
     "execution_count": 14,
     "metadata": {},
     "output_type": "execute_result"
    }
   ],
   "source": [
    "tree_df.shape"
   ]
  },
  {
   "cell_type": "code",
   "execution_count": 15,
   "id": "13eae695234321c0",
   "metadata": {
    "ExecuteTime": {
     "end_time": "2023-11-24T12:28:17.426731900Z",
     "start_time": "2023-11-24T12:28:17.408818300Z"
    }
   },
   "outputs": [
    {
     "data": {
      "text/html": [
       "<div>\n",
       "<style scoped>\n",
       "    .dataframe tbody tr th:only-of-type {\n",
       "        vertical-align: middle;\n",
       "    }\n",
       "\n",
       "    .dataframe tbody tr th {\n",
       "        vertical-align: top;\n",
       "    }\n",
       "\n",
       "    .dataframe thead th {\n",
       "        text-align: right;\n",
       "    }\n",
       "</style>\n",
       "<table border=\"1\" class=\"dataframe\">\n",
       "  <thead>\n",
       "    <tr style=\"text-align: right;\">\n",
       "      <th></th>\n",
       "      <th>created_at</th>\n",
       "      <th>tree_id</th>\n",
       "      <th>block_id</th>\n",
       "      <th>the_geom</th>\n",
       "      <th>tree_dbh</th>\n",
       "      <th>stump_diam</th>\n",
       "      <th>curb_loc</th>\n",
       "      <th>status</th>\n",
       "      <th>health</th>\n",
       "      <th>spc_latin</th>\n",
       "      <th>...</th>\n",
       "      <th>st_assem</th>\n",
       "      <th>st_senate</th>\n",
       "      <th>nta</th>\n",
       "      <th>nta_name</th>\n",
       "      <th>boro_ct</th>\n",
       "      <th>state</th>\n",
       "      <th>latitude</th>\n",
       "      <th>longitude</th>\n",
       "      <th>x_sp</th>\n",
       "      <th>y_sp</th>\n",
       "    </tr>\n",
       "  </thead>\n",
       "  <tbody>\n",
       "    <tr>\n",
       "      <th>0</th>\n",
       "      <td>08/27/2015</td>\n",
       "      <td>180683</td>\n",
       "      <td>348711</td>\n",
       "      <td>{'type': 'Point', 'coordinates': [-73.84421521...</td>\n",
       "      <td>3</td>\n",
       "      <td>0</td>\n",
       "      <td>OnCurb</td>\n",
       "      <td>Alive</td>\n",
       "      <td>Fair</td>\n",
       "      <td>Acer rubrum</td>\n",
       "      <td>...</td>\n",
       "      <td>28</td>\n",
       "      <td>16</td>\n",
       "      <td>QN17</td>\n",
       "      <td>Forest Hills</td>\n",
       "      <td>4073900</td>\n",
       "      <td>New York</td>\n",
       "      <td>40.72309177</td>\n",
       "      <td>-73.84421522</td>\n",
       "      <td>1027431.14821</td>\n",
       "      <td>202756.768749</td>\n",
       "    </tr>\n",
       "    <tr>\n",
       "      <th>1</th>\n",
       "      <td>09/03/2015</td>\n",
       "      <td>200540</td>\n",
       "      <td>315986</td>\n",
       "      <td>{'type': 'Point', 'coordinates': [-73.81867945...</td>\n",
       "      <td>21</td>\n",
       "      <td>0</td>\n",
       "      <td>OnCurb</td>\n",
       "      <td>Alive</td>\n",
       "      <td>Fair</td>\n",
       "      <td>Quercus palustris</td>\n",
       "      <td>...</td>\n",
       "      <td>27</td>\n",
       "      <td>11</td>\n",
       "      <td>QN49</td>\n",
       "      <td>Whitestone</td>\n",
       "      <td>4097300</td>\n",
       "      <td>New York</td>\n",
       "      <td>40.79411067</td>\n",
       "      <td>-73.81867946</td>\n",
       "      <td>1034455.70109</td>\n",
       "      <td>228644.837379</td>\n",
       "    </tr>\n",
       "    <tr>\n",
       "      <th>2</th>\n",
       "      <td>09/05/2015</td>\n",
       "      <td>204026</td>\n",
       "      <td>218365</td>\n",
       "      <td>{'type': 'Point', 'coordinates': [-73.93660770...</td>\n",
       "      <td>3</td>\n",
       "      <td>0</td>\n",
       "      <td>OnCurb</td>\n",
       "      <td>Alive</td>\n",
       "      <td>Good</td>\n",
       "      <td>Gleditsia triacanthos var. inermis</td>\n",
       "      <td>...</td>\n",
       "      <td>50</td>\n",
       "      <td>18</td>\n",
       "      <td>BK90</td>\n",
       "      <td>East Williamsburg</td>\n",
       "      <td>3044900</td>\n",
       "      <td>New York</td>\n",
       "      <td>40.71758074</td>\n",
       "      <td>-73.9366077</td>\n",
       "      <td>1001822.83131</td>\n",
       "      <td>200716.891267</td>\n",
       "    </tr>\n",
       "    <tr>\n",
       "      <th>3</th>\n",
       "      <td>09/05/2015</td>\n",
       "      <td>204337</td>\n",
       "      <td>217969</td>\n",
       "      <td>{'type': 'Point', 'coordinates': [-73.93445615...</td>\n",
       "      <td>10</td>\n",
       "      <td>0</td>\n",
       "      <td>OnCurb</td>\n",
       "      <td>Alive</td>\n",
       "      <td>Good</td>\n",
       "      <td>Gleditsia triacanthos var. inermis</td>\n",
       "      <td>...</td>\n",
       "      <td>53</td>\n",
       "      <td>18</td>\n",
       "      <td>BK90</td>\n",
       "      <td>East Williamsburg</td>\n",
       "      <td>3044900</td>\n",
       "      <td>New York</td>\n",
       "      <td>40.71353749</td>\n",
       "      <td>-73.93445616</td>\n",
       "      <td>1002420.35833</td>\n",
       "      <td>199244.253136</td>\n",
       "    </tr>\n",
       "    <tr>\n",
       "      <th>4</th>\n",
       "      <td>08/30/2015</td>\n",
       "      <td>189565</td>\n",
       "      <td>223043</td>\n",
       "      <td>{'type': 'Point', 'coordinates': [-73.97597938...</td>\n",
       "      <td>21</td>\n",
       "      <td>0</td>\n",
       "      <td>OnCurb</td>\n",
       "      <td>Alive</td>\n",
       "      <td>Good</td>\n",
       "      <td>Tilia americana</td>\n",
       "      <td>...</td>\n",
       "      <td>44</td>\n",
       "      <td>21</td>\n",
       "      <td>BK37</td>\n",
       "      <td>Park Slope-Gowanus</td>\n",
       "      <td>3016500</td>\n",
       "      <td>New York</td>\n",
       "      <td>40.66677776</td>\n",
       "      <td>-73.97597938</td>\n",
       "      <td>990913.775046</td>\n",
       "      <td>182202.425999</td>\n",
       "    </tr>\n",
       "  </tbody>\n",
       "</table>\n",
       "<p>5 rows × 42 columns</p>\n",
       "</div>"
      ],
      "text/plain": [
       "   created_at tree_id block_id  \\\n",
       "0  08/27/2015  180683   348711   \n",
       "1  09/03/2015  200540   315986   \n",
       "2  09/05/2015  204026   218365   \n",
       "3  09/05/2015  204337   217969   \n",
       "4  08/30/2015  189565   223043   \n",
       "\n",
       "                                            the_geom tree_dbh stump_diam  \\\n",
       "0  {'type': 'Point', 'coordinates': [-73.84421521...        3          0   \n",
       "1  {'type': 'Point', 'coordinates': [-73.81867945...       21          0   \n",
       "2  {'type': 'Point', 'coordinates': [-73.93660770...        3          0   \n",
       "3  {'type': 'Point', 'coordinates': [-73.93445615...       10          0   \n",
       "4  {'type': 'Point', 'coordinates': [-73.97597938...       21          0   \n",
       "\n",
       "  curb_loc status health                           spc_latin  ... st_assem  \\\n",
       "0   OnCurb  Alive   Fair                         Acer rubrum  ...       28   \n",
       "1   OnCurb  Alive   Fair                   Quercus palustris  ...       27   \n",
       "2   OnCurb  Alive   Good  Gleditsia triacanthos var. inermis  ...       50   \n",
       "3   OnCurb  Alive   Good  Gleditsia triacanthos var. inermis  ...       53   \n",
       "4   OnCurb  Alive   Good                     Tilia americana  ...       44   \n",
       "\n",
       "  st_senate   nta            nta_name  boro_ct     state     latitude  \\\n",
       "0        16  QN17        Forest Hills  4073900  New York  40.72309177   \n",
       "1        11  QN49          Whitestone  4097300  New York  40.79411067   \n",
       "2        18  BK90   East Williamsburg  3044900  New York  40.71758074   \n",
       "3        18  BK90   East Williamsburg  3044900  New York  40.71353749   \n",
       "4        21  BK37  Park Slope-Gowanus  3016500  New York  40.66677776   \n",
       "\n",
       "      longitude           x_sp           y_sp  \n",
       "0  -73.84421522  1027431.14821  202756.768749  \n",
       "1  -73.81867946  1034455.70109  228644.837379  \n",
       "2   -73.9366077  1001822.83131  200716.891267  \n",
       "3  -73.93445616  1002420.35833  199244.253136  \n",
       "4  -73.97597938  990913.775046  182202.425999  \n",
       "\n",
       "[5 rows x 42 columns]"
      ]
     },
     "execution_count": 15,
     "metadata": {},
     "output_type": "execute_result"
    }
   ],
   "source": [
    "tree_df.head()"
   ]
  },
  {
   "cell_type": "markdown",
   "id": "c8cd31821847f025",
   "metadata": {},
   "source": [
    "To save time, I will save the datasets downloaded locally."
   ]
  },
  {
   "cell_type": "code",
   "execution_count": 17,
   "id": "53c58a380cc23633",
   "metadata": {
    "ExecuteTime": {
     "end_time": "2023-11-24T12:29:59.220065900Z",
     "start_time": "2023-11-24T12:29:48.816011600Z"
    }
   },
   "outputs": [],
   "source": [
    "complaints_df.to_csv(\"complaints.csv\")\n",
    "tree_df.to_csv(\"tree.csv\")\n"
   ]
  },
  {
   "cell_type": "code",
   "execution_count": 18,
   "id": "47a7b53b38fd84a9",
   "metadata": {
    "ExecuteTime": {
     "end_time": "2023-11-24T12:33:04.209127300Z",
     "start_time": "2023-11-24T12:33:04.115076600Z"
    }
   },
   "outputs": [
    {
     "name": "stderr",
     "output_type": "stream",
     "text": [
      "/var/folders/98/l9_9vlzx4vs8g303whfvnnjc0000gn/T/ipykernel_5330/3313637462.py:1: DtypeWarning: Columns (8,40,41) have mixed types. Specify dtype option on import or set low_memory=False.\n",
      "  complaints_df = pd.read_csv(\"complaints.csv\")\n"
     ]
    }
   ],
   "source": [
    "complaints_df = pd.read_csv(\"complaints.csv\")\n",
    "tree_df = pd.read_csv(\"tree.csv\")"
   ]
  },
  {
   "cell_type": "markdown",
   "id": "16dea2f1da9eaed5",
   "metadata": {},
   "source": [
    "# Storing Data"
   ]
  },
  {
   "cell_type": "code",
   "execution_count": 27,
   "id": "6dbefcc832d105dc",
   "metadata": {},
   "outputs": [
    {
     "name": "stdout",
     "output_type": "stream",
     "text": [
      "createdb: error: database creation failed: ERROR:  database \"FINAL_PROJECT\" already exists\n",
      "ERROR:  extension \"postgis\" already exists\n"
     ]
    }
   ],
   "source": [
    "!createdb FINAL_PROJECT\n",
    "!psql --dbname FINAL_PROJECT -c 'CREATE EXTENSION postgis;'"
   ]
  },
  {
   "cell_type": "code",
   "execution_count": 29,
   "id": "63488583",
   "metadata": {},
   "outputs": [],
   "source": [
    "from sqlalchemy import create_engine\n",
    "\n",
    "engine = create_engine(f\"sqlite:///FINAL_PROJECT.db\", echo=True)"
   ]
  },
  {
   "cell_type": "code",
   "execution_count": 32,
   "id": "5bcb6eca",
   "metadata": {},
   "outputs": [],
   "source": [
    "with engine.connect() as connection:\n",
    "    with open('schema.sql', 'w') as f:\n",
    "        f.write(\"\"\"\n",
    "            CREATE TABLE zip_codes (\n",
    "                zip_code Integer PRIMARY KEY,\n",
    "                neighborhood String,\n",
    "                borough String,\n",
    "                geometry GEOMETRY(Point, 4326)\n",
    "            );\n",
    "\n",
    "            CREATE TABLE complaints (\n",
    "                complaint_id Integer PRIMARY KEY,\n",
    "                created_date TIMESTAMP,\n",
    "                complaint_type String,\n",
    "                descriptor String,\n",
    "                zip_code Integer REFERENCES zip_codes(zip_code),\n",
    "                latitude FLOAT,\n",
    "                longitude FLOAT,\n",
    "                geometry GEOMETRY(Point, 4326)\n",
    "            );\n",
    "\n",
    "            CREATE TABLE trees (\n",
    "                tree_id Integer PRIMARY KEY,\n",
    "                species String,\n",
    "                diameter_inches FLOAT,\n",
    "                health String,\n",
    "                zip_code Integer REFERENCES zip_codes(zip_code),\n",
    "                latitude FLOAT,\n",
    "                longitude FLOAT,\n",
    "                geometry GEOMETRY(Point, 4326)\n",
    "            );\n",
    "\n",
    "            CREATE TABLE average_rents (\n",
    "                zip_code Integer PRIMARY KEY,\n",
    "                year INT,\n",
    "                avg_rent DECIMAL\n",
    "            );\n",
    "        \"\"\")\n"
   ]
  },
  {
   "cell_type": "code",
   "execution_count": null,
   "id": "2bae7a6f",
   "metadata": {},
   "outputs": [],
   "source": []
  },
  {
   "cell_type": "code",
   "execution_count": null,
   "id": "595eaa9f",
   "metadata": {},
   "outputs": [],
   "source": []
  },
  {
   "cell_type": "markdown",
   "id": "b42c6bc5c024a8c2",
   "metadata": {},
   "source": [
    "# Understanding Data"
   ]
  },
  {
   "cell_type": "code",
   "execution_count": null,
   "id": "c4a02c5e133f921d",
   "metadata": {},
   "outputs": [],
   "source": []
  },
  {
   "cell_type": "markdown",
   "id": "18ffd1bb99075ea9",
   "metadata": {},
   "source": [
    "# Visualizing Data"
   ]
  },
  {
   "cell_type": "code",
   "execution_count": null,
   "id": "83af7d548eed2ae8",
   "metadata": {
    "ExecuteTime": {
     "start_time": "2023-11-24T11:43:13.539677300Z"
    }
   },
   "outputs": [],
   "source": []
  }
 ],
 "metadata": {
  "kernelspec": {
   "display_name": "Python 3 (ipykernel)",
   "language": "python",
   "name": "python3"
  },
  "language_info": {
   "codemirror_mode": {
    "name": "ipython",
    "version": 3
   },
   "file_extension": ".py",
   "mimetype": "text/x-python",
   "name": "python",
   "nbconvert_exporter": "python",
   "pygments_lexer": "ipython3",
   "version": "3.9.13"
  }
 },
 "nbformat": 4,
 "nbformat_minor": 5
}

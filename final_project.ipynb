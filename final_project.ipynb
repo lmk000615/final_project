{
 "cells": [
  {
   "cell_type": "code",
   "execution_count": 1,
   "id": "7fa2124787128ed2",
   "metadata": {
    "ExecuteTime": {
     "end_time": "2023-12-06T10:40:04.650297300Z",
     "start_time": "2023-12-06T10:40:03.824051600Z"
    }
   },
   "outputs": [],
   "source": [
    "import pandas as pd\n",
    "import requests\n",
    "import geopandas as gpd\n",
    "from shapely.geometry import Point"
   ]
  },
  {
   "cell_type": "code",
   "execution_count": 2,
   "id": "1624f0365a54c523",
   "metadata": {
    "ExecuteTime": {
     "end_time": "2023-12-03T04:27:22.472078600Z",
     "start_time": "2023-12-03T04:27:22.465568600Z"
    }
   },
   "outputs": [],
   "source": [
    "app_token = \"Rl5BUiRawpr4H2LA9OQeKB47L\""
   ]
  },
  {
   "cell_type": "markdown",
   "id": "3f6c2feb6b97c6ff",
   "metadata": {},
   "source": [
    "# 1 Data Preprocessing"
   ]
  },
  {
   "cell_type": "markdown",
   "id": "330c4bf21749066b",
   "metadata": {},
   "source": [
    "## 1.1 Download 311 data and 2015 tree cencus data"
   ]
  },
  {
   "cell_type": "code",
   "execution_count": 3,
   "id": "3295db8a6395ef7d",
   "metadata": {
    "ExecuteTime": {
     "end_time": "2023-11-29T17:12:02.906961900Z",
     "start_time": "2023-11-29T17:12:02.897088700Z"
    }
   },
   "outputs": [],
   "source": [
    "from datetime import datetime, timedelta\n",
    "\n",
    "def generate_month_ranges(start_date, end_date):\n",
    "    current = start_date\n",
    "    temp = 0\n",
    "    while current < end_date:\n",
    "        temp += 1\n",
    "        month_end = current.replace(day=1) + timedelta(days=32)\n",
    "        month_end = month_end.replace(day=1) - timedelta(days=1) # 9 30\n",
    "        yield (current, month_end)\n",
    "        current = month_end + timedelta(days=1)\n",
    "        if temp == 100:\n",
    "            break\n",
    "\n",
    "#Set start date and end ate\n",
    "start_date = datetime(2018, 10, 1)\n",
    "end_date = datetime(2023, 9, 30)\n",
    "\n",
    "#Generate month's range\n",
    "month_ranges = list(generate_month_ranges(start_date, end_date))"
   ]
  },
  {
   "cell_type": "code",
   "execution_count": 4,
   "id": "83354ebeb00066c5",
   "metadata": {
    "ExecuteTime": {
     "end_time": "2023-11-29T17:24:11.674616400Z",
     "start_time": "2023-11-29T17:12:24.126641100Z"
    }
   },
   "outputs": [
    {
     "name": "stdout",
     "output_type": "stream",
     "text": [
      "Downloading data for the period: 2018-10-01 to 2018-10-31\n",
      "Downloading data for the period: 2018-11-01 to 2018-11-30\n",
      "Downloading data for the period: 2018-12-01 to 2018-12-31\n",
      "Downloading data for the period: 2019-01-01 to 2019-01-31\n",
      "Downloading data for the period: 2019-02-01 to 2019-02-28\n",
      "Downloading data for the period: 2019-03-01 to 2019-03-31\n",
      "Downloading data for the period: 2019-04-01 to 2019-04-30\n",
      "Downloading data for the period: 2019-05-01 to 2019-05-31\n",
      "Downloading data for the period: 2019-06-01 to 2019-06-30\n",
      "Downloading data for the period: 2019-07-01 to 2019-07-31\n",
      "Downloading data for the period: 2019-08-01 to 2019-08-31\n",
      "Downloading data for the period: 2019-09-01 to 2019-09-30\n",
      "Downloading data for the period: 2019-10-01 to 2019-10-31\n",
      "Downloading data for the period: 2019-11-01 to 2019-11-30\n",
      "Downloading data for the period: 2019-12-01 to 2019-12-31\n",
      "Downloading data for the period: 2020-01-01 to 2020-01-31\n",
      "Downloading data for the period: 2020-02-01 to 2020-02-29\n",
      "Downloading data for the period: 2020-03-01 to 2020-03-31\n",
      "Downloading data for the period: 2020-04-01 to 2020-04-30\n",
      "Downloading data for the period: 2020-05-01 to 2020-05-31\n",
      "Downloading data for the period: 2020-06-01 to 2020-06-30\n",
      "Downloading data for the period: 2020-07-01 to 2020-07-31\n",
      "Downloading data for the period: 2020-08-01 to 2020-08-31\n",
      "Downloading data for the period: 2020-09-01 to 2020-09-30\n",
      "Downloading data for the period: 2020-10-01 to 2020-10-31\n",
      "Downloading data for the period: 2020-11-01 to 2020-11-30\n",
      "Downloading data for the period: 2020-12-01 to 2020-12-31\n",
      "Downloading data for the period: 2021-01-01 to 2021-01-31\n",
      "Downloading data for the period: 2021-02-01 to 2021-02-28\n",
      "Downloading data for the period: 2021-03-01 to 2021-03-31\n",
      "Downloading data for the period: 2021-04-01 to 2021-04-30\n",
      "Downloading data for the period: 2021-05-01 to 2021-05-31\n",
      "Downloading data for the period: 2021-06-01 to 2021-06-30\n",
      "Downloading data for the period: 2021-07-01 to 2021-07-31\n",
      "Downloading data for the period: 2021-08-01 to 2021-08-31\n",
      "Downloading data for the period: 2021-09-01 to 2021-09-30\n",
      "Downloading data for the period: 2021-10-01 to 2021-10-31\n",
      "Downloading data for the period: 2021-11-01 to 2021-11-30\n",
      "Downloading data for the period: 2021-12-01 to 2021-12-31\n",
      "Downloading data for the period: 2022-01-01 to 2022-01-31\n",
      "Downloading data for the period: 2022-02-01 to 2022-02-28\n",
      "Downloading data for the period: 2022-03-01 to 2022-03-31\n",
      "Downloading data for the period: 2022-04-01 to 2022-04-30\n",
      "Downloading data for the period: 2022-05-01 to 2022-05-31\n",
      "Downloading data for the period: 2022-06-01 to 2022-06-30\n",
      "Downloading data for the period: 2022-07-01 to 2022-07-31\n",
      "Downloading data for the period: 2022-08-01 to 2022-08-31\n",
      "Downloading data for the period: 2022-09-01 to 2022-09-30\n",
      "Downloading data for the period: 2022-10-01 to 2022-10-31\n",
      "Downloading data for the period: 2022-11-01 to 2022-11-30\n",
      "Downloading data for the period: 2022-12-01 to 2022-12-31\n",
      "Downloading data for the period: 2023-01-01 to 2023-01-31\n",
      "Downloading data for the period: 2023-02-01 to 2023-02-28\n",
      "Downloading data for the period: 2023-03-01 to 2023-03-31\n",
      "Downloading data for the period: 2023-04-01 to 2023-04-30\n",
      "Downloading data for the period: 2023-05-01 to 2023-05-31\n",
      "Downloading data for the period: 2023-06-01 to 2023-06-30\n",
      "Downloading data for the period: 2023-07-01 to 2023-07-31\n",
      "Downloading data for the period: 2023-08-01 to 2023-08-31\n",
      "Downloading data for the period: 2023-09-01 to 2023-09-30\n",
      "Data download complete.\n"
     ]
    }
   ],
   "source": [
    "import os\n",
    "\n",
    "for start, end in month_ranges:\n",
    "    year = start.year\n",
    "    csv_file = f\"data/complaints_data_{year}.csv\"\n",
    "    print(f\"Downloading data for the period: {start.strftime('%Y-%m-%d')} to {end.strftime('%Y-%m-%d')}\")\n",
    "\n",
    "    query = f\"created_date between '{start.strftime('%Y-%m-%dT%H:%M:%S')}' and '{end.strftime('%Y-%m-%dT%H:%M:%S')}'\"\n",
    "    response = requests.get(\n",
    "        url=\"https://data.cityofnewyork.us/resource/erm2-nwe9.json\",\n",
    "        params={\"$$app_token\": app_token, \"$where\": query, \"$limit\": 999999,\n",
    "                \"$select\": \"unique_key, created_date, closed_date, agency,  complaint_type, descriptor, location_type, incident_zip, latitude, longitude, borough\"\n",
    "                }\n",
    "    )\n",
    "    data = response.json()\n",
    "    batch_df = pd.DataFrame(data)\n",
    "\n",
    "    # 根据年份写入或追加到对应的CSV文件\n",
    "    mode = 'a' if os.path.exists(csv_file) else 'w'\n",
    "    batch_df.to_csv(csv_file, mode=mode, index=False, header=not os.path.exists(csv_file))\n",
    "\n",
    "print(\"Data download complete.\")"
   ]
  },
  {
   "cell_type": "code",
   "execution_count": 5,
   "id": "96d3be5437f18791",
   "metadata": {
    "ExecuteTime": {
     "end_time": "2023-11-24T12:28:17.404288300Z",
     "start_time": "2023-11-24T12:27:10.545855600Z"
    }
   },
   "outputs": [],
   "source": [
    "tree_data = requests.get(url=\"https://data.cityofnewyork.us/resource/5rq2-4hqu.json\",\n",
    "                         params={\"$$app_token\": app_token, \"$limit\": 99999999999999999999}).json()\n",
    "tree_df = pd.DataFrame(tree_data)\n",
    "tree_df.to_csv(\"data/tree.csv\")"
   ]
  },
  {
   "cell_type": "markdown",
   "id": "6b696afcf38df01b",
   "metadata": {},
   "source": [
    "## 1.2 Data Cleaning & Filtering"
   ]
  },
  {
   "cell_type": "markdown",
   "id": "df2cdda1a5658915",
   "metadata": {},
   "source": [
    "### 1.2.1 311 Data Cleaning & Filtering"
   ]
  },
  {
   "cell_type": "code",
   "execution_count": 6,
   "id": "e56f7fc9c3685163",
   "metadata": {
    "ExecuteTime": {
     "end_time": "2023-12-03T06:25:53.102756800Z",
     "start_time": "2023-12-03T06:25:53.094669300Z"
    }
   },
   "outputs": [],
   "source": [
    "def clean_311_data(datafile):\n",
    "    import pandas as pd\n",
    "    import numpy as np\n",
    "    import datetime\n",
    "    import geopandas as gpd\n",
    "    from shapely.geometry import Point\n",
    "    \n",
    "    #Add fix_zip function\n",
    "    def fix_zip(input_zip):\n",
    "        try:\n",
    "            input_zip = int(float(input_zip))\n",
    "        except:\n",
    "            try:\n",
    "                input_zip = int(input_zip.split('-')[0])\n",
    "            except:\n",
    "                return np.NaN\n",
    "        if input_zip < 10000 or input_zip > 12000:\n",
    "            return np.NaN\n",
    "        return str(input_zip)\n",
    "\n",
    "    #Read the file\n",
    "    df = pd.read_csv(datafile, low_memory=False)\n",
    "\n",
    "    #fix the zip\n",
    "    df['incident_zip'] = df['incident_zip'].apply(fix_zip)\n",
    "\n",
    "    df = df.dropna(how='any')\n",
    "\n",
    "    #get rid of unspecified boroughs\n",
    "    df = df[df['borough'] != 'Unspecified']\n",
    "\n",
    "    df['latitude'] = df['latitude'].astype('float64')\n",
    "    df['longitude'] = df['longitude'].astype('float64')\n",
    "\n",
    "    #Converts the 'closed_date','created_date' column into a datetime object\n",
    "    df['created_date'] = pd.to_datetime(df['created_date'])\n",
    "    df['closed_date'] = pd.to_datetime(df['closed_date'])\n",
    "    # Convert longitude and latitude to a 'geometry' column for geopandas\n",
    "    df['geometry'] = df.apply(lambda row: Point(row['longitude'], row['latitude']), axis=1)\n",
    "\n",
    "    # Create a GeoDataFrame and set the coordinate reference system (CRS) to WGS84 (EPSG:4326)\n",
    "    gdf = gpd.GeoDataFrame(df, geometry='geometry')\n",
    "    gdf.set_crs(epsg=4326, inplace=True)\n",
    "    gdf = gdf.reset_index(drop=True)\n",
    "    \n",
    "    return gdf"
   ]
  },
  {
   "cell_type": "markdown",
   "id": "d9a118f36cd1e40d",
   "metadata": {},
   "source": [
    "### 1.2.2 2015 Tree census Data Cleaning & Filtering"
   ]
  },
  {
   "cell_type": "code",
   "execution_count": 7,
   "id": "5d3f4ec5dfdeeffc",
   "metadata": {
    "ExecuteTime": {
     "end_time": "2023-12-03T05:47:03.136128300Z",
     "start_time": "2023-12-03T05:46:58.894190800Z"
    }
   },
   "outputs": [],
   "source": [
    "tree = pd.read_csv('data/tree.csv', usecols=['tree_id', 'the_geom',   'spc_common', 'status', 'health', 'zipcode', 'boroname', 'latitude', 'longitude'])\n",
    "tree.to_csv('data/tree_data.csv',index=False)"
   ]
  },
  {
   "cell_type": "code",
   "execution_count": 8,
   "id": "6fa2f0e9bd8bfbdb",
   "metadata": {
    "ExecuteTime": {
     "end_time": "2023-12-03T05:47:05.683508800Z",
     "start_time": "2023-12-03T05:47:05.672005Z"
    }
   },
   "outputs": [],
   "source": [
    "import pandas as pd\n",
    "import numpy as np\n",
    "import geopandas as gpd\n",
    "from shapely.geometry import Point\n",
    "\n",
    "\n",
    "def clean_tree_data(datafile):\n",
    "\n",
    "    # Add fix_zip function\n",
    "    def fix_zip(input_zip):\n",
    "        try:\n",
    "            input_zip = int(float(input_zip))\n",
    "        except:\n",
    "            try:\n",
    "                input_zip = int(input_zip.split('-')[0]) \n",
    "            except:\n",
    "                return np.NaN\n",
    "        if input_zip < 10000 or input_zip > 12000:\n",
    "            return np.NaN\n",
    "        return str(input_zip)\n",
    "\n",
    "    # Read the file\n",
    "    df = pd.read_csv(datafile)\n",
    "\n",
    "    # Fix the zip\n",
    "    df['zipcode'] = df['zipcode'].apply(fix_zip)\n",
    "\n",
    "    df = df.dropna(how='any')\n",
    "\n",
    "    # Make some columns name readable\n",
    "    df.rename(columns={'the_geom': 'geometry', 'spc_common': 'species', 'boroname': 'borough'}, inplace=True)\n",
    "\n",
    "    # Convert longitude and latitude to a 'geometry' column for geopandas\n",
    "    df['geometry'] = df.apply(lambda row: Point(row['longitude'], row['latitude']), axis=1)\n",
    "\n",
    "    # Create a GeoDataFrame and set the coordinate reference system (CRS) to WGS84 (EPSG:4326)\n",
    "    gdf = gpd.GeoDataFrame(df, geometry='geometry')\n",
    "    gdf.set_crs(epsg=4326, inplace=True)\n",
    "    gdf = gdf.reset_index(drop=True)\n",
    "\n",
    "\n",
    "    return gdf"
   ]
  },
  {
   "cell_type": "code",
   "execution_count": 9,
   "id": "d8e5b3ff515cb203",
   "metadata": {
    "ExecuteTime": {
     "end_time": "2023-12-03T05:47:20.458620100Z",
     "start_time": "2023-12-03T05:47:10.020066200Z"
    }
   },
   "outputs": [
    {
     "name": "stdout",
     "output_type": "stream",
     "text": [
      "<class 'geopandas.geodataframe.GeoDataFrame'>\n",
      "RangeIndex: 651235 entries, 0 to 651234\n",
      "Data columns (total 9 columns):\n",
      " #   Column     Non-Null Count   Dtype   \n",
      "---  ------     --------------   -----   \n",
      " 0   tree_id    651235 non-null  int64   \n",
      " 1   geometry   651235 non-null  geometry\n",
      " 2   status     651235 non-null  object  \n",
      " 3   health     651235 non-null  object  \n",
      " 4   species    651235 non-null  object  \n",
      " 5   zipcode    651235 non-null  object  \n",
      " 6   borough    651235 non-null  object  \n",
      " 7   latitude   651235 non-null  float64 \n",
      " 8   longitude  651235 non-null  float64 \n",
      "dtypes: float64(2), geometry(1), int64(1), object(5)\n",
      "memory usage: 44.7+ MB\n"
     ]
    }
   ],
   "source": [
    "tree = clean_tree_data('data/tree_data.csv')\n",
    "tree.info()"
   ]
  },
  {
   "cell_type": "markdown",
   "id": "ce46dd6154979aed",
   "metadata": {},
   "source": [
    "### 1.2.3 Zillow Data Cleaning & Filtering"
   ]
  },
  {
   "cell_type": "code",
   "execution_count": 10,
   "id": "11cff05825dba5c",
   "metadata": {
    "ExecuteTime": {
     "end_time": "2023-12-03T07:58:01.540787700Z",
     "start_time": "2023-12-03T07:58:01.532191200Z"
    }
   },
   "outputs": [],
   "source": [
    "def clean_zillow_data(datafile):\n",
    "    import pandas as pd\n",
    "\n",
    "    df = pd.read_csv(datafile, low_memory=False)\n",
    "\n",
    "    df = df[df['City'] == 'New York']\n",
    "\n",
    "    # Select the 'RegionName' and 'CountyName' columns and store them in df1\n",
    "    df1 = df[['RegionName', 'CountyName']]\n",
    "    # Select all columns from '2018-09-30' onwards and store them in df2\n",
    "    df2 = df.loc[:, '2018-09-30':]\n",
    "\n",
    "    # Concatenate df1 and df2 along the columns (axis=1)\n",
    "    df = pd.concat([df1, df2], axis=1)\n",
    "\n",
    "    # Make columns' name more readable\n",
    "    df.rename(columns={'RegionName': 'zipcode', 'CountyName': 'county'}, inplace=True)\n",
    "\n",
    "    # Convert the 'zipcode' column to a string data type\n",
    "    df['zipcode'] = df['zipcode'].astype(str)\n",
    "\n",
    "    df = df.melt(id_vars=[\"zipcode\", \"county\"], var_name=\"date\")\n",
    "    \n",
    "    df = df.reset_index(drop=True)\n",
    "\n",
    "    return df"
   ]
  },
  {
   "cell_type": "code",
   "execution_count": 11,
   "id": "c2152708328b6953",
   "metadata": {
    "ExecuteTime": {
     "end_time": "2023-12-03T07:58:07.981365900Z",
     "start_time": "2023-12-03T07:58:07.901104400Z"
    }
   },
   "outputs": [
    {
     "data": {
      "text/html": [
       "<div>\n",
       "<style scoped>\n",
       "    .dataframe tbody tr th:only-of-type {\n",
       "        vertical-align: middle;\n",
       "    }\n",
       "\n",
       "    .dataframe tbody tr th {\n",
       "        vertical-align: top;\n",
       "    }\n",
       "\n",
       "    .dataframe thead th {\n",
       "        text-align: right;\n",
       "    }\n",
       "</style>\n",
       "<table border=\"1\" class=\"dataframe\">\n",
       "  <thead>\n",
       "    <tr style=\"text-align: right;\">\n",
       "      <th></th>\n",
       "      <th>zipcode</th>\n",
       "      <th>county</th>\n",
       "      <th>date</th>\n",
       "      <th>value</th>\n",
       "    </tr>\n",
       "  </thead>\n",
       "  <tbody>\n",
       "    <tr>\n",
       "      <th>0</th>\n",
       "      <td>11385</td>\n",
       "      <td>Queens County</td>\n",
       "      <td>2018-09-30</td>\n",
       "      <td>2401.525193</td>\n",
       "    </tr>\n",
       "    <tr>\n",
       "      <th>1</th>\n",
       "      <td>11208</td>\n",
       "      <td>Kings County</td>\n",
       "      <td>2018-09-30</td>\n",
       "      <td>NaN</td>\n",
       "    </tr>\n",
       "    <tr>\n",
       "      <th>2</th>\n",
       "      <td>11236</td>\n",
       "      <td>Kings County</td>\n",
       "      <td>2018-09-30</td>\n",
       "      <td>NaN</td>\n",
       "    </tr>\n",
       "    <tr>\n",
       "      <th>3</th>\n",
       "      <td>10467</td>\n",
       "      <td>Bronx County</td>\n",
       "      <td>2018-09-30</td>\n",
       "      <td>1773.839053</td>\n",
       "    </tr>\n",
       "    <tr>\n",
       "      <th>4</th>\n",
       "      <td>11373</td>\n",
       "      <td>Queens County</td>\n",
       "      <td>2018-09-30</td>\n",
       "      <td>NaN</td>\n",
       "    </tr>\n",
       "  </tbody>\n",
       "</table>\n",
       "</div>"
      ],
      "text/plain": [
       "  zipcode         county        date        value\n",
       "0   11385  Queens County  2018-09-30  2401.525193\n",
       "1   11208   Kings County  2018-09-30          NaN\n",
       "2   11236   Kings County  2018-09-30          NaN\n",
       "3   10467   Bronx County  2018-09-30  1773.839053\n",
       "4   11373  Queens County  2018-09-30          NaN"
      ]
     },
     "execution_count": 11,
     "metadata": {},
     "output_type": "execute_result"
    }
   ],
   "source": [
    "zillow = clean_zillow_data('data/zillow_rent_data.csv')\n",
    "zillow.head()"
   ]
  },
  {
   "cell_type": "markdown",
   "id": "ea1ccceb0d7b6b24",
   "metadata": {},
   "source": [
    "### 1.2.4 Zipcode data Cleaning & Filtering"
   ]
  },
  {
   "cell_type": "code",
   "execution_count": 105,
   "id": "a929ad3b8b67829",
   "metadata": {
    "ExecuteTime": {
     "end_time": "2023-12-06T14:21:39.396302100Z",
     "start_time": "2023-12-06T14:21:39.370427700Z"
    }
   },
   "outputs": [],
   "source": [
    "def clean_zipcode_data(datafile):\n",
    "    import geopandas as gpd\n",
    "\n",
    "    gdf = gpd.read_file(datafile)\n",
    "    \n",
    "    gdf = gdf.to_crs('EPSG:4326')\n",
    "    #Select specific columns\n",
    "    gdf = gdf[['ZIPCODE', 'POPULATION', 'geometry' ]]\n",
    "\n",
    "    gdf.rename(columns={'ZIPCODE':'zipcode', 'POPULATION':'population'}, inplace=True)\n",
    "    gdf = gdf.reset_index(drop=True)\n",
    "    \n",
    "\n",
    "    return gdf"
   ]
  },
  {
   "cell_type": "code",
   "execution_count": 106,
   "id": "4d48f7e9f76065e4",
   "metadata": {
    "ExecuteTime": {
     "end_time": "2023-12-06T14:21:40.926310200Z",
     "start_time": "2023-12-06T14:21:40.677036500Z"
    }
   },
   "outputs": [
    {
     "name": "stdout",
     "output_type": "stream",
     "text": [
      "EPSG:2263\n",
      "  zipcode  population                                           geometry\n",
      "0   11436     18681.0  POLYGON ((-73.80585 40.68291, -73.80569 40.682...\n",
      "1   11213     62426.0  POLYGON ((-73.93740 40.67973, -73.93487 40.679...\n",
      "2   11212     83866.0  POLYGON ((-73.90294 40.67084, -73.90223 40.668...\n",
      "3   11225     56527.0  POLYGON ((-73.95797 40.67066, -73.95576 40.670...\n",
      "4   11218     72280.0  POLYGON ((-73.97208 40.65060, -73.97192 40.650...\n"
     ]
    }
   ],
   "source": [
    "zipcode = clean_zipcode_data('data/nyc_zipcodes.shp')\n",
    "print(zipcode.head())\n"
   ]
  },
  {
   "cell_type": "markdown",
   "id": "16dea2f1da9eaed5",
   "metadata": {},
   "source": [
    "# 2 Storing Data"
   ]
  },
  {
   "cell_type": "markdown",
   "id": "5a64512fc942f7cb",
   "metadata": {},
   "source": [
    "## 2.1 Creating database"
   ]
  },
  {
   "cell_type": "code",
   "execution_count": 79,
   "id": "6dbefcc832d105dc",
   "metadata": {
    "ExecuteTime": {
     "end_time": "2023-12-03T05:47:59.269297100Z",
     "start_time": "2023-12-03T05:47:59.216624500Z"
    }
   },
   "outputs": [
    {
     "name": "stdout",
     "output_type": "stream",
     "text": [
      "createdb: error: database creation failed: ERROR:  database \"FINAL_PROJECT\" already exists\n",
      "ERROR:  extension \"postgis\" already exists\n"
     ]
    }
   ],
   "source": [
    "!createdb FINAL_PROJECT\n",
    "!psql --dbname FINAL_PROJECT -c 'CREATE EXTENSION postgis;'\n",
    "!psql --dbname FINAL_PROJECT -f schema.sql"
   ]
  },
  {
   "cell_type": "code",
   "execution_count": 80,
   "id": "63488583",
   "metadata": {
    "ExecuteTime": {
     "end_time": "2023-12-03T06:10:37.125321900Z",
     "start_time": "2023-12-03T06:10:37.106148300Z"
    }
   },
   "outputs": [],
   "source": [
    "import psycopg2"
   ]
  },
  {
   "cell_type": "code",
   "execution_count": 81,
   "id": "796567f058261f19",
   "metadata": {
    "ExecuteTime": {
     "end_time": "2023-12-03T06:10:39.396423200Z",
     "start_time": "2023-12-03T06:10:39.335554500Z"
    }
   },
   "outputs": [],
   "source": [
    "conn = psycopg2.connect(\"dbname=FINAL_PROJECT user=postgres password=123456\")\n",
    "cur = conn.cursor()"
   ]
  },
  {
   "cell_type": "markdown",
   "id": "b16cf8921a117d8f",
   "metadata": {},
   "source": [
    "## 2.2 Creating tables"
   ]
  },
  {
   "cell_type": "code",
   "execution_count": 113,
   "id": "e4743c70",
   "metadata": {
    "ExecuteTime": {
     "end_time": "2023-12-06T14:36:41.832185700Z",
     "start_time": "2023-12-06T14:36:41.826704800Z"
    }
   },
   "outputs": [],
   "source": [
    "create_nyc_zipcodes_table = \"\"\"\n",
    "    CREATE TABLE IF NOT EXISTS nyc_zip_codes (\n",
    "        id INTEGER PRIMARY KEY,\n",
    "        zipcode INTEGER NOT NULL,\n",
    "        population INTEGER,\n",
    "        geometry geometry(Geometry, 4326)\n",
    "    );\n",
    "\"\"\""
   ]
  },
  {
   "cell_type": "code",
   "execution_count": 93,
   "id": "2e657cdd",
   "metadata": {
    "ExecuteTime": {
     "end_time": "2023-12-03T06:10:42.710317Z",
     "start_time": "2023-12-03T06:10:42.705092400Z"
    }
   },
   "outputs": [],
   "source": [
    "create_trees_table = \"\"\"\n",
    "    CREATE TABLE IF NOT EXISTS treecensus_2015 (\n",
    "        id INTEGER PRIMARY KEY,\n",
    "        geometry geometry(Geometry, 4326),\n",
    "        status VARCHAR,\n",
    "        health VARCHAR,\n",
    "        species VARCHAR,\n",
    "        zipcode INTEGER,\n",
    "        borough VARCHAR,\n",
    "        latitude FLOAT,\n",
    "        longitude FLOAT\n",
    "    );\n",
    "\"\"\""
   ]
  },
  {
   "cell_type": "code",
   "execution_count": 94,
   "id": "03829280",
   "metadata": {
    "ExecuteTime": {
     "end_time": "2023-12-03T08:02:02.341795400Z",
     "start_time": "2023-12-03T08:02:02.337487900Z"
    }
   },
   "outputs": [],
   "source": [
    "create_zillow_table = \"\"\"\n",
    "    CREATE TABLE IF NOT EXISTS zillow_average_rents(\n",
    "        id INTEGER PRIMARY KEY,\n",
    "        zipcode INTEGER,\n",
    "        county VARCHAR,\n",
    "        date DATE,\n",
    "        value FLOAT\n",
    "    );\n",
    "\"\"\""
   ]
  },
  {
   "cell_type": "code",
   "execution_count": 115,
   "id": "586eec250fe493e8",
   "metadata": {
    "ExecuteTime": {
     "end_time": "2023-12-06T14:36:54.509523600Z",
     "start_time": "2023-12-06T14:36:54.432636100Z"
    }
   },
   "outputs": [],
   "source": [
    "import psycopg2\n",
    "\n",
    "conn = psycopg2.connect(\"dbname=final_project user=postgres password=123456\")\n",
    "cur = conn.cursor()"
   ]
  },
  {
   "cell_type": "code",
   "execution_count": 118,
   "outputs": [],
   "source": [
    "cur.execute(create_nyc_zipcodes_table)\n",
    "conn.commit()"
   ],
   "metadata": {
    "collapsed": false,
    "ExecuteTime": {
     "end_time": "2023-12-06T14:37:43.022877700Z",
     "start_time": "2023-12-06T14:37:43.012721500Z"
    }
   },
   "id": "45783fde912099db"
  },
  {
   "cell_type": "code",
   "execution_count": 116,
   "id": "626a1db7e91690b3",
   "metadata": {
    "ExecuteTime": {
     "end_time": "2023-12-06T14:36:55.502804500Z",
     "start_time": "2023-12-06T14:36:55.467284Z"
    }
   },
   "outputs": [
    {
     "ename": "NameError",
     "evalue": "name 'create_trees_table' is not defined",
     "output_type": "error",
     "traceback": [
      "\u001B[1;31m---------------------------------------------------------------------------\u001B[0m",
      "\u001B[1;31mNameError\u001B[0m                                 Traceback (most recent call last)",
      "Cell \u001B[1;32mIn[116], line 2\u001B[0m\n\u001B[0;32m      1\u001B[0m cur\u001B[38;5;241m.\u001B[39mexecute(create_nyc_zipcodes_table)\n\u001B[1;32m----> 2\u001B[0m cur\u001B[38;5;241m.\u001B[39mexecute(\u001B[43mcreate_trees_table\u001B[49m)\n\u001B[0;32m      3\u001B[0m cur\u001B[38;5;241m.\u001B[39mexecute(create_zillow_table)\n\u001B[0;32m      4\u001B[0m conn\u001B[38;5;241m.\u001B[39mcommit()\n",
      "\u001B[1;31mNameError\u001B[0m: name 'create_trees_table' is not defined"
     ]
    }
   ],
   "source": [
    "cur.execute(create_nyc_zipcodes_table)\n",
    "cur.execute(create_trees_table)\n",
    "cur.execute(create_zillow_table)\n",
    "conn.commit()"
   ]
  },
  {
   "cell_type": "code",
   "execution_count": 97,
   "id": "846730599ab91416",
   "metadata": {},
   "outputs": [],
   "source": [
    "conn = psycopg2.connect(\"dbname=FINAL_PROJECT user=postgres password=123456\")\n",
    "cur = conn.cursor()\n",
    "\n",
    "#Creating 311 tables by years\n",
    "for year in range(2018, 2024):\n",
    "    table_name = f\"complaints311_{year}\"\n",
    "    create_table_query = f\"\"\"\n",
    "        CREATE TABLE IF NOT EXISTS {table_name} (\n",
    "            id INTEGER PRIMARY KEY,\n",
    "            created_date DATE,\n",
    "            closed_date DATE,\n",
    "            agency VARCHAR,\n",
    "            complaint_type VARCHAR,\n",
    "            descriptor VARCHAR,\n",
    "            location_type VARCHAR,\n",
    "            incident_zip INTEGER,\n",
    "            latitude FLOAT,\n",
    "            longitude FLOAT,\n",
    "            borough VARCHAR,\n",
    "            geometry geometry(Geometry, 4326)\n",
    "        );\n",
    "    \"\"\"\n",
    "    \n",
    "    cur.execute(create_table_query)\n",
    "\n",
    "\n",
    "conn.commit()"
   ]
  },
  {
   "cell_type": "markdown",
   "id": "9c3276b5d3a1d935",
   "metadata": {},
   "source": [
    "## 2.3 Inserting data"
   ]
  },
  {
   "cell_type": "markdown",
   "id": "b7a1d086bc637e38",
   "metadata": {},
   "source": [
    "### 2.3.1 Inserting tree data"
   ]
  },
  {
   "cell_type": "code",
   "execution_count": 100,
   "id": "2c0af8c7",
   "metadata": {},
   "outputs": [],
   "source": [
    "import psycopg2\n",
    "from shapely import wkt  # Import the Well-Known Text (WKT) module from Shapely\n",
    "\n",
    "# Assuming you have a function clean_tree_data that reads and processes the CSV\n",
    "gdf = clean_tree_data('data/tree_data.csv')\n",
    "\n",
    "# Connect to PostgreSQL\n",
    "conn = psycopg2.connect(\"dbname=FINAL_PROJECT user=postgres password=123456\")\n",
    "cur = conn.cursor()\n",
    "\n",
    "# Define the table schema\n",
    "create_trees_table = \"\"\"\n",
    "    CREATE TABLE IF NOT EXISTS treecensus_2015 (\n",
    "        id INTEGER PRIMARY KEY,\n",
    "        geometry geometry(Point, 4326),\n",
    "        status VARCHAR,\n",
    "        health VARCHAR,\n",
    "        species VARCHAR,\n",
    "        zipcode INTEGER,\n",
    "        borough VARCHAR,\n",
    "        latitude FLOAT,\n",
    "        longitude FLOAT\n",
    "    );\n",
    "\"\"\"\n",
    "cur.execute(create_trees_table)\n",
    "conn.commit()\n",
    "gdf=clean_tree_data('data/tree_data.csv')\n",
    "# Prepare data for insertion\n",
    "data_to_insert = [\n",
    "    (row.Index, wkt.dumps(row.geometry), row.status, row.health, row.species, row.zipcode, row.borough, row.latitude, row.longitude)\n",
    "                  for row in gdf.itertuples()]\n",
    "\n",
    "# Insert data into the table\n",
    "insert_query = \"\"\"\n",
    "    INSERT INTO treecensus_2015 (id, geometry, status, health, species, zipcode, borough, latitude, longitude)\n",
    "    VALUES (%s, ST_GeomFromText(%s, 4326), %s, %s, %s, %s,%s, %s, %s);\n",
    "\"\"\"\n",
    "cur.executemany(insert_query, data_to_insert)\n",
    "\n",
    "# Commit the changes\n",
    "conn.commit()\n",
    "\n",
    "# Close the connection\n",
    "conn.close()"
   ]
  },
  {
   "cell_type": "markdown",
   "id": "44e6558e5d670a48",
   "metadata": {},
   "source": [
    "### 2.3.2 Inserting 311 data"
   ]
  },
  {
   "cell_type": "code",
   "execution_count": 25,
   "id": "7f7f28d19fda77ef",
   "metadata": {
    "ExecuteTime": {
     "end_time": "2023-12-03T07:31:27.545600300Z",
     "start_time": "2023-12-03T07:04:04.461413100Z"
    }
   },
   "outputs": [
    {
     "name": "stdout",
     "output_type": "stream",
     "text": [
      "2018\n",
      "2019\n",
      "2020\n",
      "2021\n",
      "2022\n",
      "2023\n"
     ]
    }
   ],
   "source": [
    "import psycopg2\n",
    "from shapely import wkt\n",
    "\n",
    "# Connect to the PostgreSQL database\n",
    "conn = psycopg2.connect(\"dbname=FINAL_PROJECT user=postgres password=123456\")\n",
    "cur = conn.cursor()\n",
    "\n",
    "for year in range(2018, 2024):\n",
    "    # Clean the data\n",
    "    complaints = clean_311_data(f\"data/complaints_data_{year}.csv\")\n",
    "\n",
    "\n",
    "    print(year)\n",
    "\n",
    "    # Prepare the SQL statement for data insertion, dynamically updating the table name\n",
    "    insert_query = f\"\"\"\n",
    "        INSERT INTO complaints311_{year} (id, created_date, closed_date, agency, complaint_type, descriptor, location_type, incident_zip, latitude, longitude, borough, geometry)\n",
    "        VALUES (%s, %s, %s, %s, %s, %s, %s, %s, %s, %s, %s, ST_GeomFromText(%s, 4326));\n",
    "    \"\"\"\n",
    "\n",
    "    # Prepare the data to be inserted\n",
    "    data_to_insert = [\n",
    "        (row.Index, row.created_date, row.closed_date, row.agency, row.complaint_type, row.descriptor, row.location_type, row.incident_zip, row.latitude, row.longitude, row.borough, wkt.dumps(row.geometry))\n",
    "        for row in complaints.itertuples()]\n",
    "\n",
    "    # Execute the insertion\n",
    "    cur.executemany(insert_query, data_to_insert)\n",
    "\n",
    "    # Commit the changes\n",
    "    conn.commit()\n",
    "\n",
    "# Close the connection\n",
    "conn.close()\n"
   ]
  },
  {
   "cell_type": "markdown",
   "id": "8fb252e99b0c40d1",
   "metadata": {},
   "source": [
    "### 2.3.3 Inserting zillow data"
   ]
  },
  {
   "cell_type": "code",
   "execution_count": 110,
   "id": "63003a71c729e7e2",
   "metadata": {
    "ExecuteTime": {
     "end_time": "2023-12-06T14:35:03.317805300Z",
     "start_time": "2023-12-06T14:35:03.239138700Z"
    }
   },
   "outputs": [
    {
     "ename": "NameError",
     "evalue": "name 'zillow' is not defined",
     "output_type": "error",
     "traceback": [
      "\u001B[1;31m---------------------------------------------------------------------------\u001B[0m",
      "\u001B[1;31mNameError\u001B[0m                                 Traceback (most recent call last)",
      "Cell \u001B[1;32mIn[110], line 10\u001B[0m\n\u001B[0;32m      5\u001B[0m cur \u001B[38;5;241m=\u001B[39m conn\u001B[38;5;241m.\u001B[39mcursor()\n\u001B[0;32m      7\u001B[0m \u001B[38;5;66;03m# Prepare data for insertion\u001B[39;00m\n\u001B[0;32m      8\u001B[0m data_to_insert \u001B[38;5;241m=\u001B[39m [\n\u001B[0;32m      9\u001B[0m     (row\u001B[38;5;241m.\u001B[39mIndex,  row\u001B[38;5;241m.\u001B[39mzipcode, row\u001B[38;5;241m.\u001B[39mcounty, row\u001B[38;5;241m.\u001B[39mdate, row\u001B[38;5;241m.\u001B[39mvalue)\n\u001B[1;32m---> 10\u001B[0m     \u001B[38;5;28;01mfor\u001B[39;00m row \u001B[38;5;129;01min\u001B[39;00m \u001B[43mzillow\u001B[49m\u001B[38;5;241m.\u001B[39mitertuples()]\n\u001B[0;32m     12\u001B[0m \u001B[38;5;66;03m# Insert data into the table\u001B[39;00m\n\u001B[0;32m     13\u001B[0m insert_query \u001B[38;5;241m=\u001B[39m \u001B[38;5;124m\"\"\"\u001B[39m\n\u001B[0;32m     14\u001B[0m \u001B[38;5;124m    INSERT INTO zillow_average_rents (id,  zipcode, county, date, value)\u001B[39m\n\u001B[0;32m     15\u001B[0m \u001B[38;5;124m    VALUES ( \u001B[39m\u001B[38;5;132;01m%s\u001B[39;00m\u001B[38;5;124m, \u001B[39m\u001B[38;5;132;01m%s\u001B[39;00m\u001B[38;5;124m,\u001B[39m\u001B[38;5;132;01m%s\u001B[39;00m\u001B[38;5;124m, \u001B[39m\u001B[38;5;132;01m%s\u001B[39;00m\u001B[38;5;124m, \u001B[39m\u001B[38;5;132;01m%s\u001B[39;00m\u001B[38;5;124m);\u001B[39m\n\u001B[0;32m     16\u001B[0m \u001B[38;5;124m\"\"\"\u001B[39m\n",
      "\u001B[1;31mNameError\u001B[0m: name 'zillow' is not defined"
     ]
    }
   ],
   "source": [
    "import psycopg2\n",
    "from shapely import wkt\n",
    "# Connect to PostgreSQL\n",
    "conn = psycopg2.connect(\"dbname=final_project user=postgres password=123456\")\n",
    "cur = conn.cursor()\n",
    "\n",
    "# Prepare data for insertion\n",
    "data_to_insert = [\n",
    "    (row.Index,  row.zipcode, row.county, row.date, row.value)\n",
    "    for row in zillow.itertuples()]\n",
    "\n",
    "# Insert data into the table\n",
    "insert_query = \"\"\"\n",
    "    INSERT INTO zillow_average_rents (id,  zipcode, county, date, value)\n",
    "    VALUES ( %s, %s,%s, %s, %s);\n",
    "\"\"\"\n",
    "cur.executemany(insert_query, data_to_insert)\n",
    "\n",
    "# Commit the changes\n",
    "conn.commit()\n",
    "\n",
    "# Close the connection\n",
    "conn.close()"
   ]
  },
  {
   "cell_type": "markdown",
   "id": "de4069d763dbe3e1",
   "metadata": {},
   "source": [
    "### 2.3.4 Inserting zipcodes data"
   ]
  },
  {
   "cell_type": "code",
   "execution_count": 119,
   "id": "c43aae6c3ae889fd",
   "metadata": {
    "ExecuteTime": {
     "end_time": "2023-12-06T14:38:19.740985600Z",
     "start_time": "2023-12-06T14:38:19.136115900Z"
    }
   },
   "outputs": [],
   "source": [
    "import psycopg2\n",
    "from shapely import wkt\n",
    "# Connect to PostgreSQL\n",
    "conn = psycopg2.connect(\"dbname=final_project user=postgres password=123456\")\n",
    "cur = conn.cursor()\n",
    "\n",
    "# Prepare data for insertion\n",
    "data_to_insert = [\n",
    "    (row.Index,  row.zipcode, row.population, wkt.dumps(row.geometry) )\n",
    "    for row in zipcode.itertuples()]\n",
    "\n",
    "# Insert data into the table\n",
    "insert_query = \"\"\"\n",
    "    INSERT INTO nyc_zip_codes (id,  zipcode, population, geometry)\n",
    "    VALUES ( %s, %s,%s, ST_GeomFromText(%s, 4326));\n",
    "\"\"\"\n",
    "cur.executemany(insert_query, data_to_insert)\n",
    "\n",
    "# Commit the changes\n",
    "conn.commit()\n",
    "\n",
    "# Close the conn\n",
    "conn.close()"
   ]
  },
  {
   "cell_type": "markdown",
   "id": "b42c6bc5c024a8c2",
   "metadata": {},
   "source": [
    "# 3 Understanding Data"
   ]
  },
  {
   "cell_type": "markdown",
   "id": "ec2a0ebc",
   "metadata": {},
   "source": [
    "## 3.1 Query 1: Which area might be more calm to live in?\n"
   ]
  },
  {
   "cell_type": "code",
   "execution_count": 130,
   "id": "43267455",
   "metadata": {
    "ExecuteTime": {
     "end_time": "2023-12-06T15:19:45.626111100Z",
     "start_time": "2023-12-06T15:19:44.982678200Z"
    }
   },
   "outputs": [
    {
     "name": "stdout",
     "output_type": "stream",
     "text": [
      "[(11226, 42497), (10467, 41184), (10468, 38912), (10452, 38476), (10457, 36608), (10458, 36032), (10456, 35311), (11385, 35116), (10453, 33610), (11207, 33115), (11201, 31121), (11208, 30691), (10031, 29073), (10466, 28528), (10032, 28091), (11221, 26970), (10462, 25574), (11368, 24532), (11230, 24208), (10025, 23542), (11238, 23364), (11225, 23253), (10460, 23219), (11220, 23090), (11212, 23022), (10463, 22656), (11216, 22265), (10472, 22115), (11203, 21958), (11214, 21869), (11235, 21643), (10027, 21536), (11213, 21514), (11377, 20719), (11233, 20672), (10033, 20505), (11101, 20025), (11218, 20007), (11209, 19712), (11206, 19602), (10002, 19472), (11223, 19462), (11222, 19364), (10034, 19281), (10023, 19169), (11373, 19138), (11211, 18907), (10019, 18828), (11234, 18756), (10026, 18453), (10461, 18359), (11237, 18331), (11215, 18166), (11236, 17763), (11229, 17365), (10469, 17198), (11204, 17151), (10459, 17125), (10040, 17105), (10451, 16841), (10029, 16721), (11210, 16702), (11372, 16213), (11419, 16152), (11378, 15789), (10455, 15746), (11231, 15700), (10030, 15687), (11432, 15679), (11420, 15489), (11217, 15218), (10003, 15217), (10035, 15181), (10009, 15136), (11355, 14886), (11219, 14825), (11421, 14638), (11375, 14464), (10314, 14185), (11366, 14146), (10011, 13841), (11205, 13637), (11435, 13348), (10473, 13143), (11434, 12913), (11103, 12583), (11691, 12541), (10312, 12078), (11106, 11917), (11224, 11766), (10024, 11740), (11433, 11688), (11414, 11667), (11379, 11481), (10454, 11294), (11105, 11247), (10465, 11004), (10301, 10776), (10036, 10760), (10306, 10710), (10028, 10668), (10016, 10501), (10039, 10351), (11354, 10293), (11239, 10175), (11369, 10099), (10304, 9904), (11249, 9901), (11417, 9645), (11374, 9386), (11365, 9375), (11102, 9360), (11232, 9307), (11418, 9276), (11228, 9156), (10014, 9009), (11357, 8709), (10001, 8611), (10012, 8466), (10013, 8219), (11412, 8088), (10128, 8023), (11356, 7980), (11413, 7690), (11104, 7635), (11358, 7609), (10305, 7566), (10470, 7491), (10309, 6975), (11416, 6884), (10021, 6715), (11367, 6641), (11361, 6598), (10037, 6566), (10022, 6433), (11423, 6404), (11436, 6150), (11694, 6121), (11422, 5850), (10474, 5736), (11370, 5700), (10471, 5613), (10010, 5401), (10065, 5292), (10302, 4918), (11364, 4906), (10310, 4897), (10303, 4826), (10308, 4529), (11429, 4505), (11692, 4472), (10038, 4352), (11415, 4251), (10017, 4125), (10018, 4078), (11411, 4072), (11428, 4016), (10075, 3783), (11427, 3493), (11693, 3132), (10007, 2848), (10475, 2812), (11360, 2761), (11426, 2707), (10307, 2564), (11430, 2336), (11362, 2078), (10464, 1962), (10004, 1770), (11109, 1636), (11004, 1574), (11363, 1249), (10005, 1205), (10006, 1152), (10044, 837), (11001, 610), (11040, 501), (10069, 468), (10282, 418), (10280, 363), (10000, 284), (10020, 245), (10121, 199), (10278, 178), (11359, 102), (10153, 57), (10120, 45), (11697, 41), (10281, 41), (10103, 40), (10118, 34), (11251, 32), (10106, 32), (10168, 31), (10105, 31), (10162, 30), (10151, 26), (11005, 26), (10271, 25), (10041, 19), (10110, 17), (11371, 17), (10045, 17), (10107, 16), (10112, 16), (10119, 16), (10165, 16), (10154, 15), (10178, 15), (10169, 14), (10170, 14), (10172, 13), (10179, 12), (10123, 11), (10171, 10), (10279, 9), (11695, 9), (10158, 8), (10111, 8), (11241, 7), (10152, 7), (11242, 6), (10115, 6), (10174, 6), (10177, 5), (10173, 4), (10048, 4), (10803, 4), (10122, 3), (10167, 3), (10176, 3), (10166, 2), (10080, 1), (10155, 1), (10175, 1)]\n"
     ]
    }
   ],
   "source": [
    "import psycopg2\n",
    "\n",
    "# Connect to the PostgreSQL database\n",
    "conn = psycopg2.connect(\"dbname=final_project user=postgres password=123456\")\n",
    "cur = conn.cursor()\n",
    "\n",
    "# Execute the SQL query\n",
    "query_1 = \"\"\"\n",
    "    SELECT \n",
    "        incident_zip AS zipcode,\n",
    "        COUNT(*) AS number_of_complaints\n",
    "     FROM\n",
    "        (SELECT * FROM complaints311_2022 WHERE created_date >= '2022-10-01'\n",
    "         UNION ALL\n",
    "         SELECT * FROM complaints311_2023 WHERE created_date <= '2023-09-30') AS combined_data\n",
    "    WHERE  \n",
    "        created_date BETWEEN '2022-10-01' AND '2023-09-30'\n",
    "    GROUP BY\n",
    "        incident_zip\n",
    "    ORDER BY\n",
    "        number_of_complaints DESC\n",
    "\"\"\"\n",
    "\n",
    "cur.execute(query_1)\n",
    "result = cur.fetchall()\n",
    "print(result)\n",
    "\n",
    "conn.commit()\n",
    "conn.close()\n",
    "\n",
    "#Save the query to a sql file\n",
    "with open('calm_areas_by_complaints.sql', 'w') as file:\n",
    "    file.write(query_1)"
   ]
  },
  {
   "cell_type": "markdown",
   "id": "831798e0",
   "metadata": {},
   "source": [
    "## 3.2 Query 2: Where has the most greenery?\n"
   ]
  },
  {
   "cell_type": "code",
   "execution_count": 131,
   "id": "6d5f2334",
   "metadata": {
    "ExecuteTime": {
     "end_time": "2023-12-06T15:20:18.308868300Z",
     "start_time": "2023-12-06T15:20:18.137257900Z"
    }
   },
   "outputs": [
    {
     "name": "stdout",
     "output_type": "stream",
     "text": [
      "[(10312, 21356), (10314, 16330), (10306, 12616), (10309, 12105), (11234, 10838), (11385, 10262), (11357, 9016), (11207, 8293), (11208, 7896), (11434, 7833)]\n"
     ]
    }
   ],
   "source": [
    "conn = psycopg2.connect(\"dbname=final_project user=postgres password=123456\")\n",
    "cur = conn.cursor()\n",
    "\n",
    "# Execute the SQL query to find the top 10 zip codes with the most trees\n",
    "query_2 = \"\"\"\n",
    "    SELECT \n",
    "        zipcode,\n",
    "        COUNT(*) AS total_trees\n",
    "    FROM\n",
    "        tree_census_2015\n",
    "    GROUP BY\n",
    "        zipcode\n",
    "    ORDER BY\n",
    "        total_trees DESC\n",
    "    LIMIT 10;\n",
    "\"\"\"\n",
    "\n",
    "cur.execute(query_2)\n",
    "result = cur.fetchall()\n",
    "\n",
    "print(result)\n",
    "\n",
    "conn.commit()\n",
    "conn.close()\n",
    "\n",
    "#Save the query to a sql file\n",
    "with open('top_10_green_zipcodes.sql', 'w') as file:\n",
    "    file.write(query_2)"
   ]
  },
  {
   "cell_type": "code",
   "execution_count": null,
   "id": "95c97ff5",
   "metadata": {},
   "outputs": [],
   "source": []
  },
  {
   "cell_type": "markdown",
   "id": "d1a7210e",
   "metadata": {},
   "source": [
    "## 3.3 Query 3: Can I afford a place in the areas with the most trees?\n"
   ]
  },
  {
   "cell_type": "code",
   "execution_count": 132,
   "id": "b4c56589",
   "metadata": {
    "ExecuteTime": {
     "end_time": "2023-12-06T15:20:24.339259600Z",
     "start_time": "2023-12-06T15:20:24.169752400Z"
    }
   },
   "outputs": [
    {
     "name": "stdout",
     "output_type": "stream",
     "text": [
      "[(10312, 1775.09), (10314, 2465.47), (10306, 2331.54), (10309, 1832.01), (11234, 2312.31), (11385, 3064.48), (11357, 2458.81), (11207, 3079.09), (11208, 2737.55), (11434, 2645.92)]\n"
     ]
    }
   ],
   "source": [
    "conn = psycopg2.connect(\"dbname=final_project user=postgres password=123456\")\n",
    "cur = conn.cursor()\n",
    "\n",
    "# Execute the SQL query to find the average rent for the top 10 zip codes with the most trees\n",
    "query_3 = \"\"\"\n",
    "    WITH TopZipCodes AS (\n",
    "    SELECT \n",
    "        zipcode,\n",
    "        COUNT(*) AS total_trees\n",
    "    FROM \n",
    "        tree_census_2015\n",
    "    GROUP BY \n",
    "        zipcode\n",
    "    ORDER BY \n",
    "        COUNT(*) DESC\n",
    "    LIMIT 10\n",
    "    )\n",
    "    SELECT \n",
    "    TopZipCodes.zipcode,\n",
    "    total_trees,\n",
    "    ROUND(CAST(AVG(zillow_rents.value) AS numeric), 2) AS average_rent\n",
    "    FROM \n",
    "        TopZipCodes\n",
    "    JOIN \n",
    "        zillow_rents ON TopZipCodes.zipcode = zillow_rents.zipcode\n",
    "    WHERE \n",
    "        zillow_rents.date = '2023-08-31'\n",
    "    GROUP BY \n",
    "        TopZipCodes.zipcode, total_trees\n",
    "    ORDER BY \n",
    "        total_trees DESC;\n",
    "\n",
    "\"\"\"\n",
    "\n",
    "cur.execute(query_3)\n",
    "result = cur.fetchall()\n",
    "#Convert Decimal type into python float\n",
    "result = [(zipcode, float(rent)) for zipcode, tree, rent in result]\n",
    "\n",
    "print(result)\n",
    "\n",
    "conn.commit()\n",
    "conn.close()\n",
    "\n",
    "#Save the query to a sql file\n",
    "with open('affordable_green_areas_rent.sql', 'w') as file:\n",
    "    file.write(query_3)"
   ]
  },
  {
   "cell_type": "markdown",
   "id": "f798effb",
   "metadata": {},
   "source": [
    "## 3.4 Query 4: Could there be a correlation between an area’s rent, the number of its trees, and the number of 311 complaints?\n"
   ]
  },
  {
   "cell_type": "code",
   "execution_count": 133,
   "id": "1d839a14",
   "metadata": {
    "ExecuteTime": {
     "end_time": "2023-12-06T15:20:34.823258100Z",
     "start_time": "2023-12-06T15:20:34.513698500Z"
    }
   },
   "outputs": [
    {
     "name": "stdout",
     "output_type": "stream",
     "text": [
      "[(10007, 7270.24, 338, 144), (10282, 7143.35, 230, 22), (10013, 5480.11, 1132, 522), (10069, 4959.67, 112, 27), (10011, 4741.87, 2040, 1109), (10458, 1883.08, 3212, 3314), (11357, 1829.66, 9016, 636), (10453, 1820.23, 2874, 2766), (10462, 1801.89, 4048, 1947), (10309, 1380.51, 12105, 520)]\n"
     ]
    }
   ],
   "source": [
    "conn = psycopg2.connect(\"dbname=final_project user=postgres password=123456\")\n",
    "cur = conn.cursor()\n",
    "\n",
    "# Execute the SQL query to find the 5 zip codes with the lowest and highest average rent for January 2023\n",
    "query_4 = \"\"\"\n",
    "    WITH HighRent AS (\n",
    "    SELECT \n",
    "        zillow_rents.zipcode,\n",
    "        zillow_rents.value AS rent,\n",
    "        RANK() OVER (ORDER BY zillow_rents.value DESC) AS rent_rank\n",
    "    FROM \n",
    "        zillow_rents\n",
    "    WHERE \n",
    "        zillow_rents.date = '2023-01-31' AND zillow_rents.value != 'NaN'\n",
    "    ORDER BY \n",
    "        zillow_rents.value DESC \n",
    "    LIMIT 5\n",
    "    ),\n",
    "    LowRent AS (\n",
    "        SELECT \n",
    "            zillow_rents.zipcode,\n",
    "            zillow_rents.value AS rent,\n",
    "            RANK() OVER (ORDER BY zillow_rents.value) AS rent_rank\n",
    "        FROM \n",
    "            zillow_rents\n",
    "        WHERE \n",
    "            zillow_rents.date = '2023-01-31' AND zillow_rents.value != 'NaN'\n",
    "        ORDER BY \n",
    "            zillow_rents.value\n",
    "        LIMIT 5\n",
    "    ),\n",
    "    TreeCount AS (\n",
    "        SELECT \n",
    "            tree_census_2015.zipcode,\n",
    "            COUNT(*) AS tree_count\n",
    "        FROM \n",
    "            tree_census_2015\n",
    "        GROUP BY \n",
    "            tree_census_2015.zipcode\n",
    "    ),\n",
    "    ComplaintCount AS (\n",
    "        SELECT \n",
    "            complaints311_2023.incident_zip AS zipcode,\n",
    "            COUNT(*) AS complaint_count\n",
    "        FROM \n",
    "            complaints311_2023\n",
    "        WHERE \n",
    "            complaints311_2023.created_date BETWEEN '2023-01-01' AND '2023-01-31'\n",
    "        GROUP BY \n",
    "            complaints311_2023.incident_zip\n",
    "    )\n",
    "    SELECT \n",
    "        combined_rents.zipcode,\n",
    "        combined_rents.rent AS average_rent,\n",
    "        COALESCE(TreeCount.tree_count, 0) AS tree_count,\n",
    "        COALESCE(ComplaintCount.complaint_count, 0) AS complaint_count\n",
    "    FROM \n",
    "        (SELECT * FROM HighRent UNION ALL SELECT * FROM LowRent) AS combined_rents\n",
    "    LEFT JOIN \n",
    "        TreeCount ON combined_rents.zipcode = TreeCount.zipcode\n",
    "    LEFT JOIN \n",
    "        ComplaintCount ON combined_rents.zipcode = ComplaintCount.zipcode\n",
    "    ORDER BY \n",
    "        combined_rents.rent DESC;\n",
    "    \n",
    "\n",
    "\"\"\"\n",
    "\n",
    "cur.execute(query_4)\n",
    "result = cur.fetchall()\n",
    "\n",
    "#Convert rent data into readable format\n",
    "result = [(zipcode, round(rent, 2), tree_count, complaint_count) for zipcode, rent, tree_count, complaint_count in result]\n",
    "\n",
    "\n",
    "# Print or process the result as needed\n",
    "print(result)\n",
    "\n",
    "# Commit the changes (if applicable)\n",
    "conn.commit()\n",
    "\n",
    "# Close the connection\n",
    "conn.close()\n",
    "\n",
    "#Save the query to a sql file\n",
    "with open('rent_trees_complaints_correlation.sql', 'w') as file:\n",
    "    file.write(query_4)"
   ]
  },
  {
   "cell_type": "code",
   "execution_count": null,
   "id": "276e0330",
   "metadata": {},
   "outputs": [],
   "source": []
  },
  {
   "cell_type": "markdown",
   "id": "40f052bd",
   "metadata": {},
   "source": [
    "## 3.5 Query 5: Where has the most greenery (take 2)?\n"
   ]
  },
  {
   "cell_type": "code",
   "execution_count": 134,
   "id": "540d20eb",
   "metadata": {
    "ExecuteTime": {
     "end_time": "2023-12-06T15:22:24.243554500Z",
     "start_time": "2023-12-06T15:20:40.098190900Z"
    }
   },
   "outputs": [
    {
     "name": "stdout",
     "output_type": "stream",
     "text": [
      "[(10312, 21356), (10314, 16330), (10306, 12616), (10309, 12105), (11234, 10838), (11385, 10262), (11357, 9016), (11207, 8294), (11208, 7897), (11434, 7833)]\n"
     ]
    }
   ],
   "source": [
    "conn = psycopg2.connect(\"dbname=final_project user=postgres password=123456\")\n",
    "cur = conn.cursor()\n",
    "\n",
    "# Execute the SQL query to find the top 10 zip codes with the most trees\n",
    "query_5 = \"\"\"\n",
    "    SELECT \n",
    "    nyc_zip_codes.zipcode,\n",
    "    COUNT(tree_census_2015.id) AS total_trees\n",
    "    FROM \n",
    "        tree_census_2015\n",
    "    JOIN \n",
    "        nyc_zip_codes \n",
    "    ON \n",
    "        ST_COntains(nyc_zip_codes.geometry, tree_census_2015.geometry)\n",
    "    GROUP BY \n",
    "        nyc_zip_codes.zipcode\n",
    "    ORDER BY \n",
    "        total_trees DESC\n",
    "    LIMIT 10;\n",
    "\n",
    "\"\"\"\n",
    "\n",
    "cur.execute(query_5)\n",
    "result = cur.fetchall()\n",
    "\n",
    "# Print or process the result as needed\n",
    "print(result)\n",
    "\n",
    "# Commit the changes (if applicable)\n",
    "conn.commit()\n",
    "\n",
    "# Close the connection\n",
    "conn.close()\n",
    "\n",
    "#Save the query to a sql file\n",
    "with open('greenery_distribution_by_zipcode.sql', 'w') as file:\n",
    "    file.write(query_5)"
   ]
  },
  {
   "cell_type": "markdown",
   "id": "a5d5ee24",
   "metadata": {},
   "source": [
    "## 3.6 Query 6: What is the immediate area like?"
   ]
  },
  {
   "cell_type": "code",
   "execution_count": 135,
   "id": "4ce647de",
   "metadata": {
    "ExecuteTime": {
     "end_time": "2023-12-06T15:23:17.063205800Z",
     "start_time": "2023-12-06T15:23:16.256883600Z"
    }
   },
   "outputs": [
    {
     "name": "stdout",
     "output_type": "stream",
     "text": [
      "[(67, 'pin oak', 'Good', 'Alive', 'POINT(-73.9620798 40.80230109)'), (106, 'London planetree', 'Good', 'Alive', 'POINT(-73.96331506 40.80881155)'), (116, 'London planetree', 'Good', 'Alive', 'POINT(-73.96340334 40.80874458)'), (118, 'willow oak', 'Good', 'Alive', 'POINT(-73.96071917 40.80572583)'), (120, 'American elm', 'Fair', 'Alive', 'POINT(-73.96412322 40.81114538)'), (154, 'pin oak', 'Good', 'Alive', 'POINT(-73.96312072 40.80907709)'), (365, 'Norway maple', 'Good', 'Alive', 'POINT(-73.95739877 40.80690345)'), (421, 'Callery pear', 'Fair', 'Alive', 'POINT(-73.95861206 40.80754134)'), (469, 'honeylocust', 'Good', 'Alive', 'POINT(-73.96719944 40.80732247)'), (520, 'pin oak', 'Good', 'Alive', 'POINT(-73.96230577 40.80239611)'), (540, 'honeylocust', 'Good', 'Alive', 'POINT(-73.9654983 40.80929314)'), (673, 'Callery pear', 'Good', 'Alive', 'POINT(-73.96134249 40.80528416)'), (769, 'ginkgo', 'Good', 'Alive', 'POINT(-73.95983152 40.80805619)'), (1123, 'American elm', 'Good', 'Alive', 'POINT(-73.96715782 40.80738644)'), (1179, 'London planetree', 'Good', 'Alive', 'POINT(-73.96052882 40.80361816)'), (1284, 'Japanese zelkova', 'Fair', 'Alive', 'POINT(-73.96208728 40.80521641)'), (1531, 'honeylocust', 'Good', 'Alive', 'POINT(-73.95822529 40.8088019)'), (1604, 'Japanese zelkova', 'Good', 'Alive', 'POINT(-73.95627225 40.80385376)'), (1698, 'ginkgo', 'Fair', 'Alive', 'POINT(-73.95892624 40.80767399)'), (1823, 'pin oak', 'Good', 'Alive', 'POINT(-73.96252446 40.80248808)'), (1904, 'pin oak', 'Good', 'Alive', 'POINT(-73.9617956 40.81089603)'), (2035, 'golden raintree', 'Fair', 'Alive', 'POINT(-73.95427116 40.80900142)'), (2067, 'ginkgo', 'Good', 'Alive', 'POINT(-73.95801583 40.80871253)'), (2233, 'Callery pear', 'Fair', 'Alive', 'POINT(-73.96171282 40.80544227)'), (2289, 'pin oak', 'Fair', 'Alive', 'POINT(-73.96237155 40.81010258)'), (2456, 'pin oak', 'Good', 'Alive', 'POINT(-73.96555738 40.80283627)'), (2631, \"Schumard's oak\", 'Poor', 'Alive', 'POINT(-73.96312927 40.80256195)'), (2835, 'pin oak', 'Good', 'Alive', 'POINT(-73.96193064 40.80223836)'), (2986, 'green ash', 'Fair', 'Alive', 'POINT(-73.96766169 40.80656601)'), (3058, 'Japanese zelkova', 'Good', 'Alive', 'POINT(-73.9568291 40.80408682)'), (3075, 'ginkgo', 'Fair', 'Alive', 'POINT(-73.95882551 40.80763146)'), (3211, 'ginkgo', 'Poor', 'Alive', 'POINT(-73.95972638 40.8080118)'), (3303, 'pin oak', 'Good', 'Alive', 'POINT(-73.96241701 40.80244289)'), (3306, 'pin oak', 'Good', 'Alive', 'POINT(-73.96307592 40.80919195)'), (3552, 'pin oak', 'Good', 'Alive', 'POINT(-73.9630763 40.80913778)'), (3575, 'Japanese zelkova', 'Good', 'Alive', 'POINT(-73.95672722 40.80404418)'), (3617, 'ginkgo', 'Fair', 'Alive', 'POINT(-73.95850941 40.8089231)'), (3618, 'ginkgo', 'Fair', 'Alive', 'POINT(-73.95837743 40.8088668)'), (3709, 'honeylocust', 'Good', 'Alive', 'POINT(-73.96564723 40.80908661)'), (3710, 'honeylocust', 'Good', 'Alive', 'POINT(-73.96569063 40.80902644)'), (3712, 'ginkgo', 'Good', 'Alive', 'POINT(-73.95927989 40.8078233)'), (3794, 'pin oak', 'Good', 'Alive', 'POINT(-73.96234526 40.81019253)'), (3811, 'northern red oak', 'Good', 'Alive', 'POINT(-73.95925026 40.8063837)'), (3826, 'London planetree', 'Good', 'Alive', 'POINT(-73.96042285 40.80392477)'), (3892, 'London planetree', 'Fair', 'Alive', 'POINT(-73.96331506 40.80881155)'), (3893, 'London planetree', 'Good', 'Alive', 'POINT(-73.96337335 40.80873191)'), (3923, 'Callery pear', 'Poor', 'Alive', 'POINT(-73.96158371 40.80538715)'), (3992, 'pin oak', 'Good', 'Alive', 'POINT(-73.96278614 40.80259812)'), (3995, 'London planetree', 'Good', 'Alive', 'POINT(-73.96049331 40.80372089)'), (4059, 'Sophora', 'Fair', 'Alive', 'POINT(-73.96778354 40.80634619)'), (4060, 'pin oak', 'Good', 'Alive', 'POINT(-73.96233482 40.81015301)'), (4313, 'pin oak', 'Fair', 'Alive', 'POINT(-73.96171153 40.81106551)'), (4408, 'Japanese tree lilac', 'Good', 'Alive', 'POINT(-73.96750159 40.80441608)'), (4436, 'pin oak', 'Fair', 'Alive', 'POINT(-73.96545669 40.80279369)'), (4460, 'pin oak', 'Good', 'Alive', 'POINT(-73.96178527 40.81096414)'), (4891, 'London planetree', 'Good', 'Alive', 'POINT(-73.96045753 40.80382443)'), (5130, 'black locust', 'Fair', 'Alive', 'POINT(-73.96329637 40.80852122)'), (5172, 'London planetree', 'Good', 'Alive', 'POINT(-73.96096912 40.80234416)'), (5280, 'honeylocust', 'Good', 'Alive', 'POINT(-73.96502208 40.80260991)'), (5340, 'green ash', 'Fair', 'Alive', 'POINT(-73.96633015 40.80838469)'), (5461, 'honeylocust', 'Good', 'Alive', 'POINT(-73.96485891 40.80254091)'), (5485, 'London planetree', 'Good', 'Alive', 'POINT(-73.96103563 40.8021517)'), (5608, 'London planetree', 'Good', 'Alive', 'POINT(-73.96106765 40.80205905)'), (5678, 'magnolia', 'Good', 'Alive', 'POINT(-73.9565131 40.80324293)'), (5711, 'Japanese zelkova', 'Good', 'Alive', 'POINT(-73.95997285 40.80083357)'), (5713, 'northern red oak', 'Good', 'Alive', 'POINT(-73.95930941 40.80630254)'), (5714, 'northern red oak', 'Good', 'Alive', 'POINT(-73.95919495 40.80645957)'), (5740, 'pin oak', 'Good', 'Alive', 'POINT(-73.9631618 40.80902096)'), (5761, 'Japanese zelkova', 'Good', 'Alive', 'POINT(-73.95644563 40.80392633)'), (5762, 'Japanese zelkova', 'Good', 'Alive', 'POINT(-73.95654498 40.80396791)'), (5785, 'honeylocust', 'Good', 'Alive', 'POINT(-73.96587679 40.80297134)'), (5831, 'northern red oak', 'Good', 'Alive', 'POINT(-73.95916643 40.80649871)'), (5840, 'Japanese zelkova', 'Good', 'Alive', 'POINT(-73.95664496 40.80400975)'), (5928, 'honeylocust', 'Good', 'Alive', 'POINT(-73.96579157 40.8029353)'), (5985, 'honeylocust', 'Good', 'Alive', 'POINT(-73.96536485 40.80275485)'), (5986, 'honeylocust', 'Good', 'Alive', 'POINT(-73.9651215 40.80265195)'), (6010, 'pin oak', 'Good', 'Alive', 'POINT(-73.96324955 40.80895471)'), (6041, 'Japanese zelkova', 'Good', 'Alive', 'POINT(-73.96007335 40.80069671)'), (6152, 'pin oak', 'Good', 'Alive', 'POINT(-73.96225554 40.81031573)'), (6625, 'northern red oak', 'Good', 'Alive', 'POINT(-73.95913037 40.80654817)'), (6730, 'northern red oak', 'Good', 'Alive', 'POINT(-73.96452656 40.80240036)'), (6784, 'pin oak', 'Fair', 'Alive', 'POINT(-73.96496366 40.80660709)'), (6882, 'northern red oak', 'Good', 'Alive', 'POINT(-73.96177571 40.80124342)'), (6989, 'northern red oak', 'Good', 'Alive', 'POINT(-73.95908312 40.806613)'), (7141, 'honeylocust', 'Good', 'Alive', 'POINT(-73.96564922 40.80287511)'), (7235, 'pin oak', 'Poor', 'Alive', 'POINT(-73.96268071 40.80973254)'), (7263, 'pin oak', 'Good', 'Alive', 'POINT(-73.96510628 40.80635804)'), (7320, 'pin oak', 'Good', 'Alive', 'POINT(-73.96137902 40.81143414)'), (7435, 'pin oak', 'Fair', 'Alive', 'POINT(-73.96493365 40.80659444)'), (7448, 'honeylocust', 'Good', 'Alive', 'POINT(-73.9626066 40.80159331)'), (7466, 'honeylocust', 'Good', 'Alive', 'POINT(-73.96318229 40.80407594)'), (7519, 'honeylocust', 'Good', 'Alive', 'POINT(-73.96322643 40.80401577)'), (7633, 'honeylocust', 'Good', 'Alive', 'POINT(-73.96268622 40.80162683)'), (7634, 'American linden', 'Good', 'Alive', 'POINT(-73.9628445 40.80169348)'), (7648, 'willow oak', 'Fair', 'Alive', 'POINT(-73.958356 40.80760658)'), (7836, 'American linden', 'Poor', 'Alive', 'POINT(-73.96212892 40.80139215)'), (8025, 'white oak', 'Good', 'Alive', 'POINT(-73.9634834 40.8086352)'), (8357, 'London planetree', 'Good', 'Alive', 'POINT(-73.96110041 40.80196427)'), (8390, 'Callery pear', 'Good', 'Alive', 'POINT(-73.96317528 40.80183277)'), (8619, 'London planetree', 'Good', 'Alive', 'POINT(-73.96590138 40.8052723)'), (8620, 'London planetree', 'Good', 'Alive', 'POINT(-73.96593682 40.80522321)'), (8749, 'pin oak', 'Good', 'Alive', 'POINT(-73.96127236 40.81158252)'), (9053, 'London planetree', 'Fair', 'Alive', 'POINT(-73.9659669 40.80523575)'), (9184, 'American elm', 'Good', 'Alive', 'POINT(-73.95617734 40.80381403)'), (9185, 'American elm', 'Good', 'Alive', 'POINT(-73.95700881 40.80416204)'), (9228, 'Japanese zelkova', 'Good', 'Alive', 'POINT(-73.95486513 40.80337213)'), (9229, 'Japanese zelkova', 'Good', 'Alive', 'POINT(-73.95523023 40.80352608)'), (9304, 'northern red oak', 'Good', 'Alive', 'POINT(-73.95903674 40.80667663)'), (9306, 'Chinese elm', 'Good', 'Alive', 'POINT(-73.96486956 40.81015708)'), (9448, 'Chinese elm', 'Good', 'Alive', 'POINT(-73.95543332 40.80361172)'), (9468, 'northern red oak', 'Good', 'Alive', 'POINT(-73.96515907 40.80633949)'), (9570, 'Chinese elm', 'Good', 'Alive', 'POINT(-73.95470532 40.80330474)'), (9571, 'Japanese zelkova', 'Good', 'Alive', 'POINT(-73.95495862 40.80341155)'), (9624, 'Chinese elm', 'Good', 'Alive', 'POINT(-73.9649539 40.81004134)'), (9764, 'Chinese elm', 'Fair', 'Alive', 'POINT(-73.96470124 40.81038808)'), (10096, 'honeylocust', 'Good', 'Alive', 'POINT(-73.95740932 40.80176592)'), (10114, 'honeylocust', 'Good', 'Alive', 'POINT(-73.96741828 40.80347733)'), (10124, 'ginkgo', 'Good', 'Alive', 'POINT(-73.96857522 40.80328259)'), (10135, 'crab apple', 'Fair', 'Alive', 'POINT(-73.96260947 40.80982869)'), (10174, 'honeylocust', 'Good', 'Alive', 'POINT(-73.96300373 40.80176053)'), (10180, 'honeylocust', 'Good', 'Alive', 'POINT(-73.96745978 40.80342043)'), (10197, 'crab apple', 'Good', 'Alive', 'POINT(-73.96525108 40.80621349)'), (10199, 'honeylocust', 'Good', 'Alive', 'POINT(-73.96809468 40.8030808)'), (10216, 'honeylocust', 'Good', 'Alive', 'POINT(-73.96750146 40.8033633)'), (10310, 'honeylocust', 'Good', 'Alive', 'POINT(-73.96522509 40.80967202)'), (10380, 'Chinese elm', 'Good', 'Alive', 'POINT(-73.95555965 40.80366499)'), (10439, 'honeylocust', 'Good', 'Alive', 'POINT(-73.96891064 40.80342344)'), (10522, 'crab apple', 'Good', 'Alive', 'POINT(-73.96522107 40.80620083)'), (10589, 'honeylocust', 'Fair', 'Alive', 'POINT(-73.95415551 40.80400072)'), (10590, 'honeylocust', 'Good', 'Alive', 'POINT(-73.95440708 40.80410707)'), (10617, 'Callery pear', 'Good', 'Alive', 'POINT(-73.96252667 40.80155965)'), (10624, 'crab apple', 'Good', 'Alive', 'POINT(-73.96124967 40.81161408)'), (10645, 'pin oak', 'Good', 'Alive', 'POINT(-73.96128605 40.81150908)'), (10651, 'ginkgo', 'Good', 'Alive', 'POINT(-73.96816644 40.80311093)'), (10652, 'ginkgo', 'Good', 'Alive', 'POINT(-73.96844939 40.80322975)'), (10653, 'crab apple', 'Poor', 'Alive', 'POINT(-73.96261324 40.80977045)'), (10679, 'honeylocust', 'Good', 'Alive', 'POINT(-73.96544067 40.80937306)'), (10692, 'honeylocust', 'Good', 'Alive', 'POINT(-73.96517857 40.80973653)'), (10704, 'honeylocust', 'Good', 'Alive', 'POINT(-73.96534763 40.80950208)'), (10707, 'ginkgo', 'Fair', 'Alive', 'POINT(-73.96797644 40.80303115)'), (10719, 'crab apple', 'Poor', 'Alive', 'POINT(-73.96262666 40.80980549)'), (10732, 'honeylocust', 'Good', 'Alive', 'POINT(-73.95745741 40.80170019)'), (10774, 'Callery pear', 'Good', 'Alive', 'POINT(-73.96239903 40.8015059)'), (10850, 'pin oak', 'Good', 'Alive', 'POINT(-73.96277025 40.80955855)'), (10886, 'pin oak', 'Good', 'Alive', 'POINT(-73.96132709 40.81145199)'), (10905, 'pin oak', 'Good', 'Alive', 'POINT(-73.96515307 40.80629396)'), (10957, 'Callery pear', 'Good', 'Alive', 'POINT(-73.96227077 40.80145189)'), (11176, 'London planetree', 'Poor', 'Alive', 'POINT(-73.96607025 40.80509256)'), (11187, 'crab apple', 'Poor', 'Alive', 'POINT(-73.96264314 40.80978325)'), (11253, 'London planetree', 'Good', 'Alive', 'POINT(-73.96610409 40.80499146)'), (11266, 'pin oak', 'Fair', 'Alive', 'POINT(-73.96184226 40.81083189)'), (11272, 'pin oak', 'Good', 'Alive', 'POINT(-73.96273175 40.80966366)'), (11298, 'pin oak', 'Good', 'Alive', 'POINT(-73.96190884 40.81074037)'), (11328, 'pin oak', 'Good', 'Alive', 'POINT(-73.96502255 40.80652645)'), (11332, 'pin oak', 'Good', 'Alive', 'POINT(-73.96263752 40.80973769)'), (11379, 'Callery pear', 'Fair', 'Alive', 'POINT(-73.95792265 40.8037238)'), (11444, 'London planetree', 'Fair', 'Alive', 'POINT(-73.96307414 40.80882617)'), (11477, 'London planetree', 'Fair', 'Alive', 'POINT(-73.96606101 40.80505114)'), (11485, 'Japanese zelkova', 'Good', 'Alive', 'POINT(-73.95535973 40.80358069)'), (11564, 'pin oak', 'Poor', 'Alive', 'POINT(-73.96268749 40.80967024)'), (11598, 'American elm', 'Good', 'Alive', 'POINT(-73.95607926 40.80377298)'), (11599, 'American elm', 'Poor', 'Alive', 'POINT(-73.96192009 40.80130422)'), (11686, 'London planetree', 'Fair', 'Alive', 'POINT(-73.96602735 40.805152)'), (11693, 'pin oak', 'Fair', 'Alive', 'POINT(-73.96277535 40.80960482)'), (11779, 'pin oak', 'Fair', 'Alive', 'POINT(-73.96189291 40.81081616)'), (12016, 'northern red oak', 'Good', 'Alive', 'POINT(-73.96511473 40.80640021)'), (12054, 'pin oak', 'Good', 'Alive', 'POINT(-73.96281509 40.80949803)'), (12167, 'London planetree', 'Poor', 'Alive', 'POINT(-73.96611038 40.80503697)'), (12288, 'crab apple', 'Poor', 'Alive', 'POINT(-73.96125695 40.81160396)'), (12291, 'honeylocust', 'Good', 'Alive', 'POINT(-73.96539242 40.80943997)'), (12328, 'American elm', 'Good', 'Alive', 'POINT(-73.96031734 40.80423795)'), (12373, 'crab apple', 'Good', 'Alive', 'POINT(-73.96522742 40.80624589)'), (12441, 'ginkgo', 'Fair', 'Alive', 'POINT(-73.96453698 40.80681876)'), (12461, 'crab apple', 'Poor', 'Alive', 'POINT(-73.96260947 40.80982869)'), (12508, 'ginkgo', 'Good', 'Alive', 'POINT(-73.96878166 40.80336928)'), (12563, 'ginkgo', 'Fair', 'Alive', 'POINT(-73.96445999 40.80692442)'), (12564, 'ginkgo', 'Fair', 'Alive', 'POINT(-73.96434625 40.8070805)'), (12584, 'honeylocust', 'Good', 'Alive', 'POINT(-73.9548856 40.80430936)'), (12698, 'dawn redwood', 'Fair', 'Alive', 'POINT(-73.96318663 40.80030239)'), (12704, 'ginkgo', 'Good', 'Alive', 'POINT(-73.95839117 40.80086888)'), (12719, 'London planetree', 'Fair', 'Alive', 'POINT(-73.96343231 40.808705)'), (12727, 'American elm', 'Good', 'Alive', 'POINT(-73.9603697 40.80408268)'), (12757, 'American elm', 'Good', 'Alive', 'POINT(-73.96021091 40.80455355)'), (12761, 'American elm', 'Fair', 'Alive', 'POINT(-73.96768848 40.80310691)'), (12765, 'American elm', 'Good', 'Alive', 'POINT(-73.95456553 40.80417406)'), (12776, 'honeylocust', 'Fair', 'Alive', 'POINT(-73.95717327 40.80208764)'), (12827, 'northern red oak', 'Good', 'Alive', 'POINT(-73.96130804 40.81147849)'), (12864, 'crab apple', 'Good', 'Alive', 'POINT(-73.96542253 40.80592569)'), (12865, 'crab apple', 'Good', 'Alive', 'POINT(-73.96546726 40.80591818)'), (12892, 'London planetree', 'Fair', 'Alive', 'POINT(-73.95806787 40.80378049)'), (12921, 'American elm', 'Good', 'Alive', 'POINT(-73.96026426 40.80439535)'), (12940, 'ginkgo', 'Poor', 'Alive', 'POINT(-73.96411003 40.80740466)'), (13234, 'American elm', 'Good', 'Alive', 'POINT(-73.96029044 40.80431772)'), (13288, 'American elm', 'Good', 'Alive', 'POINT(-73.95471578 40.80423757)'), (13315, 'American elm', 'Good', 'Alive', 'POINT(-73.96763927 40.80317437)'), (13449, 'green ash', 'Good', 'Alive', 'POINT(-73.96791598 40.80609322)'), (13523, 'green ash', 'Fair', 'Alive', 'POINT(-73.95793759 40.80455495)'), (13846, 'Callery pear', 'Good', 'Alive', 'POINT(-73.95872645 40.80710234)'), (13853, 'Callery pear', 'Fair', 'Alive', 'POINT(-73.96393505 40.80764478)'), (13862, 'Callery pear', 'Good', 'Alive', 'POINT(-73.95865644 40.80719838)'), (14006, 'Callery pear', 'Fair', 'Alive', 'POINT(-73.96388081 40.80771922)'), (14238, 'Sophora', 'Good', 'Alive', 'POINT(-73.96902175 40.80276141)'), (14377, 'ginkgo', 'Poor', 'Alive', 'POINT(-73.96441449 40.80698685)'), (14636, 'sweetgum', 'Poor', 'Alive', 'POINT(-73.96706368 40.80721344)'), (14762, 'common hackberry', 'Fair', 'Alive', 'POINT(-73.96219406 40.80481916)'), (14883, 'Sophora', 'Good', 'Alive', 'POINT(-73.95760107 40.80205878)'), (15115, 'black maple', 'Good', 'Alive', 'POINT(-73.95607858 40.81047273)'), (15131, 'honeylocust', 'Good', 'Alive', 'POINT(-73.96875721 40.80264963)'), (15405, 'common hackberry', 'Poor', 'Alive', 'POINT(-73.96105405 40.80433701)'), (15411, 'Japanese zelkova', 'Good', 'Alive', 'POINT(-73.9575928 40.80383519)'), (15461, 'paper birch', 'Fair', 'Alive', 'POINT(-73.95424817 40.81051518)'), (15462, 'paper birch', 'Good', 'Alive', 'POINT(-73.95431476 40.81054278)'), (15473, 'common hackberry', 'Poor', 'Alive', 'POINT(-73.96211389 40.80478525)'), (15474, 'common hackberry', 'Fair', 'Alive', 'POINT(-73.96070183 40.80418803)'), (15548, 'Sophora', 'Good', 'Alive', 'POINT(-73.95812198 40.80875782)'), (15610, 'red maple', 'Fair', 'Alive', 'POINT(-73.95871626 40.80758534)'), (15614, 'pin oak', 'Good', 'Alive', 'POINT(-73.96329537 40.8088921)'), (15702, 'magnolia', 'Good', 'Alive', 'POINT(-73.96589343 40.80533754)'), (15727, 'shingle oak', 'Fair', 'Alive', 'POINT(-73.95577149 40.8040129)'), (15790, 'Sophora', 'Fair', 'Alive', 'POINT(-73.95505518 40.80417799)'), (15988, 'London planetree', 'Fair', 'Alive', 'POINT(-73.95750449 40.80422212)'), (15989, 'willow oak', 'Fair', 'Alive', 'POINT(-73.96275741 40.80926079)'), (16005, 'littleleaf linden', 'Good', 'Alive', 'POINT(-73.96827804 40.8031578)'), (16132, 'willow oak', 'Good', 'Alive', 'POINT(-73.96257017 40.80951771)'), (16157, 'London planetree', 'Fair', 'Alive', 'POINT(-73.95757935 40.80411777)'), (16159, 'willow oak', 'Fair', 'Alive', 'POINT(-73.96284315 40.80914313)'), (16160, 'willow oak', 'Fair', 'Alive', 'POINT(-73.96268216 40.80936404)'), (16196, 'willow oak', 'Fair', 'Alive', 'POINT(-73.9629009 40.80906389)'), (16577, 'honeylocust', 'Good', 'Alive', 'POINT(-73.96560453 40.80914583)'), (16667, 'purple-leaf plum', 'Poor', 'Alive', 'POINT(-73.96142059 40.81132191)'), (16682, 'ginkgo', 'Fair', 'Alive', 'POINT(-73.95830106 40.80089816)'), (16696, 'cherry', 'Good', 'Alive', 'POINT(-73.96122768 40.81164467)'), (16737, 'London planetree', 'Fair', 'Alive', 'POINT(-73.9573557 40.80415897)'), (16901, 'purple-leaf plum', 'Good', 'Alive', 'POINT(-73.96146422 40.81131562)'), (16928, 'purple-leaf plum', 'Good', 'Alive', 'POINT(-73.9614341 40.81130312)'), (16941, 'purple-leaf plum', 'Good', 'Alive', 'POINT(-73.96145625 40.8113267)'), (16950, 'honeylocust', 'Good', 'Alive', 'POINT(-73.9545702 40.80397435)'), (16959, 'honeylocust', 'Good', 'Alive', 'POINT(-73.96866061 40.80260881)'), (17015, 'honeylocust', 'Good', 'Alive', 'POINT(-73.96936237 40.80290533)'), (17096, 'honeylocust', 'Good', 'Alive', 'POINT(-73.95741629 40.80407623)'), (17112, 'honeylocust', 'Fair', 'Alive', 'POINT(-73.95710903 40.80217513)'), (17113, 'honeylocust', 'Fair', 'Alive', 'POINT(-73.95693548 40.80241145)'), (17125, 'honeylocust', 'Good', 'Alive', 'POINT(-73.95479246 40.80406767)'), (17195, 'crab apple', 'Good', 'Alive', 'POINT(-73.96545254 40.80593834)'), (17239, 'honeylocust', 'Good', 'Alive', 'POINT(-73.95710786 40.8025625)'), (17344, 'American elm', 'Fair', 'Alive', 'POINT(-73.96427309 40.81094364)'), (17383, 'honeylocust', 'Good', 'Alive', 'POINT(-73.95734324 40.8026616)'), (17407, 'American linden', 'Fair', 'Alive', 'POINT(-73.95788794 40.80218015)'), (17490, 'honeylocust', 'Good', 'Alive', 'POINT(-73.95699539 40.80251515)'), (17491, 'honeylocust', 'Good', 'Alive', 'POINT(-73.95712953 40.80447258)'), (17542, 'honeylocust', 'Good', 'Alive', 'POINT(-73.96836166 40.8024825)'), (17546, 'honeylocust', 'Good', 'Alive', 'POINT(-73.95469982 40.80402878)'), (17608, 'pin oak', 'Good', 'Alive', 'POINT(-73.95449464 40.80394262)'), (17698, 'American linden', 'Good', 'Alive', 'POINT(-73.95833386 40.8023688)'), (17711, 'honeylocust', 'Good', 'Alive', 'POINT(-73.95488793 40.80410776)'), (18254, 'honeylocust', 'Fair', 'Alive', 'POINT(-73.95720265 40.80260241)'), (18348, 'American linden', 'Good', 'Alive', 'POINT(-73.95814135 40.80228736)'), (18461, 'London planetree', 'Poor', 'Alive', 'POINT(-73.95797804 40.80357125)'), (18464, 'London planetree', 'Good', 'Alive', 'POINT(-73.95814093 40.80361378)'), (18513, 'honeylocust', 'Good', 'Alive', 'POINT(-73.95704572 40.80458728)'), (18563, 'common hackberry', 'Fair', 'Alive', 'POINT(-73.96051435 40.80410874)'), (18666, 'Sophora', 'Good', 'Alive', 'POINT(-73.95784417 40.8086393)'), (18671, 'Sophora', 'Good', 'Alive', 'POINT(-73.9576806 40.80209243)'), (18807, 'honeylocust', 'Good', 'Alive', 'POINT(-73.96221391 40.80071455)'), (18914, 'magnolia', 'Good', 'Alive', 'POINT(-73.95690633 40.80340872)'), (18915, 'magnolia', 'Fair', 'Alive', 'POINT(-73.9572446 40.80355134)'), (19354, 'magnolia', 'Good', 'Alive', 'POINT(-73.96617586 40.80494624)'), (19405, 'Callery pear', 'Good', 'Alive', 'POINT(-73.9587926 40.80701158)'), (19636, 'black locust', 'Fair', 'Alive', 'POINT(-73.95903643 40.8085443)'), (19669, 'Callery pear', 'Good', 'Alive', 'POINT(-73.95792224 40.80383829)'), (19800, 'silver linden', 'Fair', 'Alive', 'POINT(-73.95814007 40.80299708)'), (19879, 'Callery pear', 'Good', 'Alive', 'POINT(-73.95800388 40.80387244)'), (19981, 'Callery pear', 'Good', 'Alive', 'POINT(-73.96320561 40.80184554)'), (20534, 'pin oak', 'Fair', 'Alive', 'POINT(-73.9646534 40.80698045)'), (21052, 'silver linden', 'Good', 'Alive', 'POINT(-73.95793312 40.80290995)'), (21158, 'crab apple', 'Good', 'Alive', 'POINT(-73.96571156 40.80558361)'), (21209, 'honeylocust', 'Good', 'Alive', 'POINT(-73.96366257 40.80132547)'), (21671, 'pin oak', 'Good', 'Alive', 'POINT(-73.96466592 40.80701751)'), (21755, 'Kentucky coffeetree', 'Fair', 'Alive', 'POINT(-73.95872391 40.80901462)'), (21865, 'Sophora', 'Good', 'Alive', 'POINT(-73.96894251 40.80272793)'), (21995, 'Sophora', 'Good', 'Alive', 'POINT(-73.9572428 40.80199297)'), (22061, 'pin oak', 'Good', 'Alive', 'POINT(-73.96461143 40.80703903)'), (22089, 'Callery pear', 'Good', 'Alive', 'POINT(-73.95729851 40.80450149)'), (22515, 'common hackberry', 'Good', 'Alive', 'POINT(-73.95752313 40.80438033)'), (22571, 'cherry', 'Good', 'Alive', 'POINT(-73.96275225 40.80165464)'), (22700, 'green ash', 'Fair', 'Alive', 'POINT(-73.9577948 40.80449479)'), (22827, 'green ash', 'Good', 'Alive', 'POINT(-73.96692235 40.80772711)'), (22895, 'Japanese zelkova', 'Good', 'Alive', 'POINT(-73.96454702 40.801845)'), (22962, 'white ash', 'Poor', 'Alive', 'POINT(-73.9666772 40.80805502)'), (22974, 'hardy rubber tree', 'Fair', 'Alive', 'POINT(-73.9634945 40.80111719)'), (23079, 'London planetree', 'Fair', 'Alive', 'POINT(-73.96352187 40.80852897)'), (23151, 'London planetree', 'Fair', 'Alive', 'POINT(-73.96357715 40.8085071)'), (23152, 'London planetree', 'Fair', 'Alive', 'POINT(-73.9636093 40.80840951)'), (23186, 'London planetree', 'Fair', 'Alive', 'POINT(-73.96361507 40.80845529)'), (23218, 'London planetree', 'Poor', 'Alive', 'POINT(-73.96347342 40.80859518)'), (23497, 'London planetree', 'Fair', 'Alive', 'POINT(-73.96352729 40.80857523)'), (23506, 'London planetree', 'Fair', 'Alive', 'POINT(-73.96635636 40.80466251)'), (23547, 'London planetree', 'Fair', 'Alive', 'POINT(-73.96651028 40.80449908)'), (23614, 'crab apple', 'Good', 'Alive', 'POINT(-73.96545075 40.80588705)'), (23648, 'London planetree', 'Fair', 'Alive', 'POINT(-73.9663667 40.80470312)'), (23649, 'London planetree', 'Fair', 'Alive', 'POINT(-73.96641785 40.80457513)'), (23720, 'ginkgo', 'Good', 'Alive', 'POINT(-73.95907904 40.80104493)'), (23743, 'ginkgo', 'Good', 'Alive', 'POINT(-73.95859419 40.8008287)'), (23767, 'ginkgo', 'Good', 'Alive', 'POINT(-73.95931261 40.80114253)'), (23878, 'crab apple', 'Poor', 'Alive', 'POINT(-73.96243463 40.81006981)'), (24068, 'crab apple', 'Good', 'Alive', 'POINT(-73.96569789 40.80560233)'), (24088, 'ginkgo', 'Fair', 'Alive', 'POINT(-73.95892016 40.80097854)'), (24089, 'ginkgo', 'Good', 'Alive', 'POINT(-73.95925596 40.80111886)'), (24173, 'green ash', 'Fair', 'Alive', 'POINT(-73.95801656 40.80458822)'), (24340, 'honeylocust', 'Fair', 'Alive', 'POINT(-73.95425904 40.80404449)'), (24543, 'ginkgo', 'Good', 'Alive', 'POINT(-73.95864732 40.80085549)'), (24544, 'ginkgo', 'Fair', 'Alive', 'POINT(-73.95883977 40.80094494)'), (24612, 'maple', 'Poor', 'Alive', 'POINT(-73.96167834 40.80460104)'), (24814, 'common hackberry', 'Fair', 'Alive', 'POINT(-73.96080598 40.80423208)'), (24895, 'Sophora', 'Fair', 'Alive', 'POINT(-73.96513656 40.80979478)'), (24896, 'Sophora', 'Good', 'Alive', 'POINT(-73.95701187 40.80230743)'), (25064, 'Sophora', 'Good', 'Alive', 'POINT(-73.96461106 40.80212197)'), (25065, 'Sophora', 'Good', 'Alive', 'POINT(-73.96451193 40.80225815)'), (25237, 'sawtooth oak', 'Fair', 'Alive', 'POINT(-73.96295339 40.80899185)'), (25351, 'Sophora', 'Good', 'Alive', 'POINT(-73.96469673 40.80200429)'), (25370, 'pin oak', 'Good', 'Alive', 'POINT(-73.96550354 40.8058685)'), (25371, 'pin oak', 'Good', 'Alive', 'POINT(-73.96554752 40.80580826)'), (25500, 'Sophora', 'Fair', 'Alive', 'POINT(-73.96475879 40.80191902)'), (25521, 'cherry', 'Good', 'Alive', 'POINT(-73.96652993 40.80441587)'), (25773, 'Sophora', 'Good', 'Alive', 'POINT(-73.96440274 40.80204029)'), (25913, 'common hackberry', 'Good', 'Alive', 'POINT(-73.96473929 40.80249032)'), (26425, 'pin oak', 'Good', 'Alive', 'POINT(-73.96561324 40.80571825)'), (26586, 'Sophora', 'Good', 'Alive', 'POINT(-73.96455582 40.80219787)'), (26616, 'purple-leaf plum', 'Fair', 'Alive', 'POINT(-73.96649172 40.80452546)'), (26660, 'cherry', 'Good', 'Alive', 'POINT(-73.96657024 40.80441388)'), (26805, \"Schumard's oak\", 'Good', 'Alive', 'POINT(-73.9633269 40.80264431)'), (26902, 'black locust', 'Poor', 'Alive', 'POINT(-73.96315113 40.80872052)'), (26956, 'common hackberry', 'Good', 'Alive', 'POINT(-73.96060399 40.80414665)'), (27083, 'pin oak', 'Good', 'Alive', 'POINT(-73.95665182 40.80485098)'), (27121, 'London planetree', 'Fair', 'Alive', 'POINT(-73.96653924 40.80445793)'), (27256, 'London planetree', 'Fair', 'Alive', 'POINT(-73.96646872 40.80455814)'), (27553, 'London planetree', 'Fair', 'Alive', 'POINT(-73.96365635 40.80834523)'), (27756, 'London planetree', 'Good', 'Alive', 'POINT(-73.95643113 40.80496262)'), (27878, 'crab apple', 'Fair', 'Alive', 'POINT(-73.96244968 40.81004916)'), (27906, 'ginkgo', 'Poor', 'Alive', 'POINT(-73.95920121 40.80109598)'), (28081, 'crab apple', 'Good', 'Alive', 'POINT(-73.96572716 40.80556225)'), (28291, 'Japanese tree lilac', 'Good', 'Alive', 'POINT(-73.96741334 40.80437853)'), (28307, 'crab apple', 'Poor', 'Alive', 'POINT(-73.96242694 40.81008038)'), (28596, 'crab apple', 'Good', 'Alive', 'POINT(-73.96569715 40.8055496)'), (29149, 'green ash', 'Good', 'Alive', 'POINT(-73.96232287 40.8007605)'), (29173, 'Callery pear', 'Good', 'Alive', 'POINT(-73.96330734 40.80188838)'), (29900, 'American elm', 'Good', 'Alive', 'POINT(-73.96067732 40.80174954)'), (30057, 'willow oak', 'Good', 'Alive', 'POINT(-73.9603049 40.80156214)'), (30058, 'American elm', 'Fair', 'Alive', 'POINT(-73.95972678 40.8013474)'), (30101, 'honeylocust', 'Good', 'Alive', 'POINT(-73.96450812 40.80189765)'), (30197, 'Callery pear', 'Good', 'Alive', 'POINT(-73.96339011 40.80192323)'), (30234, 'crab apple', 'Good', 'Alive', 'POINT(-73.96241965 40.81003654)'), (30263, 'American elm', 'Good', 'Alive', 'POINT(-73.95980694 40.80138131)'), (30368, 'willow oak', 'Fair', 'Alive', 'POINT(-73.96078837 40.80176667)'), (30392, 'American elm', 'Good', 'Alive', 'POINT(-73.96016513 40.80153285)'), (30405, 'willow oak', 'Good', 'Alive', 'POINT(-73.96038064 40.80159418)'), (30455, 'pin oak', 'Good', 'Alive', 'POINT(-73.9561496 40.80484411)'), (30764, 'pin oak', 'Good', 'Alive', 'POINT(-73.96564913 40.80561536)'), (31054, 'magnolia', 'Good', 'Alive', 'POINT(-73.95661512 40.80328595)'), (31093, 'pin oak', 'Good', 'Alive', 'POINT(-73.96469677 40.80691995)'), (31139, 'shingle oak', 'Good', 'Alive', 'POINT(-73.9557357 40.80406216)'), (31199, 'pin oak', 'Good', 'Alive', 'POINT(-73.96565583 40.80565993)'), (31538, 'pin oak', 'Good', 'Alive', 'POINT(-73.95595876 40.80476377)'), (31612, 'pin oak', 'Good', 'Alive', 'POINT(-73.95560488 40.8046148)'), (31651, 'American elm', 'Good', 'Alive', 'POINT(-73.96042612 40.80164326)'), (31696, 'American elm', 'Good', 'Alive', 'POINT(-73.96004773 40.80148318)'), (31697, 'American elm', 'Good', 'Alive', 'POINT(-73.95994706 40.80144059)'), (31810, 'pin oak', 'Good', 'Alive', 'POINT(-73.96474625 40.80690542)'), (32274, 'Japanese tree lilac', 'Good', 'Alive', 'POINT(-73.9673648 40.80435788)'), (32350, 'American elm', 'Good', 'Alive', 'POINT(-73.96055266 40.8016968)'), (32360, 'willow oak', 'Fair', 'Alive', 'POINT(-73.95600737 40.80457947)'), (32398, 'willow oak', 'Poor', 'Alive', 'POINT(-73.96070411 40.80173103)'), (32548, 'willow oak', 'Poor', 'Alive', 'POINT(-73.96063153 40.80170032)'), (32549, 'willow oak', 'Good', 'Alive', 'POINT(-73.96054285 40.8016628)'), (32977, 'American linden', 'Fair', 'Alive', 'POINT(-73.96723047 40.80313278)'), (33010, 'honeylocust', 'Good', 'Alive', 'POINT(-73.95386196 40.80662798)'), (33503, 'honeylocust', 'Good', 'Alive', 'POINT(-73.9537557 40.80677466)'), (33516, 'pin oak', 'Good', 'Alive', 'POINT(-73.95575275 40.80467705)'), (33573, 'pin oak', 'Good', 'Alive', 'POINT(-73.95481493 40.80594216)'), (33590, 'honeylocust', 'Good', 'Alive', 'POINT(-73.95394592 40.80651209)'), (34028, 'pin oak', 'Good', 'Alive', 'POINT(-73.95646291 40.80477139)'), (34045, 'pin oak', 'Fair', 'Alive', 'POINT(-73.96493688 40.80627157)'), (34086, 'pin oak', 'Fair', 'Alive', 'POINT(-73.96480552 40.80644846)'), (34099, 'pin oak', 'Good', 'Alive', 'POINT(-73.95609793 40.80458781)'), (34221, 'pin oak', 'Fair', 'Alive', 'POINT(-73.96502032 40.80615922)'), (34703, 'honeylocust', 'Good', 'Alive', 'POINT(-73.95912544 40.80858195)'), (34716, 'Japanese zelkova', 'Good', 'Alive', 'POINT(-73.9562875 40.80396884)'), (34752, 'honeylocust', 'Good', 'Alive', 'POINT(-73.95931797 40.80866339)'), (34885, 'American linden', 'Fair', 'Alive', 'POINT(-73.95832957 40.80282441)'), (34906, 'golden raintree', 'Good', 'Alive', 'POINT(-73.95889283 40.80848355)'), (35494, 'pin oak', 'Fair', 'Alive', 'POINT(-73.96485522 40.80638153)'), (36401, 'American linden', 'Good', 'Alive', 'POINT(-73.95823075 40.80296072)'), (36585, 'ginkgo', 'Good', 'Alive', 'POINT(-73.95974013 40.80790803)'), (36601, 'honeylocust', 'Good', 'Alive', 'POINT(-73.96815272 40.80155763)'), (36645, 'American linden', 'Good', 'Alive', 'POINT(-73.95974356 40.80842575)'), (37342, 'Chinese elm', 'Good', 'Alive', 'POINT(-73.9641482 40.80276468)'), (37397, 'Chinese elm', 'Good', 'Alive', 'POINT(-73.96420727 40.802649)'), (38229, 'Sophora', 'Fair', 'Alive', 'POINT(-73.96444075 40.80198884)'), (39985, 'magnolia', 'Good', 'Alive', 'POINT(-73.95670419 40.8033235)'), (39986, 'magnolia', 'Good', 'Alive', 'POINT(-73.95707215 40.80347864)'), (40007, 'Sophora', 'Good', 'Alive', 'POINT(-73.95789918 40.80136473)'), (41544, 'Chinese elm', 'Poor', 'Alive', 'POINT(-73.96401355 40.80283128)'), (41614, 'northern red oak', 'Good', 'Alive', 'POINT(-73.95837288 40.80145578)'), (41659, 'Chinese elm', 'Good', 'Alive', 'POINT(-73.95877625 40.80162519)'), (42531, 'ginkgo', 'Poor', 'Alive', 'POINT(-73.95771454 40.80530224)'), (43401, 'London planetree', 'Fair', 'Alive', 'POINT(-73.956369 40.80400317)'), (43517, 'American elm', 'Good', 'Alive', 'POINT(-73.96079377 40.8017988)'), (43518, 'willow oak', 'Good', 'Alive', 'POINT(-73.96045606 40.80162609)'), (44306, 'Callery pear', 'Good', 'Alive', 'POINT(-73.95610323 40.80801744)'), (44317, 'Callery pear', 'Poor', 'Alive', 'POINT(-73.96193025 40.80069821)'), (44324, 'ginkgo', 'Good', 'Alive', 'POINT(-73.95797885 40.80541434)'), (45051, 'Callery pear', 'Poor', 'Alive', 'POINT(-73.96185133 40.80080587)'), (45248, 'Sophora', 'Good', 'Alive', 'POINT(-73.96175166 40.80094182)'), (45276, 'pin oak', 'Fair', 'Alive', 'POINT(-73.95496858 40.80600668)'), (45279, 'pin oak', 'Fair', 'Alive', 'POINT(-73.96497416 40.80622137)'), (47793, 'American linden', 'Poor', 'Alive', 'POINT(-73.95747146 40.80189212)'), (48608, 'honeylocust', 'Good', 'Alive', 'POINT(-73.95720984 40.80612987)'), (49266, 'honeylocust', 'Good', 'Alive', 'POINT(-73.95749757 40.8063981)'), (49272, 'golden raintree', 'Good', 'Alive', 'POINT(-73.95766993 40.80279915)'), (49293, 'honeylocust', 'Good', 'Alive', 'POINT(-73.956706 40.80530907)'), (49311, 'ginkgo', 'Good', 'Alive', 'POINT(-73.95643847 40.80541283)'), (49421, 'ginkgo', 'Poor', 'Alive', 'POINT(-73.96404933 40.8046669)'), (49427, 'American linden', 'Fair', 'Alive', 'POINT(-73.96448437 40.80496089)'), (49509, 'honeylocust', 'Good', 'Alive', 'POINT(-73.95741135 40.8062154)'), (49855, 'honeylocust', 'Good', 'Alive', 'POINT(-73.95741011 40.8065188)'), (49937, 'honeylocust', 'Fair', 'Alive', 'POINT(-73.96349068 40.80443063)'), (49943, 'honeylocust', 'Fair', 'Alive', 'POINT(-73.96343072 40.80440527)'), (49946, 'honeylocust', 'Good', 'Alive', 'POINT(-73.96321126 40.80442454)'), (50019, 'honeylocust', 'Good', 'Alive', 'POINT(-73.9631386 40.80439393)'), (50039, 'ginkgo', 'Poor', 'Alive', 'POINT(-73.96441171 40.80493028)'), (50661, 'northern red oak', 'Good', 'Alive', 'POINT(-73.95835868 40.80226614)'), (50711, 'Callery pear', 'Poor', 'Alive', 'POINT(-73.96504985 40.80509003)'), (50810, 'Sophora', 'Good', 'Alive', 'POINT(-73.95791135 40.80538572)'), (51671, 'ginkgo', 'Good', 'Alive', 'POINT(-73.96458904 40.80489515)'), (51725, 'ginkgo', 'Poor', 'Alive', 'POINT(-73.96466163 40.80492585)'), (51727, 'American linden', 'Fair', 'Alive', 'POINT(-73.96432957 40.80489567)'), (52613, 'pin oak', 'Good', 'Alive', 'POINT(-73.95538748 40.80618259)'), (53461, 'Japanese zelkova', 'Good', 'Alive', 'POINT(-73.96096629 40.81232302)'), (54257, 'ginkgo', 'Fair', 'Alive', 'POINT(-73.96765911 40.80168562)'), (54368, 'ginkgo', 'Good', 'Alive', 'POINT(-73.96007015 40.81398893)'), (54394, 'swamp white oak', 'Good', 'Alive', 'POINT(-73.95789547 40.80828717)'), (56081, 'Siberian elm', 'Good', 'Alive', 'POINT(-73.96012385 40.804327)'), (56098, 'honeylocust', 'Good', 'Alive', 'POINT(-73.96743808 40.80363064)'), (56932, 'honeylocust', 'Fair', 'Alive', 'POINT(-73.96324134 40.80432518)'), (56942, 'American elm', 'Good', 'Alive', 'POINT(-73.96630956 40.80499921)'), (57019, 'honeylocust', 'Good', 'Alive', 'POINT(-73.96762932 40.803711)'), (57724, 'honeylocust', 'Good', 'Alive', 'POINT(-73.96811421 40.80391476)'), (57801, 'littleleaf linden', 'Fair', 'Alive', 'POINT(-73.96162515 40.81211584)'), (58724, 'American elm', 'Good', 'Alive', 'POINT(-73.96765025 40.80181472)'), (59502, 'swamp white oak', 'Good', 'Alive', 'POINT(-73.95795559 40.80128053)'), (60439, 'American elm', 'Poor', 'Alive', 'POINT(-73.96764267 40.80192518)'), (61259, 'Chinese elm', 'Good', 'Alive', 'POINT(-73.95520931 40.80531813)'), (61319, 'ginkgo', 'Fair', 'Alive', 'POINT(-73.96046127 40.81301256)'), (61357, 'honeylocust', 'Good', 'Alive', 'POINT(-73.96014332 40.81344667)'), (62076, 'Callery pear', 'Good', 'Alive', 'POINT(-73.95752515 40.80449208)'), (62093, 'American hophornbeam', 'Good', 'Alive', 'POINT(-73.95625759 40.8064366)'), (62097, 'silver linden', 'Good', 'Alive', 'POINT(-73.95652765 40.8065499)'), (62197, 'silver linden', 'Poor', 'Alive', 'POINT(-73.95600846 40.80600026)'), (62225, 'silver linden', 'Fair', 'Alive', 'POINT(-73.9559649 40.80606036)'), (62265, 'Callery pear', 'Good', 'Alive', 'POINT(-73.95703794 40.80594467)'), (62266, 'Callery pear', 'Good', 'Alive', 'POINT(-73.95724521 40.80603193)'), (63138, 'Japanese zelkova', 'Good', 'Alive', 'POINT(-73.95816525 40.80540337)'), (63146, 'Japanese zelkova', 'Good', 'Alive', 'POINT(-73.95468468 40.80742358)'), (63206, 'honeylocust', 'Good', 'Alive', 'POINT(-73.95707789 40.80678073)'), (63975, 'littleleaf linden', 'Good', 'Alive', 'POINT(-73.96172317 40.81215755)'), (64094, 'black locust', 'Fair', 'Alive', 'POINT(-73.96347662 40.80453634)'), (64948, 'pin oak', 'Good', 'Alive', 'POINT(-73.9654994 40.80089474)'), (65747, 'honeylocust', 'Good', 'Alive', 'POINT(-73.95674955 40.80675398)'), (66537, 'honeylocust', 'Good', 'Alive', 'POINT(-73.9565732 40.80667981)'), (66543, 'Sophora', 'Good', 'Alive', 'POINT(-73.9571899 40.80528293)'), (66557, 'Sophora', 'Good', 'Alive', 'POINT(-73.9577434 40.80458354)'), (66675, 'Sophora', 'Good', 'Alive', 'POINT(-73.96709661 40.8052415)'), (66682, 'Sophora', 'Good', 'Alive', 'POINT(-73.95606841 40.80591755)'), (66683, 'Sophora', 'Good', 'Alive', 'POINT(-73.96831588 40.8039995)'), (66705, 'Sophora', 'Good', 'Alive', 'POINT(-73.95725871 40.80672774)'), (67311, 'ginkgo', 'Good', 'Alive', 'POINT(-73.96093774 40.81370763)'), (67504, 'littleleaf linden', 'Good', 'Alive', 'POINT(-73.96074797 40.81396694)'), (68364, 'Japanese zelkova', 'Good', 'Alive', 'POINT(-73.9550278 40.80735115)'), (69106, 'Japanese zelkova', 'Good', 'Alive', 'POINT(-73.95514207 40.8071953)'), (69304, 'Japanese zelkova', 'Good', 'Alive', 'POINT(-73.9549842 40.80741061)'), (69953, 'pin oak', 'Good', 'Alive', 'POINT(-73.95688821 40.80723538)'), (69961, 'honeylocust', 'Good', 'Alive', 'POINT(-73.95375786 40.80702848)'), (70013, 'honeylocust', 'Good', 'Alive', 'POINT(-73.95799089 40.8057249)'), (70034, 'honeylocust', 'Good', 'Alive', 'POINT(-73.96628984 40.80150762)'), (70038, 'honeylocust', 'Good', 'Alive', 'POINT(-73.95699828 40.80708592)'), (70095, 'pin oak', 'Fair', 'Alive', 'POINT(-73.95683917 40.80730197)'), (70131, 'honeylocust', 'Good', 'Alive', 'POINT(-73.95789196 40.80586148)'), (70164, 'ginkgo', 'Good', 'Alive', 'POINT(-73.9555107 40.80668439)'), (70879, 'Japanese zelkova', 'Good', 'Alive', 'POINT(-73.95507175 40.80729121)'), (72123, 'black locust', 'Good', 'Alive', 'POINT(-73.96247218 40.80965218)'), (72812, 'black locust', 'Fair', 'Alive', 'POINT(-73.96342923 40.80451637)'), (72841, 'ginkgo', 'Good', 'Alive', 'POINT(-73.95541464 40.80681527)'), (72971, 'American linden', 'Good', 'Alive', 'POINT(-73.96640555 40.80237633)'), (73696, 'shingle oak', 'Good', 'Alive', 'POINT(-73.96331614 40.80389351)'), (73763, 'pin oak', 'Good', 'Alive', 'POINT(-73.9652619 40.8018947)'), (73907, 'Japanese zelkova', 'Good', 'Alive', 'POINT(-73.95967493 40.8140939)'), (74735, 'Sophora', 'Fair', 'Alive', 'POINT(-73.96840976 40.80403895)'), (74740, 'Sophora', 'Poor', 'Alive', 'POINT(-73.96726629 40.80531349)'), (74753, 'Callery pear', 'Good', 'Alive', 'POINT(-73.95957011 40.81423553)'), (75405, 'honeylocust', 'Good', 'Alive', 'POINT(-73.96557389 40.80120624)'), (75441, 'cherry', 'Fair', 'Alive', 'POINT(-73.95430412 40.80726135)'), (76239, 'pin oak', 'Good', 'Alive', 'POINT(-73.96552032 40.80200353)'), (76468, 'pin oak', 'Good', 'Alive', 'POINT(-73.96813502 40.80246081)'), (77154, 'Callery pear', 'Good', 'Alive', 'POINT(-73.95715169 40.80599255)'), (78120, 'honeylocust', 'Good', 'Alive', 'POINT(-73.95507857 40.80511985)'), (78136, 'green ash', 'Good', 'Alive', 'POINT(-73.96710333 40.80330925)'), (78914, 'honeylocust', 'Good', 'Alive', 'POINT(-73.95618978 40.80558601)'), (78985, 'mulberry', 'Good', 'Alive', 'POINT(-73.96800414 40.80264198)'), (79028, 'honeylocust', 'Good', 'Alive', 'POINT(-73.95538404 40.805248)'), (79070, 'honeylocust', 'Fair', 'Alive', 'POINT(-73.95532396 40.8052228)'), (79666, 'Norway maple', 'Good', 'Alive', 'POINT(-73.95541388 40.80537377)'), (79745, 'Sophora', 'Good', 'Alive', 'POINT(-73.96508245 40.80181912)'), (81393, 'Kentucky coffeetree', 'Good', 'Alive', 'POINT(-73.96568376 40.80525451)'), (81441, 'littleleaf linden', 'Good', 'Alive', 'POINT(-73.95976275 40.81397523)'), (83075, 'Sophora', 'Good', 'Alive', 'POINT(-73.96647879 40.80158715)'), (83126, 'cherry', 'Fair', 'Alive', 'POINT(-73.95560201 40.80655997)'), (83129, 'cherry', 'Fair', 'Alive', 'POINT(-73.95436838 40.80728875)'), (85939, 'honeylocust', 'Good', 'Alive', 'POINT(-73.95411132 40.80717916)'), (85941, 'pin oak', 'Good', 'Alive', 'POINT(-73.96529769 40.80578119)'), (86575, 'Sophora', 'Good', 'Alive', 'POINT(-73.95713545 40.80505663)'), (86671, 'green ash', 'Good', 'Alive', 'POINT(-73.96544908 40.8009633)'), (86823, 'red maple', 'Good', 'Alive', 'POINT(-73.95533157 40.80769154)'), (87581, 'green ash', 'Good', 'Alive', 'POINT(-73.95530061 40.80723914)'), (89304, 'swamp white oak', 'Fair', 'Alive', 'POINT(-73.96105922 40.81219615)'), (90056, 'green ash', 'Good', 'Alive', 'POINT(-73.96578368 40.80129455)'), (90169, 'Sophora', 'Good', 'Alive', 'POINT(-73.96692769 40.8026979)'), (93568, 'green ash', 'Fair', 'Alive', 'POINT(-73.96604277 40.80140361)'), (94223, 'pin oak', 'Good', 'Alive', 'POINT(-73.96568897 40.80217674)'), (94298, 'pin oak', 'Good', 'Alive', 'POINT(-73.9651205 40.80193756)'), (94299, 'pin oak', 'Good', 'Alive', 'POINT(-73.96522225 40.80198037)'), (96063, 'bald cypress', 'Good', 'Alive', 'POINT(-73.96227269 40.80992591)'), (109194, 'Kentucky coffeetree', 'Fair', 'Alive', 'POINT(-73.95762181 40.80526291)'), (109346, 'Callery pear', 'Good', 'Alive', 'POINT(-73.96083321 40.80991915)'), (109347, 'Callery pear', 'Fair', 'Alive', 'POINT(-73.96069356 40.80986033)'), (110030, 'ginkgo', 'Fair', 'Alive', 'POINT(-73.96462798 40.80572765)'), (110094, 'ginkgo', 'Fair', 'Alive', 'POINT(-73.96353971 40.8052674)'), (110237, 'honeylocust', 'Fair', 'Alive', 'POINT(-73.95962506 40.80941025)'), (110243, 'honeylocust', 'Good', 'Alive', 'POINT(-73.96009202 40.80960694)'), (111818, 'honeylocust', 'Fair', 'Alive', 'POINT(-73.95995048 40.80954732)'), (112787, 'pin oak', 'Good', 'Alive', 'POINT(-73.96118801 40.8100686)'), (113447, 'honeylocust', 'Good', 'Alive', 'POINT(-73.96505204 40.80437563)'), (113497, 'honeylocust', 'Good', 'Alive', 'POINT(-73.96574295 40.80466724)'), (113503, 'honeylocust', 'Good', 'Alive', 'POINT(-73.96425504 40.80403924)'), (113531, 'honeylocust', 'Good', 'Alive', 'POINT(-73.96398254 40.80392422)'), (113550, 'honeylocust', 'Good', 'Alive', 'POINT(-73.96468512 40.80422076)'), (114288, 'ginkgo', 'Poor', 'Alive', 'POINT(-73.96420296 40.80566767)'), (115246, 'golden raintree', 'Good', 'Alive', 'POINT(-73.95706884 40.80699011)'), (115298, 'golden raintree', 'Good', 'Alive', 'POINT(-73.96120651 40.81334036)'), (116895, 'Chinese elm', 'Poor', 'Alive', 'POINT(-73.96587178 40.80472161)'), (117009, 'honeylocust', 'Good', 'Alive', 'POINT(-73.96389678 40.80553822)'), (117044, 'shingle oak', 'Good', 'Alive', 'POINT(-73.9558305 40.80393168)'), (117111, 'Chinese elm', 'Poor', 'Alive', 'POINT(-73.96548086 40.80455662)'), (117811, 'Chinese elm', 'Poor', 'Alive', 'POINT(-73.96379055 40.80384319)'), (118787, 'ginkgo', 'Poor', 'Alive', 'POINT(-73.96433869 40.80572505)'), (123851, 'pin oak', 'Good', 'Alive', 'POINT(-73.96133239 40.81012941)'), (124678, 'pin oak', 'Good', 'Alive', 'POINT(-73.96591978 40.80626939)'), (125759, 'Japanese zelkova', 'Good', 'Alive', 'POINT(-73.96621684 40.80651541)'), (128231, 'Sophora', 'Fair', 'Alive', 'POINT(-73.96323167 40.80513712)'), (35193, 'honeylocust', 'Good', 'Alive', 'POINT(-73.95878609 40.80750379)'), (35290, 'Callery pear', 'Good', 'Alive', 'POINT(-73.95722618 40.80460094)'), (35331, 'golden raintree', 'Good', 'Alive', 'POINT(-73.95804054 40.80295518)'), (35419, 'pin oak', 'Good', 'Alive', 'POINT(-73.95510326 40.80606324)'), (36236, 'ginkgo', 'Good', 'Alive', 'POINT(-73.95939246 40.80776072)'), (36280, 'honeylocust', 'Good', 'Alive', 'POINT(-73.96381669 40.80139047)'), (36293, 'honeylocust', 'Good', 'Alive', 'POINT(-73.9588984 40.80755138)'), (37137, 'ginkgo', 'Good', 'Alive', 'POINT(-73.95961393 40.80785456)'), (37148, 'honeylocust', 'Good', 'Alive', 'POINT(-73.96821946 40.801582)'), (37186, 'American linden', 'Poor', 'Alive', 'POINT(-73.95986696 40.80796177)'), (37259, 'Japanese zelkova', 'Good', 'Alive', 'POINT(-73.95693893 40.80424321)'), (37260, 'Japanese zelkova', 'Good', 'Alive', 'POINT(-73.95667545 40.80413224)'), (38692, 'honeylocust', 'Good', 'Alive', 'POINT(-73.95606628 40.80646659)'), (38714, 'honeylocust', 'Good', 'Alive', 'POINT(-73.95771552 40.80550447)'), (38750, 'honeylocust', 'Good', 'Alive', 'POINT(-73.95792653 40.8055934)'), (38794, 'honeylocust', 'Fair', 'Alive', 'POINT(-73.96334711 40.80845158)'), (38846, 'honeylocust', 'Good', 'Alive', 'POINT(-73.95738638 40.80536574)'), (38962, 'pin oak', 'Good', 'Alive', 'POINT(-73.96549544 40.80582585)'), (39776, 'London planetree', 'Fair', 'Alive', 'POINT(-73.95818176 40.80488906)'), (40612, 'London planetree', 'Good', 'Alive', 'POINT(-73.95522178 40.80734716)'), (41238, 'magnolia', 'Good', 'Alive', 'POINT(-73.96586334 40.80532501)'), (41239, 'magnolia', 'Good', 'Alive', 'POINT(-73.96590124 40.80532672)'), (41394, 'Japanese zelkova', 'Good', 'Alive', 'POINT(-73.95883448 40.80175889)'), (41484, 'northern red oak', 'Fair', 'Alive', 'POINT(-73.95858405 40.80154447)'), (42253, 'ginkgo', 'Good', 'Alive', 'POINT(-73.96165427 40.80107465)'), (42332, 'Japanese tree lilac', 'Good', 'Alive', 'POINT(-73.96756462 40.8044429)'), (43016, 'London planetree', 'Fair', 'Alive', 'POINT(-73.95511912 40.80748782)'), (44813, 'northern red oak', 'Good', 'Alive', 'POINT(-73.95850628 40.80151181)'), (44814, 'northern red oak', 'Good', 'Alive', 'POINT(-73.95826919 40.80141223)'), (44845, 'honeylocust', 'Fair', 'Alive', 'POINT(-73.95702423 40.80427914)'), (46453, 'honeylocust', 'Good', 'Alive', 'POINT(-73.95652006 40.80556151)'), (46587, 'American linden', 'Good', 'Alive', 'POINT(-73.95769224 40.80198519)'), (46633, 'honeylocust', 'Good', 'Alive', 'POINT(-73.95619904 40.80393158)'), (46639, 'honeylocust', 'Fair', 'Alive', 'POINT(-73.96317822 40.80429848)'), (46664, 'Sophora', 'Good', 'Alive', 'POINT(-73.96171615 40.80099025)'), (47370, 'American linden', 'Good', 'Alive', 'POINT(-73.9580801 40.8021487)'), (47371, 'American linden', 'Good', 'Alive', 'POINT(-73.9577592 40.80201342)'), (48187, 'ginkgo', 'Fair', 'Alive', 'POINT(-73.95638932 40.80548)'), (48331, 'Sophora', 'Good', 'Alive', 'POINT(-73.96399735 40.80146665)'), (48346, 'Sophora', 'Good', 'Alive', 'POINT(-73.96017986 40.8078211)'), (48817, 'Kentucky coffeetree', 'Good', 'Alive', 'POINT(-73.95860516 40.80896395)'), (49581, 'ginkgo', 'Fair', 'Alive', 'POINT(-73.9639357 40.80461884)'), (49657, 'ginkgo', 'Fair', 'Alive', 'POINT(-73.96377474 40.80455077)'), (49663, 'ginkgo', 'Fair', 'Alive', 'POINT(-73.9638568 40.80458547)'), (49702, 'ginkgo', 'Fair', 'Alive', 'POINT(-73.96482239 40.80510329)'), (49774, 'honeylocust', 'Good', 'Alive', 'POINT(-73.95729408 40.80667893)'), (50597, 'American elm', 'Fair', 'Alive', 'POINT(-73.95942964 40.80885798)'), (51297, 'American linden', 'Fair', 'Alive', 'POINT(-73.96424427 40.80485974)'), (51309, 'ginkgo', 'Good', 'Alive', 'POINT(-73.96235372 40.81242157)'), (51314, 'ginkgo', 'Good', 'Alive', 'POINT(-73.95814907 40.80447083)'), (51318, 'ginkgo', 'Fair', 'Alive', 'POINT(-73.96540367 40.80534816)'), (51319, 'ginkgo', 'Fair', 'Alive', 'POINT(-73.96512567 40.80523105)'), (51351, 'ginkgo', 'Good', 'Alive', 'POINT(-73.96273867 40.81258463)'), (51371, 'ginkgo', 'Poor', 'Alive', 'POINT(-73.96442807 40.80482708)'), (51372, 'ginkgo', 'Poor', 'Alive', 'POINT(-73.96448173 40.80484977)'), (51408, 'ginkgo', 'Fair', 'Alive', 'POINT(-73.96222309 40.81236624)'), (51470, 'ginkgo', 'Good', 'Alive', 'POINT(-73.96248057 40.8124753)'), (51530, 'pin oak', 'Good', 'Alive', 'POINT(-73.95531603 40.80615259)'), (52145, 'littleleaf linden', 'Poor', 'Alive', 'POINT(-73.95849703 40.80232446)'), (52175, 'pin oak', 'Good', 'Alive', 'POINT(-73.95555757 40.80625402)'), (52261, 'mulberry', 'Good', 'Alive', 'POINT(-73.96475947 40.80496723)'), (52262, 'Callery pear', 'Good', 'Alive', 'POINT(-73.96550435 40.80528224)'), (52310, 'Callery pear', 'Poor', 'Alive', 'POINT(-73.96514453 40.80513008)'), (53047, 'ginkgo', 'Good', 'Alive', 'POINT(-73.96260993 40.8125301)'), (53048, 'ginkgo', 'Good', 'Alive', 'POINT(-73.96282008 40.81261911)'), (53121, 'green ash', 'Good', 'Alive', 'POINT(-73.9585145 40.80162404)'), (54079, 'Callery pear', 'Good', 'Alive', 'POINT(-73.96085528 40.8124746)'), (54108, 'Callery pear', 'Good', 'Alive', 'POINT(-73.96073091 40.81264441)'), (55795, 'Sophora', 'Good', 'Alive', 'POINT(-73.96432387 40.80214704)'), (55864, 'Callery pear', 'Good', 'Alive', 'POINT(-73.95706603 40.80606883)'), (59072, 'common hackberry', 'Fair', 'Alive', 'POINT(-73.96198359 40.80133096)'), (59171, 'honeylocust', 'Good', 'Alive', 'POINT(-73.96753512 40.80367142)'), (59347, 'swamp white oak', 'Good', 'Alive', 'POINT(-73.95812896 40.80413962)'), (60875, 'ginkgo', 'Good', 'Alive', 'POINT(-73.96022588 40.81333395)'), (60888, 'Chinese elm', 'Good', 'Alive', 'POINT(-73.96706794 40.80335837)'), (60906, 'littleleaf linden', 'Good', 'Alive', 'POINT(-73.96152461 40.81207304)'), (60958, 'honeylocust', 'Good', 'Alive', 'POINT(-73.96359084 40.8035153)'), (61012, 'ginkgo', 'Fair', 'Alive', 'POINT(-73.96051906 40.81293366)'), (61013, 'ginkgo', 'Good', 'Alive', 'POINT(-73.96038784 40.81311282)'), (61120, 'honeylocust', 'Good', 'Alive', 'POINT(-73.96618859 40.8051629)'), (61783, 'American elm', 'Fair', 'Alive', 'POINT(-73.96789294 40.80382178)'), (61872, 'Callery pear', 'Poor', 'Alive', 'POINT(-73.96732243 40.8053373)'), (62633, 'Callery pear', 'Good', 'Alive', 'POINT(-73.95734127 40.80607237)'), (63643, 'honeylocust', 'Good', 'Alive', 'POINT(-73.95692483 40.80589704)'), (63755, 'honeylocust', 'Good', 'Alive', 'POINT(-73.95679781 40.80584357)'), (64627, 'Callery pear', 'Poor', 'Alive', 'POINT(-73.96495516 40.80504999)'), (65417, 'katsura tree', 'Poor', 'Alive', 'POINT(-73.95611637 40.8061225)'), (66363, 'Sophora', 'Good', 'Alive', 'POINT(-73.96017886 40.81403467)'), (66415, 'American linden', 'Fair', 'Alive', 'POINT(-73.95546355 40.80774728)'), (67062, 'ginkgo', 'Good', 'Alive', 'POINT(-73.96081328 40.81387771)'), (67083, 'Sophora', 'Good', 'Alive', 'POINT(-73.96684146 40.80513326)'), (67084, 'Sophora', 'Fair', 'Alive', 'POINT(-73.96701555 40.80520712)'), (67181, 'Sophora', 'Good', 'Alive', 'POINT(-73.95765041 40.80454457)'), (67255, 'magnolia', 'Good', 'Alive', 'POINT(-73.96455139 40.80717733)'), (67869, 'katsura tree', 'Fair', 'Alive', 'POINT(-73.95619696 40.80601083)'), (67931, 'bald cypress', 'Good', 'Alive', 'POINT(-73.96222719 40.80998835)'), (68086, 'shingle oak', 'Good', 'Alive', 'POINT(-73.96847909 40.80253212)'), (68141, 'black locust', 'Fair', 'Alive', 'POINT(-73.96243193 40.80970741)'), (68749, 'Callery pear', 'Good', 'Alive', 'POINT(-73.95595146 40.80559816)'), (68786, 'London planetree', 'Poor', 'Alive', 'POINT(-73.95819387 40.80515239)'), (68850, 'honeylocust', 'Good', 'Alive', 'POINT(-73.95587085 40.80645227)'), (68879, 'ginkgo', 'Good', 'Alive', 'POINT(-73.9610845 40.81350708)'), (70478, 'hardy rubber tree', 'Fair', 'Alive', 'POINT(-73.96427338 40.80158305)'), (70632, 'honeylocust', 'Good', 'Alive', 'POINT(-73.95794073 40.80579415)'), (71329, 'honeylocust', 'Good', 'Alive', 'POINT(-73.96623115 40.80230289)'), (71386, 'honeylocust', 'Good', 'Alive', 'POINT(-73.9669837 40.8026198)'), (71445, 'pin oak', 'Good', 'Alive', 'POINT(-73.96541796 40.80196042)'), (72333, 'Japanese zelkova', 'Good', 'Alive', 'POINT(-73.95971725 40.81403672)'), (72389, 'littleleaf linden', 'Good', 'Alive', 'POINT(-73.95470551 40.80578434)'), (73128, 'pin oak', 'Good', 'Alive', 'POINT(-73.95678625 40.80737382)'), (73171, 'American hophornbeam', 'Good', 'Alive', 'POINT(-73.95574113 40.80621541)'), (74014, 'littleleaf linden', 'Good', 'Alive', 'POINT(-73.96142975 40.81203267)'), (74172, 'black locust', 'Fair', 'Alive', 'POINT(-73.96340136 40.80837715)'), (74178, 'golden raintree', 'Fair', 'Alive', 'POINT(-73.96613128 40.80524044)'), (74842, 'Callery pear', 'Good', 'Alive', 'POINT(-73.96639917 40.80155364)'), (74954, 'Sophora', 'Fair', 'Alive', 'POINT(-73.95615589 40.80579686)'), (74983, 'Callery pear', 'Fair', 'Alive', 'POINT(-73.96500158 40.80178506)'), (75691, 'honeylocust', 'Good', 'Alive', 'POINT(-73.95480118 40.80582417)'), (75792, 'cherry', 'Fair', 'Alive', 'POINT(-73.95422284 40.8072267)'), (75861, 'ginkgo', 'Fair', 'Alive', 'POINT(-73.96060356 40.81281829)'), (75891, 'pin oak', 'Good', 'Alive', 'POINT(-73.965629 40.8020493)'), (76550, 'pin oak', 'Good', 'Alive', 'POINT(-73.95546144 40.80675151)'), (76669, 'pin oak', 'Good', 'Alive', 'POINT(-73.96533835 40.80192689)'), (78291, 'honeylocust', 'Good', 'Alive', 'POINT(-73.95579893 40.80542205)'), (78436, 'honeylocust', 'Good', 'Alive', 'POINT(-73.96783693 40.80287344)'), (78516, 'honeylocust', 'Fair', 'Alive', 'POINT(-73.95592668 40.80547564)'), (79126, 'honeylocust', 'Fair', 'Alive', 'POINT(-73.95513928 40.80514532)'), (79141, 'honeylocust', 'Good', 'Alive', 'POINT(-73.95611199 40.80555338)'), (79142, 'honeylocust', 'Fair', 'Alive', 'POINT(-73.95586534 40.80544991)'), (79156, 'honeylocust', 'Good', 'Alive', 'POINT(-73.9555763 40.80532866)'), (79201, 'common hackberry', 'Poor', 'Alive', 'POINT(-73.96206352 40.80136462)'), (79238, 'American linden', 'Good', 'Alive', 'POINT(-73.96149949 40.81293999)'), (79261, 'honeylocust', 'Good', 'Alive', 'POINT(-73.95582829 40.80651092)'), (79275, 'Sophora', 'Fair', 'Alive', 'POINT(-73.96495166 40.80176404)'), (79326, 'Sophora', 'Good', 'Alive', 'POINT(-73.96648706 40.80241066)'), (79371, 'honeylocust', 'Fair', 'Alive', 'POINT(-73.95545424 40.80527745)'), (80121, 'Sophora', 'Good', 'Alive', 'POINT(-73.95699511 40.80685726)'), (80123, 'Sophora', 'Good', 'Alive', 'POINT(-73.96696094 40.80179011)'), (80174, 'ginkgo', 'Good', 'Alive', 'POINT(-73.95723953 40.80510078)'), (80930, 'Sophora', 'Good', 'Alive', 'POINT(-73.95654128 40.80584611)'), (81722, 'Sophora', 'Good', 'Alive', 'POINT(-73.95693254 40.80683094)'), (81741, 'Sophora', 'Good', 'Alive', 'POINT(-73.96708732 40.80184331)'), (82484, 'Sophora', 'Good', 'Alive', 'POINT(-73.96571938 40.8052055)'), (83380, 'Sophora', 'Good', 'Alive', 'POINT(-73.95638516 40.80660072)'), (83390, 'honeylocust', 'Fair', 'Alive', 'POINT(-73.95570153 40.80538119)'), (83440, 'London planetree', 'Good', 'Alive', 'POINT(-73.96550529 40.80549518)'), (83460, 'swamp white oak', 'Good', 'Alive', 'POINT(-73.96112087 40.81211197)'), (86213, 'Sophora', 'Good', 'Alive', 'POINT(-73.966296 40.80243214)'), (86979, 'honeylocust', 'Good', 'Alive', 'POINT(-73.96673745 40.80261787)'), (87010, 'Sophora', 'Good', 'Alive', 'POINT(-73.96681519 40.80265057)'), (87111, 'ginkgo', 'Good', 'Alive', 'POINT(-73.96666066 40.80258556)'), (88649, 'cherry', 'Good', 'Alive', 'POINT(-73.95776448 40.8060375)'), (88696, 'honeylocust', 'Good', 'Alive', 'POINT(-73.96595789 40.80228988)'), (89534, 'Sophora', 'Good', 'Alive', 'POINT(-73.9658574 40.8022476)'), (89556, 'black locust', 'Fair', 'Alive', 'POINT(-73.96239518 40.80975783)'), (90299, 'green ash', 'Good', 'Alive', 'POINT(-73.96594924 40.80136425)'), (92877, 'Siberian elm', 'Good', 'Alive', 'POINT(-73.96654713 40.80468375)'), (92931, 'Sophora', 'Good', 'Alive', 'POINT(-73.96713846 40.80278658)'), (93868, 'green ash', 'Good', 'Alive', 'POINT(-73.95550194 40.80611585)'), (94563, 'Siberian elm', 'Good', 'Alive', 'POINT(-73.96419461 40.81104929)'), (94564, 'Siberian elm', 'Good', 'Alive', 'POINT(-73.95953381 40.80573521)'), (96410, 'pin oak', 'Good', 'Alive', 'POINT(-73.96577113 40.80221131)'), (103826, 'swamp white oak', 'Good', 'Alive', 'POINT(-73.95813329 40.8042109)'), (105737, 'ginkgo', 'Fair', 'Alive', 'POINT(-73.9626746 40.80490151)'), (108029, 'pin oak', 'Good', 'Alive', 'POINT(-73.96126857 40.81010253)'), (109715, 'ginkgo', 'Poor', 'Alive', 'POINT(-73.96305082 40.80506063)'), (109749, 'ginkgo', 'Fair', 'Alive', 'POINT(-73.964473 40.80566211)'), (109757, 'ginkgo', 'Poor', 'Alive', 'POINT(-73.96371551 40.80534175)'), (109789, 'ginkgo', 'Poor', 'Alive', 'POINT(-73.96331246 40.80517129)'), (109790, 'ginkgo', 'Fair', 'Alive', 'POINT(-73.96472898 40.80577037)'), (109841, 'ginkgo', 'Fair', 'Alive', 'POINT(-73.96485112 40.80582203)'), (109971, 'ginkgo', 'Poor', 'Alive', 'POINT(-73.96385817 40.80540208)'), (112374, 'honeylocust', 'Fair', 'Alive', 'POINT(-73.95971258 40.80944711)'), (112390, 'Chinese elm', 'Fair', 'Alive', 'POINT(-73.96361862 40.80530077)'), (112510, 'bur oak', 'Good', 'Alive', 'POINT(-73.95560793 40.8102743)'), (113354, 'Siberian elm', 'Good', 'Alive', 'POINT(-73.96804015 40.80167353)'), (113973, 'honeylocust', 'Good', 'Alive', 'POINT(-73.96557622 40.80459687)'), (114011, 'honeylocust', 'Good', 'Alive', 'POINT(-73.9643965 40.80409895)'), (114872, 'ginkgo', 'Poor', 'Alive', 'POINT(-73.96401799 40.80558947)'), (115025, 'Japanese zelkova', 'Good', 'Alive', 'POINT(-73.96742856 40.80198695)'), (115717, 'Japanese zelkova', 'Good', 'Alive', 'POINT(-73.96716821 40.80187736)'), (115718, 'Japanese zelkova', 'Good', 'Alive', 'POINT(-73.96734768 40.8019529)'), (116739, 'ginkgo', 'Poor', 'Alive', 'POINT(-73.96461457 40.80584168)'), (118351, 'magnolia', 'Good', 'Alive', 'POINT(-73.96432246 40.80743328)'), (121059, 'honeylocust', 'Good', 'Alive', 'POINT(-73.96795272 40.80243485)'), (123587, 'Japanese zelkova', 'Good', 'Alive', 'POINT(-73.96655038 40.80665605)'), (123620, 'ginkgo', 'Good', 'Alive', 'POINT(-73.96563104 40.80614773)'), (123774, 'ginkgo', 'Good', 'Alive', 'POINT(-73.96570307 40.80617808)'), (123808, 'ginkgo', 'Poor', 'Alive', 'POINT(-73.96584523 40.80623798)'), (126122, 'honeylocust', 'Good', 'Alive', 'POINT(-73.96610629 40.8064688)'), (126174, 'honeylocust', 'Good', 'Alive', 'POINT(-73.9649125 40.80749493)'), (126272, 'Japanese zelkova', 'Good', 'Alive', 'POINT(-73.96648089 40.80662675)'), (127053, 'Callery pear', 'Poor', 'Alive', 'POINT(-73.96484489 40.80746645)'), (130870, 'ginkgo', 'Good', 'Alive', 'POINT(-73.96201188 40.81250018)'), (133670, 'pin oak', 'Good', 'Alive', 'POINT(-73.96142321 40.81188325)'), (134433, 'ginkgo', 'Good', 'Alive', 'POINT(-73.96252258 40.81234571)'), (134476, 'ginkgo', 'Good', 'Alive', 'POINT(-73.96231485 40.81225905)'), (134561, 'ginkgo', 'Good', 'Alive', 'POINT(-73.96135989 40.81339426)'), (135296, 'ginkgo', 'Good', 'Alive', 'POINT(-73.96241935 40.81230264)'), (135357, 'Callery pear', 'Good', 'Alive', 'POINT(-73.96308296 40.81239338)'), (135443, 'golden raintree', 'Good', 'Alive', 'POINT(-73.96279264 40.80495144)'), (137043, 'ginkgo', 'Fair', 'Alive', 'POINT(-73.96187454 40.81207194)'), (137151, 'ginkgo', 'Good', 'Alive', 'POINT(-73.96151291 40.81318442)'), (137904, 'Callery pear', 'Good', 'Alive', 'POINT(-73.96112913 40.81371069)'), (138647, 'honeylocust', 'Good', 'Alive', 'POINT(-73.9606256 40.81440117)'), (138668, 'ginkgo', 'Good', 'Alive', 'POINT(-73.96377476 40.81144452)'), (140349, 'ginkgo', 'Fair', 'Alive', 'POINT(-73.96195035 40.81096935)'), (141186, 'Siberian elm', 'Good', 'Alive', 'POINT(-73.96004524 40.8045582)'), (141380, 'willow oak', 'Good', 'Alive', 'POINT(-73.9627888 40.81092763)'), (141967, 'pin oak', 'Good', 'Alive', 'POINT(-73.96407274 40.8105523)'), (142011, 'pin oak', 'Good', 'Alive', 'POINT(-73.96424687 40.810625)'), (143821, 'ginkgo', 'Poor', 'Alive', 'POINT(-73.96327412 40.8121312)'), (143878, 'northern red oak', 'Good', 'Alive', 'POINT(-73.96243925 40.81030634)'), (143914, 'ginkgo', 'Good', 'Alive', 'POINT(-73.96368024 40.81157418)'), (144065, 'ginkgo', 'Good', 'Alive', 'POINT(-73.96301889 40.81248125)'), (33253, 'honeylocust', 'Good', 'Alive', 'POINT(-73.95391003 40.80656162)'), (33270, 'honeylocust', 'Good', 'Alive', 'POINT(-73.95370588 40.80684343)'), (33721, 'pin oak', 'Good', 'Alive', 'POINT(-73.96473823 40.8068621)'), (33788, 'pin oak', 'Good', 'Alive', 'POINT(-73.95630759 40.80491062)'), (33852, 'pin oak', 'Good', 'Alive', 'POINT(-73.95503307 40.80603376)'), (33898, 'pin oak', 'Good', 'Alive', 'POINT(-73.95627336 40.80469154)'), (34577, 'honeylocust', 'Good', 'Alive', 'POINT(-73.95381597 40.80669146)'), (34607, 'Chinese elm', 'Fair', 'Alive', 'POINT(-73.96716178 40.80322812)'), (34976, 'American linden', 'Fair', 'Alive', 'POINT(-73.95827902 40.80289413)'), (34993, 'honeylocust', 'Good', 'Alive', 'POINT(-73.9644755 40.80166829)'), (35006, 'honeylocust', 'Good', 'Alive', 'POINT(-73.96372447 40.80135158)'), (35011, 'honeylocust', 'Good', 'Alive', 'POINT(-73.95868135 40.80745941)'), (35174, 'Callery pear', 'Good', 'Alive', 'POINT(-73.96425696 40.80258619)'), (35835, 'London planetree', 'Fair', 'Alive', 'POINT(-73.96133176 40.80198651)'), (35957, 'pin oak', 'Good', 'Alive', 'POINT(-73.95646631 40.80404415)'), (36691, 'Chinese elm', 'Good', 'Alive', 'POINT(-73.96416 40.80270875)'), (36692, 'Chinese elm', 'Good', 'Alive', 'POINT(-73.96409471 40.80280948)'), (36886, 'littleleaf linden', 'Poor', 'Alive', 'POINT(-73.95967006 40.80853035)'), (37778, 'Sophora', 'Good', 'Alive', 'POINT(-73.95653477 40.80500625)'), (37804, 'ginkgo', 'Good', 'Alive', 'POINT(-73.96432173 40.80250433)'), (38463, 'ginkgo', 'Good', 'Alive', 'POINT(-73.9587233 40.80089627)'), (38475, 'crab apple', 'Fair', 'Alive', 'POINT(-73.96239691 40.81006776)'), (39258, 'honeylocust', 'Good', 'Alive', 'POINT(-73.95701744 40.80521024)'), (39282, 'American linden', 'Good', 'Alive', 'POINT(-73.95824443 40.80151023)'), (40126, 'magnolia', 'Good', 'Alive', 'POINT(-73.96588575 40.80529396)'), (40128, 'magnolia', 'Good', 'Alive', 'POINT(-73.96614578 40.8049337)'), (40249, 'Sophora', 'Good', 'Alive', 'POINT(-73.95807417 40.80143848)'), (41938, 'Japanese zelkova', 'Good', 'Alive', 'POINT(-73.95805203 40.80544538)'), (42744, 'green ash', 'Good', 'Alive', 'POINT(-73.96708925 40.8071505)'), (45408, 'Sophora', 'Good', 'Alive', 'POINT(-73.96024484 40.80773361)'), (47090, 'Chinese fringetree', 'Good', 'Alive', 'POINT(-73.95757479 40.8095723)'), (47094, 'honeylocust', 'Good', 'Alive', 'POINT(-73.95662838 40.80541445)'), (47898, 'American linden', 'Fair', 'Alive', 'POINT(-73.95758296 40.80193912)'), (48026, 'American linden', 'Good', 'Alive', 'POINT(-73.95783627 40.80204591)'), (48055, 'ginkgo', 'Good', 'Alive', 'POINT(-73.95658075 40.80547912)'), (49217, 'ginkgo', 'Fair', 'Alive', 'POINT(-73.95950288 40.80780751)'), (50098, 'honeylocust', 'Good', 'Alive', 'POINT(-73.95729971 40.80616801)'), (50136, 'honeylocust', 'Fair', 'Alive', 'POINT(-73.95675398 40.80524392)'), (50144, 'honeylocust', 'Good', 'Alive', 'POINT(-73.96369268 40.80451606)'), (50145, 'ginkgo', 'Poor', 'Alive', 'POINT(-73.96533075 40.80520883)'), (50243, 'Sophora', 'Good', 'Alive', 'POINT(-73.95563028 40.80628455)'), (51031, 'honeylocust', 'Good', 'Alive', 'POINT(-73.95745349 40.80645893)'), (51077, 'ginkgo', 'Fair', 'Alive', 'POINT(-73.96500878 40.80518181)'), (51078, 'ginkgo', 'Poor', 'Alive', 'POINT(-73.96491084 40.80514055)'), (51097, 'honeylocust', 'Good', 'Alive', 'POINT(-73.95930258 40.80903293)'), (51130, 'ginkgo', 'Good', 'Alive', 'POINT(-73.9654286 40.80525021)'), (51141, 'ginkgo', 'Poor', 'Alive', 'POINT(-73.96417161 40.80482913)'), (51199, 'honeylocust', 'Fair', 'Alive', 'POINT(-73.96357455 40.80457759)'), (51915, 'pin oak', 'Good', 'Alive', 'POINT(-73.955476 40.80621976)'), (52975, 'Callery pear', 'Fair', 'Alive', 'POINT(-73.96485416 40.80500727)'), (53691, 'Sophora', 'Good', 'Alive', 'POINT(-73.96178787 40.80089242)'), (53693, 'Sophora', 'Good', 'Alive', 'POINT(-73.96006269 40.80797886)'), (53842, 'Sophora', 'Good', 'Alive', 'POINT(-73.95784701 40.80535843)'), (54710, 'ginkgo', 'Good', 'Alive', 'POINT(-73.9581531 40.80453718)'), (54751, 'ginkgo', 'Poor', 'Alive', 'POINT(-73.96065889 40.81274274)'), (57144, 'honeylocust', 'Good', 'Alive', 'POINT(-73.96717136 40.80527321)'), (58869, 'swamp white oak', 'Good', 'Alive', 'POINT(-73.95812509 40.80407601)'), (58996, 'swamp white oak', 'Good', 'Alive', 'POINT(-73.95804695 40.8013189)'), (59754, 'Callery pear', 'Good', 'Alive', 'POINT(-73.96740128 40.80537075)'), (59811, 'swamp white oak', 'Good', 'Alive', 'POINT(-73.9581209 40.80400691)'), (60585, 'black oak', 'Good', 'Alive', 'POINT(-73.96665412 40.80505378)'), (60667, 'black oak', 'Fair', 'Alive', 'POINT(-73.96693292 40.80517206)'), (60750, 'Japanese zelkova', 'Good', 'Alive', 'POINT(-73.96030465 40.81408759)'), (60841, 'ginkgo', 'Good', 'Alive', 'POINT(-73.96033796 40.81318093)'), (61490, 'honeylocust', 'Good', 'Alive', 'POINT(-73.95687107 40.80669397)'), (61634, 'honeylocust', 'Good', 'Alive', 'POINT(-73.96380049 40.80322608)'), (61635, 'honeylocust', 'Good', 'Alive', 'POINT(-73.96373792 40.80331239)'), (61720, 'American elm', 'Good', 'Alive', 'POINT(-73.96764638 40.80187119)'), (62360, 'Callery pear', 'Good', 'Alive', 'POINT(-73.95678095 40.80594784)'), (62494, 'American hophornbeam', 'Good', 'Alive', 'POINT(-73.95592012 40.80612215)'), (62512, 'Callery pear', 'Good', 'Alive', 'POINT(-73.95743732 40.8061128)'), (62548, 'Callery pear', 'Good', 'Alive', 'POINT(-73.95753211 40.80615271)'), (62586, 'American hophornbeam', 'Good', 'Alive', 'POINT(-73.95587725 40.80618129)'), (63320, 'ginkgo', 'Good', 'Alive', 'POINT(-73.96557276 40.80079478)'), (63321, 'honeylocust', 'Good', 'Alive', 'POINT(-73.9569808 40.80674)'), (63350, 'Chinese elm', 'Fair', 'Alive', 'POINT(-73.95512762 40.80528404)'), (63396, 'Callery pear', 'Good', 'Alive', 'POINT(-73.95570198 40.80549403)'), (63488, 'honeylocust', 'Good', 'Alive', 'POINT(-73.95666574 40.80578796)'), (64165, 'Japanese zelkova', 'Good', 'Alive', 'POINT(-73.95523981 40.80706198)'), (64259, 'American elm', 'Fair', 'Alive', 'POINT(-73.96566073 40.80067493)'), (64338, 'Callery pear', 'Good', 'Alive', 'POINT(-73.9560952 40.80565815)'), (65159, 'American elm', 'Good', 'Alive', 'POINT(-73.95697521 40.80603029)'), (65927, 'ginkgo', 'Good', 'Alive', 'POINT(-73.96766379 40.80161737)'), (65962, 'honeylocust', 'Good', 'Alive', 'POINT(-73.95665632 40.80671477)'), (65964, 'ginkgo', 'Good', 'Alive', 'POINT(-73.9604749 40.81401106)'), (66087, 'honeylocust', 'Good', 'Alive', 'POINT(-73.95616425 40.8065078)'), (66088, 'honeylocust', 'Good', 'Alive', 'POINT(-73.95647618 40.806639)'), (66742, 'Sophora', 'Good', 'Alive', 'POINT(-73.9636609 40.80341866)'), (66771, 'ginkgo', 'Good', 'Alive', 'POINT(-73.96100375 40.81361743)'), (66782, 'American linden', 'Good', 'Alive', 'POINT(-73.95584496 40.80790836)'), (66788, 'American linden', 'Fair', 'Alive', 'POINT(-73.96139276 40.81308584)'), (66816, 'Sophora', 'Poor', 'Alive', 'POINT(-73.95795342 40.80467155)'), (66863, 'Sophora', 'Good', 'Alive', 'POINT(-73.96626305 40.80506215)'), (66978, 'magnolia', 'Good', 'Alive', 'POINT(-73.95757498 40.80369063)'), (66980, 'paper birch', 'Poor', 'Alive', 'POINT(-73.95755943 40.80286321)'), (66985, 'magnolia', 'Good', 'Alive', 'POINT(-73.96612632 40.80496066)'), (67552, 'Callery pear', 'Good', 'Alive', 'POINT(-73.95819449 40.8052434)'), (67626, 'Japanese zelkova', 'Good', 'Alive', 'POINT(-73.95818979 40.80531412)'), (67645, 'American elm', 'Fair', 'Alive', 'POINT(-73.95626817 40.80591216)'), (67659, 'honeylocust', 'Good', 'Alive', 'POINT(-73.95577456 40.80658494)'), (67717, 'American elm', 'Good', 'Alive', 'POINT(-73.95818832 40.80503169)'), (67746, 'American linden', 'Fair', 'Alive', 'POINT(-73.95571866 40.80785502)'), (67747, 'ginkgo', 'Fair', 'Alive', 'POINT(-73.96086296 40.81380982)'), (67772, 'Japanese zelkova', 'Good', 'Alive', 'POINT(-73.95518707 40.80713391)'), (67783, 'American linden', 'Fair', 'Alive', 'POINT(-73.95558921 40.80780035)'), (67858, 'magnolia', 'Good', 'Alive', 'POINT(-73.95747012 40.80364642)'), (68738, 'green ash', 'Good', 'Alive', 'POINT(-73.95524489 40.80612271)'), (68747, 'honeylocust', 'Good', 'Alive', 'POINT(-73.95572118 40.80665849)'), (69489, 'Callery pear', 'Good', 'Alive', 'POINT(-73.96163607 40.81275335)'), (70230, 'honeylocust', 'Good', 'Alive', 'POINT(-73.95391222 40.80709429)'), (71058, 'Japanese zelkova', 'Good', 'Alive', 'POINT(-73.95554888 40.80663237)'), (71132, 'honeylocust', 'Good', 'Alive', 'POINT(-73.96663929 40.80165472)'), (71616, 'Chinese elm', 'Good', 'Alive', 'POINT(-73.95505259 40.80525272)'), (71667, 'American linden', 'Good', 'Alive', 'POINT(-73.96544245 40.80115091)'), (71741, 'littleleaf linden', 'Good', 'Alive', 'POINT(-73.95489812 40.80586452)'), (71822, 'London planetree', 'Fair', 'Alive', 'POINT(-73.95520907 40.8076398)'), (72544, 'magnolia', 'Good', 'Alive', 'POINT(-73.96597507 40.80522444)'), (72570, 'littleleaf linden', 'Good', 'Alive', 'POINT(-73.95508883 40.8059439)'), (72628, 'shingle oak', 'Fair', 'Alive', 'POINT(-73.95569223 40.80412199)'), (72724, 'American hophornbeam', 'Good', 'Alive', 'POINT(-73.95532714 40.80533757)'), (72748, 'black maple', 'Fair', 'Alive', 'POINT(-73.96364849 40.80449738)'), (72760, 'green ash', 'Good', 'Alive', 'POINT(-73.95517313 40.80609258)'), (74423, 'Sophora', 'Fair', 'Alive', 'POINT(-73.95784841 40.80462755)'), (74461, 'Sophora', 'Fair', 'Alive', 'POINT(-73.96748959 40.80540821)'), (74512, 'Callery pear', 'Good', 'Alive', 'POINT(-73.96615398 40.80145043)'), (75112, 'Callery pear', 'Good', 'Alive', 'POINT(-73.95781707 40.80596488)'), (76140, 'littleleaf linden', 'Good', 'Alive', 'POINT(-73.96055808 40.81404596)'), (76965, 'American hophornbeam', 'Good', 'Alive', 'POINT(-73.95559762 40.80615568)'), (77017, 'American hophornbeam', 'Good', 'Alive', 'POINT(-73.95566288 40.80618284)'), (77826, 'Callery pear', 'Fair', 'Alive', 'POINT(-73.9574135 40.80444529)'), (77903, 'ginkgo', 'Fair', 'Alive', 'POINT(-73.95645266 40.8058085)'), (77971, 'green ash', 'Good', 'Alive', 'POINT(-73.95534335 40.80718057)'), (79372, 'crab apple', 'Good', 'Alive', 'POINT(-73.96794018 40.80273052)'), (79405, 'honeylocust', 'Good', 'Alive', 'POINT(-73.95733163 40.80513984)'), (80389, 'green ash', 'Good', 'Alive', 'POINT(-73.95537944 40.80713112)'), (81264, 'littleleaf linden', 'Fair', 'Alive', 'POINT(-73.96519492 40.80186649)'), (82943, 'black locust', 'Fair', 'Alive', 'POINT(-73.96328391 40.80445515)'), (84679, 'hardy rubber tree', 'Good', 'Alive', 'POINT(-73.96412431 40.80152019)'), (84723, 'honeylocust', 'Good', 'Alive', 'POINT(-73.96008236 40.81352989)'), (86279, 'sweetgum', 'Good', 'Alive', 'POINT(-73.96594467 40.80489556)'), (86280, 'Sophora', 'Fair', 'Alive', 'POINT(-73.96581264 40.8050772)'), (87160, 'honeylocust', 'Good', 'Alive', 'POINT(-73.96499284 40.80188385)'), (88029, 'Kentucky coffeetree', 'Good', 'Alive', 'POINT(-73.95683784 40.80420063)'), (88038, 'honeylocust', 'Good', 'Alive', 'POINT(-73.96657345 40.80254887)'), (88096, 'honeylocust', 'Good', 'Alive', 'POINT(-73.96645937 40.80250087)'), (88236, 'green ash', 'Fair', 'Alive', 'POINT(-73.96586646 40.8013294)'), (88969, 'Callery pear', 'Good', 'Alive', 'POINT(-73.96576654 40.80514063)'), (89054, 'Sophora', 'Good', 'Alive', 'POINT(-73.96705314 40.80275068)'), (89761, 'honeylocust', 'Good', 'Alive', 'POINT(-73.96610798 40.80235303)'), (90720, 'littleleaf linden', 'Good', 'Alive', 'POINT(-73.95499253 40.80590381)'), (90758, 'Callery pear', 'Good', 'Alive', 'POINT(-73.95771188 40.80611012)'), (93251, 'green ash', 'Fair', 'Alive', 'POINT(-73.96568321 40.80125226)'), (93281, 'maple', 'Fair', 'Alive', 'POINT(-73.95549366 40.80540707)'), (93284, 'pin oak', 'Good', 'Alive', 'POINT(-73.96550822 40.80210069)'), (93967, 'pin oak', 'Good', 'Alive', 'POINT(-73.96533822 40.80202916)'), (97665, 'Sophora', 'Good', 'Alive', 'POINT(-73.95565268 40.80649093)'), (101836, 'bald cypress', 'Fair', 'Alive', 'POINT(-73.96213619 40.81011321)'), (102723, 'empress tree', 'Fair', 'Alive', 'POINT(-73.96806515 40.80255753)'), (104439, 'honeylocust', 'Good', 'Alive', 'POINT(-73.96559165 40.80213579)'), (106917, 'sweetgum', 'Good', 'Alive', 'POINT(-73.96534218 40.8057199)'), (109590, 'silver maple', 'Fair', 'Alive', 'POINT(-73.96587953 40.80498518)'), (111213, 'Callery pear', 'Good', 'Alive', 'POINT(-73.96057793 40.80981162)'), (112238, 'Chinese elm', 'Poor', 'Alive', 'POINT(-73.96521119 40.8044428)'), (112859, 'honeylocust', 'Good', 'Alive', 'POINT(-73.96412463 40.8039842)'), (112888, 'honeylocust', 'Good', 'Alive', 'POINT(-73.96487584 40.80430126)'), (113017, 'Callery pear', 'Good', 'Alive', 'POINT(-73.96039942 40.80973643)'), (116459, 'ginkgo', 'Good', 'Alive', 'POINT(-73.96490055 40.80596258)'), (117210, 'Japanese zelkova', 'Good', 'Alive', 'POINT(-73.96727817 40.80192364)'), (118883, 'ginkgo', 'Poor', 'Alive', 'POINT(-73.96449147 40.80578964)'), (122484, 'dawn redwood', 'Fair', 'Alive', 'POINT(-73.96177629 40.81031639)'), (123476, 'honeylocust', 'Good', 'Alive', 'POINT(-73.96798872 40.80240868)'), (124332, 'pin oak', 'Good', 'Alive', 'POINT(-73.96603161 40.80631651)'), (126025, 'Japanese zelkova', 'Fair', 'Alive', 'POINT(-73.96632928 40.80656282)'), (126770, 'honeylocust', 'Good', 'Alive', 'POINT(-73.96453955 40.80415932)'), (131406, 'honeylocust', 'Good', 'Alive', 'POINT(-73.96613902 40.80636177)'), (131407, 'honeylocust', 'Good', 'Alive', 'POINT(-73.96624769 40.80640756)'), (131497, 'ginkgo', 'Fair', 'Alive', 'POINT(-73.96194535 40.81259141)'), (134358, 'ginkgo', 'Poor', 'Alive', 'POINT(-73.96172705 40.81201028)'), (134359, 'ginkgo', 'Good', 'Alive', 'POINT(-73.96197139 40.81211243)'), (135106, 'ginkgo', 'Fair', 'Alive', 'POINT(-73.96166873 40.81297075)'), (135809, 'shingle oak', 'Good', 'Alive', 'POINT(-73.96545714 40.80556152)'), (136775, 'ginkgo', 'Fair', 'Alive', 'POINT(-73.9637275 40.81150935)'), (137656, 'Callery pear', 'Good', 'Alive', 'POINT(-73.96130141 40.81347444)'), (137668, 'Callery pear', 'Good', 'Alive', 'POINT(-73.96122263 40.81358248)'), (137732, 'Callery pear', 'Fair', 'Alive', 'POINT(-73.96126114 40.81352966)'), (138519, 'ginkgo', 'Good', 'Alive', 'POINT(-73.96145513 40.81326365)'), (139215, 'ginkgo', 'Fair', 'Alive', 'POINT(-73.96324781 40.80526385)'), (140191, 'Siberian elm', 'Good', 'Alive', 'POINT(-73.96756876 40.80234997)'), (140239, 'Siberian elm', 'Good', 'Alive', 'POINT(-73.96022649 40.80402512)'), (141051, 'green ash', 'Good', 'Alive', 'POINT(-73.96525303 40.80584271)'), (143719, 'ginkgo', 'Poor', 'Alive', 'POINT(-73.96213518 40.81071517)'), (144083, 'ginkgo', 'Good', 'Alive', 'POINT(-73.96314773 40.81230454)'), (144715, 'London planetree', 'Good', 'Alive', 'POINT(-73.96367578 40.80860906)'), (144893, 'London planetree', 'Good', 'Alive', 'POINT(-73.96318908 40.80927712)'), (144905, 'London planetree', 'Good', 'Alive', 'POINT(-73.96280874 40.80979918)'), (145505, 'London planetree', 'Poor', 'Alive', 'POINT(-73.96149649 40.8115935)'), (145506, 'London planetree', 'Good', 'Alive', 'POINT(-73.96144583 40.81166317)'), (145581, 'northern red oak', 'Good', 'Alive', 'POINT(-73.96250118 40.81022133)'), (146645, 'ginkgo', 'Fair', 'Alive', 'POINT(-73.96359096 40.81169663)'), (147367, 'London planetree', 'Fair', 'Alive', 'POINT(-73.96329055 40.80913784)'), (148248, 'ginkgo', 'Good', 'Alive', 'POINT(-73.96286106 40.81269724)'), (148286, 'honeylocust', 'Poor', 'Alive', 'POINT(-73.96602417 40.80643418)'), (148378, 'pin oak', 'Good', 'Alive', 'POINT(-73.96272932 40.8099082)'), (150056, 'Callery pear', 'Good', 'Alive', 'POINT(-73.96178839 40.81403231)'), (150067, 'Callery pear', 'Good', 'Alive', 'POINT(-73.96550771 40.80774565)'), (153316, 'ginkgo', 'Poor', 'Alive', 'POINT(-73.96563567 40.80627037)'), (153373, 'littleleaf linden', 'Poor', 'Alive', 'POINT(-73.96507513 40.80860584)'), (157719, 'ginkgo', 'Good', 'Alive', 'POINT(-73.95881853 40.80079563)'), (159547, 'Sophora', 'Good', 'Alive', 'POINT(-73.96311524 40.8052078)'), (166195, 'Sophora', 'Good', 'Alive', 'POINT(-73.96078667 40.81418029)'), (166347, 'Sophora', 'Good', 'Alive', 'POINT(-73.96341582 40.80896591)'), (171387, 'littleleaf linden', 'Poor', 'Alive', 'POINT(-73.96498261 40.80856511)'), (176697, 'Kentucky coffeetree', 'Good', 'Alive', 'POINT(-73.96605616 40.80797667)'), (179412, 'American elm', 'Fair', 'Alive', 'POINT(-73.9660054 40.80724856)'), (179419, 'American elm', 'Good', 'Alive', 'POINT(-73.96652452 40.80746771)'), (180246, 'American elm', 'Fair', 'Alive', 'POINT(-73.9659012 40.80720457)'), (185492, 'Japanese tree lilac', 'Good', 'Alive', 'POINT(-73.96471978 40.80741375)'), (187031, 'American hornbeam', 'Good', 'Alive', 'POINT(-73.95934156 40.80856046)'), (252029, 'honeylocust', 'Good', 'Alive', 'POINT(-73.96965506 40.80321353)'), (252086, 'honeylocust', 'Good', 'Alive', 'POINT(-73.96975988 40.80307096)'), (252555, 'pin oak', 'Good', 'Alive', 'POINT(-73.96311752 40.80380184)'), (252581, 'pin oak', 'Good', 'Alive', 'POINT(-73.96328568 40.80351742)'), (252591, 'pin oak', 'Good', 'Alive', 'POINT(-73.96340952 40.80340138)'), (252592, 'pin oak', 'Good', 'Alive', 'POINT(-73.96306335 40.80382233)'), (252647, 'pin oak', 'Good', 'Alive', 'POINT(-73.96287558 40.80413363)'), (252712, 'pin oak', 'Good', 'Alive', 'POINT(-73.96299568 40.80396893)'), (252713, 'pin oak', 'Good', 'Alive', 'POINT(-73.96254516 40.80453297)'), (252740, 'pin oak', 'Good', 'Alive', 'POINT(-73.9629232 40.80406833)'), (253786, 'honeylocust', 'Fair', 'Alive', 'POINT(-73.96949333 40.80343349)'), (255565, 'pin oak', 'Good', 'Alive', 'POINT(-73.96254891 40.80458162)'), (255597, 'pin oak', 'Good', 'Alive', 'POINT(-73.96297187 40.80400158)'), (256662, 'Japanese zelkova', 'Good', 'Alive', 'POINT(-73.96935221 40.80329216)'), (257446, 'American elm', 'Good', 'Alive', 'POINT(-73.96906827 40.80383381)'), (257464, 'American elm', 'Good', 'Alive', 'POINT(-73.96867139 40.80445322)'), (257542, 'American elm', 'Good', 'Alive', 'POINT(-73.96872705 40.80436635)'), (258468, 'American elm', 'Good', 'Alive', 'POINT(-73.96889592 40.80410279)'), (260937, 'honeylocust', 'Good', 'Alive', 'POINT(-73.96976683 40.80285075)'), (260958, 'honeylocust', 'Good', 'Alive', 'POINT(-73.96968851 40.80295741)'), (261805, 'American elm', 'Good', 'Alive', 'POINT(-73.96806047 40.80553867)'), (262517, 'pin oak', 'Good', 'Alive', 'POINT(-73.96141251 40.80437492)'), (262608, 'pin oak', 'Good', 'Alive', 'POINT(-73.96085059 40.80413635)'), (263366, 'honeylocust', 'Good', 'Alive', 'POINT(-73.96819625 40.80528449)'), (264619, 'Siberian elm', 'Good', 'Alive', 'POINT(-73.96802615 40.8018131)'), (266328, 'Sophora', 'Good', 'Alive', 'POINT(-73.96851627 40.8046953)'), (269304, 'littleleaf linden', 'Good', 'Alive', 'POINT(-73.96944232 40.80316451)'), (276742, 'Japanese zelkova', 'Good', 'Alive', 'POINT(-73.96967114 40.80284665)'), (276819, 'Japanese zelkova', 'Good', 'Alive', 'POINT(-73.96949433 40.80309227)'), (280229, 'green ash', 'Fair', 'Alive', 'POINT(-73.9696296 40.8030404)'), (280680, 'Siberian elm', 'Good', 'Alive', 'POINT(-73.9680334 40.80174085)'), (293255, 'ginkgo', 'Good', 'Alive', 'POINT(-73.95973285 40.80049523)'), (294231, 'pin oak', 'Good', 'Alive', 'POINT(-73.9614739 40.80131754)'), (296720, 'ginkgo', 'Good', 'Alive', 'POINT(-73.96873649 40.80346607)'), (296754, 'American elm', 'Fair', 'Alive', 'POINT(-73.96755456 40.80703043)'), (297364, 'American elm', 'Good', 'Alive', 'POINT(-73.96759416 40.80696572)'), (297365, 'American elm', 'Good', 'Alive', 'POINT(-73.9670031 40.80781629)'), (297366, 'American elm', 'Good', 'Alive', 'POINT(-73.96642446 40.80850466)'), (297392, 'honeylocust', 'Good', 'Alive', 'POINT(-73.96572056 40.80923555)'), (297418, 'Callery pear', 'Good', 'Alive', 'POINT(-73.96226943 40.80022554)'), (297484, 'American elm', 'Good', 'Alive', 'POINT(-73.96486115 40.81035411)'), (297485, 'American elm', 'Good', 'Alive', 'POINT(-73.96436082 40.81109849)'), (297497, 'American elm', 'Good', 'Alive', 'POINT(-73.96479438 40.81049981)'), (297505, 'ginkgo', 'Good', 'Alive', 'POINT(-73.96861947 40.803417)'), (297522, 'American elm', 'Good', 'Alive', 'POINT(-73.96736137 40.80733177)'), (297569, 'American elm', 'Good', 'Alive', 'POINT(-73.96769776 40.80679662)'), (297571, 'American elm', 'Good', 'Alive', 'POINT(-73.96664706 40.80830155)'), (297572, 'American elm', 'Good', 'Alive', 'POINT(-73.96662853 40.80832185)'), (297573, 'American elm', 'Good', 'Alive', 'POINT(-73.9654052 40.80961232)'), (297574, 'American elm', 'Good', 'Alive', 'POINT(-73.96453822 40.81085198)'), (297589, 'American elm', 'Good', 'Alive', 'POINT(-73.9652351 40.80984445)'), (297590, 'American elm', 'Good', 'Alive', 'POINT(-73.96461511 40.81074628)'), (297591, 'American elm', 'Good', 'Alive', 'POINT(-73.96427992 40.81121502)'), (298253, 'pin oak', 'Good', 'Alive', 'POINT(-73.96140362 40.80141409)'), (298456, 'American elm', 'Good', 'Alive', 'POINT(-73.96594782 40.80893703)'), (298457, 'American elm', 'Good', 'Alive', 'POINT(-73.96589077 40.8090051)'), (298483, 'American elm', 'Good', 'Alive', 'POINT(-73.9657468 40.80914613)'), (298484, 'American elm', 'Good', 'Alive', 'POINT(-73.96533432 40.80976265)'), (298507, 'American elm', 'Good', 'Alive', 'POINT(-73.96651767 40.80838551)'), (299243, 'American elm', 'Good', 'Alive', 'POINT(-73.9658049 40.80912044)'), (300906, 'American elm', 'Good', 'Alive', 'POINT(-73.96674383 40.80819556)'), (300907, 'American elm', 'Good', 'Alive', 'POINT(-73.9662231 40.80867093)'), (300921, 'honeylocust', 'Good', 'Alive', 'POINT(-73.96496178 40.81026967)'), (300922, 'honeylocust', 'Good', 'Alive', 'POINT(-73.96440088 40.8110408)'), (301513, 'eastern cottonwood', 'Fair', 'Alive', 'POINT(-73.95604394 40.80622285)'), (301742, 'American elm', 'Good', 'Alive', 'POINT(-73.96409306 40.81151691)'), (301749, 'American elm', 'Good', 'Alive', 'POINT(-73.96517886 40.80992119)'), (301750, 'American elm', 'Good', 'Alive', 'POINT(-73.96448126 40.81093029)'), (302349, 'honeylocust', 'Good', 'Alive', 'POINT(-73.96506402 40.81013032)'), (302370, 'American elm', 'Good', 'Alive', 'POINT(-73.96419666 40.81133495)'), (302431, 'American elm', 'Good', 'Alive', 'POINT(-73.96533842 40.80970344)'), (302432, 'American elm', 'Good', 'Alive', 'POINT(-73.96442152 40.81095852)'), (302470, 'honeylocust', 'Good', 'Alive', 'POINT(-73.96483774 40.8103863)'), (302536, 'American elm', 'Good', 'Alive', 'POINT(-73.96407932 40.81155389)'), (303148, 'American hornbeam', 'Good', 'Alive', 'POINT(-73.95562347 40.80546126)'), (303274, 'littleleaf linden', 'Good', 'Alive', 'POINT(-73.96460534 40.8107058)'), (303281, 'American elm', 'Good', 'Alive', 'POINT(-73.96514884 40.81001542)'), (303282, 'American elm', 'Good', 'Alive', 'POINT(-73.96467453 40.81061067)'), (303372, 'honeylocust', 'Good', 'Alive', 'POINT(-73.96502867 40.8101782)'), (303373, 'honeylocust', 'Good', 'Alive', 'POINT(-73.96494782 40.81023496)'), (304115, 'Callery pear', 'Good', 'Alive', 'POINT(-73.96205505 40.80016526)'), (304860, 'honeylocust', 'Good', 'Alive', 'POINT(-73.96954356 40.80359607)'), (304911, 'honeylocust', 'Good', 'Alive', 'POINT(-73.96944485 40.80373462)'), (304912, 'honeylocust', 'Good', 'Alive', 'POINT(-73.96863151 40.80505482)'), (304943, 'honeylocust', 'Good', 'Alive', 'POINT(-73.96980564 40.80322823)'), (304944, 'honeylocust', 'Good', 'Alive', 'POINT(-73.96877677 40.80477557)'), (304974, 'honeylocust', 'Good', 'Alive', 'POINT(-73.96970349 40.8033716)'), (304975, 'honeylocust', 'Good', 'Alive', 'POINT(-73.96935499 40.80391727)'), (304979, 'honeylocust', 'Good', 'Alive', 'POINT(-73.96992524 40.80311513)'), (305025, 'honeylocust', 'Good', 'Alive', 'POINT(-73.9693245 40.8039053)'), (305026, 'honeylocust', 'Good', 'Alive', 'POINT(-73.96932283 40.80396458)'), (305055, 'American linden', 'Good', 'Alive', 'POINT(-73.96919189 40.80415723)'), (305081, 'honeylocust', 'Good', 'Alive', 'POINT(-73.96805211 40.80317912)'), (305952, 'American elm', 'Good', 'Alive', 'POINT(-73.96990804 40.80313927)'), (305979, 'American elm', 'Good', 'Alive', 'POINT(-73.96998964 40.80296996)'), (305980, 'American elm', 'Good', 'Alive', 'POINT(-73.96965284 40.80349746)'), (305982, 'American elm', 'Good', 'Alive', 'POINT(-73.96847826 40.80527853)'), (306060, 'Callery pear', 'Good', 'Alive', 'POINT(-73.96304272 40.80189427)'), (306080, 'Callery pear', 'Good', 'Alive', 'POINT(-73.96262028 40.80171364)'), (306175, 'American elm', 'Good', 'Alive', 'POINT(-73.96980245 40.80328747)'), (306194, 'American elm', 'Good', 'Alive', 'POINT(-73.96850225 40.80530341)'), (306195, 'American elm', 'Good', 'Alive', 'POINT(-73.96829855 40.80569674)'), (306198, 'Callery pear', 'Good', 'Alive', 'POINT(-73.96313023 40.80193169)'), (306228, 'American elm', 'Good', 'Alive', 'POINT(-73.96837025 40.8055583)'), (306263, 'American elm', 'Good', 'Alive', 'POINT(-73.96985989 40.80320685)'), (306264, 'American elm', 'Good', 'Alive', 'POINT(-73.96983582 40.80324064)'), (306271, 'American elm', 'Good', 'Alive', 'POINT(-73.96957374 40.80360849)'), (306272, 'American elm', 'Good', 'Alive', 'POINT(-73.96951183 40.80369538)'), (306275, 'American elm', 'Good', 'Alive', 'POINT(-73.96842871 40.80544541)'), (306297, 'American elm', 'Good', 'Alive', 'POINT(-73.97001294 40.80299203)'), (306298, 'American elm', 'Good', 'Alive', 'POINT(-73.96873689 40.8047813)'), (306299, 'American elm', 'Good', 'Alive', 'POINT(-73.96840279 40.80549547)'), (306306, 'American elm', 'Good', 'Alive', 'POINT(-73.9688959 40.80459186)'), (306416, 'American elm', 'Good', 'Alive', 'POINT(-73.96941312 40.80383393)'), (129590, 'bald cypress', 'Poor', 'Alive', 'POINT(-73.96217994 40.81005318)'), (129708, 'Japanese hornbeam', 'Good', 'Alive', 'POINT(-73.96228741 40.80568316)'), (130430, 'magnolia', 'Good', 'Alive', 'POINT(-73.96591584 40.8053065)'), (130431, 'magnolia', 'Fair', 'Alive', 'POINT(-73.96615641 40.80497319)'), (130496, 'magnolia', 'Good', 'Alive', 'POINT(-73.96222003 40.81036449)'), (131130, 'ginkgo', 'Good', 'Alive', 'POINT(-73.96206195 40.81243151)'), (131192, 'ginkgo', 'Fair', 'Alive', 'POINT(-73.96176222 40.81284254)'), (133949, 'ginkgo', 'Good', 'Alive', 'POINT(-73.96185431 40.81271625)'), (134836, 'ginkgo', 'Fair', 'Alive', 'POINT(-73.96157769 40.81309559)'), (136610, 'swamp white oak', 'Good', 'Alive', 'POINT(-73.95633972 40.80293171)'), (138260, 'ginkgo', 'Good', 'Alive', 'POINT(-73.96153082 40.81192824)'), (139018, 'ginkgo', 'Good', 'Alive', 'POINT(-73.96163526 40.8119719)'), (139031, 'ginkgo', 'Good', 'Alive', 'POINT(-73.96366131 40.80543867)'), (141640, 'Sophora', 'Good', 'Alive', 'POINT(-73.9607324 40.81425472)'), (143390, 'northern red oak', 'Good', 'Alive', 'POINT(-73.96255996 40.81014065)'), (144224, 'willow oak', 'Good', 'Alive', 'POINT(-73.96258675 40.81084225)'), (144270, 'ginkgo', 'Fair', 'Alive', 'POINT(-73.96190493 40.81103181)'), (145150, 'willow oak', 'Good', 'Alive', 'POINT(-73.96248256 40.81079823)'), (145845, 'northern red oak', 'Good', 'Alive', 'POINT(-73.96334479 40.8090634)'), (145933, 'pin oak', 'Good', 'Alive', 'POINT(-73.96416772 40.81059196)'), (145955, 'pin oak', 'Good', 'Alive', 'POINT(-73.96238396 40.81038223)'), (146756, 'littleleaf linden', 'Poor', 'Alive', 'POINT(-73.96235398 40.81339187)'), (146794, 'ginkgo', 'Good', 'Alive', 'POINT(-73.96363332 40.81163852)'), (146795, 'ginkgo', 'Fair', 'Alive', 'POINT(-73.9635465 40.81175761)'), (146800, 'London planetree', 'Good', 'Alive', 'POINT(-73.9637755 40.80847218)'), (147609, 'London planetree', 'Good', 'Alive', 'POINT(-73.96361525 40.80869215)'), (147616, 'London planetree', 'Good', 'Alive', 'POINT(-73.96287068 40.80971417)'), (147831, 'ginkgo', 'Poor', 'Alive', 'POINT(-73.9618071 40.81116635)'), (148548, 'London planetree', 'Good', 'Alive', 'POINT(-73.96295815 40.8095941)'), (148619, 'London planetree', 'Good', 'Alive', 'POINT(-73.96161039 40.81143686)'), (148631, 'ginkgo', 'Poor', 'Alive', 'POINT(-73.96573485 40.80631219)'), (148672, 'littleleaf linden', 'Good', 'Alive', 'POINT(-73.96089698 40.81402904)'), (150122, 'Callery pear', 'Good', 'Alive', 'POINT(-73.96192183 40.81384875)'), (150145, 'Kentucky coffeetree', 'Good', 'Alive', 'POINT(-73.96682257 40.80255195)'), (150146, 'Kentucky coffeetree', 'Good', 'Alive', 'POINT(-73.96557087 40.80202482)'), (150202, 'Callery pear', 'Good', 'Alive', 'POINT(-73.96196604 40.81378885)'), (151072, 'shingle oak', 'Fair', 'Alive', 'POINT(-73.96337365 40.80381511)'), (152027, 'littleleaf linden', 'Poor', 'Alive', 'POINT(-73.96268515 40.81293822)'), (152863, 'Kentucky coffeetree', 'Good', 'Alive', 'POINT(-73.96615473 40.80801819)'), (153548, 'littleleaf linden', 'Poor', 'Alive', 'POINT(-73.96210452 40.81367532)'), (153601, 'weeping willow', 'Good', 'Alive', 'POINT(-73.96165248 40.81109277)'), (154593, 'Kentucky coffeetree', 'Good', 'Alive', 'POINT(-73.96594306 40.80792903)'), (154646, 'magnolia', 'Good', 'Alive', 'POINT(-73.96220627 40.81032953)'), (158157, 'ginkgo', 'Good', 'Alive', 'POINT(-73.95906142 40.80089688)'), (162858, 'ginkgo', 'Good', 'Alive', 'POINT(-73.9587362 40.80076131)'), (165805, 'Sophora', 'Good', 'Alive', 'POINT(-73.96199193 40.81091217)'), (170141, 'Sophora', 'Good', 'Alive', 'POINT(-73.96185357 40.81110244)'), (174351, 'littleleaf linden', 'Poor', 'Alive', 'POINT(-73.96493573 40.80854447)'), (180331, 'American elm', 'Fair', 'Alive', 'POINT(-73.96525578 40.8069321)'), (195043, 'honeylocust', 'Good', 'Alive', 'POINT(-73.96634769 40.80739306)'), (195927, 'magnolia', 'Good', 'Alive', 'POINT(-73.96379519 40.80820918)'), (251828, 'Siberian elm', 'Good', 'Alive', 'POINT(-73.96801928 40.80188152)'), (251865, 'honeylocust', 'Good', 'Alive', 'POINT(-73.96943886 40.80350757)'), (253581, 'pin oak', 'Good', 'Alive', 'POINT(-73.96346134 40.80333031)'), (255706, 'pin oak', 'Good', 'Alive', 'POINT(-73.96243417 40.80468518)'), (255823, 'pin oak', 'Good', 'Alive', 'POINT(-73.96337346 40.80345083)'), (255824, 'pin oak', 'Good', 'Alive', 'POINT(-73.96322826 40.80359617)'), (255917, 'pin oak', 'Good', 'Alive', 'POINT(-73.96316873 40.8036778)'), (257362, 'American elm', 'Good', 'Alive', 'POINT(-73.96927378 40.80340347)'), (258001, 'honeylocust', 'Good', 'Alive', 'POINT(-73.9687488 40.80451934)'), (258017, 'American elm', 'Good', 'Alive', 'POINT(-73.96900407 40.803934)'), (258994, 'American linden', 'Good', 'Alive', 'POINT(-73.969402 40.80322151)'), (259035, 'Japanese zelkova', 'Good', 'Alive', 'POINT(-73.96844459 40.8048196)'), (260323, 'honeylocust', 'Good', 'Alive', 'POINT(-73.96882265 40.80440441)'), (261905, 'American elm', 'Good', 'Alive', 'POINT(-73.96835031 40.80499609)'), (261943, 'American elm', 'Good', 'Alive', 'POINT(-73.96813864 40.80539233)'), (262122, 'American elm', 'Good', 'Alive', 'POINT(-73.96829651 40.80509681)'), (265910, 'pin oak', 'Good', 'Alive', 'POINT(-73.96228156 40.80474388)'), (265911, 'pin oak', 'Good', 'Alive', 'POINT(-73.96191703 40.80458912)'), (266569, 'Sophora', 'Good', 'Alive', 'POINT(-73.96839351 40.80491522)'), (282577, 'green ash', 'Good', 'Alive', 'POINT(-73.96883172 40.80420298)'), (292958, 'ginkgo', 'Good', 'Alive', 'POINT(-73.95980362 40.80052503)'), (296880, 'American elm', 'Good', 'Alive', 'POINT(-73.96749602 40.80706423)'), (296881, 'American elm', 'Good', 'Alive', 'POINT(-73.96707087 40.80777536)'), (296882, 'American elm', 'Good', 'Alive', 'POINT(-73.96698532 40.80789443)'), (296883, 'American elm', 'Fair', 'Alive', 'POINT(-73.96585411 40.8090533)'), (296884, 'American elm', 'Good', 'Alive', 'POINT(-73.96541585 40.80965138)'), (296885, 'American elm', 'Good', 'Alive', 'POINT(-73.96445155 40.81097113)'), (297066, 'American elm', 'Good', 'Alive', 'POINT(-73.96766879 40.80684377)'), (297067, 'American elm', 'Good', 'Alive', 'POINT(-73.96748144 40.80714908)'), (297068, 'American elm', 'Good', 'Alive', 'POINT(-73.96740559 40.80726449)'), (297617, 'American elm', 'Good', 'Alive', 'POINT(-73.96653951 40.80840609)'), (297618, 'American elm', 'Good', 'Alive', 'POINT(-73.96527738 40.80984035)'), (297639, 'American elm', 'Good', 'Alive', 'POINT(-73.96779112 40.8065798)'), (297640, 'American elm', 'Good', 'Alive', 'POINT(-73.96774289 40.80672358)'), (297641, 'American elm', 'Good', 'Alive', 'POINT(-73.96727164 40.8074683)'), (297642, 'American elm', 'Good', 'Alive', 'POINT(-73.96716278 40.80757718)'), (297644, 'American elm', 'Good', 'Alive', 'POINT(-73.96680656 40.80807578)'), (297645, 'American elm', 'Good', 'Alive', 'POINT(-73.96558877 40.80941541)'), (297652, 'London planetree', 'Fair', 'Alive', 'POINT(-73.96134173 40.80149911)'), (297653, 'American elm', 'Good', 'Alive', 'POINT(-73.96702994 40.80783343)'), (297654, 'American elm', 'Good', 'Alive', 'POINT(-73.96647719 40.80845948)'), (297731, 'American elm', 'Good', 'Alive', 'POINT(-73.96555878 40.80940272)'), (297732, 'American elm', 'Good', 'Alive', 'POINT(-73.9641663 40.81132278)'), (297750, 'honeylocust', 'Good', 'Alive', 'POINT(-73.9667074 40.80818972)'), (297759, 'American elm', 'Good', 'Alive', 'POINT(-73.96719376 40.8075884)'), (297760, 'American elm', 'Good', 'Alive', 'POINT(-73.96548498 40.80950344)'), (297761, 'American elm', 'Good', 'Alive', 'POINT(-73.96519128 40.80995786)'), (297762, 'American elm', 'Good', 'Alive', 'POINT(-73.96483632 40.81044215)'), (297763, 'American elm', 'Good', 'Alive', 'POINT(-73.9644977 40.81085378)'), (297764, 'American elm', 'Fair', 'Alive', 'POINT(-73.96432037 40.81115676)'), (297795, 'pin oak', 'Good', 'Alive', 'POINT(-73.96143893 40.80136557)'), (297818, 'American elm', 'Good', 'Alive', 'POINT(-73.96669853 40.80824517)'), (297850, 'American elm', 'Good', 'Alive', 'POINT(-73.96600815 40.80881654)'), (297851, 'American elm', 'Good', 'Alive', 'POINT(-73.96457666 40.81079913)'), (297900, 'pin oak', 'Good', 'Alive', 'POINT(-73.96136795 40.80146308)'), (298523, 'American elm', 'Good', 'Alive', 'POINT(-73.96684712 40.80807468)'), (298524, 'American elm', 'Good', 'Alive', 'POINT(-73.96664088 40.80830832)'), (300208, 'ginkgo', 'Good', 'Alive', 'POINT(-73.96848664 40.80336131)'), (300272, 'honeylocust', 'Good', 'Alive', 'POINT(-73.96765138 40.80681037)'), (300305, 'American elm', 'Good', 'Alive', 'POINT(-73.96608712 40.80878396)'), (300306, 'American elm', 'Good', 'Alive', 'POINT(-73.96501641 40.81014151)'), (300313, 'American elm', 'Good', 'Alive', 'POINT(-73.96722968 40.80753214)'), (301012, 'honeylocust', 'Good', 'Alive', 'POINT(-73.96554308 40.80947776)'), (301013, 'honeylocust', 'Good', 'Alive', 'POINT(-73.96514884 40.81001542)'), (301014, 'honeylocust', 'Good', 'Alive', 'POINT(-73.96413598 40.81142234)'), (301074, 'American elm', 'Good', 'Alive', 'POINT(-73.96408828 40.81144513)'), (301216, 'honeylocust', 'Good', 'Alive', 'POINT(-73.96476085 40.810492)'), (301985, 'honeylocust', 'Good', 'Alive', 'POINT(-73.96496353 40.81026727)'), (302602, 'honeylocust', 'Good', 'Alive', 'POINT(-73.96732489 40.80738727)'), (302773, 'American elm', 'Good', 'Alive', 'POINT(-73.96827349 40.80327194)'), (302775, 'American elm', 'Good', 'Alive', 'POINT(-73.96412067 40.81145377)'), (303566, 'Chinese elm', 'Good', 'Alive', 'POINT(-73.96793502 40.80638635)'), (303680, 'Chinese elm', 'Good', 'Alive', 'POINT(-73.96604874 40.80881665)'), (304350, 'Callery pear', 'Good', 'Alive', 'POINT(-73.96201771 40.80021669)'), (304351, 'Callery pear', 'Good', 'Alive', 'POINT(-73.96191267 40.80036136)'), (305141, 'honeylocust', 'Good', 'Alive', 'POINT(-73.96927145 40.80404018)'), (305145, 'honeylocust', 'Good', 'Alive', 'POINT(-73.96913654 40.80418185)'), (305146, 'honeylocust', 'Good', 'Alive', 'POINT(-73.96869976 40.80492362)'), (305166, 'pin oak', 'Good', 'Alive', 'POINT(-73.96399966 40.80230346)'), (305183, 'honeylocust', 'Good', 'Alive', 'POINT(-73.96837469 40.80331437)'), (305275, 'pin oak', 'Fair', 'Alive', 'POINT(-73.96203605 40.80146381)'), (306498, 'American elm', 'Good', 'Alive', 'POINT(-73.96977494 40.80332609)'), (306499, 'American elm', 'Good', 'Alive', 'POINT(-73.96884876 40.80465986)'), (306523, 'American elm', 'Good', 'Alive', 'POINT(-73.96964252 40.80351194)'), (306629, 'American elm', 'Good', 'Alive', 'POINT(-73.9685433 40.80515346)'), (306642, 'American elm', 'Good', 'Alive', 'POINT(-73.96826681 40.80575803)'), (306716, 'Callery pear', 'Good', 'Alive', 'POINT(-73.96319633 40.80195996)'), (306723, 'American elm', 'Good', 'Alive', 'POINT(-73.96947503 40.80374703)'), (306726, 'American elm', 'Good', 'Alive', 'POINT(-73.9687881 40.80469141)'), (306746, 'American elm', 'Good', 'Alive', 'POINT(-73.96987881 40.8031803)'), (306748, 'American elm', 'Good', 'Alive', 'POINT(-73.96897477 40.80441986)'), (306753, 'American elm', 'Good', 'Alive', 'POINT(-73.96846125 40.80538258)'), (306762, 'American elm', 'Poor', 'Alive', 'POINT(-73.96960375 40.80351159)'), (306773, 'littleleaf linden', 'Good', 'Alive', 'POINT(-73.96917531 40.80418162)'), (306784, 'American elm', 'Good', 'Alive', 'POINT(-73.96971819 40.80340574)'), (306825, 'American elm', 'Good', 'Alive', 'POINT(-73.96884203 40.80466957)'), (306851, 'American elm', 'Good', 'Alive', 'POINT(-73.96930129 40.80399628)'), (306870, 'American elm', 'Good', 'Alive', 'POINT(-73.96955138 40.80363987)'), (306871, 'American elm', 'Good', 'Alive', 'POINT(-73.96909741 40.80429624)'), (306894, 'American elm', 'Good', 'Alive', 'POINT(-73.97005765 40.80292927)'), (306897, 'American elm', 'Good', 'Alive', 'POINT(-73.96922107 40.80405748)'), (306898, 'American elm', 'Good', 'Alive', 'POINT(-73.96901686 40.80441476)'), (306899, 'American elm', 'Good', 'Alive', 'POINT(-73.96897045 40.80448304)'), (307320, 'honeylocust', 'Good', 'Alive', 'POINT(-73.96989506 40.80310272)'), (307385, 'honeylocust', 'Good', 'Alive', 'POINT(-73.96827059 40.80567952)'), (307447, 'American elm', 'Good', 'Alive', 'POINT(-73.96880331 40.80472542)'), (307456, 'American elm', 'Good', 'Alive', 'POINT(-73.96842006 40.80539091)'), (307457, 'American elm', 'Good', 'Alive', 'POINT(-73.96833639 40.80562369)'), (308738, 'northern red oak', 'Good', 'Alive', 'POINT(-73.96562672 40.80936361)'), (309152, 'Callery pear', 'Good', 'Alive', 'POINT(-73.96230503 40.80017652)'), (309198, 'American elm', 'Good', 'Alive', 'POINT(-73.96873429 40.80485725)'), (309946, 'American elm', 'Good', 'Alive', 'POINT(-73.96798636 40.80629095)'), (310104, 'American elm', 'Good', 'Alive', 'POINT(-73.96808096 40.8060435)'), (311388, 'American elm', 'Good', 'Alive', 'POINT(-73.96820048 40.80581489)'), (311389, 'American elm', 'Good', 'Alive', 'POINT(-73.968202 40.80588318)'), (311685, 'American elm', 'Fair', 'Alive', 'POINT(-73.96799298 40.80620891)'), (311686, 'American elm', 'Good', 'Alive', 'POINT(-73.9680248 40.80621868)'), (311711, 'London planetree', 'Good', 'Alive', 'POINT(-73.96232761 40.81384587)'), (311727, 'American linden', 'Good', 'Alive', 'POINT(-73.96220463 40.81417326)'), (311735, 'London planetree', 'Good', 'Alive', 'POINT(-73.9630525 40.81270742)'), (311778, 'American elm', 'Good', 'Alive', 'POINT(-73.9681676 40.80594959)'), (311864, 'London planetree', 'Good', 'Alive', 'POINT(-73.962346 40.81379205)'), (311866, 'London planetree', 'Good', 'Alive', 'POINT(-73.96312467 40.81266255)'), (311867, 'London planetree', 'Good', 'Alive', 'POINT(-73.96376249 40.81243185)'), (311883, 'London planetree', 'Good', 'Alive', 'POINT(-73.96313862 40.81258992)'), (311884, 'London planetree', 'Good', 'Alive', 'POINT(-73.96318079 40.81253236)'), (311885, 'London planetree', 'Good', 'Alive', 'POINT(-73.96379663 40.81242916)'), (311886, 'London planetree', 'Good', 'Alive', 'POINT(-73.96380668 40.81250287)'), (311897, 'London planetree', 'Good', 'Alive', 'POINT(-73.96237916 40.81370791)'), (311898, 'London planetree', 'Good', 'Alive', 'POINT(-73.96283645 40.81305584)'), (312333, 'London planetree', 'Good', 'Alive', 'POINT(-73.96301044 40.81281843)'), (312378, 'Sophora', 'Good', 'Alive', 'POINT(-73.96790221 40.80311626)'), (312924, 'American elm', 'Good', 'Alive', 'POINT(-73.96743141 40.8072252)'), (312944, 'American elm', 'Fair', 'Alive', 'POINT(-73.96756304 40.80695472)'), (312945, 'American elm', 'Good', 'Alive', 'POINT(-73.96594799 40.8088883)'), (313391, 'pin oak', 'Good', 'Alive', 'POINT(-73.95807581 40.81130861)'), (313838, 'ginkgo', 'Good', 'Alive', 'POINT(-73.9584675 40.81147317)'), (314449, 'London planetree', 'Good', 'Alive', 'POINT(-73.96245041 40.81358304)'), (306420, 'American elm', 'Good', 'Alive', 'POINT(-73.96867135 40.80497824)'), (323998, 'American elm', 'Good', 'Alive', 'POINT(-73.96404747 40.81166928)'), (327439, 'London planetree', 'Good', 'Alive', 'POINT(-73.9631686 40.8126026)'), (327440, 'London planetree', 'Fair', 'Alive', 'POINT(-73.96335829 40.81238653)'), (328145, 'Sophora', 'Good', 'Alive', 'POINT(-73.9686089 40.80502737)'), (341160, 'ginkgo', 'Good', 'Alive', 'POINT(-73.9542825 40.80478265)'), (342171, 'Japanese zelkova', 'Good', 'Alive', 'POINT(-73.95463162 40.80492909)'), (342701, 'Japanese zelkova', 'Good', 'Alive', 'POINT(-73.95471257 40.80496305)'), (345599, 'scarlet oak', 'Good', 'Alive', 'POINT(-73.96194539 40.80142505)'), (346623, 'pin oak', 'Good', 'Alive', 'POINT(-73.95530503 40.81207255)'), (350115, 'Sophora', 'Good', 'Alive', 'POINT(-73.95392642 40.8046333)'), (350806, 'littleleaf linden', 'Good', 'Alive', 'POINT(-73.96026729 40.80127938)'), (354213, 'pin oak', 'Good', 'Alive', 'POINT(-73.95455857 40.8112133)'), (358021, 'Callery pear', 'Good', 'Alive', 'POINT(-73.9589171 40.80929822)'), (364149, 'ginkgo', 'Good', 'Alive', 'POINT(-73.96111377 40.81094837)'), (364321, 'honeylocust', 'Good', 'Alive', 'POINT(-73.95839621 40.8090781)'), (364993, 'Callery pear', 'Good', 'Alive', 'POINT(-73.96099047 40.81089658)'), (365817, 'Callery pear', 'Good', 'Alive', 'POINT(-73.9591436 40.8101207)'), (367656, 'littleleaf linden', 'Good', 'Alive', 'POINT(-73.96073061 40.81078741)'), (387343, 'London planetree', 'Good', 'Alive', 'POINT(-73.96404255 40.81233932)'), (389071, 'pin oak', 'Good', 'Alive', 'POINT(-73.96403184 40.81199083)'), (482612, 'two-winged silverbell', 'Fair', 'Alive', 'POINT(-73.96424501 40.80474966)'), (521532, 'ginkgo', 'Good', 'Alive', 'POINT(-73.96315963 40.80592733)'), (522652, 'Japanese zelkova', 'Good', 'Alive', 'POINT(-73.95560301 40.80286265)'), (522824, 'American linden', 'Good', 'Alive', 'POINT(-73.95352687 40.80622132)'), (523600, 'silver linden', 'Fair', 'Alive', 'POINT(-73.95512241 40.80337129)'), (524597, 'Japanese zelkova', 'Fair', 'Alive', 'POINT(-73.95510873 40.80333571)'), (527087, 'Japanese zelkova', 'Good', 'Alive', 'POINT(-73.95566203 40.80288761)'), (529343, 'American elm', 'Fair', 'Alive', 'POINT(-73.95507737 40.80687466)'), (529344, 'American elm', 'Good', 'Alive', 'POINT(-73.95477251 40.80674566)'), (529380, 'Callery pear', 'Good', 'Alive', 'POINT(-73.95342555 40.80606732)'), (530323, 'American elm', 'Good', 'Alive', 'POINT(-73.9547094 40.80671896)'), (531112, 'cherry', 'Good', 'Alive', 'POINT(-73.95449354 40.80662761)'), (531144, 'American linden', 'Good', 'Alive', 'POINT(-73.95370947 40.80618595)'), (531185, 'ginkgo', 'Good', 'Alive', 'POINT(-73.96109658 40.80599702)'), (531285, 'American linden', 'Good', 'Alive', 'POINT(-73.95378543 40.80621769)'), (531286, 'American linden', 'Good', 'Alive', 'POINT(-73.95361135 40.80614495)'), (531293, 'American linden', 'Fair', 'Alive', 'POINT(-73.96072193 40.80676073)'), (531294, 'American linden', 'Fair', 'Alive', 'POINT(-73.96040334 40.80662563)'), (532117, 'ginkgo', 'Fair', 'Alive', 'POINT(-73.96049188 40.80574121)'), (532132, 'ginkgo', 'Good', 'Alive', 'POINT(-73.96026718 40.80564614)'), (532205, 'ginkgo', 'Good', 'Alive', 'POINT(-73.96049522 40.80647294)'), (533720, 'ginkgo', 'Good', 'Alive', 'POINT(-73.96085473 40.80661808)'), (533898, 'ginkgo', 'Good', 'Alive', 'POINT(-73.95959216 40.80610836)'), (534666, 'cherry', 'Good', 'Alive', 'POINT(-73.95442916 40.80660037)'), (534734, 'Japanese zelkova', 'Good', 'Alive', 'POINT(-73.95585456 40.80296902)'), (534740, 'purple-leaf plum', 'Good', 'Alive', 'POINT(-73.95581208 40.80707275)'), (534768, 'ginkgo', 'Good', 'Alive', 'POINT(-73.96025693 40.80637674)'), (535483, 'ginkgo', 'Good', 'Alive', 'POINT(-73.96002088 40.80628145)'), (538326, 'Japanese zelkova', 'Good', 'Alive', 'POINT(-73.95460702 40.80503234)'), (143745, 'littleleaf linden', 'Poor', 'Alive', 'POINT(-73.96266197 40.80501617)'), (143770, 'ginkgo', 'Poor', 'Alive', 'POINT(-73.96321075 40.81221811)'), (144415, 'green ash', 'Poor', 'Alive', 'POINT(-73.9633646 40.80531323)'), (144436, 'willow oak', 'Good', 'Alive', 'POINT(-73.96266125 40.81087374)'), (144552, 'littleleaf linden', 'Poor', 'Alive', 'POINT(-73.96503074 40.8085863)'), (146270, 'littleleaf linden', 'Poor', 'Alive', 'POINT(-73.9622443 40.81354213)'), (146437, 'ginkgo', 'Fair', 'Alive', 'POINT(-73.96139831 40.81172852)'), (147079, 'London planetree', 'Good', 'Alive', 'POINT(-73.96301134 40.8095211)'), (147230, 'Callery pear', 'Good', 'Alive', 'POINT(-73.96187712 40.81391025)'), (147908, 'honeylocust', 'Good', 'Alive', 'POINT(-73.96532636 40.80766926)'), (147945, 'American linden', 'Good', 'Alive', 'POINT(-73.96568463 40.80782017)'), (147994, 'Callery pear', 'Good', 'Alive', 'POINT(-73.96182716 40.81397897)'), (148125, 'honeylocust', 'Good', 'Alive', 'POINT(-73.96522021 40.80762454)'), (148142, 'honeylocust', 'Good', 'Alive', 'POINT(-73.9658833 40.80637478)'), (148172, 'ginkgo', 'Good', 'Alive', 'POINT(-73.96156532 40.81149885)'), (150397, 'American linden', 'Good', 'Alive', 'POINT(-73.96099677 40.81389219)'), (152358, 'littleleaf linden', 'Poor', 'Alive', 'POINT(-73.96259649 40.81305967)'), (155505, 'ginkgo', 'Good', 'Alive', 'POINT(-73.9589813 40.80086349)'), (155707, 'ginkgo', 'Good', 'Alive', 'POINT(-73.95890214 40.80083048)'), (158269, 'ginkgo', 'Good', 'Alive', 'POINT(-73.95914471 40.8009316)'), (162206, 'Callery pear', 'Good', 'Alive', 'POINT(-73.96505466 40.80755481)'), (163876, 'Japanese hornbeam', 'Good', 'Alive', 'POINT(-73.95462328 40.80558399)'), (166371, 'Sophora', 'Good', 'Alive', 'POINT(-73.96303128 40.8051723)'), (166411, 'American elm', 'Fair', 'Alive', 'POINT(-73.96533788 40.80696675)'), (166412, 'American elm', 'Good', 'Alive', 'POINT(-73.96548755 40.80702994)'), (168139, 'American elm', 'Good', 'Alive', 'POINT(-73.96512443 40.80687664)'), (170663, 'Kentucky coffeetree', 'Good', 'Alive', 'POINT(-73.96583122 40.80788192)'), (172164, 'Japanese hornbeam', 'Good', 'Alive', 'POINT(-73.95472761 40.8054409)'), (179810, 'Siberian elm', 'Good', 'Alive', 'POINT(-73.96755718 40.80240388)'), (179923, 'American elm', 'Fair', 'Alive', 'POINT(-73.96575721 40.80714378)'), (179934, 'American elm', 'Good', 'Alive', 'POINT(-73.96560123 40.80707793)'), (197879, 'golden raintree', 'Good', 'Alive', 'POINT(-73.96166613 40.81420049)'), (198102, 'golden raintree', 'Good', 'Alive', 'POINT(-73.961627 40.81425431)'), (203098, 'Kentucky coffeetree', 'Good', 'Alive', 'POINT(-73.96627163 40.80806742)'), (235668, 'European hornbeam', 'Good', 'Alive', 'POINT(-73.96681443 40.80676738)'), (237266, 'European hornbeam', 'Good', 'Alive', 'POINT(-73.96691361 40.8068092)'), (237269, 'European hornbeam', 'Good', 'Alive', 'POINT(-73.96693826 40.80669852)'), (237270, 'European hornbeam', 'Fair', 'Alive', 'POINT(-73.96701723 40.8067318)'), (237454, 'European hornbeam', 'Good', 'Alive', 'POINT(-73.96265969 40.81000377)'), (252258, 'pin oak', 'Good', 'Alive', 'POINT(-73.96360603 40.80307807)'), (252401, 'pin oak', 'Good', 'Alive', 'POINT(-73.96252055 40.80462051)'), (253171, 'American elm', 'Fair', 'Alive', 'POINT(-73.96994205 40.8028232)'), (253363, 'honeylocust', 'Good', 'Alive', 'POINT(-73.96985044 40.8029478)'), (254038, 'Japanese zelkova', 'Good', 'Alive', 'POINT(-73.96944999 40.80349243)'), (254275, 'pin oak', 'Good', 'Alive', 'POINT(-73.96303384 40.80391659)'), (255947, 'pin oak', 'Good', 'Alive', 'POINT(-73.9635157 40.80320196)'), (256001, 'pin oak', 'Good', 'Alive', 'POINT(-73.96311201 40.80375559)'), (257042, 'Chinese elm', 'Good', 'Alive', 'POINT(-73.96944264 40.80330867)'), (257745, 'honeylocust', 'Good', 'Alive', 'POINT(-73.96839216 40.80514871)'), (257780, 'pin oak', 'Good', 'Alive', 'POINT(-73.96061788 40.80403754)'), (257895, 'honeylocust', 'Good', 'Alive', 'POINT(-73.96845496 40.80502151)'), (258616, 'American elm', 'Fair', 'Alive', 'POINT(-73.96950958 40.80321262)'), (260738, 'Sophora', 'Fair', 'Alive', 'POINT(-73.96955587 40.80334843)'), (261480, 'American linden', 'Good', 'Alive', 'POINT(-73.96808946 40.80548439)'), (261517, 'American elm', 'Good', 'Alive', 'POINT(-73.96895126 40.80401642)'), (261591, 'American elm', 'Good', 'Alive', 'POINT(-73.96905626 40.80404086)'), (262348, 'pin oak', 'Good', 'Alive', 'POINT(-73.96076672 40.80410073)'), (262373, 'pin oak', 'Good', 'Alive', 'POINT(-73.96176567 40.80452486)'), (262439, 'pin oak', 'Good', 'Alive', 'POINT(-73.96213461 40.80468149)'), (267018, 'Sophora', 'Good', 'Alive', 'POINT(-73.96858916 40.80458154)'), (270394, 'pin oak', 'Good', 'Alive', 'POINT(-73.96351246 40.80326021)'), (276351, 'Japanese zelkova', 'Good', 'Alive', 'POINT(-73.96953732 40.80303255)'), (282044, 'green ash', 'Good', 'Alive', 'POINT(-73.96937437 40.80326071)'), (283036, 'Japanese zelkova', 'Good', 'Alive', 'POINT(-73.96976769 40.80271253)'), (295207, 'Japanese zelkova', 'Good', 'Alive', 'POINT(-73.96971794 40.80278164)'), (297093, 'American elm', 'Good', 'Alive', 'POINT(-73.96782696 40.80658229)'), (297094, 'American elm', 'Good', 'Alive', 'POINT(-73.96681257 40.80811974)'), (297095, 'American elm', 'Good', 'Alive', 'POINT(-73.96616471 40.80871886)'), (297212, 'American elm', 'Good', 'Alive', 'POINT(-73.96693986 40.80795372)'), (297213, 'American elm', 'Good', 'Alive', 'POINT(-73.96598664 40.80889073)'), (297258, 'American elm', 'Good', 'Alive', 'POINT(-73.96786428 40.80644716)'), (297259, 'American elm', 'Good', 'Alive', 'POINT(-73.96786103 40.80652052)'), (297262, 'American elm', 'Fair', 'Alive', 'POINT(-73.9671094 40.80772068)'), (297263, 'American elm', 'Good', 'Alive', 'POINT(-73.96567933 40.80923822)'), (297327, 'American elm', 'Good', 'Alive', 'POINT(-73.96709125 40.80769113)'), (297328, 'American elm', 'Good', 'Alive', 'POINT(-73.96687202 40.8079904)'), (298005, 'Chinese elm', 'Good', 'Alive', 'POINT(-73.96712222 40.80770236)'), (298180, 'northern red oak', 'Good', 'Alive', 'POINT(-73.96751648 40.80709264)'), (298777, 'American elm', 'Good', 'Alive', 'POINT(-73.96633144 40.80854495)'), (298778, 'American elm', 'Good', 'Alive', 'POINT(-73.96550969 40.80952332)'), (300417, 'honeylocust', 'Good', 'Alive', 'POINT(-73.96562134 40.80931735)'), (300421, 'American elm', 'Good', 'Alive', 'POINT(-73.96789593 40.80645723)'), (300423, 'American elm', 'Good', 'Alive', 'POINT(-73.967453 40.80713399)'), (300437, 'willow oak', 'Good', 'Alive', 'POINT(-73.96471156 40.81061367)'), (300551, 'American elm', 'Good', 'Alive', 'POINT(-73.96471472 40.81055542)'), (300554, 'American elm', 'Good', 'Alive', 'POINT(-73.96656491 40.80838433)'), (300555, 'American elm', 'Good', 'Alive', 'POINT(-73.96523872 40.80989311)'), (300556, 'American elm', 'Good', 'Alive', 'POINT(-73.96421857 40.81130339)'), (301341, 'littleleaf linden', 'Good', 'Alive', 'POINT(-73.9661223 40.8087156)'), (302071, 'American elm', 'Good', 'Alive', 'POINT(-73.96690531 40.80799878)'), (302072, 'American elm', 'Good', 'Alive', 'POINT(-73.96626262 40.80863889)'), (302073, 'American elm', 'Good', 'Alive', 'POINT(-73.96544045 40.80961781)'), (302219, 'Callery pear', 'Good', 'Alive', 'POINT(-73.96195734 40.80029984)'), (302229, 'honeylocust', 'Good', 'Alive', 'POINT(-73.96623264 40.80862506)'), (302245, 'honeylocust', 'Good', 'Alive', 'POINT(-73.96885983 40.80351778)'), (302313, 'honeylocust', 'Good', 'Alive', 'POINT(-73.96486989 40.8103421)'), (302981, 'honeylocust', 'Good', 'Alive', 'POINT(-73.96431529 40.81110817)'), (305405, 'pin oak', 'Good', 'Alive', 'POINT(-73.96211915 40.80149935)'), (305749, 'American elm', 'Good', 'Alive', 'POINT(-73.96405498 40.81163964)'), (306993, 'American elm', 'Good', 'Alive', 'POINT(-73.96973711 40.80337919)'), (306994, 'American elm', 'Good', 'Alive', 'POINT(-73.96893133 40.8045406)'), (306996, 'American elm', 'Good', 'Alive', 'POINT(-73.96859779 40.80511966)'), (306997, 'American elm', 'Good', 'Alive', 'POINT(-73.96856725 40.80517836)'), (307060, 'American elm', 'Good', 'Alive', 'POINT(-73.96906692 40.80428427)'), (307062, 'American elm', 'Good', 'Alive', 'POINT(-73.96834096 40.80554365)'), (307072, 'Callery pear', 'Good', 'Alive', 'POINT(-73.96333043 40.8020173)'), (307102, 'American elm', 'Good', 'Alive', 'POINT(-73.96867321 40.80497467)'), (307559, 'honeylocust', 'Good', 'Alive', 'POINT(-73.96856588 40.80511007)'), (307560, 'honeylocust', 'Good', 'Alive', 'POINT(-73.96853937 40.80523197)'), (307571, 'honeylocust', 'Good', 'Alive', 'POINT(-73.96912725 40.80425234)'), (309630, 'American elm', 'Good', 'Alive', 'POINT(-73.96823242 40.80582444)'), (309754, 'American elm', 'Good', 'Alive', 'POINT(-73.96810601 40.80606599)'), (310187, 'littleleaf linden', 'Good', 'Alive', 'POINT(-73.96813832 40.80593493)'), (311557, 'London planetree', 'Good', 'Alive', 'POINT(-73.96304031 40.81277766)'), (311558, 'London planetree', 'Good', 'Alive', 'POINT(-73.96377255 40.81250556)'), (311559, 'London planetree', 'Good', 'Alive', 'POINT(-73.96380683 40.81250391)'), (311969, 'London planetree', 'Good', 'Alive', 'POINT(-73.96281009 40.81309181)'), (311971, 'London planetree', 'Good', 'Alive', 'POINT(-73.9632755 40.81241962)'), (311972, 'London planetree', 'Good', 'Alive', 'POINT(-73.96330385 40.81243432)'), (312012, 'American elm', 'Fair', 'Alive', 'POINT(-73.9679647 40.80633167)'), (312045, 'London planetree', 'Good', 'Alive', 'POINT(-73.96301033 40.81276498)'), (312076, 'honeylocust', 'Good', 'Alive', 'POINT(-73.96637413 40.80854778)'), (312116, 'honeylocust', 'Good', 'Alive', 'POINT(-73.9657181 40.80923891)'), (312191, 'London planetree', 'Good', 'Alive', 'POINT(-73.96309468 40.81264987)'), (312646, 'Sophora', 'Good', 'Alive', 'POINT(-73.96771183 40.80671249)'), (312674, 'Sophora', 'Good', 'Alive', 'POINT(-73.96506755 40.81012554)'), (313130, 'pin oak', 'Good', 'Alive', 'POINT(-73.95826675 40.81138883)'), (313238, 'Sophora', 'Good', 'Alive', 'POINT(-73.96466333 40.81067998)'), (313616, 'littleleaf linden', 'Poor', 'Alive', 'POINT(-73.96250948 40.80166626)'), (314329, 'Japanese zelkova', 'Good', 'Alive', 'POINT(-73.95873464 40.8115854)'), (316011, 'London planetree', 'Good', 'Alive', 'POINT(-73.96380683 40.81250391)'), (316305, 'Sophora', 'Good', 'Alive', 'POINT(-73.96807352 40.80612707)'), (317565, 'hawthorn', 'Poor', 'Alive', 'POINT(-73.96380683 40.81250391)'), (319791, 'littleleaf linden', 'Good', 'Alive', 'POINT(-73.96813443 40.80601255)'), (319894, 'scarlet oak', 'Good', 'Alive', 'POINT(-73.9618604 40.80138871)'), (320034, 'ginkgo', 'Good', 'Alive', 'POINT(-73.96015698 40.81218291)'), (320385, 'ginkgo', 'Good', 'Alive', 'POINT(-73.95996445 40.81210203)'), (320424, 'American linden', 'Good', 'Alive', 'POINT(-73.96924659 40.80407676)'), (320529, 'ginkgo', 'Good', 'Alive', 'POINT(-73.96044501 40.81437666)'), (320533, 'honeylocust', 'Good', 'Alive', 'POINT(-73.96402999 40.81193047)'), (320546, 'ginkgo', 'Good', 'Alive', 'POINT(-73.96042096 40.8122938)'), (321694, 'American elm', 'Good', 'Alive', 'POINT(-73.96941312 40.80383393)'), (322264, 'Sophora', 'Good', 'Alive', 'POINT(-73.9686705 40.80490893)'), (333615, 'purple-leaf plum', 'Good', 'Alive', 'POINT(-73.95836191 40.81142881)'), (339911, 'littleleaf linden', 'Good', 'Alive', 'POINT(-73.96057905 40.80141021)'), (340982, 'honeylocust', 'Good', 'Alive', 'POINT(-73.955723 40.80279781)'), (341401, 'ginkgo', 'Good', 'Alive', 'POINT(-73.95452536 40.80488452)'), (346011, 'ginkgo', 'Good', 'Alive', 'POINT(-73.95514192 40.80963137)'), (347411, 'scarlet oak', 'Good', 'Alive', 'POINT(-73.96174394 40.8013389)'), (349897, 'Japanese zelkova', 'Good', 'Alive', 'POINT(-73.960125 40.80121967)'), (350514, 'pin oak', 'Fair', 'Alive', 'POINT(-73.95463737 40.81130402)'), (350566, 'Sophora', 'Good', 'Alive', 'POINT(-73.95398524 40.80465797)'), (351334, 'Japanese zelkova', 'Good', 'Alive', 'POINT(-73.9603653 40.80132051)'), (363833, 'ginkgo', 'Good', 'Alive', 'POINT(-73.95874852 40.80922698)'), (364654, 'ginkgo', 'Good', 'Alive', 'POINT(-73.95900324 40.81006173)'), (370489, 'Sophora', 'Good', 'Alive', 'POINT(-73.95852943 40.8091344)'), (384604, 'honeylocust', 'Good', 'Alive', 'POINT(-73.96403572 40.81211706)'), (386214, 'ginkgo', 'Good', 'Alive', 'POINT(-73.95777619 40.80881607)'), (386246, 'London planetree', 'Good', 'Alive', 'POINT(-73.9640391 40.81222682)'), (386368, 'honeylocust', 'Good', 'Alive', 'POINT(-73.96403277 40.81202102)'), (388156, 'honeylocust', 'Good', 'Alive', 'POINT(-73.96404331 40.81236402)'), (482438, 'two-winged silverbell', 'Fair', 'Alive', 'POINT(-73.96417557 40.80472029)'), (511894, 'pitch pine', 'Good', 'Alive', 'POINT(-73.95549738 40.81022769)'), (514604, 'Japanese hornbeam', 'Good', 'Alive', 'POINT(-73.96145479 40.81449121)'), (522180, 'littleleaf linden', 'Fair', 'Alive', 'POINT(-73.95561014 40.80357682)'), (522231, 'honeylocust', 'Good', 'Alive', 'POINT(-73.95487823 40.8032684)'), (523236, 'American elm', 'Good', 'Alive', 'POINT(-73.95499974 40.80684181)'), (523240, 'littleleaf linden', 'Fair', 'Alive', 'POINT(-73.95545283 40.80351053)'), (523461, 'littleleaf linden', 'Good', 'Alive', 'POINT(-73.96055853 40.80669144)'), (525218, 'Japanese zelkova', 'Good', 'Alive', 'POINT(-73.95574157 40.80292124)'), (527706, 'Japanese zelkova', 'Good', 'Alive', 'POINT(-73.95526529 40.80271985)'), (527707, 'Japanese zelkova', 'Good', 'Alive', 'POINT(-73.9554231 40.80278658)'), (527765, 'Japanese zelkova', 'Good', 'Alive', 'POINT(-73.95534293 40.80275268)'), (530638, 'American elm', 'Good', 'Alive', 'POINT(-73.95455476 40.80665352)'), (530698, 'ginkgo', 'Fair', 'Alive', 'POINT(-73.96100821 40.80595963)'), (530761, 'ginkgo', 'Good', 'Alive', 'POINT(-73.96036438 40.80568727)'), (530762, 'ginkgo', 'Good', 'Alive', 'POINT(-73.96127332 40.80607178)'), (531494, 'ginkgo', 'Good', 'Alive', 'POINT(-73.96090091 40.80591424)'), (531578, 'ginkgo', 'Poor', 'Alive', 'POINT(-73.96076924 40.80658357)'), (531594, 'ginkgo', 'Good', 'Alive', 'POINT(-73.96117738 40.80603119)'), (532369, 'ginkgo', 'Good', 'Alive', 'POINT(-73.95952804 40.80608248)'), (533942, 'honeylocust', 'Good', 'Alive', 'POINT(-73.95417479 40.80649274)'), (534028, 'ginkgo', 'Good', 'Alive', 'POINT(-73.96066684 40.80654223)'), (534101, 'Japanese zelkova', 'Poor', 'Alive', 'POINT(-73.95604646 40.80305017)'), (534148, 'ginkgo', 'Good', 'Alive', 'POINT(-73.96041388 40.8064401)'), (535273, 'littleleaf linden', 'Good', 'Alive', 'POINT(-73.95622429 40.80724595)'), (537530, 'Callery pear', 'Good', 'Alive', 'POINT(-73.95741717 40.80145321)'), (538008, 'Japanese zelkova', 'Good', 'Alive', 'POINT(-73.96324609 40.80608497)'), (538032, 'green ash', 'Good', 'Alive', 'POINT(-73.95590628 40.80711233)'), (538353, 'Callery pear', 'Good', 'Alive', 'POINT(-73.95745358 40.80140328)'), (539309, 'littleleaf linden', 'Good', 'Alive', 'POINT(-73.95658782 40.80739869)'), (539320, 'willow oak', 'Fair', 'Alive', 'POINT(-73.96441169 40.80645577)'), (540146, 'Japanese zelkova', 'Fair', 'Alive', 'POINT(-73.95447936 40.80497861)'), (540156, 'northern red oak', 'Good', 'Alive', 'POINT(-73.95985334 40.80555513)'), (540296, 'northern red oak', 'Good', 'Alive', 'POINT(-73.95979998 40.80562836)'), (540336, 'Japanese zelkova', 'Fair', 'Alive', 'POINT(-73.96316828 40.80605236)'), (541001, 'Japanese zelkova', 'Good', 'Alive', 'POINT(-73.96351241 40.80619659)'), (541081, 'Japanese zelkova', 'Good', 'Alive', 'POINT(-73.96332643 40.80611864)'), (542801, 'ginkgo', 'Good', 'Alive', 'POINT(-73.96397812 40.80627279)'), (543577, 'Japanese zelkova', 'Good', 'Alive', 'POINT(-73.95401771 40.80478432)'), (543699, 'Japanese zelkova', 'Good', 'Alive', 'POINT(-73.9542133 40.80486664)'), (543700, 'Japanese zelkova', 'Good', 'Alive', 'POINT(-73.95414663 40.80483858)'), (546721, 'Japanese zelkova', 'Good', 'Alive', 'POINT(-73.95408217 40.80481145)'), (547757, 'Sophora', 'Good', 'Alive', 'POINT(-73.96240823 40.8057338)'), (547793, 'swamp white oak', 'Fair', 'Alive', 'POINT(-73.95704093 40.80195873)'), (548472, 'American linden', 'Fair', 'Alive', 'POINT(-73.95993335 40.80642634)'), (548473, 'American linden', 'Fair', 'Alive', 'POINT(-73.9598116 40.80637471)'), (549364, 'ginkgo', 'Good', 'Alive', 'POINT(-73.95516528 40.80679943)'), (550450, 'pin oak', 'Good', 'Alive', 'POINT(-73.96459713 40.80318035)'), (550478, 'Callery pear', 'Good', 'Alive', 'POINT(-73.95606104 40.80728741)'), (550501, 'pin oak', 'Fair', 'Alive', 'POINT(-73.96404893 40.80246836)'), (550516, 'pin oak', 'Good', 'Alive', 'POINT(-73.96570643 40.80365416)'), (550567, 'pin oak', 'Fair', 'Alive', 'POINT(-73.95469172 40.80659936)'), (550635, 'Japanese zelkova', 'Fair', 'Alive', 'POINT(-73.95373206 40.8046641)'), (551355, 'Japanese zelkova', 'Fair', 'Alive', 'POINT(-73.95455723 40.80654254)'), (551391, 'black oak', 'Good', 'Alive', 'POINT(-73.96536227 40.80350716)'), (551505, 'London planetree', 'Fair', 'Alive', 'POINT(-73.95621246 40.80735159)'), (552516, 'American linden', 'Good', 'Alive', 'POINT(-73.9560859 40.80213661)'), (552534, 'swamp white oak', 'Fair', 'Alive', 'POINT(-73.95678382 40.80231363)'), (555556, 'Sophora', 'Fair', 'Alive', 'POINT(-73.95524231 40.80683198)'), (558254, 'pin oak', 'Good', 'Alive', 'POINT(-73.96409028 40.80241265)'), (559987, 'ginkgo', 'Fair', 'Alive', 'POINT(-73.96116691 40.8114432)'), (561160, 'pin oak', 'Good', 'Alive', 'POINT(-73.9582167 40.81088002)'), (561884, 'Callery pear', 'Good', 'Alive', 'POINT(-73.9590004 40.80980568)'), (562786, 'ginkgo', 'Good', 'Alive', 'POINT(-73.96120759 40.81138721)'), (564828, 'Callery pear', 'Fair', 'Alive', 'POINT(-73.96870612 40.80403776)'), (564988, 'Callery pear', 'Good', 'Alive', 'POINT(-73.9688932 40.80379023)'), (564989, 'Callery pear', 'Fair', 'Alive', 'POINT(-73.96875829 40.80396873)'), (565004, 'ginkgo', 'Good', 'Alive', 'POINT(-73.96453799 40.80877278)'), (566034, 'ginkgo', 'Good', 'Alive', 'POINT(-73.9640116 40.8111136)'), (566080, 'ginkgo', 'Fair', 'Alive', 'POINT(-73.96463316 40.80864215)'), (566089, 'Callery pear', 'Good', 'Alive', 'POINT(-73.96450616 40.80907843)'), (566125, 'honeylocust', 'Good', 'Alive', 'POINT(-73.96555885 40.8078778)'), (566130, 'ginkgo', 'Good', 'Alive', 'POINT(-73.96419354 40.81086386)'), (566136, 'ginkgo', 'Good', 'Alive', 'POINT(-73.96488231 40.80992218)'), (566137, 'ginkgo', 'Poor', 'Alive', 'POINT(-73.96435569 40.809023)'), (566152, 'ginkgo', 'Good', 'Alive', 'POINT(-73.96439803 40.80896489)'), (566160, 'ginkgo', 'Good', 'Alive', 'POINT(-73.96536247 40.80926737)'), (566161, 'ginkgo', 'Good', 'Alive', 'POINT(-73.96525557 40.80941315)'), (566165, 'ginkgo', 'Good', 'Alive', 'POINT(-73.96401375 40.80975915)'), (566179, 'ginkgo', 'Good', 'Alive', 'POINT(-73.96386603 40.80996336)'), (566203, 'honeylocust', 'Good', 'Alive', 'POINT(-73.9657323 40.80795142)'), (566822, 'Callery pear', 'Good', 'Alive', 'POINT(-73.96502278 40.80872801)'), (566836, 'Callery pear', 'Fair', 'Alive', 'POINT(-73.9670333 40.80603636)'), (567844, 'willow oak', 'Good', 'Alive', 'POINT(-73.9666175 40.80458661)'), (567861, 'Callery pear', 'Good', 'Alive', 'POINT(-73.96482314 40.80880365)'), (567872, 'Callery pear', 'Fair', 'Alive', 'POINT(-73.96445727 40.8075323)'), (568799, 'Sophora', 'Good', 'Alive', 'POINT(-73.96781957 40.80501274)'), (568851, 'Callery pear', 'Good', 'Alive', 'POINT(-73.96491356 40.80876464)'), (568852, 'Callery pear', 'Good', 'Alive', 'POINT(-73.9651094 40.8087094)'), (568861, 'ginkgo', 'Good', 'Alive', 'POINT(-73.96331293 40.81045418)'), (568905, 'ginkgo', 'Good', 'Alive', 'POINT(-73.95378848 40.80903926)'), (568906, 'ginkgo', 'Fair', 'Alive', 'POINT(-73.95604636 40.80838669)'), (569013, 'ginkgo', 'Good', 'Alive', 'POINT(-73.95356173 40.80934796)'), (569038, 'ginkgo', 'Fair', 'Alive', 'POINT(-73.96340426 40.81032884)'), (569658, 'littleleaf linden', 'Poor', 'Alive', 'POINT(-73.96555057 40.80358759)'), (569815, 'ginkgo', 'Good', 'Alive', 'POINT(-73.96529616 40.80639154)'), (569843, 'northern red oak', 'Good', 'Alive', 'POINT(-73.96619241 40.8056831)'), (571922, 'ginkgo', 'Good', 'Alive', 'POINT(-73.96171467 40.81069216)'), (572523, 'Callery pear', 'Fair', 'Alive', 'POINT(-73.96469735 40.81017441)'), (572563, 'Callery pear', 'Fair', 'Alive', 'POINT(-73.96507257 40.80767139)'), (572660, 'London planetree', 'Good', 'Alive', 'POINT(-73.95482146 40.8104893)'), (572705, 'London planetree', 'Good', 'Alive', 'POINT(-73.95466044 40.8107102)'), (572729, 'London planetree', 'Fair', 'Alive', 'POINT(-73.95492821 40.81034283)'), (573682, 'Chinese elm', 'Fair', 'Alive', 'POINT(-73.96961746 40.80278888)'), (573701, 'ginkgo', 'Good', 'Alive', 'POINT(-73.96840675 40.80414737)'), (573772, 'honeylocust', 'Good', 'Alive', 'POINT(-73.95408102 40.80864441)'), (574602, 'pin oak', 'Fair', 'Alive', 'POINT(-73.96453062 40.80837592)'), (574604, 'red maple', 'Fair', 'Alive', 'POINT(-73.95462657 40.80789091)'), (574685, 'honeylocust', 'Good', 'Alive', 'POINT(-73.95353585 40.80965301)'), (574759, 'American linden', 'Poor', 'Alive', 'POINT(-73.96811658 40.80402543)'), (575396, 'Callery pear', 'Good', 'Alive', 'POINT(-73.96679397 40.80500167)'), (576180, 'Callery pear', 'Good', 'Alive', 'POINT(-73.95720374 40.81226704)'), (576291, 'Chinese elm', 'Fair', 'Alive', 'POINT(-73.9596439 40.81349763)'), (576388, 'Callery pear', 'Good', 'Alive', 'POINT(-73.95708332 40.81243286)'), (576393, 'Callery pear', 'Fair', 'Alive', 'POINT(-73.96539234 40.80780712)'), (577386, 'cherry', 'Good', 'Alive', 'POINT(-73.9537406 40.80910445)'), (577491, 'American elm', 'Good', 'Alive', 'POINT(-73.95985631 40.81320737)'), (578126, 'Callery pear', 'Good', 'Alive', 'POINT(-73.96670419 40.80496396)'), (578921, 'Callery pear', 'Good', 'Alive', 'POINT(-73.95853212 40.81007955)'), (579129, 'London planetree', 'Fair', 'Alive', 'POINT(-73.96703487 40.80438882)'), (580349, 'Chinese elm', 'Good', 'Alive', 'POINT(-73.95971061 40.81340647)'), (580518, 'green ash', 'Good', 'Alive', 'POINT(-73.965561 40.80602404)'), (580645, 'green ash', 'Good', 'Alive', 'POINT(-73.95479894 40.80765597)'), (581307, 'littleleaf linden', 'Good', 'Alive', 'POINT(-73.96401172 40.8094951)'), (581381, 'Callery pear', 'Good', 'Alive', 'POINT(-73.96467018 40.80724691)'), (581925, 'littleleaf linden', 'Fair', 'Alive', 'POINT(-73.96827255 40.80446707)'), (582007, 'littleleaf linden', 'Poor', 'Alive', 'POINT(-73.95449941 40.81050997)'), (582097, 'London planetree', 'Poor', 'Alive', 'POINT(-73.96717463 40.80380977)'), (582796, 'Sophora', 'Good', 'Alive', 'POINT(-73.96612871 40.80811968)'), (314463, 'London planetree', 'Good', 'Alive', 'POINT(-73.96279944 40.81305274)'), (314464, 'London planetree', 'Good', 'Alive', 'POINT(-73.96322461 40.81247631)'), (314468, 'London planetree', 'Good', 'Alive', 'POINT(-73.96240733 40.8136586)'), (314470, 'London planetree', 'Good', 'Alive', 'POINT(-73.96325296 40.812491)'), (314490, 'London planetree', 'Good', 'Alive', 'POINT(-73.96295058 40.81284651)'), (314502, 'London planetree', 'Good', 'Alive', 'POINT(-73.96321078 40.81254505)'), (314675, 'London planetree', 'Good', 'Alive', 'POINT(-73.96308249 40.81272011)'), (315734, 'honeylocust', 'Good', 'Alive', 'POINT(-73.96502161 40.81018778)'), (316192, 'London planetree', 'Good', 'Alive', 'POINT(-73.96377269 40.8125066)'), (316819, 'Japanese zelkova', 'Good', 'Alive', 'POINT(-73.96950057 40.80365642)'), (317928, 'Chinese elm', 'Good', 'Alive', 'POINT(-73.96905498 40.80435867)'), (317933, 'Japanese zelkova', 'Good', 'Alive', 'POINT(-73.9622823 40.81399286)'), (319554, 'green ash', 'Good', 'Alive', 'POINT(-73.96889753 40.80453351)'), (319563, 'Japanese zelkova', 'Good', 'Alive', 'POINT(-73.96225454 40.81407428)'), (320075, 'ginkgo', 'Good', 'Alive', 'POINT(-73.96002736 40.81212846)'), (320124, 'ginkgo', 'Good', 'Alive', 'POINT(-73.96051088 40.8142861)'), (320129, 'ginkgo', 'Good', 'Alive', 'POINT(-73.96009343 40.81215621)'), (320145, 'ginkgo', 'Good', 'Alive', 'POINT(-73.9603492 40.81226366)'), (320157, 'ginkgo', 'Good', 'Alive', 'POINT(-73.95904699 40.81171661)'), (322370, 'honeylocust', 'Good', 'Alive', 'POINT(-73.95860092 40.81152922)'), (322512, 'honeylocust', 'Good', 'Alive', 'POINT(-73.96403335 40.81179871)'), (322550, 'ginkgo', 'Good', 'Alive', 'POINT(-73.96021958 40.8122092)'), (322944, 'scarlet oak', 'Good', 'Alive', 'POINT(-73.96164321 40.80129583)'), (323100, 'London planetree', 'Good', 'Alive', 'POINT(-73.96403939 40.8117165)'), (340548, \"'Schubert' chokecherry\", 'Good', 'Alive', 'POINT(-73.96243078 40.80163261)'), (342463, 'Japanese zelkova', 'Good', 'Alive', 'POINT(-73.95556177 40.8027301)'), (342491, 'Japanese zelkova', 'Good', 'Alive', 'POINT(-73.95579761 40.80282914)'), (346084, 'ginkgo', 'Good', 'Alive', 'POINT(-73.95521408 40.8095331)'), (346174, 'ginkgo', 'Good', 'Alive', 'POINT(-73.9550504 40.80975601)'), (346929, 'pin oak', 'Good', 'Alive', 'POINT(-73.95479797 40.81148888)'), (350260, 'Sophora', 'Good', 'Alive', 'POINT(-73.95413197 40.80471951)'), (350297, 'pin oak', 'Fair', 'Alive', 'POINT(-73.95507697 40.81181003)'), (360957, 'ginkgo', 'Good', 'Alive', 'POINT(-73.95866328 40.80919096)'), (363676, 'ginkgo', 'Good', 'Alive', 'POINT(-73.95820679 40.80899805)'), (363709, 'ginkgo', 'Good', 'Alive', 'POINT(-73.9588306 40.80926167)'), (363733, 'ginkgo', 'Good', 'Alive', 'POINT(-73.95858626 40.80915841)'), (364408, 'Callery pear', 'Good', 'Alive', 'POINT(-73.96079889 40.8108161)'), (364410, 'Callery pear', 'Good', 'Alive', 'POINT(-73.96092725 40.81087002)'), (364514, 'Callery pear', 'Good', 'Alive', 'POINT(-73.96086402 40.81084345)'), (364550, 'Callery pear', 'Good', 'Alive', 'POINT(-73.96062502 40.81074305)'), (365319, 'Callery pear', 'Good', 'Alive', 'POINT(-73.95893622 40.81003357)'), (370131, 'Sophora', 'Good', 'Alive', 'POINT(-73.95845493 40.80910291)'), (377621, 'two-winged silverbell', 'Fair', 'Alive', 'POINT(-73.96412192 40.8046976)'), (377627, 'Sophora', 'Good', 'Alive', 'POINT(-73.95806284 40.80893721)'), (520664, 'willow oak', 'Good', 'Alive', 'POINT(-73.9567609 40.80170383)'), (520855, 'willow oak', 'Good', 'Alive', 'POINT(-73.95683356 40.80173444)'), (521829, 'Japanese zelkova', 'Good', 'Alive', 'POINT(-73.95550832 40.80282261)'), (522616, 'ginkgo', 'Good', 'Alive', 'POINT(-73.96302321 40.80586976)'), (522617, 'ginkgo', 'Good', 'Alive', 'POINT(-73.96341604 40.80603555)'), (523167, 'pin oak', 'Good', 'Alive', 'POINT(-73.95325758 40.80610811)'), (524948, 'American elm', 'Good', 'Alive', 'POINT(-73.95461788 40.80668023)'), (528358, 'honeylocust', 'Good', 'Alive', 'POINT(-73.95499005 40.80331552)'), (528373, 'honeylocust', 'Good', 'Alive', 'POINT(-73.95473482 40.80320797)'), (528376, 'American linden', 'Good', 'Alive', 'POINT(-73.95338401 40.80616126)'), (529197, 'American elm', 'Good', 'Alive', 'POINT(-73.95483563 40.80677237)'), (529305, 'American elm', 'Good', 'Alive', 'POINT(-73.95515627 40.80690805)'), (530963, 'ginkgo', 'Fair', 'Alive', 'POINT(-73.9607854 40.80586537)'), (534233, 'ginkgo', 'Fair', 'Alive', 'POINT(-73.96018101 40.80634609)'), (534234, 'ginkgo', 'Poor', 'Alive', 'POINT(-73.95990668 40.80623534)'), (534281, 'ginkgo', 'Good', 'Alive', 'POINT(-73.95970955 40.80615575)'), (534389, 'ginkgo', 'Good', 'Alive', 'POINT(-73.96057433 40.80650488)'), (534419, 'ginkgo', 'Good', 'Alive', 'POINT(-73.96033413 40.80640791)'), (534452, 'Japanese zelkova', 'Fair', 'Alive', 'POINT(-73.95596692 40.80301653)'), (534935, 'honeylocust', 'Good', 'Alive', 'POINT(-73.95431555 40.8065523)'), (535012, 'Chinese elm', 'Fair', 'Alive', 'POINT(-73.95565718 40.80700766)'), (537819, 'Callery pear', 'Good', 'Alive', 'POINT(-73.95737235 40.80151467)'), (537851, 'Japanese zelkova', 'Good', 'Alive', 'POINT(-73.95427713 40.8048935)'), (539519, 'littleleaf linden', 'Poor', 'Alive', 'POINT(-73.95519822 40.80340324)'), (539659, 'northern red oak', 'Good', 'Alive', 'POINT(-73.95962292 40.80587137)'), (540366, 'willow oak', 'Fair', 'Alive', 'POINT(-73.96454937 40.80651388)'), (542106, 'Japanese zelkova', 'Fair', 'Alive', 'POINT(-73.96309996 40.80602373)'), (542173, 'purple-leaf plum', 'Good', 'Alive', 'POINT(-73.95573621 40.80704087)'), (542202, 'American linden', 'Good', 'Alive', 'POINT(-73.95731406 40.80159462)'), (542341, 'ginkgo', 'Good', 'Alive', 'POINT(-73.96404347 40.80641917)'), (542372, 'ginkgo', 'Good', 'Alive', 'POINT(-73.96386255 40.80622401)'), (543915, 'red maple', 'Good', 'Alive', 'POINT(-73.95640692 40.80789952)'), (544692, 'Callery pear', 'Good', 'Alive', 'POINT(-73.9569922 40.80169432)'), (545917, 'Japanese zelkova', 'Fair', 'Alive', 'POINT(-73.95380916 40.80469655)'), (545985, 'Japanese zelkova', 'Fair', 'Alive', 'POINT(-73.95374692 40.80538033)'), (546800, 'American linden', 'Fair', 'Alive', 'POINT(-73.95999549 40.80645269)'), (546801, 'American linden', 'Fair', 'Alive', 'POINT(-73.95949964 40.80624242)'), (546802, 'honeylocust', 'Good', 'Alive', 'POINT(-73.95417174 40.80555775)'), (546820, 'American linden', 'Good', 'Alive', 'POINT(-73.96005952 40.80647984)'), (546821, 'honeylocust', 'Good', 'Alive', 'POINT(-73.95423631 40.80558472)'), (546922, 'American linden', 'Fair', 'Alive', 'POINT(-73.96024815 40.80655983)'), (546923, 'American linden', 'Fair', 'Alive', 'POINT(-73.95956083 40.80626837)'), (546980, 'honeylocust', 'Good', 'Alive', 'POINT(-73.95575189 40.80715636)'), (547308, 'Japanese zelkova', 'Fair', 'Alive', 'POINT(-73.95395388 40.80475746)'), (547468, 'Japanese zelkova', 'Poor', 'Alive', 'POINT(-73.95490577 40.80668979)'), (547573, 'American linden', 'Fair', 'Alive', 'POINT(-73.95962676 40.80629633)'), (548873, 'American linden', 'Good', 'Alive', 'POINT(-73.95974788 40.80634769)'), (550096, 'pin oak', 'Good', 'Alive', 'POINT(-73.9645011 40.80313933)'), (550310, 'Japanese zelkova', 'Poor', 'Alive', 'POINT(-73.95387614 40.80472474)'), (550328, 'pin oak', 'Good', 'Alive', 'POINT(-73.96607358 40.80381097)'), (550682, 'Japanese zelkova', 'Poor', 'Alive', 'POINT(-73.95462163 40.80656975)'), (551850, 'London planetree', 'Fair', 'Alive', 'POINT(-73.95649511 40.8074714)'), (552321, 'ginkgo', 'Good', 'Alive', 'POINT(-73.9652357 40.8034531)'), (552347, 'ginkgo', 'Good', 'Alive', 'POINT(-73.96413207 40.80298171)'), (552348, 'ginkgo', 'Good', 'Alive', 'POINT(-73.96484714 40.80328714)'), (552983, 'pin oak', 'Good', 'Alive', 'POINT(-73.96428447 40.8030468)'), (552996, 'pin oak', 'Fair', 'Alive', 'POINT(-73.96387661 40.80270048)'), (553056, 'pin oak', 'Good', 'Alive', 'POINT(-73.9642067 40.80301359)'), (555206, 'littleleaf linden', 'Fair', 'Alive', 'POINT(-73.95643616 40.80228487)'), (556619, 'London planetree', 'Good', 'Alive', 'POINT(-73.96150662 40.81097798)'), (557537, 'littleleaf linden', 'Good', 'Alive', 'POINT(-73.95920436 40.80952755)'), (560173, 'honeylocust', 'Good', 'Alive', 'POINT(-73.95487504 40.80782195)'), (560387, 'honeylocust', 'Good', 'Alive', 'POINT(-73.95558849 40.80708709)'), (561610, 'Callery pear', 'Good', 'Alive', 'POINT(-73.95890545 40.80993515)'), (561625, 'Callery pear', 'Good', 'Alive', 'POINT(-73.95910062 40.80966901)'), (564749, 'Japanese zelkova', 'Good', 'Alive', 'POINT(-73.96374945 40.81012452)'), (565216, 'ginkgo', 'Fair', 'Alive', 'POINT(-73.96853876 40.80427352)'), (565265, 'honeylocust', 'Good', 'Alive', 'POINT(-73.96897416 40.80368312)'), (565290, 'Callery pear', 'Good', 'Alive', 'POINT(-73.96456989 40.80899842)'), (565304, 'ginkgo', 'Good', 'Alive', 'POINT(-73.96466675 40.80859604)'), (565315, 'honeylocust', 'Good', 'Alive', 'POINT(-73.96559138 40.80895518)'), (565725, 'ginkgo', 'Fair', 'Alive', 'POINT(-73.96446976 40.80886643)'), (566512, 'honeylocust', 'Fair', 'Alive', 'POINT(-73.96887705 40.8025934)'), (566597, 'honeylocust', 'Fair', 'Alive', 'POINT(-73.96834372 40.80236775)'), (566632, 'ginkgo', 'Good', 'Alive', 'POINT(-73.96415414 40.80929963)'), (566647, 'ginkgo', 'Good', 'Alive', 'POINT(-73.96416548 40.8095494)'), (566670, 'American linden', 'Fair', 'Alive', 'POINT(-73.9684161 40.8043627)'), (566680, 'ginkgo', 'Poor', 'Alive', 'POINT(-73.96309878 40.81074811)'), (566689, 'honeylocust', 'Fair', 'Alive', 'POINT(-73.9666521 40.80739967)'), (566701, 'honeylocust', 'Good', 'Alive', 'POINT(-73.9664698 40.80479052)'), (566714, 'ginkgo', 'Good', 'Alive', 'POINT(-73.96316632 40.81065541)'), (566753, 'ginkgo', 'Fair', 'Alive', 'POINT(-73.96493506 40.80985025)'), (566754, 'ginkgo', 'Good', 'Alive', 'POINT(-73.9642309 40.80945896)'), (567280, 'littleleaf linden', 'Poor', 'Alive', 'POINT(-73.96548697 40.80356042)'), (567291, 'ginkgo', 'Good', 'Alive', 'POINT(-73.96530867 40.80934074)'), (568023, 'Callery pear', 'Good', 'Alive', 'POINT(-73.96471737 40.80886729)'), (568565, 'honeylocust', 'Fair', 'Alive', 'POINT(-73.96653973 40.80735215)'), (568588, 'ginkgo', 'Poor', 'Alive', 'POINT(-73.9634683 40.81024095)'), (568609, 'Sophora', 'Good', 'Alive', 'POINT(-73.96778634 40.80518311)'), (568610, 'Sophora', 'Good', 'Alive', 'POINT(-73.9673814 40.80596042)'), (568625, 'ginkgo', 'Fair', 'Alive', 'POINT(-73.96418668 40.80925497)'), (568626, 'ginkgo', 'Fair', 'Alive', 'POINT(-73.96408311 40.80939712)'), (568647, 'sweetgum', 'Fair', 'Alive', 'POINT(-73.9643158 40.80907775)'), (568660, 'Sophora', 'Good', 'Alive', 'POINT(-73.96782875 40.80493924)'), (568672, 'Callery pear', 'Good', 'Alive', 'POINT(-73.96465659 40.80891615)'), (568748, 'ginkgo', 'Poor', 'Alive', 'POINT(-73.96373634 40.80987307)'), (569392, 'honeylocust', 'Good', 'Alive', 'POINT(-73.9578332 40.8110322)'), (569521, 'Japanese zelkova', 'Good', 'Alive', 'POINT(-73.96566963 40.80587397)'), (569541, 'Japanese zelkova', 'Good', 'Alive', 'POINT(-73.95364976 40.80922812)'), (569967, 'Callery pear', 'Fair', 'Alive', 'POINT(-73.96848476 40.80189567)'), (570000, 'ginkgo', 'Good', 'Alive', 'POINT(-73.95368884 40.80917491)'), (570041, 'Chinese elm', 'Good', 'Alive', 'POINT(-73.96965943 40.80273124)'), (570080, 'Callery pear', 'Fair', 'Alive', 'POINT(-73.96699782 40.80711095)'), (571026, 'pin oak', 'Poor', 'Alive', 'POINT(-73.96460088 40.8084053)'), (571392, 'cherry', 'Good', 'Alive', 'POINT(-73.96925335 40.80330571)'), (571432, 'black locust', 'Fair', 'Alive', 'POINT(-73.95661442 40.80761348)'), (571590, 'littleleaf linden', 'Fair', 'Alive', 'POINT(-73.96833215 40.80411602)'), (571600, 'Turkish hazelnut', 'Good', 'Alive', 'POINT(-73.96378865 40.80619282)'), (572242, 'Callery pear', 'Fair', 'Alive', 'POINT(-73.96714534 40.80667836)'), (572243, 'Callery pear', 'Good', 'Alive', 'POINT(-73.96778406 40.80388568)'), (572299, 'Callery pear', 'Good', 'Alive', 'POINT(-73.96719348 40.80653473)'), (572328, 'Callery pear', 'Good', 'Alive', 'POINT(-73.95755102 40.8117888)'), (572459, 'Callery pear', 'Good', 'Alive', 'POINT(-73.96688122 40.80503833)'), (572932, 'London planetree', 'Good', 'Alive', 'POINT(-73.95465667 40.81066155)'), (572983, 'London planetree', 'Fair', 'Alive', 'POINT(-73.95470918 40.81058951)'), (573013, 'London planetree', 'Good', 'Alive', 'POINT(-73.95476545 40.81056613)'), (573337, 'Chinese elm', 'Good', 'Alive', 'POINT(-73.96970314 40.8026712)'), (573368, 'Chinese elm', 'Fair', 'Alive', 'POINT(-73.96446035 40.81049763)'), (573511, 'ginkgo', 'Good', 'Alive', 'POINT(-73.96108032 40.81156238)'), (573512, 'honeylocust', 'Good', 'Alive', 'POINT(-73.9556782 40.80889264)'), (573553, 'London planetree', 'Good', 'Alive', 'POINT(-73.95471295 40.81063816)'), (574257, 'red maple', 'Good', 'Alive', 'POINT(-73.9573608 40.81205075)'), (574275, 'red maple', 'Good', 'Alive', 'POINT(-73.95450521 40.80805633)'), (574322, 'littleleaf linden', 'Good', 'Alive', 'POINT(-73.96586774 40.80560029)'), (574338, 'cherry', 'Good', 'Alive', 'POINT(-73.95474989 40.80799519)'), (574459, 'cherry', 'Fair', 'Alive', 'POINT(-73.96931224 40.80322071)'), (575029, 'American linden', 'Fair', 'Alive', 'POINT(-73.96739397 40.80525373)'), (575036, 'Callery pear', 'Good', 'Alive', 'POINT(-73.96531035 40.80777232)'), (575039, 'ginkgo', 'Good', 'Alive', 'POINT(-73.96458377 40.81032931)'), (575623, 'green ash', 'Good', 'Alive', 'POINT(-73.95474794 40.80772549)'), (575640, 'green ash', 'Good', 'Alive', 'POINT(-73.96724929 40.80636823)'), (575784, 'littleleaf linden', 'Good', 'Alive', 'POINT(-73.9644171 40.81055661)'), (575831, 'Japanese zelkova', 'Fair', 'Alive', 'POINT(-73.96011296 40.81285665)'), (577884, 'pin oak', 'Fair', 'Alive', 'POINT(-73.96446733 40.80834946)'), (577929, 'red maple', 'Fair', 'Alive', 'POINT(-73.95447179 40.80810188)'), (578390, 'Callery pear', 'Good', 'Alive', 'POINT(-73.9678694 40.80392155)'), (578391, 'Callery pear', 'Fair', 'Alive', 'POINT(-73.96799268 40.80397336)'), (579185, 'American elm', 'Fair', 'Alive', 'POINT(-73.9669369 40.80728439)'), (579202, 'ginkgo', 'Fair', 'Alive', 'POINT(-73.96395702 40.81118853)'), (579209, 'ginkgo', 'Good', 'Alive', 'POINT(-73.96520248 40.80948556)'), (580231, 'Japanese zelkova', 'Good', 'Alive', 'POINT(-73.96019126 40.81274966)'), (580268, 'willow oak', 'Good', 'Alive', 'POINT(-73.96721227 40.80429298)'), (581083, 'American linden', 'Fair', 'Alive', 'POINT(-73.96777326 40.80453168)'), (581165, 'littleleaf linden', 'Poor', 'Alive', 'POINT(-73.96831953 40.80443291)'), (581235, 'Callery pear', 'Fair', 'Alive', 'POINT(-73.9582832 40.81041814)'), (581635, 'black cherry', 'Fair', 'Alive', 'POINT(-73.9615776 40.81088046)'), (581854, 'Callery pear', 'Good', 'Alive', 'POINT(-73.96710448 40.80424712)'), (582522, 'Sophora', 'Fair', 'Alive', 'POINT(-73.96697639 40.80601245)'), (582815, 'Sophora', 'Fair', 'Alive', 'POINT(-73.95856895 40.81039454)'), (582839, 'Sophora', 'Good', 'Alive', 'POINT(-73.96657049 40.80584194)'), (582867, 'Sophora', 'Fair', 'Alive', 'POINT(-73.95851265 40.81047126)'), (582962, 'white oak', 'Fair', 'Alive', 'POINT(-73.96664004 40.80587115)'), (583722, 'pin oak', 'Fair', 'Alive', 'POINT(-73.96679619 40.80768551)'), (583734, 'Callery pear', 'Good', 'Alive', 'POINT(-73.95582759 40.80868368)'), (584467, 'ginkgo', 'Good', 'Alive', 'POINT(-73.95889753 40.80958482)'), (584625, 'honeylocust', 'Good', 'Alive', 'POINT(-73.95874465 40.80979125)'), (584634, 'London planetree', 'Fair', 'Alive', 'POINT(-73.96484984 40.80700092)'), (585242, 'honeylocust', 'Fair', 'Alive', 'POINT(-73.96940723 40.80281772)'), (586561, 'American linden', 'Good', 'Alive', 'POINT(-73.96908534 40.80268153)'), (586626, 'honeylocust', 'Fair', 'Alive', 'POINT(-73.96894963 40.80262411)'), (587345, 'honeylocust', 'Fair', 'Alive', 'POINT(-73.96925891 40.80275496)'), (588776, 'red maple', 'Good', 'Alive', 'POINT(-73.9675672 40.8053265)'), (588955, 'pin oak', 'Good', 'Alive', 'POINT(-73.96550324 40.80858886)'), (589534, 'mulberry', 'Fair', 'Alive', 'POINT(-73.96542052 40.8068788)'), (589561, 'Callery pear', 'Good', 'Alive', 'POINT(-73.9666913 40.80578043)'), (589562, 'Callery pear', 'Good', 'Alive', 'POINT(-73.96613693 40.80554735)'), (589703, 'Callery pear', 'Good', 'Alive', 'POINT(-73.96522484 40.80679603)'), (589746, 'Callery pear', 'Good', 'Alive', 'POINT(-73.96658827 40.80573711)'), (590469, 'Callery pear', 'Good', 'Alive', 'POINT(-73.95326718 40.80682119)'), (590538, 'Callery pear', 'Fair', 'Alive', 'POINT(-73.96642405 40.80331289)'), (590551, 'English oak', 'Good', 'Alive', 'POINT(-73.96655068 40.80336633)'), (590673, 'pin oak', 'Good', 'Alive', 'POINT(-73.96502313 40.80838362)'), (591281, 'pin oak', 'Poor', 'Alive', 'POINT(-73.96679462 40.80373647)'), (591328, 'American linden', 'Poor', 'Alive', 'POINT(-73.96579914 40.80304916)'), (591361, 'Callery pear', 'Good', 'Alive', 'POINT(-73.96685692 40.80585006)'), (591375, 'Sophora', 'Good', 'Alive', 'POINT(-73.96717521 40.80516183)'), (591469, 'Sophora', 'Good', 'Alive', 'POINT(-73.96619967 40.80814979)'), (591837, 'Sophora', 'Good', 'Alive', 'POINT(-73.96695709 40.8050702)'), (591973, 'Japanese zelkova', 'Good', 'Alive', 'POINT(-73.96482563 40.80263829)'), (591979, 'Callery pear', 'Fair', 'Alive', 'POINT(-73.96474734 40.80826572)'), (592066, 'Callery pear', 'Good', 'Alive', 'POINT(-73.96555695 40.80294694)'), (592723, 'Callery pear', 'Good', 'Alive', 'POINT(-73.95332921 40.80684711)'), (592801, 'catalpa', 'Good', 'Alive', 'POINT(-73.95346883 40.80716394)'), (592889, 'honeylocust', 'Good', 'Alive', 'POINT(-73.96636058 40.80328611)'), (593730, 'English oak', 'Fair', 'Alive', 'POINT(-73.96667572 40.8034191)'), (595126, 'honeylocust', 'Good', 'Alive', 'POINT(-73.96559491 40.80131724)'), (595269, 'honeylocust', 'Good', 'Alive', 'POINT(-73.96538829 40.80123023)'), (596946, 'honeylocust', 'Good', 'Alive', 'POINT(-73.96622108 40.80158092)'), (597411, 'honeylocust', 'Good', 'Alive', 'POINT(-73.96613862 40.80154619)'), (598352, 'northern red oak', 'Good', 'Alive', 'POINT(-73.96758326 40.80228252)'), (599039, 'London planetree', 'Good', 'Alive', 'POINT(-73.95305344 40.80737282)'), (599191, 'Sophora', 'Good', 'Alive', 'POINT(-73.95768714 40.81160135)'), (599194, 'Sophora', 'Good', 'Alive', 'POINT(-73.95846163 40.81054078)'), (601690, 'Callery pear', 'Good', 'Alive', 'POINT(-73.96752241 40.80254336)'), (601705, 'Japanese zelkova', 'Good', 'Alive', 'POINT(-73.96506872 40.80148442)'), (601818, 'Callery pear', 'Good', 'Alive', 'POINT(-73.9675013 40.80260499)'), (603355, 'honeylocust', 'Good', 'Alive', 'POINT(-73.96120165 40.8011124)'), (603487, 'ginkgo', 'Good', 'Alive', 'POINT(-73.96018897 40.80067999)'), (604013, 'Callery pear', 'Poor', 'Alive', 'POINT(-73.96596782 40.80711027)'), (604014, 'Callery pear', 'Fair', 'Alive', 'POINT(-73.96515224 40.80676533)'), (604018, 'Callery pear', 'Good', 'Alive', 'POINT(-73.96678991 40.80582189)'), (604773, 'Sophora', 'Good', 'Alive', 'POINT(-73.96689876 40.80186627)'), (604894, 'sawtooth oak', 'Good', 'Alive', 'POINT(-73.96422427 40.80824783)'), (605733, 'American linden', 'Fair', 'Alive', 'POINT(-73.95646874 40.80240152)'), (605771, 'honeylocust', 'Good', 'Alive', 'POINT(-73.96518365 40.80132415)'), (605815, 'honeylocust', 'Good', 'Alive', 'POINT(-73.95409564 40.8060002)'), (607093, 'Amur maple', 'Good', 'Alive', 'POINT(-73.95524359 40.80776522)'), (607129, 'American larch', 'Good', 'Alive', 'POINT(-73.95569238 40.80795396)'), (608745, 'pin oak', 'Good', 'Alive', 'POINT(-73.95422146 40.808157)'), (608858, 'ginkgo', 'Good', 'Alive', 'POINT(-73.95375519 40.80866576)'), (608891, 'sawtooth oak', 'Fair', 'Alive', 'POINT(-73.96435276 40.80830156)'), (608919, 'Sophora', 'Good', 'Alive', 'POINT(-73.96496797 40.80162494)'), (609796, 'ginkgo', 'Good', 'Alive', 'POINT(-73.95385671 40.80870775)'), (609831, 'littleleaf linden', 'Good', 'Alive', 'POINT(-73.95413985 40.80801031)'), (610126, 'swamp white oak', 'Good', 'Alive', 'POINT(-73.95601125 40.8022089)'), (610137, 'honeylocust', 'Good', 'Alive', 'POINT(-73.95340682 40.80770167)'), (610172, 'littleleaf linden', 'Good', 'Alive', 'POINT(-73.95370066 40.80782539)'), (610283, 'littleleaf linden', 'Good', 'Alive', 'POINT(-73.96055266 40.80083529)'), (611852, 'pin oak', 'Good', 'Alive', 'POINT(-73.95431363 40.80808347)'), (611902, 'pin oak', 'Good', 'Alive', 'POINT(-73.95434777 40.80821032)'), (612003, 'pin oak', 'Good', 'Alive', 'POINT(-73.95335622 40.8077918)'), (612016, 'red maple', 'Good', 'Alive', 'POINT(-73.95428147 40.80889267)'), (612024, 'pin oak', 'Good', 'Alive', 'POINT(-73.96340734 40.80267783)'), (612722, 'American elm', 'Good', 'Alive', 'POINT(-73.96749146 40.80572335)'), (612777, 'catalpa', 'Good', 'Alive', 'POINT(-73.953339 40.80734149)'), (613317, 'American linden', 'Good', 'Alive', 'POINT(-73.9552545 40.80848101)'), (613338, 'ginkgo', 'Good', 'Alive', 'POINT(-73.96752388 40.80567212)'), (613437, 'Callery pear', 'Good', 'Alive', 'POINT(-73.96171255 40.8006304)'), (614133, 'Callery pear', 'Good', 'Alive', 'POINT(-73.96100456 40.8009187)'), (614193, 'Callery pear', 'Good', 'Alive', 'POINT(-73.9607546 40.80081356)'), (614302, 'Chinese elm', 'Good', 'Alive', 'POINT(-73.95442679 40.8089539)'), (615113, 'Callery pear', 'Good', 'Alive', 'POINT(-73.96606154 40.80151373)'), (616170, 'honeylocust', 'Good', 'Alive', 'POINT(-73.95831402 40.81153065)'), (616177, 'honeylocust', 'Good', 'Alive', 'POINT(-73.96127454 40.80123073)'), (616293, 'Chinese elm', 'Good', 'Alive', 'POINT(-73.95469216 40.80906571)'), (616390, 'pin oak', 'Good', 'Alive', 'POINT(-73.9570444 40.80992843)'), (616505, 'honeylocust', 'Good', 'Alive', 'POINT(-73.95806109 40.81142442)'), (616508, 'honeylocust', 'Good', 'Alive', 'POINT(-73.96123035 40.80129057)'), (617282, 'willow oak', 'Fair', 'Alive', 'POINT(-73.962354 40.80223885)'), (617328, 'American elm', 'Good', 'Alive', 'POINT(-73.95910142 40.80632697)'), (617923, 'Chinese elm', 'Good', 'Alive', 'POINT(-73.96100615 40.81019384)'), (617963, 'American elm', 'Good', 'Alive', 'POINT(-73.96026508 40.80391164)'), (617964, 'American elm', 'Good', 'Alive', 'POINT(-73.96092829 40.80196107)'), (618037, 'littleleaf linden', 'Good', 'Alive', 'POINT(-73.95559271 40.80871985)'), (618091, 'littleleaf linden', 'Good', 'Alive', 'POINT(-73.95550432 40.80868249)'), (618184, 'honeylocust', 'Good', 'Alive', 'POINT(-73.95909177 40.81185731)'), (618830, 'littleleaf linden', 'Good', 'Alive', 'POINT(-73.9556961 40.80866829)'), (618906, 'Chinese elm', 'Good', 'Alive', 'POINT(-73.96078815 40.81010202)'), (618929, 'Japanese tree lilac', 'Fair', 'Alive', 'POINT(-73.96826641 40.80408839)'), (619023, 'pin oak', 'Good', 'Alive', 'POINT(-73.9582589 40.80748001)'), (619051, 'pin oak', 'Good', 'Alive', 'POINT(-73.95669769 40.81073375)'), (619308, 'American elm', 'Good', 'Alive', 'POINT(-73.9606912 40.80265838)'), (538971, 'northern red oak', 'Good', 'Alive', 'POINT(-73.95957795 40.80593309)'), (539044, 'London planetree', 'Good', 'Alive', 'POINT(-73.96254044 40.80578921)'), (539110, 'willow oak', 'Good', 'Alive', 'POINT(-73.96448179 40.80648536)'), (540023, 'Japanese zelkova', 'Good', 'Alive', 'POINT(-73.96369934 40.80627494)'), (540047, 'northern red oak', 'Good', 'Alive', 'POINT(-73.95972912 40.80572562)'), (540729, 'Japanese zelkova', 'Good', 'Alive', 'POINT(-73.96339222 40.80614622)'), (540756, 'northern red oak', 'Good', 'Alive', 'POINT(-73.95976411 40.80567759)'), (542408, 'ginkgo', 'Good', 'Alive', 'POINT(-73.96423327 40.80638047)'), (543332, 'honeylocust', 'Good', 'Alive', 'POINT(-73.95726994 40.80165512)'), (543334, 'ginkgo', 'Good', 'Alive', 'POINT(-73.96361498 40.80611952)'), (543359, 'ginkgo', 'Good', 'Alive', 'POINT(-73.96367592 40.80614524)'), (544307, 'willow oak', 'Fair', 'Alive', 'POINT(-73.96462389 40.80654534)'), (546257, 'Sophora', 'Good', 'Alive', 'POINT(-73.95603209 40.80716519)'), (546341, 'honeylocust', 'Good', 'Alive', 'POINT(-73.95566609 40.80711999)'), (546369, 'honeylocust', 'Good', 'Alive', 'POINT(-73.95590962 40.80722322)'), (547083, 'Japanese zelkova', 'Poor', 'Alive', 'POINT(-73.95483378 40.80665938)'), (548374, 'American linden', 'Fair', 'Alive', 'POINT(-73.96012513 40.80650766)'), (549155, 'ginkgo', 'Good', 'Alive', 'POINT(-73.96492932 40.80332224)'), (549836, 'pin oak', 'Good', 'Alive', 'POINT(-73.96436161 40.80307975)'), (549837, 'pin oak', 'Good', 'Alive', 'POINT(-73.96472434 40.80323469)'), (549838, 'pin oak', 'Good', 'Alive', 'POINT(-73.96649551 40.80399118)'), (551157, 'Japanese zelkova', 'Fair', 'Alive', 'POINT(-73.96505874 40.80337752)'), (552102, 'ginkgo', 'Poor', 'Alive', 'POINT(-73.9649882 40.80334739)'), (552103, 'ginkgo', 'Good', 'Alive', 'POINT(-73.96515414 40.80341826)'), (552758, 'pin oak', 'Fair', 'Alive', 'POINT(-73.95476244 40.80662924)'), (552760, 'pin oak', 'Fair', 'Alive', 'POINT(-73.966345 40.80392689)'), (552840, 'littleleaf linden', 'Fair', 'Alive', 'POINT(-73.96176852 40.81061818)'), (552945, 'American linden', 'Fair', 'Alive', 'POINT(-73.95658068 40.80234605)'), (554040, 'London planetree', 'Good', 'Alive', 'POINT(-73.95633771 40.8022432)'), (554814, 'northern red oak', 'Good', 'Alive', 'POINT(-73.96384005 40.80274973)'), (554863, 'pin oak', 'Good', 'Alive', 'POINT(-73.95345506 40.80525844)'), (554958, 'littleleaf linden', 'Good', 'Alive', 'POINT(-73.95968574 40.80632134)'), (555004, 'golden raintree', 'Good', 'Alive', 'POINT(-73.95643609 40.80733494)'), (555648, 'ginkgo', 'Fair', 'Alive', 'POINT(-73.96129838 40.81126226)'), (555718, 'ginkgo', 'Good', 'Alive', 'POINT(-73.96125403 40.8113233)'), (556906, 'swamp white oak', 'Fair', 'Alive', 'POINT(-73.95692631 40.80211695)'), (557794, 'cherry', 'Good', 'Alive', 'POINT(-73.95614459 40.80216146)'), (558485, 'cherry', 'Good', 'Alive', 'POINT(-73.96288773 40.80593477)'), (559855, 'Callery pear', 'Good', 'Alive', 'POINT(-73.95894941 40.80987521)'), (562521, 'honeylocust', 'Good', 'Alive', 'POINT(-73.95470818 40.80805293)'), (562662, 'honeylocust', 'Good', 'Alive', 'POINT(-73.95480725 40.80791579)'), (563372, 'American linden', 'Poor', 'Alive', 'POINT(-73.96811335 40.80458282)'), (564300, 'Japanese zelkova', 'Good', 'Alive', 'POINT(-73.96819426 40.80452399)'), (565340, 'honeylocust', 'Good', 'Alive', 'POINT(-73.96466891 40.80750005)'), (565373, 'honeylocust', 'Good', 'Alive', 'POINT(-73.96552246 40.80904917)'), (565382, 'honeylocust', 'Fair', 'Alive', 'POINT(-73.96917931 40.80341258)'), (565408, 'ginkgo', 'Good', 'Alive', 'POINT(-73.96441022 40.80759659)'), (565413, 'ginkgo', 'Good', 'Alive', 'POINT(-73.9643723 40.8076484)'), (565575, 'honeylocust', 'Good', 'Alive', 'POINT(-73.96497481 40.80762989)'), (566314, 'honeylocust', 'Good', 'Alive', 'POINT(-73.96481713 40.80756296)'), (566345, 'ginkgo', 'Good', 'Alive', 'POINT(-73.96498886 40.80977688)'), (566367, 'ginkgo', 'Fair', 'Alive', 'POINT(-73.9645072 40.80881504)'), (566375, 'honeylocust', 'Good', 'Alive', 'POINT(-73.96563706 40.80791099)'), (566385, 'ginkgo', 'Good', 'Alive', 'POINT(-73.96409379 40.8096485)'), (566399, 'ginkgo', 'Good', 'Alive', 'POINT(-73.96424917 40.81078749)'), (566408, 'ginkgo', 'Good', 'Alive', 'POINT(-73.96513285 40.80958051)'), (566417, 'honeylocust', 'Good', 'Alive', 'POINT(-73.96546424 40.80783764)'), (566420, 'ginkgo', 'Good', 'Alive', 'POINT(-73.9654124 40.80919927)'), (566441, 'honeylocust', 'Fair', 'Alive', 'POINT(-73.96880447 40.80256269)'), (567366, 'ginkgo', 'Fair', 'Alive', 'POINT(-73.96443372 40.8089159)'), (567372, 'ginkgo', 'Good', 'Alive', 'POINT(-73.96443865 40.80917176)'), (567384, 'ginkgo', 'Good', 'Alive', 'POINT(-73.96506165 40.80967761)'), (567414, 'honeylocust', 'Good', 'Alive', 'POINT(-73.96429215 40.80937429)'), (567425, 'honeylocust', 'Fair', 'Alive', 'POINT(-73.96945358 40.80301669)'), (567432, 'ginkgo', 'Good', 'Alive', 'POINT(-73.96425211 40.80916516)'), (567435, 'ginkgo', 'Good', 'Alive', 'POINT(-73.9639351 40.80986787)'), (567469, 'ginkgo', 'Poor', 'Alive', 'POINT(-73.96380737 40.80977557)'), (567507, 'ginkgo', 'Good', 'Alive', 'POINT(-73.96324155 40.81055216)'), (567555, 'honeylocust', 'Good', 'Alive', 'POINT(-73.96435931 40.80928145)'), (567609, 'ginkgo', 'Good', 'Alive', 'POINT(-73.96421957 40.80920982)'), (568242, 'Sophora', 'Good', 'Alive', 'POINT(-73.95871321 40.81019797)'), (568448, 'Sophora', 'Good', 'Alive', 'POINT(-73.96783789 40.804866)'), (568453, 'sweetgum', 'Poor', 'Alive', 'POINT(-73.96456983 40.80872907)'), (568457, 'Sophora', 'Good', 'Alive', 'POINT(-73.96688029 40.80597208)'), (569230, 'Sophora', 'Good', 'Alive', 'POINT(-73.9674007 40.80590695)'), (569287, 'Callery pear', 'Fair', 'Alive', 'POINT(-73.96711485 40.80607062)'), (569294, 'ginkgo', 'Fair', 'Alive', 'POINT(-73.95613104 40.80827172)'), (569297, 'honeylocust', 'Good', 'Alive', 'POINT(-73.95792764 40.81090346)'), (570332, 'Callery pear', 'Fair', 'Alive', 'POINT(-73.96883024 40.80387353)'), (570344, 'Callery pear', 'Good', 'Alive', 'POINT(-73.96537197 40.80629043)'), (570497, 'Callery pear', 'Fair', 'Alive', 'POINT(-73.96705091 40.8069598)'), (571263, 'black locust', 'Fair', 'Alive', 'POINT(-73.9564819 40.80779616)'), (572087, 'Callery pear', 'Good', 'Alive', 'POINT(-73.96166292 40.81076325)'), (573030, 'London planetree', 'Good', 'Alive', 'POINT(-73.95487396 40.81041726)'), (573151, 'honeylocust', 'Good', 'Alive', 'POINT(-73.95415909 40.80853545)'), (573271, 'Japanese zelkova', 'Good', 'Alive', 'POINT(-73.96749832 40.8037656)'), (573272, 'Chinese elm', 'Fair', 'Alive', 'POINT(-73.96436716 40.8106247)'), (573294, 'ginkgo', 'Good', 'Alive', 'POINT(-73.95550711 40.80912812)'), (573301, 'American linden', 'Fair', 'Alive', 'POINT(-73.96747552 40.80528799)'), (573312, 'ginkgo', 'Fair', 'Alive', 'POINT(-73.96102899 40.81163303)'), (574090, 'pin oak', 'Good', 'Alive', 'POINT(-73.96828632 40.8021667)'), (574135, 'pin oak', 'Fair', 'Alive', 'POINT(-73.96441859 40.80832908)'), (575209, 'red maple', 'Good', 'Alive', 'POINT(-73.95467054 40.80783098)'), (575255, 'littleleaf linden', 'Good', 'Alive', 'POINT(-73.96581622 40.80567148)'), (575932, 'ginkgo', 'Good', 'Alive', 'POINT(-73.96463687 40.8102569)'), (575933, 'ginkgo', 'Fair', 'Alive', 'POINT(-73.96452259 40.81041275)'), (576030, 'littleleaf linden', 'Good', 'Alive', 'POINT(-73.96577235 40.80573208)'), (576066, 'Callery pear', 'Fair', 'Alive', 'POINT(-73.96520502 40.80772761)'), (576874, 'London planetree', 'Fair', 'Alive', 'POINT(-73.95459315 40.80793646)'), (576929, 'honeylocust', 'Good', 'Alive', 'POINT(-73.95358091 40.80959039)'), (576952, 'American elm', 'Good', 'Alive', 'POINT(-73.96024778 40.81267242)'), (578792, 'Callery pear', 'Good', 'Alive', 'POINT(-73.96768375 40.80449359)'), (578826, 'American elm', 'Fair', 'Alive', 'POINT(-73.9603331 40.81255583)'), (579958, 'ginkgo', 'Poor', 'Alive', 'POINT(-73.96394909 40.80958107)'), (582189, 'Callery pear', 'Good', 'Alive', 'POINT(-73.95835771 40.81031678)'), (582214, 'Callery pear', 'Good', 'Alive', 'POINT(-73.966508 40.80805856)'), (582280, 'American elm', 'Good', 'Alive', 'POINT(-73.9554303 40.80923385)'), (582320, 'Callery pear', 'Fair', 'Alive', 'POINT(-73.9647147 40.80718595)'), (582331, 'sweetgum', 'Poor', 'Alive', 'POINT(-73.96352954 40.8101569)'), (582422, 'Sophora', 'Good', 'Alive', 'POINT(-73.96780134 40.80512729)'), (583027, 'sweetgum', 'Fair', 'Alive', 'POINT(-73.96381765 40.81003023)'), (583122, 'Sophora', 'Good', 'Alive', 'POINT(-73.96775408 40.80527639)'), (583141, 'Sophora', 'Good', 'Alive', 'POINT(-73.96680569 40.80594074)'), (583162, 'Callery pear', 'Fair', 'Alive', 'POINT(-73.95845954 40.81017827)'), (583186, 'Sophora', 'Fair', 'Alive', 'POINT(-73.96603347 40.80807925)'), (583210, 'Sophora', 'Good', 'Alive', 'POINT(-73.96520835 40.80650864)'), (583215, 'Callery pear', 'Good', 'Alive', 'POINT(-73.95596873 40.80849207)'), (583226, 'Callery pear', 'Good', 'Alive', 'POINT(-73.96479519 40.80828618)'), (583247, 'Callery pear', 'Good', 'Alive', 'POINT(-73.96485249 40.80831068)'), (583896, 'honeylocust', 'Good', 'Alive', 'POINT(-73.95870868 40.80983981)'), (583897, 'American linden', 'Good', 'Alive', 'POINT(-73.95400044 40.8090154)'), (584052, 'honeylocust', 'Good', 'Alive', 'POINT(-73.95879088 40.80972882)'), (586328, 'honeylocust', 'Fair', 'Alive', 'POINT(-73.96916108 40.80271357)'), (587079, 'ginkgo', 'Good', 'Alive', 'POINT(-73.96112257 40.81150423)'), (587982, 'honeylocust', 'Fair', 'Alive', 'POINT(-73.96644189 40.80731077)'), (587983, 'honeylocust', 'Good', 'Alive', 'POINT(-73.96602299 40.80849683)'), (588026, 'green ash', 'Good', 'Alive', 'POINT(-73.95471452 40.80777104)'), (589293, 'mulberry', 'Fair', 'Alive', 'POINT(-73.96550448 40.8069143)'), (589356, 'dawn redwood', 'Good', 'Alive', 'POINT(-73.96066338 40.81212634)'), (589442, 'honeylocust', 'Good', 'Alive', 'POINT(-73.96632511 40.80726138)'), (589505, 'hardy rubber tree', 'Good', 'Alive', 'POINT(-73.95682291 40.80162293)'), (589508, 'ginkgo', 'Good', 'Alive', 'POINT(-73.96693657 40.80588355)'), (590161, 'pin oak', 'Good', 'Alive', 'POINT(-73.9660887 40.80317136)'), (590244, 'pin oak', 'Poor', 'Alive', 'POINT(-73.9644407 40.80813464)'), (590329, 'pin oak', 'Good', 'Alive', 'POINT(-73.96474985 40.80260631)'), (590338, 'Callery pear', 'Good', 'Alive', 'POINT(-73.96460063 40.80820301)'), (590346, 'pin oak', 'Fair', 'Alive', 'POINT(-73.96516039 40.8084423)'), (590395, 'Callery pear', 'Good', 'Alive', 'POINT(-73.9663961 40.80565632)'), (590396, 'Callery pear', 'Good', 'Alive', 'POINT(-73.96633732 40.8056316)'), (591017, 'Sophora', 'Good', 'Alive', 'POINT(-73.95779184 40.81145716)'), (591185, 'honeylocust', 'Fair', 'Alive', 'POINT(-73.96548432 40.80291629)'), (591222, 'catalpa', 'Good', 'Alive', 'POINT(-73.95329338 40.80740387)'), (592432, 'Sophora', 'Good', 'Alive', 'POINT(-73.96758619 40.80380253)'), (592459, 'ginkgo', 'Good', 'Alive', 'POINT(-73.95339957 40.80534483)'), (592549, 'pin oak', 'Good', 'Alive', 'POINT(-73.96608144 40.80715832)'), (592559, 'littleleaf linden', 'Good', 'Alive', 'POINT(-73.95436806 40.80851458)'), (592565, 'pin oak', 'Good', 'Alive', 'POINT(-73.96428014 40.808066)'), (593440, 'Callery pear', 'Good', 'Alive', 'POINT(-73.96713253 40.80596594)'), (594185, 'pin oak', 'Good', 'Alive', 'POINT(-73.96668347 40.80388861)'), (594265, 'pin oak', 'Fair', 'Alive', 'POINT(-73.96453704 40.80817582)'), (595616, 'honeylocust', 'Good', 'Alive', 'POINT(-73.96507919 40.80274531)'), (595722, 'honeylocust', 'Good', 'Alive', 'POINT(-73.96538833 40.80287578)'), (596655, 'northern red oak', 'Poor', 'Alive', 'POINT(-73.96673589 40.80381686)'), (597955, 'sawtooth oak', 'Good', 'Alive', 'POINT(-73.96409768 40.8081949)'), (598121, 'pin oak', 'Good', 'Alive', 'POINT(-73.96589946 40.80144549)'), (598737, 'willow oak', 'Good', 'Alive', 'POINT(-73.96766773 40.80465921)'), (598810, 'sweetgum', 'Good', 'Alive', 'POINT(-73.95308757 40.80685396)'), (600991, 'London planetree', 'Good', 'Alive', 'POINT(-73.95309334 40.80731807)'), (601126, 'London planetree', 'Good', 'Alive', 'POINT(-73.95313183 40.80726525)'), (601176, 'willow oak', 'Good', 'Alive', 'POINT(-73.96775211 40.80469526)'), (601857, 'Japanese zelkova', 'Good', 'Alive', 'POINT(-73.95402995 40.8060899)'), (604159, 'honeylocust', 'Good', 'Alive', 'POINT(-73.95377965 40.80785865)'), (604167, 'Sophora', 'Good', 'Alive', 'POINT(-73.95403546 40.80561222)'), (607529, 'American linden', 'Good', 'Alive', 'POINT(-73.95595154 40.80806295)'), (608232, 'honeylocust', 'Good', 'Alive', 'POINT(-73.9652348 40.80125281)'), (609043, 'Kentucky coffeetree', 'Fair', 'Alive', 'POINT(-73.95884049 40.80966184)'), (609190, 'Sophora', 'Good', 'Alive', 'POINT(-73.96502448 40.80154612)'), (610544, 'sawtooth oak', 'Fair', 'Alive', 'POINT(-73.9646781 40.80843759)'), (611559, 'pin oak', 'Good', 'Alive', 'POINT(-73.9540762 40.80809569)'), (612151, 'pin oak', 'Good', 'Alive', 'POINT(-73.95421568 40.80804223)'), (612341, 'American larch', 'Good', 'Alive', 'POINT(-73.95552892 40.80859739)'), (612346, 'pin oak', 'Good', 'Alive', 'POINT(-73.95342885 40.80782246)'), (613744, 'Callery pear', 'Good', 'Alive', 'POINT(-73.96109621 40.80095725)'), (613753, 'Callery pear', 'Good', 'Alive', 'POINT(-73.9616506 40.8007154)'), (614663, 'Japanese zelkova', 'Good', 'Alive', 'POINT(-73.95796554 40.80788147)'), (614795, 'Japanese zelkova', 'Good', 'Alive', 'POINT(-73.95985015 40.80513195)'), (616823, 'Callery pear', 'Fair', 'Alive', 'POINT(-73.96059122 40.80074484)'), (617616, 'American elm', 'Good', 'Alive', 'POINT(-73.96019053 40.80413088)'), (617617, 'American elm', 'Good', 'Alive', 'POINT(-73.96034676 40.80367141)'), (617656, 'American elm', 'Fair', 'Alive', 'POINT(-73.95739642 40.80891111)'), (617657, 'American elm', 'Good', 'Alive', 'POINT(-73.95807163 40.80773629)'), (617663, 'honeylocust', 'Good', 'Alive', 'POINT(-73.95814013 40.81145762)'), (617757, 'American elm', 'Good', 'Alive', 'POINT(-73.95841285 40.80726932)'), (617758, 'American elm', 'Good', 'Alive', 'POINT(-73.95864536 40.80695112)'), (617781, 'American elm', 'Fair', 'Alive', 'POINT(-73.95721746 40.80925461)'), (617802, 'American elm', 'Good', 'Alive', 'POINT(-73.95748311 40.80874471)'), (617851, 'American elm', 'Good', 'Alive', 'POINT(-73.95996951 40.8047809)'), (618595, 'honeylocust', 'Good', 'Alive', 'POINT(-73.9611858 40.80135089)'), (619654, 'American elm', 'Good', 'Alive', 'POINT(-73.95991828 40.80493157)'), (619655, 'American elm', 'Good', 'Alive', 'POINT(-73.96050895 40.80319439)'), (619656, 'American elm', 'Fair', 'Alive', 'POINT(-73.96065506 40.80276468)'), (619700, 'American elm', 'Good', 'Alive', 'POINT(-73.95600336 40.81055036)'), (619743, 'Amur maple', 'Good', 'Alive', 'POINT(-73.95631864 40.81057395)'), (620044, 'honeylocust', 'Good', 'Alive', 'POINT(-73.95925301 40.81192503)'), (620098, 'honeylocust', 'Good', 'Alive', 'POINT(-73.95853849 40.81162493)'), (620107, 'honeylocust', 'Good', 'Alive', 'POINT(-73.95885465 40.81175772)'), (620151, 'honeylocust', 'Good', 'Alive', 'POINT(-73.95976519 40.81214015)'), (620174, 'honeylocust', 'Good', 'Alive', 'POINT(-73.95895898 40.81180154)'), (620792, 'honeylocust', 'Good', 'Alive', 'POINT(-73.96012878 40.81229285)'), (620805, 'ginkgo', 'Good', 'Alive', 'POINT(-73.95851021 40.80996588)'), (620941, 'honeylocust', 'Good', 'Alive', 'POINT(-73.95998967 40.81223443)'), (620955, 'crab apple', 'Good', 'Alive', 'POINT(-73.96730516 40.80335347)'), (620956, 'crab apple', 'Fair', 'Alive', 'POINT(-73.96732596 40.80332457)'), (620964, 'ginkgo', 'Good', 'Alive', 'POINT(-73.95895101 40.81084046)'), (621006, 'honeylocust', 'Good', 'Alive', 'POINT(-73.95840886 40.81157049)'), (621734, 'crab apple', 'Good', 'Alive', 'POINT(-73.96782921 40.80201572)'), (621759, 'honeylocust', 'Good', 'Alive', 'POINT(-73.9667023 40.8009446)'), (621762, 'crab apple', 'Good', 'Alive', 'POINT(-73.96735607 40.80333709)'), (621779, 'crab apple', 'Good', 'Alive', 'POINT(-73.96695085 40.80384474)'), (621812, 'kousa dogwood', 'Good', 'Alive', 'POINT(-73.95675969 40.80323884)'), (621867, 'sawtooth oak', 'Good', 'Alive', 'POINT(-73.95424301 40.80579898)'), (621877, 'American linden', 'Fair', 'Alive', 'POINT(-73.95698479 40.80333393)'), (622531, 'ginkgo', 'Good', 'Alive', 'POINT(-73.967863 40.80166534)'), (622590, 'ginkgo', 'Good', 'Alive', 'POINT(-73.96784188 40.80188433)'), (622817, 'honeylocust', 'Good', 'Alive', 'POINT(-73.96705306 40.80109216)'), (622956, 'crab apple', 'Good', 'Alive', 'POINT(-73.96782699 40.80203872)'), (622995, 'crab apple', 'Good', 'Alive', 'POINT(-73.96786607 40.80199026)'), (623725, 'American elm', 'Good', 'Alive', 'POINT(-73.96743027 40.80323403)'), (623732, 'American elm', 'Good', 'Alive', 'POINT(-73.96786939 40.80159909)'), (623766, 'American elm', 'Good', 'Alive', 'POINT(-73.96784726 40.80182849)'), (625542, 'Callery pear', 'Good', 'Alive', 'POINT(-73.96007727 40.80980262)'), (625621, 'Callery pear', 'Good', 'Alive', 'POINT(-73.96019101 40.80985052)'), (625622, 'Callery pear', 'Good', 'Alive', 'POINT(-73.95994141 40.8097454)'), (625692, 'littleleaf linden', 'Fair', 'Alive', 'POINT(-73.95722409 40.80343501)'), (625870, 'Amur maackia', 'Good', 'Alive', 'POINT(-73.96562576 40.80593458)'), (626670, 'American hophornbeam', 'Good', 'Alive', 'POINT(-73.96700723 40.80376618)'), (626685, 'London planetree', 'Good', 'Alive', 'POINT(-73.96705634 40.80369775)'), (626807, 'American hophornbeam', 'Good', 'Alive', 'POINT(-73.96496672 40.80105057)'), (627409, 'London planetree', 'Good', 'Alive', 'POINT(-73.96370354 40.80054945)'), (627418, 'London planetree', 'Good', 'Alive', 'POINT(-73.96692357 40.80393723)'), (627577, 'catalpa', 'Good', 'Alive', 'POINT(-73.95338111 40.8072839)'), (627601, 'Sophora', 'Good', 'Alive', 'POINT(-73.95368222 40.80863557)'), (627602, 'Sophora', 'Good', 'Alive', 'POINT(-73.95338082 40.8085109)'), (628280, 'Callery pear', 'Good', 'Alive', 'POINT(-73.95932848 40.80948724)'), (628453, 'Callery pear', 'Fair', 'Alive', 'POINT(-73.96154279 40.8008633)'), (628483, 'pin oak', 'Good', 'Alive', 'POINT(-73.96390329 40.80063341)'), (628533, 'littleleaf linden', 'Good', 'Alive', 'POINT(-73.96037729 40.80065485)'), (628613, 'Sophora', 'Good', 'Alive', 'POINT(-73.95359338 40.80859883)'), (628732, 'Sophora', 'Good', 'Alive', 'POINT(-73.95491087 40.80843162)'), (629358, 'littleleaf linden', 'Good', 'Alive', 'POINT(-73.9607877 40.80237457)'), (629362, 'Sophora', 'Good', 'Alive', 'POINT(-73.95473725 40.80835822)'), (629604, 'London planetree', 'Fair', 'Alive', 'POINT(-73.95324651 40.80856794)'), (630234, 'honeylocust', 'Good', 'Alive', 'POINT(-73.96110802 40.80145621)'), (631221, 'black locust', 'Fair', 'Alive', 'POINT(-73.96474166 40.81011399)'), (631366, \"Schumard's oak\", 'Good', 'Alive', 'POINT(-73.96251868 40.80230748)'), (631459, \"Schumard's oak\", 'Good', 'Alive', 'POINT(-73.96191982 40.80205789)'), (631468, 'golden raintree', 'Good', 'Alive', 'POINT(-73.96516476 40.80278142)'), (632293, 'Sophora', 'Good', 'Alive', 'POINT(-73.95384297 40.80717507)'), (632342, 'ginkgo', 'Good', 'Alive', 'POINT(-73.9578118 40.80967203)'), (632357, 'Sophora', 'Good', 'Alive', 'POINT(-73.95368801 40.80711007)'), (632359, 'Sophora', 'Good', 'Alive', 'POINT(-73.95903947 40.81087773)'), (632441, 'honeylocust', 'Good', 'Alive', 'POINT(-73.96422718 40.80063122)'), (632444, 'ginkgo', 'Good', 'Alive', 'POINT(-73.95784972 40.80968799)'), (632495, 'honeylocust', 'Good', 'Alive', 'POINT(-73.96428913 40.80065727)'), (633201, 'green ash', 'Good', 'Alive', 'POINT(-73.95383159 40.80952354)'), (633280, 'Amur maackia', 'Fair', 'Alive', 'POINT(-73.96294522 40.80583684)'), (633349, 'weeping willow', 'Good', 'Alive', 'POINT(-73.96258836 40.80233652)'), (634385, 'green ash', 'Good', 'Alive', 'POINT(-73.96748269 40.8031069)'), (634393, 'ginkgo', 'Good', 'Alive', 'POINT(-73.95794769 40.80972921)'), (635706, 'pin oak', 'Good', 'Alive', 'POINT(-73.95355884 40.80870029)'), (635837, 'littleleaf linden', 'Good', 'Alive', 'POINT(-73.96041408 40.80347343)'), (636537, 'littleleaf linden', 'Poor', 'Alive', 'POINT(-73.96056091 40.80304159)'), (636767, 'littleleaf linden', 'Good', 'Alive', 'POINT(-73.95423194 40.80733823)'), (636768, 'littleleaf linden', 'Good', 'Alive', 'POINT(-73.95461459 40.80749873)'), (637523, 'London planetree', 'Good', 'Alive', 'POINT(-73.95434065 40.80903073)'), (639469, 'northern red oak', 'Good', 'Alive', 'POINT(-73.95456173 40.80912398)'), (582523, 'Sophora', 'Fair', 'Alive', 'POINT(-73.96720716 40.8061094)'), (582543, 'Sophora', 'Fair', 'Alive', 'POINT(-73.96672349 40.80590621)'), (582588, 'Sophora', 'Good', 'Alive', 'POINT(-73.96745434 40.80578708)'), (582639, 'Sophora', 'Good', 'Alive', 'POINT(-73.96742759 40.8058417)'), (582683, 'Sophora', 'Good', 'Alive', 'POINT(-73.95730496 40.81212766)'), (583317, 'Sophora', 'Good', 'Alive', 'POINT(-73.96589187 40.80801915)'), (583334, 'Sophora', 'Fair', 'Alive', 'POINT(-73.96853919 40.80182132)'), (583339, 'Sophora', 'Good', 'Alive', 'POINT(-73.95760512 40.8117143)'), (583368, 'green ash', 'Good', 'Alive', 'POINT(-73.96494413 40.8068718)'), (583437, 'Sophora', 'Good', 'Alive', 'POINT(-73.95773251 40.81153887)'), (583484, 'honeylocust', 'Good', 'Alive', 'POINT(-73.95589111 40.80859746)'), (583486, 'honeylocust', 'Good', 'Alive', 'POINT(-73.95800168 40.81080252)'), (583544, 'Sophora', 'Fair', 'Alive', 'POINT(-73.95859534 40.81035859)'), (583566, 'littleleaf linden', 'Good', 'Alive', 'POINT(-73.96783566 40.80455823)'), (584184, 'Callery pear', 'Good', 'Alive', 'POINT(-73.96476132 40.80712211)'), (584193, 'ginkgo', 'Good', 'Alive', 'POINT(-73.95394269 40.80909464)'), (584264, 'pin oak', 'Good', 'Alive', 'POINT(-73.96797307 40.8046167)'), (584288, 'American linden', 'Good', 'Alive', 'POINT(-73.95379885 40.80929201)'), (584438, 'littleleaf linden', 'Good', 'Alive', 'POINT(-73.96788672 40.80457995)'), (584454, 'Callery pear', 'Good', 'Alive', 'POINT(-73.96659577 40.80794494)'), (585459, 'ginkgo', 'Good', 'Alive', 'POINT(-73.96559706 40.80862896)'), (585480, 'cherry', 'Good', 'Alive', 'POINT(-73.9537481 40.80936164)'), (585969, 'ginkgo', 'Good', 'Alive', 'POINT(-73.96700357 40.80591172)'), (585975, 'littleleaf linden', 'Fair', 'Alive', 'POINT(-73.96387841 40.80967808)'), (586054, 'honeylocust', 'Fair', 'Alive', 'POINT(-73.9690096 40.80264948)'), (586866, 'ginkgo', 'Good', 'Alive', 'POINT(-73.96724694 40.80601404)'), (586961, 'green ash', 'Good', 'Alive', 'POINT(-73.96728441 40.80626343)'), (587634, 'honeylocust', 'Good', 'Alive', 'POINT(-73.96619507 40.80720638)'), (588416, 'honeylocust', 'Good', 'Alive', 'POINT(-73.96617602 40.80837333)'), (588417, 'ginkgo', 'Good', 'Alive', 'POINT(-73.96588927 40.80860474)'), (588492, 'black locust', 'Fair', 'Alive', 'POINT(-73.95656594 40.8076803)'), (588587, 'honeylocust', 'Good', 'Alive', 'POINT(-73.96579612 40.80703765)'), (589107, 'honeylocust', 'Good', 'Alive', 'POINT(-73.96625972 40.80830578)'), (589204, 'Callery pear', 'Good', 'Alive', 'POINT(-73.9662583 40.80559838)'), (589232, 'Callery pear', 'Good', 'Alive', 'POINT(-73.95442684 40.80843452)'), (589792, 'Chinese elm', 'Good', 'Alive', 'POINT(-73.96005819 40.8129315)'), (589919, 'mulberry', 'Fair', 'Alive', 'POINT(-73.9656099 40.80695889)'), (589996, 'Japanese tree lilac', 'Poor', 'Alive', 'POINT(-73.96625184 40.80570807)'), (590011, 'pin oak', 'Fair', 'Alive', 'POINT(-73.96539777 40.80854377)'), (591584, 'pin oak', 'Fair', 'Alive', 'POINT(-73.96526555 40.80848725)'), (591640, 'Sophora', 'Good', 'Alive', 'POINT(-73.95815977 40.8109596)'), (591641, 'Sophora', 'Good', 'Alive', 'POINT(-73.95809592 40.81104882)'), (591655, 'Sophora', 'Good', 'Alive', 'POINT(-73.96707342 40.80511907)'), (591694, 'English oak', 'Good', 'Alive', 'POINT(-73.96675316 40.80348161)'), (591704, 'Sophora', 'Good', 'Alive', 'POINT(-73.95864812 40.81028667)'), (591728, 'pin oak', 'Good', 'Alive', 'POINT(-73.96601987 40.80314231)'), (591729, 'pin oak', 'Good', 'Alive', 'POINT(-73.96465354 40.80256566)'), (592351, 'Sophora', 'Good', 'Alive', 'POINT(-73.95563805 40.80894791)'), (593038, 'Callery pear', 'Good', 'Alive', 'POINT(-73.95315703 40.80677516)'), (593050, 'Callery pear', 'Good', 'Alive', 'POINT(-73.96718246 40.80598693)'), (593828, 'northern red oak', 'Good', 'Alive', 'POINT(-73.96526549 40.80282394)'), (593840, 'pin oak', 'Good', 'Alive', 'POINT(-73.96616133 40.80320202)'), (593841, 'pin oak', 'Good', 'Alive', 'POINT(-73.96458028 40.80253474)'), (593989, 'pin oak', 'Good', 'Alive', 'POINT(-73.96686738 40.80363688)'), (594943, 'northern red oak', 'Good', 'Alive', 'POINT(-73.96583533 40.80141848)'), (594971, 'American linden', 'Poor', 'Alive', 'POINT(-73.96498446 40.80270533)'), (595485, 'honeylocust', 'Good', 'Alive', 'POINT(-73.96548117 40.80126935)'), (596222, 'red maple', 'Good', 'Alive', 'POINT(-73.96672215 40.80179191)'), (596348, 'Sophora', 'Good', 'Alive', 'POINT(-73.96525252 40.80644973)'), (597054, 'Japanese zelkova', 'Good', 'Alive', 'POINT(-73.96046922 40.80079966)'), (597058, 'northern red oak', 'Fair', 'Alive', 'POINT(-73.96727983 40.80449348)'), (598447, 'honeylocust', 'Good', 'Alive', 'POINT(-73.96724029 40.80201008)'), (598495, 'willow oak', 'Good', 'Alive', 'POINT(-73.96753423 40.80460217)'), (598496, 'willow oak', 'Good', 'Alive', 'POINT(-73.96762806 40.80464226)'), (598515, 'sweetgum', 'Good', 'Alive', 'POINT(-73.95316835 40.80688816)'), (599388, 'pin oak', 'Good', 'Alive', 'POINT(-73.96716144 40.8044429)'), (600144, 'ginkgo', 'Good', 'Alive', 'POINT(-73.96061879 40.80086352)'), (603269, 'honeylocust', 'Good', 'Alive', 'POINT(-73.96113741 40.80108497)'), (603745, 'catalpa', 'Good', 'Alive', 'POINT(-73.95341619 40.80723592)'), (603823, 'honeylocust', 'Good', 'Alive', 'POINT(-73.95362167 40.80779213)'), (604714, 'Sophora', 'Good', 'Alive', 'POINT(-73.96571736 40.80301464)'), (605421, 'sawtooth oak', 'Good', 'Alive', 'POINT(-73.9642901 40.80827536)'), (605507, 'American linden', 'Good', 'Alive', 'POINT(-73.95349213 40.80773759)'), (605540, 'honeylocust', 'Good', 'Alive', 'POINT(-73.96511297 40.80142272)'), (607621, 'American linden', 'Good', 'Alive', 'POINT(-73.95547114 40.80786092)'), (607674, 'honeylocust', 'Good', 'Alive', 'POINT(-73.95610825 40.80224974)'), (607843, 'American linden', 'Good', 'Alive', 'POINT(-73.95556596 40.80790079)'), (608586, 'Sophora', 'Good', 'Alive', 'POINT(-73.96588977 40.80308741)'), (608611, 'Sophora', 'Good', 'Alive', 'POINT(-73.96595924 40.80311673)'), (608634, 'Sophora', 'Good', 'Alive', 'POINT(-73.96780249 40.80471678)'), (609349, 'littleleaf linden', 'Good', 'Alive', 'POINT(-73.95631487 40.80233674)'), (609409, 'littleleaf linden', 'Good', 'Alive', 'POINT(-73.96025258 40.80070715)'), (609538, 'Sophora', 'Good', 'Alive', 'POINT(-73.95385864 40.80789191)'), (609960, 'Sophora', 'Good', 'Alive', 'POINT(-73.96493047 40.80167724)'), (610819, 'honeylocust', 'Good', 'Alive', 'POINT(-73.95332467 40.80766708)'), (611612, 'littleleaf linden', 'Fair', 'Alive', 'POINT(-73.96165136 40.80048175)'), (611624, 'pin oak', 'Good', 'Alive', 'POINT(-73.95414567 40.80812502)'), (611666, 'littleleaf linden', 'Good', 'Alive', 'POINT(-73.95502739 40.8083847)'), (611754, 'pin oak', 'Good', 'Alive', 'POINT(-73.95457211 40.80901513)'), (611810, 'pin oak', 'Good', 'Alive', 'POINT(-73.95326465 40.80775315)'), (611838, 'pin oak', 'Good', 'Alive', 'POINT(-73.95372884 40.80794908)'), (611847, 'red maple', 'Good', 'Alive', 'POINT(-73.95516604 40.80926536)'), (612458, 'pin oak', 'Good', 'Alive', 'POINT(-73.95317307 40.80771449)'), (612667, 'honeylocust', 'Good', 'Alive', 'POINT(-73.96597876 40.80147888)'), (613105, 'American linden', 'Good', 'Alive', 'POINT(-73.95561724 40.80863485)'), (613811, 'Callery pear', 'Fair', 'Alive', 'POINT(-73.96069298 40.80078764)'), (613834, 'Callery pear', 'Good', 'Alive', 'POINT(-73.96287782 40.80245715)'), (613841, 'Callery pear', 'Fair', 'Alive', 'POINT(-73.96147413 40.80040768)'), (613863, 'Callery pear', 'Good', 'Alive', 'POINT(-73.96092904 40.80088693)'), (613933, 'Callery pear', 'Poor', 'Alive', 'POINT(-73.96636009 40.80163945)'), (614050, 'silver linden', 'Good', 'Alive', 'POINT(-73.96122862 40.80101295)'), (615866, 'pin oak', 'Good', 'Alive', 'POINT(-73.95712988 40.81008621)'), (615939, 'pin oak', 'Good', 'Alive', 'POINT(-73.95743897 40.80882944)'), (616585, 'Callery pear', 'Good', 'Alive', 'POINT(-73.96295889 40.80249094)'), (616612, 'silver linden', 'Good', 'Alive', 'POINT(-73.96130351 40.80104445)'), (616631, 'Callery pear', 'Good', 'Alive', 'POINT(-73.96279421 40.80242231)'), (616659, 'American larch', 'Good', 'Alive', 'POINT(-73.95513098 40.81021184)'), (616687, 'Callery pear', 'Good', 'Alive', 'POINT(-73.96049768 40.80070549)'), (616688, 'Callery pear', 'Good', 'Alive', 'POINT(-73.96742195 40.80208657)'), (616736, 'Callery pear', 'Good', 'Alive', 'POINT(-73.95502766 40.80848099)'), (617361, 'American elm', 'Good', 'Alive', 'POINT(-73.95899236 40.80647623)'), (617448, 'American elm', 'Good', 'Alive', 'POINT(-73.95818525 40.80758079)'), (617464, 'American elm', 'Good', 'Alive', 'POINT(-73.95939722 40.80592214)'), (617470, 'American elm', 'Good', 'Alive', 'POINT(-73.9590525 40.80639392)'), (617471, 'American elm', 'Fair', 'Alive', 'POINT(-73.95960272 40.8056409)'), (617486, 'American elm', 'Good', 'Alive', 'POINT(-73.95972165 40.80547576)'), (617535, 'American hophornbeam', 'Good', 'Alive', 'POINT(-73.95964585 40.80558187)'), (618240, 'Chinese elm', 'Good', 'Alive', 'POINT(-73.96089241 40.81014594)'), (618378, 'pin oak', 'Good', 'Alive', 'POINT(-73.95524468 40.81012115)'), (618379, 'pin oak', 'Good', 'Alive', 'POINT(-73.95516887 40.81008919)'), (618432, 'pin oak', 'Good', 'Alive', 'POINT(-73.95709849 40.80950268)'), (618467, 'black oak', 'Good', 'Alive', 'POINT(-73.95571533 40.81031958)'), (619375, 'pin oak', 'Good', 'Alive', 'POINT(-73.9558322 40.81036886)'), (619422, 'American elm', 'Good', 'Alive', 'POINT(-73.95852858 40.80711094)'), (619423, 'American elm', 'Good', 'Alive', 'POINT(-73.95876196 40.80679154)'), (619424, 'American elm', 'Good', 'Alive', 'POINT(-73.95979683 40.80528874)'), (619426, 'American elm', 'Good', 'Alive', 'POINT(-73.95730588 40.8090849)'), (619456, 'American elm', 'Good', 'Alive', 'POINT(-73.9601496 40.80425127)'), (619541, 'Callery pear', 'Good', 'Alive', 'POINT(-73.95775291 40.80294445)'), (619546, 'American elm', 'Good', 'Alive', 'POINT(-73.95586759 40.81049303)'), (619547, 'American elm', 'Good', 'Alive', 'POINT(-73.95609178 40.81058769)'), (619564, 'American elm', 'Good', 'Alive', 'POINT(-73.95643596 40.81073301)'), (619616, 'silver linden', 'Fair', 'Alive', 'POINT(-73.95795841 40.80303073)'), (619630, 'American elm', 'Good', 'Alive', 'POINT(-73.96044868 40.80337165)'), (620212, 'honeylocust', 'Good', 'Alive', 'POINT(-73.95935418 40.81196753)'), (620219, 'honeylocust', 'Good', 'Alive', 'POINT(-73.96656262 40.80088585)'), (620220, 'crab apple', 'Good', 'Alive', 'POINT(-73.96728741 40.80343244)'), (620244, 'honeylocust', 'Good', 'Alive', 'POINT(-73.9664653 40.8008449)'), (620280, 'honeylocust', 'Good', 'Alive', 'POINT(-73.96735642 40.80121978)'), (620283, 'crab apple', 'Fair', 'Alive', 'POINT(-73.96750905 40.8030703)'), (621052, 'pin oak', 'Good', 'Alive', 'POINT(-73.95594907 40.81041813)'), (621055, 'Callery pear', 'Good', 'Alive', 'POINT(-73.95791243 40.80339616)'), (621078, 'honeylocust', 'Good', 'Alive', 'POINT(-73.95945536 40.81201002)'), (621089, 'black oak', 'Good', 'Alive', 'POINT(-73.9663509 40.80079678)'), (621104, 'crab apple', 'Good', 'Alive', 'POINT(-73.96691108 40.80390017)'), (621106, 'crab apple', 'Good', 'Alive', 'POINT(-73.96697333 40.80381341)'), (621112, 'crab apple', 'Good', 'Alive', 'POINT(-73.96786121 40.80204062)'), (621244, 'crab apple', 'Good', 'Alive', 'POINT(-73.96727319 40.80345219)'), (621245, 'crab apple', 'Good', 'Alive', 'POINT(-73.96726632 40.8034074)'), (621311, 'honeylocust', 'Fair', 'Alive', 'POINT(-73.96694688 40.80104749)'), (621314, 'American linden', 'Good', 'Alive', 'POINT(-73.95644815 40.81062855)'), (621958, 'honeylocust', 'Good', 'Alive', 'POINT(-73.96682807 40.80099751)'), (622116, 'ginkgo', 'Good', 'Alive', 'POINT(-73.96785994 40.80169709)'), (622149, 'pin oak', 'Good', 'Alive', 'POINT(-73.95537735 40.81017708)'), (622176, 'ginkgo', 'Good', 'Alive', 'POINT(-73.96786638 40.8016303)'), (623251, 'ginkgo', 'Good', 'Alive', 'POINT(-73.96785677 40.80172994)'), (623300, 'willow oak', 'Good', 'Alive', 'POINT(-73.95741509 40.8035157)'), (623323, 'willow oak', 'Good', 'Alive', 'POINT(-73.95760893 40.80359758)'), (623364, 'littleleaf linden', 'Good', 'Alive', 'POINT(-73.95481221 40.80911629)'), (623980, 'willow oak', 'Good', 'Alive', 'POINT(-73.95751958 40.80355984)'), (624089, 'purple-leaf plum', 'Good', 'Alive', 'POINT(-73.96701902 40.80380421)'), (624847, 'Callery pear', 'Good', 'Alive', 'POINT(-73.95960967 40.80960567)'), (624848, 'Callery pear', 'Good', 'Alive', 'POINT(-73.95940115 40.80951784)'), (624964, 'Callery pear', 'Good', 'Alive', 'POINT(-73.95954016 40.80957639)'), (626911, 'London planetree', 'Good', 'Alive', 'POINT(-73.96689345 40.80392475)'), (626941, 'American hophornbeam', 'Good', 'Alive', 'POINT(-73.96350062 40.80046416)'), (627007, 'London planetree', 'Good', 'Alive', 'POINT(-73.96693218 40.80387077)'), (628022, 'Sophora', 'Good', 'Alive', 'POINT(-73.95539644 40.80854121)'), (628857, 'Sophora', 'Good', 'Alive', 'POINT(-73.95798205 40.81139122)'), (628906, 'Callery pear', 'Good', 'Alive', 'POINT(-73.95984979 40.8097068)'), (629022, 'Sophora', 'Good', 'Alive', 'POINT(-73.96128551 40.80032885)'), (629628, 'American elm', 'Good', 'Alive', 'POINT(-73.96775776 40.80244425)'), (629647, 'American elm', 'Good', 'Alive', 'POINT(-73.9677222 40.80259121)'), (629856, 'Callery pear', 'Good', 'Alive', 'POINT(-73.96066177 40.8100488)'), (629857, 'Callery pear', 'Good', 'Alive', 'POINT(-73.96042481 40.80994899)'), (630621, 'pin oak', 'Good', 'Alive', 'POINT(-73.95348628 40.80866954)'), (632012, 'Sophora', 'Good', 'Alive', 'POINT(-73.95847712 40.81064081)'), (632161, 'Sophora', 'Good', 'Alive', 'POINT(-73.95879937 40.81077657)'), (632206, 'ginkgo', 'Fair', 'Alive', 'POINT(-73.96414817 40.800598)'), (632272, 'ginkgo', 'Fair', 'Alive', 'POINT(-73.96399142 40.80053209)'), (632861, 'honeylocust', 'Good', 'Alive', 'POINT(-73.95809765 40.80968275)'), (632893, 'honeylocust', 'Fair', 'Alive', 'POINT(-73.96475244 40.80085207)'), (632946, 'tree of heaven', 'Good', 'Alive', 'POINT(-73.96763957 40.80280969)'), (633015, 'silver linden', 'Good', 'Alive', 'POINT(-73.95418348 40.81048836)'), (633780, 'Sophora', 'Good', 'Alive', 'POINT(-73.95403903 40.80725731)'), (634775, 'magnolia', 'Fair', 'Alive', 'POINT(-73.95656459 40.80315642)'), (634830, 'silver linden', 'Good', 'Alive', 'POINT(-73.95373036 40.80948113)'), (636242, 'Japanese zelkova', 'Good', 'Alive', 'POINT(-73.96147978 40.80094974)'), (636367, 'northern red oak', 'Good', 'Alive', 'POINT(-73.95464905 40.80986594)'), (637366, 'ash', 'Fair', 'Alive', 'POINT(-73.95495022 40.80928783)'), (637970, 'American elm', 'Good', 'Alive', 'POINT(-73.967662 40.80275062)'), (638024, 'American hophornbeam', 'Good', 'Alive', 'POINT(-73.96506531 40.80098363)'), (639640, 'Chinese elm', 'Good', 'Alive', 'POINT(-73.95749578 40.80953906)'), (639669, 'ginkgo', 'Good', 'Alive', 'POINT(-73.96050193 40.81164168)'), (641689, 'London planetree', 'Good', 'Alive', 'POINT(-73.96688484 40.80399121)'), (642664, 'ginkgo', 'Good', 'Alive', 'POINT(-73.96036322 40.81143541)'), (642874, 'honeylocust', 'Good', 'Alive', 'POINT(-73.95991316 40.80046196)'), (642892, 'honeylocust', 'Good', 'Alive', 'POINT(-73.9538979 40.80966194)'), (645516, 'Kentucky coffeetree', 'Good', 'Alive', 'POINT(-73.96629364 40.80325785)'), (645658, 'honeylocust', 'Good', 'Alive', 'POINT(-73.96479852 40.80148862)'), (645686, 'Kentucky coffeetree', 'Good', 'Alive', 'POINT(-73.9583031 40.80976913)'), (647156, \"Schumard's oak\", 'Good', 'Alive', 'POINT(-73.96204206 40.80210884)'), (648246, 'London planetree', 'Fair', 'Alive', 'POINT(-73.96414868 40.80139229)'), (648265, 'purple-leaf plum', 'Fair', 'Alive', 'POINT(-73.9653769 40.80070338)'), (648298, 'Sophora', 'Good', 'Alive', 'POINT(-73.9592543 40.81096824)'), (648446, 'ginkgo', 'Good', 'Alive', 'POINT(-73.95922947 40.80083465)'), (649172, 'London planetree', 'Good', 'Alive', 'POINT(-73.96327897 40.80102655)'), (649323, 'ginkgo', 'Good', 'Alive', 'POINT(-73.95892184 40.80070725)'), (650215, 'Kentucky coffeetree', 'Good', 'Alive', 'POINT(-73.95780446 40.80812788)'), (650232, 'sawtooth oak', 'Good', 'Alive', 'POINT(-73.95743392 40.80940364)'), (651324, 'Kentucky coffeetree', 'Good', 'Alive', 'POINT(-73.95756422 40.81038173)'), (655068, 'black maple', 'Good', 'Alive', 'POINT(-73.95526764 40.81023971)'), (656123, 'honeylocust', 'Good', 'Alive', 'POINT(-73.95730266 40.81005427)'), (657151, 'American elm', 'Good', 'Alive', 'POINT(-73.95726783 40.81000444)'), (658238, 'Sophora', 'Good', 'Alive', 'POINT(-73.96003149 40.81129566)'), (658900, 'hawthorn', 'Fair', 'Alive', 'POINT(-73.96753089 40.80303996)'), (659840, 'black maple', 'Good', 'Alive', 'POINT(-73.95514877 40.80772534)'), (660491, 'Kentucky coffeetree', 'Good', 'Alive', 'POINT(-73.95793976 40.81054458)'), (660492, 'Kentucky coffeetree', 'Good', 'Alive', 'POINT(-73.95785073 40.80803963)'), (660697, 'Kentucky coffeetree', 'Good', 'Alive', 'POINT(-73.95702036 40.80982732)'), (662443, 'cherry', 'Good', 'Alive', 'POINT(-73.9566872 40.80787911)'), (662533, 'littleleaf linden', 'Good', 'Alive', 'POINT(-73.95842831 40.80298542)'), (663303, 'London planetree', 'Good', 'Alive', 'POINT(-73.95831041 40.80429913)'), (663348, 'honeylocust', 'Good', 'Alive', 'POINT(-73.96454923 40.80159053)'), (663392, 'London planetree', 'Good', 'Alive', 'POINT(-73.95915238 40.80196009)'), (663393, 'London planetree', 'Good', 'Alive', 'POINT(-73.95829605 40.80324704)'), (665115, 'honeylocust', 'Good', 'Alive', 'POINT(-73.95836653 40.80521694)'), (665835, 'honeylocust', 'Good', 'Alive', 'POINT(-73.95614038 40.80862886)'), (665920, 'London planetree', 'Good', 'Alive', 'POINT(-73.95832506 40.80465608)'), (666034, 'London planetree', 'Good', 'Alive', 'POINT(-73.9593083 40.80174584)'), (666088, 'London planetree', 'Good', 'Alive', 'POINT(-73.95943206 40.80157579)'), (666089, 'London planetree', 'Good', 'Alive', 'POINT(-73.95828359 40.80375317)'), (666519, 'honeylocust', 'Good', 'Alive', 'POINT(-73.96547156 40.80444446)'), (666558, 'pin oak', 'Good', 'Alive', 'POINT(-73.96577281 40.80387354)'), (666559, 'pin oak', 'Fair', 'Alive', 'POINT(-73.96589577 40.80392523)'), (666938, 'Chinese fringetree', 'Good', 'Alive', 'POINT(-73.95995554 40.81141118)'), (666965, 'honeylocust', 'Good', 'Alive', 'POINT(-73.95894462 40.80839349)'), (666970, 'honeylocust', 'Good', 'Alive', 'POINT(-73.96448638 40.80403031)'), (666971, 'honeylocust', 'Good', 'Alive', 'POINT(-73.964103 40.80386914)'), (667041, 'honeylocust', 'Good', 'Alive', 'POINT(-73.96512168 40.80429738)'), (667412, 'London planetree', 'Good', 'Alive', 'POINT(-73.95710111 40.80731157)'), (667427, 'London planetree', 'Good', 'Alive', 'POINT(-73.95757035 40.80666817)'), (667479, 'London planetree', 'Good', 'Alive', 'POINT(-73.96086755 40.80263804)'), (667508, 'London planetree', 'Good', 'Alive', 'POINT(-73.95570649 40.80922376)'), (667891, 'Sophora', 'Good', 'Alive', 'POINT(-73.95897534 40.81015925)'), (667915, 'London planetree', 'Good', 'Alive', 'POINT(-73.96090435 40.80253159)'), (667954, 'London planetree', 'Good', 'Alive', 'POINT(-73.96080159 40.80282891)'), (667955, 'London planetree', 'Good', 'Alive', 'POINT(-73.96070645 40.8031042)'), (669600, 'silver linden', 'Fair', 'Alive', 'POINT(-73.95901478 40.808423)'), (669663, 'Callery pear', 'Good', 'Alive', 'POINT(-73.9667315 40.80333276)'), (669679, 'Callery pear', 'Fair', 'Alive', 'POINT(-73.96461726 40.80338782)'), (669701, 'Callery pear', 'Good', 'Alive', 'POINT(-73.95509291 40.810065)'), (670026, 'Callery pear', 'Good', 'Alive', 'POINT(-73.95579789 40.80909844)'), (670097, 'Callery pear', 'Good', 'Alive', 'POINT(-73.95524247 40.80985995)'), (670119, 'littleleaf linden', 'Fair', 'Alive', 'POINT(-73.95900764 40.80215896)'), (670477, 'London planetree', 'Fair', 'Alive', 'POINT(-73.96665039 40.80329846)'), (670861, 'black maple', 'Good', 'Alive', 'POINT(-73.95479713 40.80828704)'), (671288, 'honeylocust', 'Good', 'Alive', 'POINT(-73.96466591 40.80410578)'), (671298, 'honeylocust', 'Good', 'Alive', 'POINT(-73.96376924 40.80372883)'), (671323, 'honeylocust', 'Good', 'Alive', 'POINT(-73.96366873 40.80368658)'), (671343, 'honeylocust', 'Good', 'Alive', 'POINT(-73.96431097 40.80395657)'), (671910, 'Callery pear', 'Poor', 'Alive', 'POINT(-73.96681136 40.80336652)'), (672381, 'ginkgo', 'Good', 'Alive', 'POINT(-73.95983713 40.8007525)'), (672413, 'magnolia', 'Fair', 'Alive', 'POINT(-73.9573621 40.80360088)'), (672758, 'honeylocust', 'Good', 'Alive', 'POINT(-73.96143354 40.806476)'), (672853, 'ginkgo', 'Good', 'Alive', 'POINT(-73.95781741 40.80843845)'), (672871, 'honeylocust', 'Good', 'Alive', 'POINT(-73.96595475 40.8030043)'), (673217, 'honeylocust', 'Good', 'Alive', 'POINT(-73.96152237 40.80635431)'), (673240, 'honeylocust', 'Good', 'Alive', 'POINT(-73.95990233 40.80857355)'), (673241, 'honeylocust', 'Good', 'Alive', 'POINT(-73.95984959 40.80864579)'), (674427, 'dawn redwood', 'Good', 'Alive', 'POINT(-73.96287309 40.8001706)'), (674472, 'Callery pear', 'Good', 'Alive', 'POINT(-73.95693233 40.80754301)'), (674835, 'Callery pear', 'Good', 'Alive', 'POINT(-73.95536854 40.8096871)'), (674875, 'Callery pear', 'Good', 'Alive', 'POINT(-73.96100533 40.80706261)'), (674955, 'Callery pear', 'Good', 'Alive', 'POINT(-73.96104983 40.80700165)'), (675596, 'American elm', 'Fair', 'Alive', 'POINT(-73.95828785 40.80769932)'), (676213, 'pin oak', 'Good', 'Alive', 'POINT(-73.96338472 40.80284982)'), (676514, 'honeylocust', 'Good', 'Alive', 'POINT(-73.96503542 40.80356359)'), (676515, 'ginkgo', 'Good', 'Alive', 'POINT(-73.96626905 40.80408213)'), (676517, 'honeylocust', 'Good', 'Alive', 'POINT(-73.96165459 40.8057895)'), (676700, 'ginkgo', 'Good', 'Alive', 'POINT(-73.96633325 40.80410489)'), (676883, 'ginkgo', 'Poor', 'Alive', 'POINT(-73.96227122 40.80496751)'), (676902, 'honeylocust', 'Good', 'Alive', 'POINT(-73.96160896 40.80584935)'), (677343, 'honeylocust', 'Good', 'Alive', 'POINT(-73.96107442 40.80656578)'), (677466, 'honeylocust', 'Good', 'Alive', 'POINT(-73.96123775 40.80635473)'), (678120, 'Japanese zelkova', 'Good', 'Alive', 'POINT(-73.96474843 40.80344295)'), (678499, 'Sophora', 'Good', 'Alive', 'POINT(-73.95909727 40.8084577)'), (678518, 'Sophora', 'Good', 'Alive', 'POINT(-73.96182268 40.80594291)'), (678922, 'Callery pear', 'Fair', 'Alive', 'POINT(-73.96139788 40.80518753)'), (679184, 'Japanese zelkova', 'Fair', 'Alive', 'POINT(-73.96126539 40.80595424)'), (679338, 'Callery pear', 'Fair', 'Alive', 'POINT(-73.96172877 40.80532499)'), (679394, 'Callery pear', 'Fair', 'Alive', 'POINT(-73.95882911 40.8090595)'), (680371, 'Callery pear', 'Good', 'Alive', 'POINT(-73.9614955 40.80522808)'), (680376, 'hawthorn', 'Good', 'Alive', 'POINT(-73.96704423 40.80371461)'), (680622, 'honeylocust', 'Good', 'Alive', 'POINT(-73.96483914 40.80348108)'), (680793, 'ginkgo', 'Fair', 'Alive', 'POINT(-73.95846106 40.80830091)'), (681059, 'ginkgo', 'Poor', 'Alive', 'POINT(-73.95820478 40.80808229)'), (681245, 'London planetree', 'Fair', 'Alive', 'POINT(-73.96153781 40.80207316)'), (681415, 'scarlet oak', 'Good', 'Alive', 'POINT(-73.96550795 40.80376221)'), (681887, 'Japanese zelkova', 'Fair', 'Alive', 'POINT(-73.96115906 40.80590977)'), (682153, 'pin oak', 'Good', 'Alive', 'POINT(-73.96290465 40.80264795)'), (682160, 'pin oak', 'Good', 'Alive', 'POINT(-73.96190643 40.80582818)'), (638127, 'ginkgo', 'Good', 'Alive', 'POINT(-73.95791434 40.80960566)'), (638909, 'northern red oak', 'Good', 'Alive', 'POINT(-73.95458198 40.80983785)'), (639018, 'ginkgo', 'Good', 'Alive', 'POINT(-73.96072932 40.81173761)'), (639845, 'pin oak', 'Good', 'Alive', 'POINT(-73.95450135 40.80991611)'), (639914, \"'Schubert' chokecherry\", 'Good', 'Alive', 'POINT(-73.96762001 40.80552514)'), (639923, 'hawthorn', 'Good', 'Alive', 'POINT(-73.96705119 40.80375939)'), (639950, 'ginkgo', 'Good', 'Alive', 'POINT(-73.96025873 40.81153909)'), (639971, 'ginkgo', 'Good', 'Alive', 'POINT(-73.96062826 40.81169497)'), (641297, 'American hophornbeam', 'Good', 'Alive', 'POINT(-73.96498125 40.80094828)'), (641845, 'Chinese elm', 'Good', 'Alive', 'POINT(-73.96015767 40.81149645)'), (641890, 'Chinese elm', 'Good', 'Alive', 'POINT(-73.95990512 40.81124242)'), (642403, 'ginkgo', 'Good', 'Alive', 'POINT(-73.96006608 40.81145781)'), (642462, 'honeylocust', 'Good', 'Alive', 'POINT(-73.9654574 40.80059356)'), (642528, 'ginkgo', 'Good', 'Alive', 'POINT(-73.9593554 40.81101083)'), (642614, 'ginkgo', 'Good', 'Alive', 'POINT(-73.96532065 40.8007801)'), (643199, 'ginkgo', 'Good', 'Alive', 'POINT(-73.96050855 40.81149664)'), (644058, \"Schumard's oak\", 'Fair', 'Alive', 'POINT(-73.96156069 40.80190822)'), (644220, \"'Schubert' chokecherry\", 'Good', 'Alive', 'POINT(-73.96755506 40.80562444)'), (644647, 'ginkgo', 'Good', 'Alive', 'POINT(-73.95760191 40.80885793)'), (645354, 'Chinese elm', 'Poor', 'Alive', 'POINT(-73.96489404 40.80135814)'), (646046, 'ginkgo', 'Good', 'Alive', 'POINT(-73.95751568 40.80902682)'), (646206, 'Callery pear', 'Good', 'Alive', 'POINT(-73.96496111 40.80126651)'), (646894, 'ginkgo', 'Good', 'Alive', 'POINT(-73.95747256 40.80911127)'), (646907, \"Schumard's oak\", 'Good', 'Alive', 'POINT(-73.9626422 40.80235896)'), (647436, 'littleleaf linden', 'Good', 'Alive', 'POINT(-73.96082049 40.8022781)'), (647460, 'Japanese zelkova', 'Good', 'Alive', 'POINT(-73.96160334 40.80078023)'), (648157, 'London planetree', 'Good', 'Alive', 'POINT(-73.96371067 40.80120809)'), (648173, 'London planetree', 'Good', 'Alive', 'POINT(-73.96365137 40.8003891)'), (649862, 'Kentucky coffeetree', 'Good', 'Alive', 'POINT(-73.95782745 40.81049588)'), (649863, 'Kentucky coffeetree', 'Good', 'Alive', 'POINT(-73.95776524 40.80820317)'), (649871, 'sawtooth oak', 'Good', 'Alive', 'POINT(-73.95780688 40.80956047)'), (649968, 'sawtooth oak', 'Good', 'Alive', 'POINT(-73.95752558 40.80944218)'), (651900, 'London planetree', 'Good', 'Alive', 'POINT(-73.96404187 40.80134737)'), (652472, 'London planetree', 'Good', 'Alive', 'POINT(-73.96317026 40.80098084)'), (652473, 'London planetree', 'Fair', 'Alive', 'POINT(-73.96360448 40.80116344)'), (654713, 'green ash', 'Fair', 'Alive', 'POINT(-73.95509235 40.80934777)'), (654760, 'willow oak', 'Good', 'Alive', 'POINT(-73.95802806 40.81044267)'), (654761, 'American elm', 'Fair', 'Alive', 'POINT(-73.9572 40.80969331)'), (655477, 'green ash', 'Good', 'Alive', 'POINT(-73.95476387 40.80920923)'), (655576, 'Sophora', 'Good', 'Alive', 'POINT(-73.96022667 40.81068596)'), (655786, 'American elm', 'Good', 'Alive', 'POINT(-73.95721086 40.80989769)'), (657483, 'hawthorn', 'Good', 'Alive', 'POINT(-73.96702106 40.8037469)'), (658343, 'American beech', 'Good', 'Alive', 'POINT(-73.95537633 40.80782104)'), (658532, 'Sophora', 'Good', 'Alive', 'POINT(-73.96062167 40.81085222)'), (658550, 'Sophora', 'Good', 'Alive', 'POINT(-73.96080197 40.81176825)'), (659168, 'magnolia', 'Poor', 'Alive', 'POINT(-73.9561045 40.80324775)'), (659301, 'swamp white oak', 'Fair', 'Alive', 'POINT(-73.96679355 40.80182197)'), (660171, 'Kentucky coffeetree', 'Good', 'Alive', 'POINT(-73.95764904 40.80842622)'), (660848, 'dawn redwood', 'Poor', 'Alive', 'POINT(-73.96410115 40.80071657)'), (662051, 'honeylocust', 'Good', 'Alive', 'POINT(-73.96153271 40.80031324)'), (662065, 'green ash', 'Good', 'Alive', 'POINT(-73.95366106 40.8087436)'), (662681, 'littleleaf linden', 'Fair', 'Alive', 'POINT(-73.95604723 40.80875658)'), (662765, 'ginkgo', 'Good', 'Alive', 'POINT(-73.95878697 40.81091819)'), (663540, 'London planetree', 'Good', 'Alive', 'POINT(-73.95858066 40.80274628)'), (663567, 'London planetree', 'Good', 'Alive', 'POINT(-73.95835612 40.80501596)'), (664485, 'pin oak', 'Good', 'Alive', 'POINT(-73.95837117 40.80532941)'), (665317, 'honeylocust', 'Good', 'Alive', 'POINT(-73.95836085 40.80542985)'), (665354, 'honeylocust', 'Good', 'Alive', 'POINT(-73.95834401 40.80487574)'), (665372, 'honeylocust', 'Good', 'Alive', 'POINT(-73.95656183 40.808051)'), (665387, 'honeylocust', 'Good', 'Alive', 'POINT(-73.95621147 40.80853139)'), (666107, 'London planetree', 'Good', 'Alive', 'POINT(-73.95747125 40.80680406)'), (666148, 'London planetree', 'Good', 'Alive', 'POINT(-73.95700937 40.80743737)'), (666668, 'green ash', 'Fair', 'Alive', 'POINT(-73.95463122 40.80915328)'), (666742, 'honeylocust', 'Good', 'Alive', 'POINT(-73.95875595 40.80831413)'), (666743, 'ginkgo', 'Poor', 'Alive', 'POINT(-73.9584516 40.80818611)'), (667079, 'honeylocust', 'Good', 'Alive', 'POINT(-73.96496048 40.80422961)'), (667173, 'honeylocust', 'Good', 'Alive', 'POINT(-73.96532965 40.8043848)'), (667204, 'pin oak', 'Good', 'Alive', 'POINT(-73.96448135 40.80333069)'), (667565, 'London planetree', 'Good', 'Alive', 'POINT(-73.96063819 40.80330172)'), (667605, 'London planetree', 'Good', 'Alive', 'POINT(-73.95643892 40.80821953)'), (667619, 'London planetree', 'Good', 'Alive', 'POINT(-73.95627748 40.80844088)'), (667669, 'London planetree', 'Good', 'Alive', 'POINT(-73.96067195 40.80320402)'), (668449, 'American elm', 'Fair', 'Alive', 'POINT(-73.9579428 40.80819544)'), (668497, 'pin oak', 'Good', 'Alive', 'POINT(-73.96562584 40.80381177)'), (669752, 'honeylocust', 'Good', 'Alive', 'POINT(-73.96480466 40.80416411)'), (669795, 'ginkgo', 'Good', 'Alive', 'POINT(-73.95858939 40.80824407)'), (669843, 'London planetree', 'Good', 'Alive', 'POINT(-73.96056368 40.80351728)'), (670240, 'honeylocust', 'Good', 'Alive', 'POINT(-73.96574117 40.80455779)'), (670550, 'pin oak', 'Good', 'Alive', 'POINT(-73.96423229 40.80322599)'), (670645, 'pin oak', 'Fair', 'Alive', 'POINT(-73.96527911 40.80366602)'), (670954, 'green ash', 'Good', 'Alive', 'POINT(-73.95378474 40.808796)'), (671433, 'bald cypress', 'Fair', 'Alive', 'POINT(-73.95334716 40.80931336)'), (671448, 'bald cypress', 'Good', 'Alive', 'POINT(-73.95343305 40.8093473)'), (671509, 'ginkgo', 'Fair', 'Alive', 'POINT(-73.95978397 40.80082488)'), (671834, 'ginkgo', 'Good', 'Alive', 'POINT(-73.95988184 40.80069163)'), (672216, 'American elm', 'Fair', 'Alive', 'POINT(-73.95813958 40.80790111)'), (672219, 'Sophora', 'Good', 'Alive', 'POINT(-73.96081817 40.81162707)'), (672232, 'swamp white oak', 'Good', 'Alive', 'POINT(-73.96560463 40.8045004)'), (672617, 'honeylocust', 'Good', 'Alive', 'POINT(-73.96609615 40.80306409)'), (672640, 'ginkgo', 'Fair', 'Alive', 'POINT(-73.95818206 40.80818289)'), (673034, 'ginkgo', 'Good', 'Alive', 'POINT(-73.95896487 40.80911741)'), (673066, 'honeylocust', 'Good', 'Alive', 'POINT(-73.96010594 40.80829464)'), (673094, 'honeylocust', 'Good', 'Alive', 'POINT(-73.96176977 40.8060154)'), (673445, 'Sophora', 'Good', 'Alive', 'POINT(-73.95869538 40.81087955)'), (673454, 'Sophora', 'Good', 'Alive', 'POINT(-73.95988605 40.81138187)'), (673860, 'Sophora', 'Good', 'Alive', 'POINT(-73.95860379 40.81084091)'), (676533, 'pin oak', 'Fair', 'Alive', 'POINT(-73.96629345 40.80442534)'), (676786, 'honeylocust', 'Good', 'Alive', 'POINT(-73.9649681 40.80353529)'), (676788, 'ginkgo', 'Fair', 'Alive', 'POINT(-73.96201477 40.80531453)'), (676967, 'honeylocust', 'Good', 'Alive', 'POINT(-73.96154703 40.80593058)'), (677642, 'black cherry', 'Good', 'Alive', 'POINT(-73.95418857 40.80978437)'), (678569, 'pin oak', 'Good', 'Alive', 'POINT(-73.96299915 40.80268769)'), (678774, 'willow oak', 'Good', 'Alive', 'POINT(-73.96043246 40.80560594)'), (679867, 'sawtooth oak', 'Fair', 'Alive', 'POINT(-73.96443635 40.80082766)'), (681091, 'willow oak', 'Good', 'Alive', 'POINT(-73.9606236 40.80568587)'), (681697, 'northern red oak', 'Good', 'Alive', 'POINT(-73.96219168 40.80234813)'), (681960, 'Japanese zelkova', 'Good', 'Alive', 'POINT(-73.96133691 40.80598414)'), (683113, 'London planetree', 'Good', 'Alive', 'POINT(-73.96055964 40.8049499)'), (683665, 'honeylocust', 'Good', 'Alive', 'POINT(-73.96573819 40.80896048)'), (683668, 'ginkgo', 'Fair', 'Alive', 'POINT(-73.95902823 40.80771705)'), (683669, 'ginkgo', 'Fair', 'Alive', 'POINT(-73.95915232 40.80776944)'), (683682, 'honeylocust', 'Good', 'Alive', 'POINT(-73.96357423 40.80364685)'), (620481, 'honeylocust', 'Good', 'Alive', 'POINT(-73.95960079 40.8120711)'), (620586, 'honeylocust', 'Fair', 'Alive', 'POINT(-73.96714533 40.80113098)'), (620612, 'American elm', 'Fair', 'Alive', 'POINT(-73.95729276 40.80278103)'), (620634, 'Callery pear', 'Fair', 'Alive', 'POINT(-73.95763594 40.80289533)'), (621368, 'silver linden', 'Fair', 'Alive', 'POINT(-73.9580542 40.80307095)'), (621375, 'crab apple', 'Good', 'Alive', 'POINT(-73.96730405 40.80340933)'), (621422, 'honeylocust', 'Good', 'Alive', 'POINT(-73.96725214 40.80117591)'), (621496, 'honeylocust', 'Good', 'Alive', 'POINT(-73.9662106 40.80073776)'), (621501, 'crab apple', 'Good', 'Alive', 'POINT(-73.96733526 40.80336598)'), (621591, 'ginkgo', 'Good', 'Alive', 'POINT(-73.96695331 40.80389578)'), (622311, 'crab apple', 'Fair', 'Alive', 'POINT(-73.96753915 40.80308282)'), (622349, 'ginkgo', 'Good', 'Alive', 'POINT(-73.96783898 40.80191444)'), (622503, 'sawtooth oak', 'Fair', 'Alive', 'POINT(-73.95416291 40.80590834)'), (623396, 'crab apple', 'Good', 'Alive', 'POINT(-73.96754782 40.80307078)'), (623420, 'purple-leaf plum', 'Good', 'Alive', 'POINT(-73.96754234 40.80302407)'), (623472, 'American elm', 'Good', 'Alive', 'POINT(-73.96742201 40.80319118)'), (623508, 'American elm', 'Good', 'Alive', 'POINT(-73.96738554 40.80329616)'), (624365, 'American elm', 'Good', 'Alive', 'POINT(-73.96738075 40.80324849)'), (624439, 'American hophornbeam', 'Good', 'Alive', 'POINT(-73.96479856 40.80097989)'), (625177, 'Callery pear', 'Good', 'Alive', 'POINT(-73.96030159 40.8098971)'), (625240, 'crab apple', 'Good', 'Alive', 'POINT(-73.96783185 40.80198835)'), (626451, 'London planetree', 'Good', 'Alive', 'POINT(-73.96380468 40.80059196)'), (626526, 'London planetree', 'Fair', 'Alive', 'POINT(-73.96400569 40.80067645)'), (627139, 'London planetree', 'Good', 'Alive', 'POINT(-73.96360113 40.80050641)'), (627378, 'London planetree', 'Good', 'Alive', 'POINT(-73.96700346 40.8038259)'), (627834, 'green ash', 'Good', 'Alive', 'POINT(-73.9675128 40.80311942)'), (629082, 'Sophora', 'Good', 'Alive', 'POINT(-73.96136653 40.80036271)'), (629210, 'littleleaf linden', 'Fair', 'Alive', 'POINT(-73.96085762 40.80085689)'), (629909, 'American elm', 'Good', 'Alive', 'POINT(-73.96773996 40.80252436)'), (629973, 'American elm', 'Good', 'Alive', 'POINT(-73.96776326 40.80257178)'), (630012, 'London planetree', 'Fair', 'Alive', 'POINT(-73.95419473 40.80896919)'), (630014, 'American elm', 'Good', 'Alive', 'POINT(-73.96770759 40.80272462)'), (630015, 'American elm', 'Good', 'Alive', 'POINT(-73.96779845 40.80241773)'), (630029, 'American elm', 'Good', 'Alive', 'POINT(-73.96768905 40.80267942)'), (630030, 'American elm', 'Good', 'Alive', 'POINT(-73.96773604 40.80264973)'), (631061, \"Schumard's oak\", 'Good', 'Alive', 'POINT(-73.96133584 40.8018145)'), (631765, 'crab apple', 'Good', 'Alive', 'POINT(-73.96781348 40.80235007)'), (631790, 'Sophora', 'Poor', 'Alive', 'POINT(-73.96059127 40.8029523)'), (631834, 'London planetree', 'Fair', 'Alive', 'POINT(-73.95747198 40.81034172)'), (631835, 'American elm', 'Good', 'Alive', 'POINT(-73.95893362 40.80655662)'), (631836, 'American elm', 'Good', 'Alive', 'POINT(-73.95968653 40.8055262)'), (631853, 'crab apple', 'Good', 'Alive', 'POINT(-73.96777544 40.80236468)'), (631879, 'honeylocust', 'Good', 'Alive', 'POINT(-73.96375376 40.80043216)'), (631880, 'ginkgo', 'Fair', 'Alive', 'POINT(-73.9638334 40.80046565)'), (632627, 'ginkgo', 'Fair', 'Alive', 'POINT(-73.96406916 40.80056478)'), (632684, 'Siberian elm', 'Good', 'Alive', 'POINT(-73.95922837 40.80615323)'), (632714, 'green ash', 'Good', 'Alive', 'POINT(-73.95419603 40.80967619)'), (632718, 'ginkgo', 'Fair', 'Alive', 'POINT(-73.96391241 40.80049887)'), (632765, 'green ash', 'Good', 'Alive', 'POINT(-73.95408151 40.80962822)'), (632787, 'ginkgo', 'Good', 'Alive', 'POINT(-73.95804566 40.80977042)'), (633447, 'littleleaf linden', 'Poor', 'Alive', 'POINT(-73.96054211 40.80309687)'), (633460, 'pin oak', 'Good', 'Alive', 'POINT(-73.95336955 40.80862008)'), (633550, 'sawtooth oak', 'Good', 'Alive', 'POINT(-73.96226976 40.80220374)'), (633573, 'American linden', 'Good', 'Alive', 'POINT(-73.96443071 40.8007168)'), (633615, 'honeylocust', 'Fair', 'Alive', 'POINT(-73.96462033 40.80079653)'), (634662, 'silver linden', 'Good', 'Alive', 'POINT(-73.95389487 40.80955004)'), (635069, 'American elm', 'Good', 'Alive', 'POINT(-73.96038679 40.80355368)'), (635111, 'green ash', 'Good', 'Alive', 'POINT(-73.95445228 40.80978352)'), (635211, 'cherry', 'Good', 'Alive', 'POINT(-73.95472884 40.81001191)'), (636919, 'northern red oak', 'Good', 'Alive', 'POINT(-73.95474396 40.80990569)'), (636963, 'magnolia', 'Good', 'Alive', 'POINT(-73.95666972 40.80320083)'), (637841, \"'Schubert' chokecherry\", 'Good', 'Alive', 'POINT(-73.96758786 40.8055743)'), (637853, 'littleleaf linden', 'Fair', 'Alive', 'POINT(-73.95709339 40.8033798)'), (637908, 'green ash', 'Good', 'Alive', 'POINT(-73.95432257 40.80972919)'), (638315, 'littleleaf linden', 'Good', 'Alive', 'POINT(-73.95415288 40.80730507)'), (638466, 'Callery pear', 'Good', 'Alive', 'POINT(-73.95818615 40.80971996)'), (640102, 'Chinese elm', 'Good', 'Alive', 'POINT(-73.95766959 40.80961219)'), (640103, 'Chinese elm', 'Good', 'Alive', 'POINT(-73.95741994 40.80950715)'), (640119, 'littleleaf linden', 'Good', 'Alive', 'POINT(-73.95528336 40.80858908)'), (640165, 'littleleaf linden', 'Good', 'Alive', 'POINT(-73.95429519 40.80736476)'), (642358, 'honeylocust', 'Good', 'Alive', 'POINT(-73.95381891 40.80962868)'), (644868, 'ginkgo', 'Good', 'Alive', 'POINT(-73.95754181 40.80897564)'), (645011, 'Callery pear', 'Good', 'Alive', 'POINT(-73.95742553 40.80920339)'), (645140, 'sawtooth oak', 'Fair', 'Alive', 'POINT(-73.95713273 40.8094263)'), (645777, 'ginkgo', 'Good', 'Alive', 'POINT(-73.95756924 40.80892191)'), (646615, \"Schumard's oak\", 'Good', 'Alive', 'POINT(-73.96216747 40.80216111)'), (646718, 'Callery pear', 'Good', 'Alive', 'POINT(-73.95737719 40.80929807)'), (646789, 'black locust', 'Fair', 'Alive', 'POINT(-73.96482008 40.81000706)'), (646836, \"Schumard's oak\", 'Fair', 'Alive', 'POINT(-73.96169243 40.80196312)'), (646837, \"Schumard's oak\", 'Good', 'Alive', 'POINT(-73.9617963 40.80200642)'), (648597, 'ginkgo', 'Good', 'Alive', 'POINT(-73.95912671 40.8007921)'), (648610, 'Chinese elm', 'Good', 'Alive', 'POINT(-73.9606444 40.81155387)'), (650595, 'ginkgo', 'Good', 'Alive', 'POINT(-73.95900112 40.80074008)'), (651538, 'London planetree', 'Fair', 'Alive', 'POINT(-73.96392493 40.8012982)'), (651558, 'Kentucky coffeetree', 'Good', 'Alive', 'POINT(-73.95834272 40.80989541)'), (651601, 'Sophora', 'Good', 'Alive', 'POINT(-73.9597977 40.81119717)'), (652261, 'littleleaf linden', 'Good', 'Alive', 'POINT(-73.95397056 40.80969255)'), (652302, 'littleleaf linden', 'Good', 'Alive', 'POINT(-73.96524682 40.80088081)'), (654400, 'willow oak', 'Good', 'Alive', 'POINT(-73.95793311 40.81040241)'), (654423, 'Sophora', 'Good', 'Alive', 'POINT(-73.95841688 40.80981698)'), (655250, 'littleleaf linden', 'Good', 'Alive', 'POINT(-73.96338895 40.8010728)'), (655251, 'littleleaf linden', 'Fair', 'Alive', 'POINT(-73.9644323 40.80154136)'), (658582, 'Kentucky coffeetree', 'Good', 'Alive', 'POINT(-73.95909858 40.81021112)'), (658627, 'Sophora', 'Good', 'Alive', 'POINT(-73.96041665 40.8116057)'), (658713, 'Sophora', 'Good', 'Alive', 'POINT(-73.96043839 40.81077508)'), (659442, 'Kentucky coffeetree', 'Good', 'Alive', 'POINT(-73.95887681 40.80663437)'), (659564, 'honeylocust', 'Fair', 'Alive', 'POINT(-73.96168928 40.8003794)'), (659580, 'Siberian elm', 'Good', 'Alive', 'POINT(-73.95946543 40.80582879)'), (659597, 'Kentucky coffeetree', 'Good', 'Alive', 'POINT(-73.96051739 40.81080833)'), (660210, 'green ash', 'Fair', 'Alive', 'POINT(-73.95384734 40.81034901)'), (660318, 'Siberian elm', 'Good', 'Alive', 'POINT(-73.9591763 40.8062245)'), (662274, 'ginkgo', 'Good', 'Alive', 'POINT(-73.95890699 40.81096882)'), (663867, 'Chinese elm', 'Good', 'Alive', 'POINT(-73.95912175 40.81105943)'), (663908, 'Chinese elm', 'Good', 'Alive', 'POINT(-73.95901753 40.81101546)'), (664882, 'Callery pear', 'Good', 'Alive', 'POINT(-73.95793645 40.80616618)'), (665585, 'London planetree', 'Good', 'Alive', 'POINT(-73.95848119 40.80290241)'), (665594, 'sawtooth oak', 'Good', 'Alive', 'POINT(-73.95759195 40.80947009)'), (665641, 'London planetree', 'Good', 'Alive', 'POINT(-73.95810453 40.8059357)'), (665670, 'honeylocust', 'Good', 'Alive', 'POINT(-73.95660876 40.80798666)'), (665699, 'hawthorn', 'Good', 'Alive', 'POINT(-73.96706398 40.80374156)'), (665729, 'London planetree', 'Good', 'Alive', 'POINT(-73.9586402 40.80266384)'), (665739, 'London planetree', 'Good', 'Alive', 'POINT(-73.95831772 40.80447745)'), (666874, 'ginkgo', 'Poor', 'Alive', 'POINT(-73.95828347 40.80811539)'), (667255, 'London planetree', 'Good', 'Alive', 'POINT(-73.9578771 40.80624756)'), (667256, 'London planetree', 'Good', 'Alive', 'POINT(-73.95778991 40.80636712)'), (667290, 'London planetree', 'Good', 'Alive', 'POINT(-73.95682692 40.80768753)'), (667302, 'pin oak', 'Fair', 'Alive', 'POINT(-73.9643426 40.80327236)'), (667303, 'pin oak', 'Good', 'Alive', 'POINT(-73.96511538 40.8035972)'), (667792, 'London planetree', 'Good', 'Alive', 'POINT(-73.9607381 40.80301262)'), (668187, 'Kentucky coffeetree', 'Good', 'Alive', 'POINT(-73.95842172 40.80992866)'), (668217, 'pin oak', 'Good', 'Alive', 'POINT(-73.96537646 40.80370694)'), (668602, 'Kentucky coffeetree', 'Good', 'Alive', 'POINT(-73.95825423 40.80985818)'), (668604, 'Kentucky coffeetree', 'Good', 'Alive', 'POINT(-73.9592313 40.81026699)'), (668628, 'Japanese zelkova', 'Good', 'Alive', 'POINT(-73.96655002 40.80325601)'), (669471, 'littleleaf linden', 'Good', 'Alive', 'POINT(-73.95838644 40.80305113)'), (669524, 'Japanese zelkova', 'Good', 'Alive', 'POINT(-73.96639536 40.80319062)'), (669867, 'swamp white oak', 'Good', 'Alive', 'POINT(-73.96083627 40.80272856)'), (669893, 'Callery pear', 'Good', 'Alive', 'POINT(-73.96408058 40.80316222)'), (669977, 'American elm', 'Fair', 'Alive', 'POINT(-73.95777033 40.80852967)'), (670326, 'London planetree', 'Good', 'Alive', 'POINT(-73.96059873 40.80341587)'), (670341, 'honeylocust', 'Good', 'Alive', 'POINT(-73.96392853 40.8037958)'), (670751, 'black maple', 'Good', 'Alive', 'POINT(-73.95538132 40.81028771)'), (672049, 'Kentucky coffeetree', 'Good', 'Alive', 'POINT(-73.95772482 40.80828075)'), (672496, 'honeylocust', 'Good', 'Alive', 'POINT(-73.9662325 40.80312175)'), (672952, 'honeylocust', 'Good', 'Alive', 'POINT(-73.96031988 40.80800158)'), (673762, 'American elm', 'Good', 'Alive', 'POINT(-73.95820773 40.80780836)'), (673776, 'Sophora', 'Good', 'Alive', 'POINT(-73.95923545 40.81110739)'), (674273, 'willow oak', 'Good', 'Alive', 'POINT(-73.96171194 40.80214639)'), (676423, 'London planetree', 'Good', 'Alive', 'POINT(-73.96268758 40.80475782)'), (677019, 'ginkgo', 'Good', 'Alive', 'POINT(-73.96178061 40.8056242)'), (677038, 'ginkgo', 'Good', 'Alive', 'POINT(-73.96620931 40.80405702)'), (677071, 'London planetree', 'Good', 'Alive', 'POINT(-73.9582705 40.80357339)'), (677219, 'Callery pear', 'Good', 'Alive', 'POINT(-73.9571736 40.80721218)'), (677548, 'London planetree', 'Fair', 'Alive', 'POINT(-73.96161492 40.80210559)'), (677761, 'black cherry', 'Good', 'Alive', 'POINT(-73.95437498 40.80986288)'), (677769, 'black cherry', 'Good', 'Alive', 'POINT(-73.95462773 40.80996933)'), (678691, 'Norway maple', 'Good', 'Alive', 'POINT(-73.95752483 40.80673059)'), (678872, 'pin oak', 'Good', 'Alive', 'POINT(-73.96349849 40.80289767)'), (678873, 'pin oak', 'Good', 'Alive', 'POINT(-73.96315654 40.80275387)'), (679518, 'ginkgo', 'Fair', 'Alive', 'POINT(-73.95837521 40.8082646)'), (679672, 'ginkgo', 'Good', 'Alive', 'POINT(-73.96131649 40.806253)'), (680311, 'honeylocust', 'Good', 'Alive', 'POINT(-73.96170492 40.80572348)'), (680312, 'ginkgo', 'Poor', 'Alive', 'POINT(-73.96219375 40.80507234)'), (680317, 'honeylocust', 'Good', 'Alive', 'POINT(-73.96118648 40.80642098)'), (680744, 'honeylocust', 'Good', 'Alive', 'POINT(-73.96113814 40.80648344)'), (680954, 'ginkgo', 'Good', 'Alive', 'POINT(-73.95827737 40.80822321)'), (681135, 'willow oak', 'Fair', 'Alive', 'POINT(-73.96052803 40.80564591)'), (681174, 'London planetree', 'Fair', 'Alive', 'POINT(-73.96145848 40.8020398)'), (682760, 'pin oak', 'Good', 'Alive', 'POINT(-73.96249825 40.8050214)'), (682922, 'pin oak', 'Fair', 'Alive', 'POINT(-73.96246303 40.80506933)'), (682951, 'London planetree', 'Good', 'Alive', 'POINT(-73.96065411 40.80499024)'), (683575, 'ginkgo', 'Good', 'Alive', 'POINT(-73.96002723 40.80075951)')]\n"
     ]
    }
   ],
   "source": [
    "conn = psycopg2.connect(\"dbname=final_project user=postgres password=123456\")\n",
    "cur = conn.cursor()\n",
    "\n",
    "# Execute the SQL query to find the top 10 zip codes with the most trees\n",
    "query_6 = \"\"\"\n",
    "    SELECT \n",
    "    id, \n",
    "    species, \n",
    "    health, \n",
    "    status, \n",
    "    ST_AsText(geometry) AS tree_location\n",
    "FROM \n",
    "    tree_census_2015\n",
    "WHERE \n",
    "    ST_DWithin(\n",
    "        geometry::geography, \n",
    "        ST_SetSRID(ST_MakePoint(-73.96253174434912, 40.80737875669467), 4326)::geography, \n",
    "        804.672\n",
    "    );\n",
    "\n",
    "\n",
    "\"\"\"\n",
    "\n",
    "cur.execute(query_6)\n",
    "result = cur.fetchall()\n",
    "\n",
    "# Print or process the result as needed\n",
    "print(result)\n",
    "\n",
    "# Commit the changes (if applicable)\n",
    "conn.commit()\n",
    "\n",
    "# Close the connection\n",
    "conn.close()\n",
    "\n",
    "#Save the query to a sql file\n",
    "with open('trees_near_campus.sql', 'w') as file:\n",
    "    file.write(query_6)"
   ]
  },
  {
   "cell_type": "code",
   "execution_count": 136,
   "id": "4cb83e1c",
   "metadata": {
    "ExecuteTime": {
     "end_time": "2023-12-06T15:23:21.289990600Z",
     "start_time": "2023-12-06T15:23:21.285688300Z"
    }
   },
   "outputs": [
    {
     "data": {
      "text/plain": "2772"
     },
     "execution_count": 136,
     "metadata": {},
     "output_type": "execute_result"
    }
   ],
   "source": [
    "len(result)"
   ]
  },
  {
   "cell_type": "markdown",
   "id": "18ffd1bb99075ea9",
   "metadata": {},
   "source": [
    "# Visualizing Data"
   ]
  },
  {
   "cell_type": "code",
   "execution_count": null,
   "id": "83af7d548eed2ae8",
   "metadata": {
    "ExecuteTime": {
     "start_time": "2023-12-03T03:48:51.949889700Z"
    }
   },
   "outputs": [],
   "source": []
  }
 ],
 "metadata": {
  "kernelspec": {
   "display_name": "Python 3 (ipykernel)",
   "language": "python",
   "name": "python3"
  },
  "language_info": {
   "codemirror_mode": {
    "name": "ipython",
    "version": 3
   },
   "file_extension": ".py",
   "mimetype": "text/x-python",
   "name": "python",
   "nbconvert_exporter": "python",
   "pygments_lexer": "ipython3",
   "version": "3.9.13"
  }
 },
 "nbformat": 4,
 "nbformat_minor": 5
}

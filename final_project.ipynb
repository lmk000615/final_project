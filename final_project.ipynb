{
 "cells": [
  {
   "cell_type": "code",
   "execution_count": 1,
   "id": "7fa2124787128ed2",
   "metadata": {
    "ExecuteTime": {
     "end_time": "2023-11-29T16:56:52.918762600Z",
     "start_time": "2023-11-29T16:56:52.401021600Z"
    }
   },
   "outputs": [],
   "source": [
    "import pandas as pd\n",
    "import requests"
   ]
  },
  {
   "cell_type": "code",
   "execution_count": 2,
   "id": "1624f0365a54c523",
   "metadata": {
    "ExecuteTime": {
     "end_time": "2023-11-29T16:57:00.505740700Z",
     "start_time": "2023-11-29T16:57:00.497808700Z"
    }
   },
   "outputs": [],
   "source": [
    "app_token = \"Rl5BUiRawpr4H2LA9OQeKB47L\""
   ]
  },
  {
   "cell_type": "code",
   "execution_count": 3,
   "id": "7a172c8d",
   "metadata": {},
   "outputs": [
    {
     "name": "stdout",
     "output_type": "stream",
     "text": [
      "Requirement already satisfied: geopandas in /Users/jayfeng/opt/anaconda3/lib/python3.9/site-packages (0.14.1)\n",
      "Requirement already satisfied: packaging in /Users/jayfeng/opt/anaconda3/lib/python3.9/site-packages (from geopandas) (21.3)\n",
      "Requirement already satisfied: fiona>=1.8.21 in /Users/jayfeng/opt/anaconda3/lib/python3.9/site-packages (from geopandas) (1.9.5)\n",
      "Requirement already satisfied: pyproj>=3.3.0 in /Users/jayfeng/opt/anaconda3/lib/python3.9/site-packages (from geopandas) (3.6.1)\n",
      "Requirement already satisfied: pandas>=1.4.0 in /Users/jayfeng/opt/anaconda3/lib/python3.9/site-packages (from geopandas) (1.4.4)\n",
      "Requirement already satisfied: shapely>=1.8.0 in /Users/jayfeng/opt/anaconda3/lib/python3.9/site-packages (from geopandas) (2.0.2)\n",
      "Requirement already satisfied: six in /Users/jayfeng/opt/anaconda3/lib/python3.9/site-packages (from fiona>=1.8.21->geopandas) (1.16.0)\n",
      "Requirement already satisfied: cligj>=0.5 in /Users/jayfeng/opt/anaconda3/lib/python3.9/site-packages (from fiona>=1.8.21->geopandas) (0.7.2)\n",
      "Requirement already satisfied: click-plugins>=1.0 in /Users/jayfeng/opt/anaconda3/lib/python3.9/site-packages (from fiona>=1.8.21->geopandas) (1.1.1)\n",
      "Requirement already satisfied: click~=8.0 in /Users/jayfeng/opt/anaconda3/lib/python3.9/site-packages (from fiona>=1.8.21->geopandas) (8.0.4)\n",
      "Requirement already satisfied: attrs>=19.2.0 in /Users/jayfeng/opt/anaconda3/lib/python3.9/site-packages (from fiona>=1.8.21->geopandas) (21.4.0)\n",
      "Requirement already satisfied: certifi in /Users/jayfeng/opt/anaconda3/lib/python3.9/site-packages (from fiona>=1.8.21->geopandas) (2022.9.24)\n",
      "Requirement already satisfied: setuptools in /Users/jayfeng/opt/anaconda3/lib/python3.9/site-packages (from fiona>=1.8.21->geopandas) (63.4.1)\n",
      "Requirement already satisfied: importlib-metadata in /Users/jayfeng/opt/anaconda3/lib/python3.9/site-packages (from fiona>=1.8.21->geopandas) (4.11.3)\n",
      "Requirement already satisfied: python-dateutil>=2.8.1 in /Users/jayfeng/opt/anaconda3/lib/python3.9/site-packages (from pandas>=1.4.0->geopandas) (2.8.2)\n",
      "Requirement already satisfied: pytz>=2020.1 in /Users/jayfeng/opt/anaconda3/lib/python3.9/site-packages (from pandas>=1.4.0->geopandas) (2022.1)\n",
      "Requirement already satisfied: numpy>=1.18.5 in /Users/jayfeng/opt/anaconda3/lib/python3.9/site-packages (from pandas>=1.4.0->geopandas) (1.21.5)\n",
      "Requirement already satisfied: pyparsing!=3.0.5,>=2.0.2 in /Users/jayfeng/opt/anaconda3/lib/python3.9/site-packages (from packaging->geopandas) (3.0.9)\n",
      "Requirement already satisfied: zipp>=0.5 in /Users/jayfeng/opt/anaconda3/lib/python3.9/site-packages (from importlib-metadata->fiona>=1.8.21->geopandas) (3.8.0)\n",
      "Note: you may need to restart the kernel to use updated packages.\n"
     ]
    }
   ],
   "source": [
    "pip install geopandas"
   ]
  },
  {
   "cell_type": "code",
   "execution_count": 4,
   "id": "6f99e155",
   "metadata": {},
   "outputs": [],
   "source": [
    "import geopandas as gpd"
   ]
  },
  {
   "cell_type": "markdown",
   "id": "3f6c2feb6b97c6ff",
   "metadata": {},
   "source": [
    "# Data Preprocessing & Data Cleaning & Data Filtering"
   ]
  },
  {
   "cell_type": "markdown",
   "id": "072b3e67",
   "metadata": {},
   "source": [
    "### 311 Complaints"
   ]
  },
  {
   "cell_type": "code",
   "execution_count": 5,
   "id": "5fa0d83ff0ab42b8",
   "metadata": {
    "ExecuteTime": {
     "end_time": "2023-11-29T09:38:24.970933700Z",
     "start_time": "2023-11-29T09:38:18.653621900Z"
    }
   },
   "outputs": [],
   "source": [
    "complaints_data = requests.get(url=\"https://data.cityofnewyork.us/resource/erm2-nwe9.json\",\n",
    "                               params={\"$$app_token\": app_token, \"$where\": \"created_date between '2018-10-01T00:00:00' and '2018-10-10T23:59:59.9999'\", \"$limit\": 99999999}).json()\n",
    "complaints_df = pd.DataFrame(complaints_data)"
   ]
  },
  {
   "cell_type": "code",
   "execution_count": 6,
   "id": "3295db8a6395ef7d",
   "metadata": {
    "ExecuteTime": {
     "end_time": "2023-11-29T17:12:02.906961900Z",
     "start_time": "2023-11-29T17:12:02.897088700Z"
    }
   },
   "outputs": [
    {
     "name": "stdout",
     "output_type": "stream",
     "text": [
      "initial: 2018-10-01 00:00:00\n"
     ]
    }
   ],
   "source": [
    "from datetime import datetime, timedelta\n",
    "\n",
    "def generate_month_ranges(start_date, end_date):\n",
    "    current = start_date\n",
    "    print(\"initial: {}\".format(current))\n",
    "    temp = 0\n",
    "    while current < end_date:\n",
    "        temp += 1\n",
    "        month_end = current.replace(day=1) + timedelta(days=32)\n",
    "        month_end = month_end.replace(day=1) - timedelta(days=1) # 9 30\n",
    "        yield (current, month_end)\n",
    "        current = month_end + timedelta(days=1)\n",
    "        if temp == 100:\n",
    "            break\n",
    "\n",
    "# 设置起始和结束日期\n",
    "start_date = datetime(2018, 10, 1)\n",
    "end_date = datetime(2023, 9, 30)\n",
    "\n",
    "# 生成月份范围\n",
    "month_ranges = list(generate_month_ranges(start_date, end_date))"
   ]
  },
  {
   "cell_type": "code",
   "execution_count": 7,
   "id": "83354ebeb00066c5",
   "metadata": {
    "ExecuteTime": {
     "end_time": "2023-11-29T17:24:11.674616400Z",
     "start_time": "2023-11-29T17:12:24.126641100Z"
    }
   },
   "outputs": [
    {
     "name": "stdout",
     "output_type": "stream",
     "text": [
      "Downloading data for the period: 2018-10-01 to 2018-10-31\n",
      "Downloading data for the period: 2018-11-01 to 2018-11-30\n",
      "Downloading data for the period: 2018-12-01 to 2018-12-31\n",
      "Downloading data for the period: 2019-01-01 to 2019-01-31\n",
      "Downloading data for the period: 2019-02-01 to 2019-02-28\n",
      "Downloading data for the period: 2019-03-01 to 2019-03-31\n",
      "Downloading data for the period: 2019-04-01 to 2019-04-30\n",
      "Downloading data for the period: 2019-05-01 to 2019-05-31\n",
      "Downloading data for the period: 2019-06-01 to 2019-06-30\n",
      "Downloading data for the period: 2019-07-01 to 2019-07-31\n",
      "Downloading data for the period: 2019-08-01 to 2019-08-31\n",
      "Downloading data for the period: 2019-09-01 to 2019-09-30\n",
      "Downloading data for the period: 2019-10-01 to 2019-10-31\n",
      "Downloading data for the period: 2019-11-01 to 2019-11-30\n",
      "Downloading data for the period: 2019-12-01 to 2019-12-31\n",
      "Downloading data for the period: 2020-01-01 to 2020-01-31\n",
      "Downloading data for the period: 2020-02-01 to 2020-02-29\n",
      "Downloading data for the period: 2020-03-01 to 2020-03-31\n",
      "Downloading data for the period: 2020-04-01 to 2020-04-30\n",
      "Downloading data for the period: 2020-05-01 to 2020-05-31\n",
      "Downloading data for the period: 2020-06-01 to 2020-06-30\n",
      "Downloading data for the period: 2020-07-01 to 2020-07-31\n",
      "Downloading data for the period: 2020-08-01 to 2020-08-31\n",
      "Downloading data for the period: 2020-09-01 to 2020-09-30\n",
      "Downloading data for the period: 2020-10-01 to 2020-10-31\n",
      "Downloading data for the period: 2020-11-01 to 2020-11-30\n",
      "Downloading data for the period: 2020-12-01 to 2020-12-31\n",
      "Downloading data for the period: 2021-01-01 to 2021-01-31\n",
      "Downloading data for the period: 2021-02-01 to 2021-02-28\n",
      "Downloading data for the period: 2021-03-01 to 2021-03-31\n",
      "Downloading data for the period: 2021-04-01 to 2021-04-30\n",
      "Downloading data for the period: 2021-05-01 to 2021-05-31\n",
      "Downloading data for the period: 2021-06-01 to 2021-06-30\n",
      "Downloading data for the period: 2021-07-01 to 2021-07-31\n",
      "Downloading data for the period: 2021-08-01 to 2021-08-31\n",
      "Downloading data for the period: 2021-09-01 to 2021-09-30\n",
      "Downloading data for the period: 2021-10-01 to 2021-10-31\n",
      "Downloading data for the period: 2021-11-01 to 2021-11-30\n",
      "Downloading data for the period: 2021-12-01 to 2021-12-31\n",
      "Downloading data for the period: 2022-01-01 to 2022-01-31\n",
      "Downloading data for the period: 2022-02-01 to 2022-02-28\n",
      "Downloading data for the period: 2022-03-01 to 2022-03-31\n",
      "Downloading data for the period: 2022-04-01 to 2022-04-30\n",
      "Downloading data for the period: 2022-05-01 to 2022-05-31\n",
      "Downloading data for the period: 2022-06-01 to 2022-06-30\n",
      "Downloading data for the period: 2022-07-01 to 2022-07-31\n",
      "Downloading data for the period: 2022-08-01 to 2022-08-31\n",
      "Downloading data for the period: 2022-09-01 to 2022-09-30\n",
      "Downloading data for the period: 2022-10-01 to 2022-10-31\n",
      "Downloading data for the period: 2022-11-01 to 2022-11-30\n",
      "Downloading data for the period: 2022-12-01 to 2022-12-31\n",
      "Downloading data for the period: 2023-01-01 to 2023-01-31\n",
      "Downloading data for the period: 2023-02-01 to 2023-02-28\n",
      "Downloading data for the period: 2023-03-01 to 2023-03-31\n",
      "Downloading data for the period: 2023-04-01 to 2023-04-30\n",
      "Downloading data for the period: 2023-05-01 to 2023-05-31\n",
      "Downloading data for the period: 2023-06-01 to 2023-06-30\n",
      "Downloading data for the period: 2023-07-01 to 2023-07-31\n",
      "Downloading data for the period: 2023-08-01 to 2023-08-31\n",
      "Downloading data for the period: 2023-09-01 to 2023-09-30\n",
      "Data download complete.\n"
     ]
    }
   ],
   "source": [
    "import os\n",
    "\n",
    "for start, end in month_ranges:\n",
    "    year = start.year\n",
    "    csv_file = f\"data/complaints_data_{year}.csv\"\n",
    "    print(f\"Downloading data for the period: {start.strftime('%Y-%m-%d')} to {end.strftime('%Y-%m-%d')}\")\n",
    "\n",
    "    query = f\"created_date between '{start.strftime('%Y-%m-%dT%H:%M:%S')}' and '{end.strftime('%Y-%m-%dT%H:%M:%S')}'\"\n",
    "    response = requests.get(\n",
    "        url=\"https://data.cityofnewyork.us/resource/erm2-nwe9.json\",\n",
    "        params={\"$$app_token\": app_token, \"$where\": query, \"$limit\": 999999,\n",
    "                \"$select\": \"unique_key, created_date, closed_date, agency,  complaint_type, descriptor, location_type, incident_zip, latitude, longitude, borough\"\n",
    "                }\n",
    "    )\n",
    "    data = response.json()\n",
    "    batch_df = pd.DataFrame(data)\n",
    "\n",
    "    # 根据年份写入或追加到对应的CSV文件\n",
    "    mode = 'a' if os.path.exists(csv_file) else 'w'\n",
    "    batch_df.to_csv(csv_file, mode=mode, index=False, header=not os.path.exists(csv_file))\n",
    "\n",
    "print(\"Data download complete.\")"
   ]
  },
  {
   "cell_type": "code",
   "execution_count": 8,
   "id": "372e01d9fb9e1761",
   "metadata": {
    "ExecuteTime": {
     "end_time": "2023-11-29T17:27:40.381644800Z",
     "start_time": "2023-11-29T17:27:35.357502100Z"
    }
   },
   "outputs": [
    {
     "name": "stderr",
     "output_type": "stream",
     "text": [
      "/var/folders/98/l9_9vlzx4vs8g303whfvnnjc0000gn/T/ipykernel_17023/402780476.py:1: DtypeWarning: Columns (7,10) have mixed types. Specify dtype option on import or set low_memory=False.\n",
      "  complaints_2021_df = pd.read_csv(\"data/complaints_data_2021.csv\")\n"
     ]
    }
   ],
   "source": [
    "complaints_2021_df = pd.read_csv(\"data/complaints_data_2021.csv\")"
   ]
  },
  {
   "cell_type": "code",
   "execution_count": 9,
   "id": "c897ac444f8148ea",
   "metadata": {
    "ExecuteTime": {
     "end_time": "2023-11-29T17:27:52.199922Z",
     "start_time": "2023-11-29T17:27:52.193559700Z"
    }
   },
   "outputs": [
    {
     "data": {
      "text/plain": [
       "(6230090, 11)"
      ]
     },
     "execution_count": 9,
     "metadata": {},
     "output_type": "execute_result"
    }
   ],
   "source": [
    "complaints_2021_df.shape"
   ]
  },
  {
   "cell_type": "code",
   "execution_count": 10,
   "id": "2ecc6491b4f9ddd7",
   "metadata": {
    "ExecuteTime": {
     "end_time": "2023-11-29T15:34:56.109164300Z",
     "start_time": "2023-11-29T15:34:56.100418600Z"
    }
   },
   "outputs": [
    {
     "data": {
      "text/plain": [
       "Index(['unique_key', 'created_date', 'closed_date', 'agency', 'complaint_type',\n",
       "       'descriptor', 'location_type', 'incident_zip', 'latitude', 'longitude',\n",
       "       'borough'],\n",
       "      dtype='object')"
      ]
     },
     "execution_count": 10,
     "metadata": {},
     "output_type": "execute_result"
    }
   ],
   "source": [
    "complaints_2021_df.columns"
   ]
  },
  {
   "cell_type": "code",
   "execution_count": 11,
   "id": "335f0b9f4294314d",
   "metadata": {
    "ExecuteTime": {
     "end_time": "2023-11-29T09:16:26.100239300Z",
     "start_time": "2023-11-29T09:16:26.085954600Z"
    }
   },
   "outputs": [
    {
     "data": {
      "text/html": [
       "<div>\n",
       "<style scoped>\n",
       "    .dataframe tbody tr th:only-of-type {\n",
       "        vertical-align: middle;\n",
       "    }\n",
       "\n",
       "    .dataframe tbody tr th {\n",
       "        vertical-align: top;\n",
       "    }\n",
       "\n",
       "    .dataframe thead th {\n",
       "        text-align: right;\n",
       "    }\n",
       "</style>\n",
       "<table border=\"1\" class=\"dataframe\">\n",
       "  <thead>\n",
       "    <tr style=\"text-align: right;\">\n",
       "      <th></th>\n",
       "      <th>unique_key</th>\n",
       "      <th>created_date</th>\n",
       "      <th>closed_date</th>\n",
       "      <th>agency</th>\n",
       "      <th>complaint_type</th>\n",
       "      <th>descriptor</th>\n",
       "      <th>location_type</th>\n",
       "      <th>incident_zip</th>\n",
       "      <th>latitude</th>\n",
       "      <th>longitude</th>\n",
       "      <th>borough</th>\n",
       "    </tr>\n",
       "  </thead>\n",
       "  <tbody>\n",
       "    <tr>\n",
       "      <th>0</th>\n",
       "      <td>49669476</td>\n",
       "      <td>2021-01-31T00:00:00.000</td>\n",
       "      <td>2021-02-03T00:00:00.000</td>\n",
       "      <td>DSNY</td>\n",
       "      <td>Request Large Bulky Item Collection</td>\n",
       "      <td>Request Large Bulky Item Collection</td>\n",
       "      <td>Sidewalk</td>\n",
       "      <td>11207.0</td>\n",
       "      <td>40.675269</td>\n",
       "      <td>-73.890711</td>\n",
       "      <td>BROOKLYN</td>\n",
       "    </tr>\n",
       "    <tr>\n",
       "      <th>1</th>\n",
       "      <td>49674146</td>\n",
       "      <td>2021-01-30T23:59:34.000</td>\n",
       "      <td>2021-01-31T08:55:13.000</td>\n",
       "      <td>NYPD</td>\n",
       "      <td>Illegal Parking</td>\n",
       "      <td>Commercial Overnight Parking</td>\n",
       "      <td>Street/Sidewalk</td>\n",
       "      <td>10462.0</td>\n",
       "      <td>40.853203</td>\n",
       "      <td>-73.860282</td>\n",
       "      <td>BRONX</td>\n",
       "    </tr>\n",
       "    <tr>\n",
       "      <th>2</th>\n",
       "      <td>49671061</td>\n",
       "      <td>2021-01-30T23:59:30.000</td>\n",
       "      <td>2021-01-31T00:41:08.000</td>\n",
       "      <td>NYPD</td>\n",
       "      <td>Noise - Residential</td>\n",
       "      <td>Loud Talking</td>\n",
       "      <td>Residential Building/House</td>\n",
       "      <td>11233.0</td>\n",
       "      <td>40.680672</td>\n",
       "      <td>-73.907492</td>\n",
       "      <td>BROOKLYN</td>\n",
       "    </tr>\n",
       "    <tr>\n",
       "      <th>3</th>\n",
       "      <td>49669720</td>\n",
       "      <td>2021-01-30T23:59:18.000</td>\n",
       "      <td>2021-01-31T01:11:00.000</td>\n",
       "      <td>NYPD</td>\n",
       "      <td>Noise - Commercial</td>\n",
       "      <td>Loud Music/Party</td>\n",
       "      <td>Store/Commercial</td>\n",
       "      <td>10034.0</td>\n",
       "      <td>40.864086</td>\n",
       "      <td>-73.918004</td>\n",
       "      <td>MANHATTAN</td>\n",
       "    </tr>\n",
       "    <tr>\n",
       "      <th>4</th>\n",
       "      <td>49669589</td>\n",
       "      <td>2021-01-30T23:59:04.000</td>\n",
       "      <td>2021-01-31T00:37:46.000</td>\n",
       "      <td>NYPD</td>\n",
       "      <td>Non-Emergency Police Matter</td>\n",
       "      <td>Trespassing</td>\n",
       "      <td>Residential Building/House</td>\n",
       "      <td>11212.0</td>\n",
       "      <td>40.671226</td>\n",
       "      <td>-73.909185</td>\n",
       "      <td>BROOKLYN</td>\n",
       "    </tr>\n",
       "  </tbody>\n",
       "</table>\n",
       "</div>"
      ],
      "text/plain": [
       "   unique_key             created_date              closed_date agency  \\\n",
       "0    49669476  2021-01-31T00:00:00.000  2021-02-03T00:00:00.000   DSNY   \n",
       "1    49674146  2021-01-30T23:59:34.000  2021-01-31T08:55:13.000   NYPD   \n",
       "2    49671061  2021-01-30T23:59:30.000  2021-01-31T00:41:08.000   NYPD   \n",
       "3    49669720  2021-01-30T23:59:18.000  2021-01-31T01:11:00.000   NYPD   \n",
       "4    49669589  2021-01-30T23:59:04.000  2021-01-31T00:37:46.000   NYPD   \n",
       "\n",
       "                        complaint_type                           descriptor  \\\n",
       "0  Request Large Bulky Item Collection  Request Large Bulky Item Collection   \n",
       "1                      Illegal Parking         Commercial Overnight Parking   \n",
       "2                  Noise - Residential                         Loud Talking   \n",
       "3                   Noise - Commercial                     Loud Music/Party   \n",
       "4          Non-Emergency Police Matter                          Trespassing   \n",
       "\n",
       "                location_type incident_zip   latitude  longitude    borough  \n",
       "0                    Sidewalk      11207.0  40.675269 -73.890711   BROOKLYN  \n",
       "1             Street/Sidewalk      10462.0  40.853203 -73.860282      BRONX  \n",
       "2  Residential Building/House      11233.0  40.680672 -73.907492   BROOKLYN  \n",
       "3            Store/Commercial      10034.0  40.864086 -73.918004  MANHATTAN  \n",
       "4  Residential Building/House      11212.0  40.671226 -73.909185   BROOKLYN  "
      ]
     },
     "execution_count": 11,
     "metadata": {},
     "output_type": "execute_result"
    }
   ],
   "source": [
    "complaints_2021_df.head()"
   ]
  },
  {
   "cell_type": "markdown",
   "id": "340ca5c3",
   "metadata": {},
   "source": [
    "### 2015 Tree census"
   ]
  },
  {
   "cell_type": "markdown",
   "id": "6642b7c86e51ace0",
   "metadata": {},
   "source": []
  },
  {
   "cell_type": "code",
   "execution_count": 12,
   "id": "96d3be5437f18791",
   "metadata": {
    "ExecuteTime": {
     "end_time": "2023-11-24T12:28:17.404288300Z",
     "start_time": "2023-11-24T12:27:10.545855600Z"
    }
   },
   "outputs": [],
   "source": [
    "tree_data = requests.get(url=\"https://data.cityofnewyork.us/resource/5rq2-4hqu.json\",\n",
    "                         params={\"$$app_token\": app_token, \"$limit\": 99999999999999999999}).json()\n",
    "tree_df = pd.DataFrame(tree_data)"
   ]
  },
  {
   "cell_type": "code",
   "execution_count": 13,
   "id": "93fc1876d444cc23",
   "metadata": {
    "ExecuteTime": {
     "end_time": "2023-11-24T12:28:17.411914400Z",
     "start_time": "2023-11-24T12:28:17.404288300Z"
    }
   },
   "outputs": [
    {
     "data": {
      "text/plain": [
       "(683788, 42)"
      ]
     },
     "execution_count": 13,
     "metadata": {},
     "output_type": "execute_result"
    }
   ],
   "source": [
    "tree_df.shape"
   ]
  },
  {
   "cell_type": "code",
   "execution_count": 14,
   "id": "13eae695234321c0",
   "metadata": {
    "ExecuteTime": {
     "end_time": "2023-11-24T12:28:17.426731900Z",
     "start_time": "2023-11-24T12:28:17.408818300Z"
    }
   },
   "outputs": [
    {
     "data": {
      "text/html": [
       "<div>\n",
       "<style scoped>\n",
       "    .dataframe tbody tr th:only-of-type {\n",
       "        vertical-align: middle;\n",
       "    }\n",
       "\n",
       "    .dataframe tbody tr th {\n",
       "        vertical-align: top;\n",
       "    }\n",
       "\n",
       "    .dataframe thead th {\n",
       "        text-align: right;\n",
       "    }\n",
       "</style>\n",
       "<table border=\"1\" class=\"dataframe\">\n",
       "  <thead>\n",
       "    <tr style=\"text-align: right;\">\n",
       "      <th></th>\n",
       "      <th>created_at</th>\n",
       "      <th>tree_id</th>\n",
       "      <th>block_id</th>\n",
       "      <th>the_geom</th>\n",
       "      <th>tree_dbh</th>\n",
       "      <th>stump_diam</th>\n",
       "      <th>curb_loc</th>\n",
       "      <th>status</th>\n",
       "      <th>health</th>\n",
       "      <th>spc_latin</th>\n",
       "      <th>...</th>\n",
       "      <th>st_assem</th>\n",
       "      <th>st_senate</th>\n",
       "      <th>nta</th>\n",
       "      <th>nta_name</th>\n",
       "      <th>boro_ct</th>\n",
       "      <th>state</th>\n",
       "      <th>latitude</th>\n",
       "      <th>longitude</th>\n",
       "      <th>x_sp</th>\n",
       "      <th>y_sp</th>\n",
       "    </tr>\n",
       "  </thead>\n",
       "  <tbody>\n",
       "    <tr>\n",
       "      <th>0</th>\n",
       "      <td>08/27/2015</td>\n",
       "      <td>180683</td>\n",
       "      <td>348711</td>\n",
       "      <td>{'type': 'Point', 'coordinates': [-73.84421521...</td>\n",
       "      <td>3</td>\n",
       "      <td>0</td>\n",
       "      <td>OnCurb</td>\n",
       "      <td>Alive</td>\n",
       "      <td>Fair</td>\n",
       "      <td>Acer rubrum</td>\n",
       "      <td>...</td>\n",
       "      <td>28</td>\n",
       "      <td>16</td>\n",
       "      <td>QN17</td>\n",
       "      <td>Forest Hills</td>\n",
       "      <td>4073900</td>\n",
       "      <td>New York</td>\n",
       "      <td>40.72309177</td>\n",
       "      <td>-73.84421522</td>\n",
       "      <td>1027431.14821</td>\n",
       "      <td>202756.768749</td>\n",
       "    </tr>\n",
       "    <tr>\n",
       "      <th>1</th>\n",
       "      <td>09/03/2015</td>\n",
       "      <td>200540</td>\n",
       "      <td>315986</td>\n",
       "      <td>{'type': 'Point', 'coordinates': [-73.81867945...</td>\n",
       "      <td>21</td>\n",
       "      <td>0</td>\n",
       "      <td>OnCurb</td>\n",
       "      <td>Alive</td>\n",
       "      <td>Fair</td>\n",
       "      <td>Quercus palustris</td>\n",
       "      <td>...</td>\n",
       "      <td>27</td>\n",
       "      <td>11</td>\n",
       "      <td>QN49</td>\n",
       "      <td>Whitestone</td>\n",
       "      <td>4097300</td>\n",
       "      <td>New York</td>\n",
       "      <td>40.79411067</td>\n",
       "      <td>-73.81867946</td>\n",
       "      <td>1034455.70109</td>\n",
       "      <td>228644.837379</td>\n",
       "    </tr>\n",
       "    <tr>\n",
       "      <th>2</th>\n",
       "      <td>09/05/2015</td>\n",
       "      <td>204026</td>\n",
       "      <td>218365</td>\n",
       "      <td>{'type': 'Point', 'coordinates': [-73.93660770...</td>\n",
       "      <td>3</td>\n",
       "      <td>0</td>\n",
       "      <td>OnCurb</td>\n",
       "      <td>Alive</td>\n",
       "      <td>Good</td>\n",
       "      <td>Gleditsia triacanthos var. inermis</td>\n",
       "      <td>...</td>\n",
       "      <td>50</td>\n",
       "      <td>18</td>\n",
       "      <td>BK90</td>\n",
       "      <td>East Williamsburg</td>\n",
       "      <td>3044900</td>\n",
       "      <td>New York</td>\n",
       "      <td>40.71758074</td>\n",
       "      <td>-73.9366077</td>\n",
       "      <td>1001822.83131</td>\n",
       "      <td>200716.891267</td>\n",
       "    </tr>\n",
       "    <tr>\n",
       "      <th>3</th>\n",
       "      <td>09/05/2015</td>\n",
       "      <td>204337</td>\n",
       "      <td>217969</td>\n",
       "      <td>{'type': 'Point', 'coordinates': [-73.93445615...</td>\n",
       "      <td>10</td>\n",
       "      <td>0</td>\n",
       "      <td>OnCurb</td>\n",
       "      <td>Alive</td>\n",
       "      <td>Good</td>\n",
       "      <td>Gleditsia triacanthos var. inermis</td>\n",
       "      <td>...</td>\n",
       "      <td>53</td>\n",
       "      <td>18</td>\n",
       "      <td>BK90</td>\n",
       "      <td>East Williamsburg</td>\n",
       "      <td>3044900</td>\n",
       "      <td>New York</td>\n",
       "      <td>40.71353749</td>\n",
       "      <td>-73.93445616</td>\n",
       "      <td>1002420.35833</td>\n",
       "      <td>199244.253136</td>\n",
       "    </tr>\n",
       "    <tr>\n",
       "      <th>4</th>\n",
       "      <td>08/30/2015</td>\n",
       "      <td>189565</td>\n",
       "      <td>223043</td>\n",
       "      <td>{'type': 'Point', 'coordinates': [-73.97597938...</td>\n",
       "      <td>21</td>\n",
       "      <td>0</td>\n",
       "      <td>OnCurb</td>\n",
       "      <td>Alive</td>\n",
       "      <td>Good</td>\n",
       "      <td>Tilia americana</td>\n",
       "      <td>...</td>\n",
       "      <td>44</td>\n",
       "      <td>21</td>\n",
       "      <td>BK37</td>\n",
       "      <td>Park Slope-Gowanus</td>\n",
       "      <td>3016500</td>\n",
       "      <td>New York</td>\n",
       "      <td>40.66677776</td>\n",
       "      <td>-73.97597938</td>\n",
       "      <td>990913.775046</td>\n",
       "      <td>182202.425999</td>\n",
       "    </tr>\n",
       "  </tbody>\n",
       "</table>\n",
       "<p>5 rows × 42 columns</p>\n",
       "</div>"
      ],
      "text/plain": [
       "   created_at tree_id block_id  \\\n",
       "0  08/27/2015  180683   348711   \n",
       "1  09/03/2015  200540   315986   \n",
       "2  09/05/2015  204026   218365   \n",
       "3  09/05/2015  204337   217969   \n",
       "4  08/30/2015  189565   223043   \n",
       "\n",
       "                                            the_geom tree_dbh stump_diam  \\\n",
       "0  {'type': 'Point', 'coordinates': [-73.84421521...        3          0   \n",
       "1  {'type': 'Point', 'coordinates': [-73.81867945...       21          0   \n",
       "2  {'type': 'Point', 'coordinates': [-73.93660770...        3          0   \n",
       "3  {'type': 'Point', 'coordinates': [-73.93445615...       10          0   \n",
       "4  {'type': 'Point', 'coordinates': [-73.97597938...       21          0   \n",
       "\n",
       "  curb_loc status health                           spc_latin  ... st_assem  \\\n",
       "0   OnCurb  Alive   Fair                         Acer rubrum  ...       28   \n",
       "1   OnCurb  Alive   Fair                   Quercus palustris  ...       27   \n",
       "2   OnCurb  Alive   Good  Gleditsia triacanthos var. inermis  ...       50   \n",
       "3   OnCurb  Alive   Good  Gleditsia triacanthos var. inermis  ...       53   \n",
       "4   OnCurb  Alive   Good                     Tilia americana  ...       44   \n",
       "\n",
       "  st_senate   nta            nta_name  boro_ct     state     latitude  \\\n",
       "0        16  QN17        Forest Hills  4073900  New York  40.72309177   \n",
       "1        11  QN49          Whitestone  4097300  New York  40.79411067   \n",
       "2        18  BK90   East Williamsburg  3044900  New York  40.71758074   \n",
       "3        18  BK90   East Williamsburg  3044900  New York  40.71353749   \n",
       "4        21  BK37  Park Slope-Gowanus  3016500  New York  40.66677776   \n",
       "\n",
       "      longitude           x_sp           y_sp  \n",
       "0  -73.84421522  1027431.14821  202756.768749  \n",
       "1  -73.81867946  1034455.70109  228644.837379  \n",
       "2   -73.9366077  1001822.83131  200716.891267  \n",
       "3  -73.93445616  1002420.35833  199244.253136  \n",
       "4  -73.97597938  990913.775046  182202.425999  \n",
       "\n",
       "[5 rows x 42 columns]"
      ]
     },
     "execution_count": 14,
     "metadata": {},
     "output_type": "execute_result"
    }
   ],
   "source": [
    "tree_df.head()"
   ]
  },
  {
   "cell_type": "markdown",
   "id": "c8cd31821847f025",
   "metadata": {},
   "source": [
    "To save time, I will save the datasets downloaded locally."
   ]
  },
  {
   "cell_type": "code",
   "execution_count": 15,
   "id": "53c58a380cc23633",
   "metadata": {
    "ExecuteTime": {
     "end_time": "2023-11-24T12:29:59.220065900Z",
     "start_time": "2023-11-24T12:29:48.816011600Z"
    }
   },
   "outputs": [],
   "source": [
    "complaints_df.to_csv(\"data/complaints.csv\")\n",
    "tree_df.to_csv(\"data/tree.csv\")\n"
   ]
  },
  {
   "cell_type": "code",
   "execution_count": 16,
   "id": "47a7b53b38fd84a9",
   "metadata": {
    "ExecuteTime": {
     "end_time": "2023-11-29T03:22:32.036725Z",
     "start_time": "2023-11-29T03:22:27.179840800Z"
    }
   },
   "outputs": [
    {
     "name": "stderr",
     "output_type": "stream",
     "text": [
      "/var/folders/98/l9_9vlzx4vs8g303whfvnnjc0000gn/T/ipykernel_17023/3438034653.py:1: DtypeWarning: Columns (41) have mixed types. Specify dtype option on import or set low_memory=False.\n",
      "  complaints_df = pd.read_csv(\"data/complaints.csv\", index_col=0)\n"
     ]
    }
   ],
   "source": [
    "complaints_df = pd.read_csv(\"data/complaints.csv\", index_col=0)\n",
    "tree_df = pd.read_csv(\"data/tree.csv\", index_col=0)"
   ]
  },
  {
   "cell_type": "markdown",
   "id": "73f2e339",
   "metadata": {},
   "source": [
    "### Monthly average rents from Zillow"
   ]
  },
  {
   "cell_type": "code",
   "execution_count": 17,
   "id": "5bedfeec",
   "metadata": {},
   "outputs": [],
   "source": [
    "zillow_df = pd.read_csv(\"data/zillow_rent_data.csv\")"
   ]
  },
  {
   "cell_type": "code",
   "execution_count": 18,
   "id": "b573c321",
   "metadata": {},
   "outputs": [
    {
     "data": {
      "text/html": [
       "<div>\n",
       "<style scoped>\n",
       "    .dataframe tbody tr th:only-of-type {\n",
       "        vertical-align: middle;\n",
       "    }\n",
       "\n",
       "    .dataframe tbody tr th {\n",
       "        vertical-align: top;\n",
       "    }\n",
       "\n",
       "    .dataframe thead th {\n",
       "        text-align: right;\n",
       "    }\n",
       "</style>\n",
       "<table border=\"1\" class=\"dataframe\">\n",
       "  <thead>\n",
       "    <tr style=\"text-align: right;\">\n",
       "      <th></th>\n",
       "      <th>RegionID</th>\n",
       "      <th>SizeRank</th>\n",
       "      <th>RegionName</th>\n",
       "      <th>RegionType</th>\n",
       "      <th>StateName</th>\n",
       "      <th>State</th>\n",
       "      <th>City</th>\n",
       "      <th>Metro</th>\n",
       "      <th>CountyName</th>\n",
       "      <th>2015-01-31</th>\n",
       "      <th>...</th>\n",
       "      <th>2022-12-31</th>\n",
       "      <th>2023-01-31</th>\n",
       "      <th>2023-02-28</th>\n",
       "      <th>2023-03-31</th>\n",
       "      <th>2023-04-30</th>\n",
       "      <th>2023-05-31</th>\n",
       "      <th>2023-06-30</th>\n",
       "      <th>2023-07-31</th>\n",
       "      <th>2023-08-31</th>\n",
       "      <th>2023-09-30</th>\n",
       "    </tr>\n",
       "  </thead>\n",
       "  <tbody>\n",
       "    <tr>\n",
       "      <th>0</th>\n",
       "      <td>91982</td>\n",
       "      <td>1</td>\n",
       "      <td>77494</td>\n",
       "      <td>zip</td>\n",
       "      <td>TX</td>\n",
       "      <td>TX</td>\n",
       "      <td>Katy</td>\n",
       "      <td>Houston-The Woodlands-Sugar Land, TX</td>\n",
       "      <td>Fort Bend County</td>\n",
       "      <td>1606.206406</td>\n",
       "      <td>...</td>\n",
       "      <td>1994.653463</td>\n",
       "      <td>2027.438438</td>\n",
       "      <td>2042.237444</td>\n",
       "      <td>2049.325559</td>\n",
       "      <td>2016.531345</td>\n",
       "      <td>2023.438976</td>\n",
       "      <td>2031.558202</td>\n",
       "      <td>2046.144009</td>\n",
       "      <td>2053.486247</td>\n",
       "      <td>2055.771355</td>\n",
       "    </tr>\n",
       "    <tr>\n",
       "      <th>1</th>\n",
       "      <td>91940</td>\n",
       "      <td>3</td>\n",
       "      <td>77449</td>\n",
       "      <td>zip</td>\n",
       "      <td>TX</td>\n",
       "      <td>TX</td>\n",
       "      <td>Katy</td>\n",
       "      <td>Houston-The Woodlands-Sugar Land, TX</td>\n",
       "      <td>Harris County</td>\n",
       "      <td>1257.814660</td>\n",
       "      <td>...</td>\n",
       "      <td>1749.697900</td>\n",
       "      <td>1738.217986</td>\n",
       "      <td>1747.305840</td>\n",
       "      <td>1758.407295</td>\n",
       "      <td>1758.891075</td>\n",
       "      <td>1762.980879</td>\n",
       "      <td>1771.751591</td>\n",
       "      <td>1779.338402</td>\n",
       "      <td>1795.384582</td>\n",
       "      <td>1799.631140</td>\n",
       "    </tr>\n",
       "    <tr>\n",
       "      <th>2</th>\n",
       "      <td>91733</td>\n",
       "      <td>5</td>\n",
       "      <td>77084</td>\n",
       "      <td>zip</td>\n",
       "      <td>TX</td>\n",
       "      <td>TX</td>\n",
       "      <td>Houston</td>\n",
       "      <td>Houston-The Woodlands-Sugar Land, TX</td>\n",
       "      <td>Harris County</td>\n",
       "      <td>NaN</td>\n",
       "      <td>...</td>\n",
       "      <td>1701.217520</td>\n",
       "      <td>1706.900064</td>\n",
       "      <td>1706.067787</td>\n",
       "      <td>1723.722320</td>\n",
       "      <td>1735.484670</td>\n",
       "      <td>1752.132904</td>\n",
       "      <td>1756.990323</td>\n",
       "      <td>1754.429516</td>\n",
       "      <td>1757.602011</td>\n",
       "      <td>1755.031490</td>\n",
       "    </tr>\n",
       "    <tr>\n",
       "      <th>3</th>\n",
       "      <td>93144</td>\n",
       "      <td>6</td>\n",
       "      <td>79936</td>\n",
       "      <td>zip</td>\n",
       "      <td>TX</td>\n",
       "      <td>TX</td>\n",
       "      <td>El Paso</td>\n",
       "      <td>El Paso, TX</td>\n",
       "      <td>El Paso County</td>\n",
       "      <td>NaN</td>\n",
       "      <td>...</td>\n",
       "      <td>1419.480272</td>\n",
       "      <td>1458.063897</td>\n",
       "      <td>1471.726681</td>\n",
       "      <td>1466.734658</td>\n",
       "      <td>1456.175660</td>\n",
       "      <td>1462.478506</td>\n",
       "      <td>1466.267391</td>\n",
       "      <td>1490.237063</td>\n",
       "      <td>1488.180414</td>\n",
       "      <td>1494.366097</td>\n",
       "    </tr>\n",
       "    <tr>\n",
       "      <th>4</th>\n",
       "      <td>62093</td>\n",
       "      <td>7</td>\n",
       "      <td>11385</td>\n",
       "      <td>zip</td>\n",
       "      <td>NY</td>\n",
       "      <td>NY</td>\n",
       "      <td>New York</td>\n",
       "      <td>New York-Newark-Jersey City, NY-NJ-PA</td>\n",
       "      <td>Queens County</td>\n",
       "      <td>NaN</td>\n",
       "      <td>...</td>\n",
       "      <td>2935.808220</td>\n",
       "      <td>2895.699421</td>\n",
       "      <td>2873.209025</td>\n",
       "      <td>2881.906361</td>\n",
       "      <td>2913.546218</td>\n",
       "      <td>2963.964134</td>\n",
       "      <td>3005.735342</td>\n",
       "      <td>3034.413822</td>\n",
       "      <td>3064.476503</td>\n",
       "      <td>3079.585783</td>\n",
       "    </tr>\n",
       "  </tbody>\n",
       "</table>\n",
       "<p>5 rows × 114 columns</p>\n",
       "</div>"
      ],
      "text/plain": [
       "   RegionID  SizeRank  RegionName RegionType StateName State      City  \\\n",
       "0     91982         1       77494        zip        TX    TX      Katy   \n",
       "1     91940         3       77449        zip        TX    TX      Katy   \n",
       "2     91733         5       77084        zip        TX    TX   Houston   \n",
       "3     93144         6       79936        zip        TX    TX   El Paso   \n",
       "4     62093         7       11385        zip        NY    NY  New York   \n",
       "\n",
       "                                   Metro        CountyName   2015-01-31  ...  \\\n",
       "0   Houston-The Woodlands-Sugar Land, TX  Fort Bend County  1606.206406  ...   \n",
       "1   Houston-The Woodlands-Sugar Land, TX     Harris County  1257.814660  ...   \n",
       "2   Houston-The Woodlands-Sugar Land, TX     Harris County          NaN  ...   \n",
       "3                            El Paso, TX    El Paso County          NaN  ...   \n",
       "4  New York-Newark-Jersey City, NY-NJ-PA     Queens County          NaN  ...   \n",
       "\n",
       "    2022-12-31   2023-01-31   2023-02-28   2023-03-31   2023-04-30  \\\n",
       "0  1994.653463  2027.438438  2042.237444  2049.325559  2016.531345   \n",
       "1  1749.697900  1738.217986  1747.305840  1758.407295  1758.891075   \n",
       "2  1701.217520  1706.900064  1706.067787  1723.722320  1735.484670   \n",
       "3  1419.480272  1458.063897  1471.726681  1466.734658  1456.175660   \n",
       "4  2935.808220  2895.699421  2873.209025  2881.906361  2913.546218   \n",
       "\n",
       "    2023-05-31   2023-06-30   2023-07-31   2023-08-31   2023-09-30  \n",
       "0  2023.438976  2031.558202  2046.144009  2053.486247  2055.771355  \n",
       "1  1762.980879  1771.751591  1779.338402  1795.384582  1799.631140  \n",
       "2  1752.132904  1756.990323  1754.429516  1757.602011  1755.031490  \n",
       "3  1462.478506  1466.267391  1490.237063  1488.180414  1494.366097  \n",
       "4  2963.964134  3005.735342  3034.413822  3064.476503  3079.585783  \n",
       "\n",
       "[5 rows x 114 columns]"
      ]
     },
     "execution_count": 18,
     "metadata": {},
     "output_type": "execute_result"
    }
   ],
   "source": [
    "zillow_df.head()"
   ]
  },
  {
   "cell_type": "code",
   "execution_count": 19,
   "id": "7b36f32f",
   "metadata": {},
   "outputs": [
    {
     "data": {
      "text/html": [
       "<div>\n",
       "<style scoped>\n",
       "    .dataframe tbody tr th:only-of-type {\n",
       "        vertical-align: middle;\n",
       "    }\n",
       "\n",
       "    .dataframe tbody tr th {\n",
       "        vertical-align: top;\n",
       "    }\n",
       "\n",
       "    .dataframe thead th {\n",
       "        text-align: right;\n",
       "    }\n",
       "</style>\n",
       "<table border=\"1\" class=\"dataframe\">\n",
       "  <thead>\n",
       "    <tr style=\"text-align: right;\">\n",
       "      <th></th>\n",
       "      <th>RegionID</th>\n",
       "      <th>State</th>\n",
       "      <th>City</th>\n",
       "      <th>RegionName</th>\n",
       "      <th>CountyName</th>\n",
       "      <th>2018-10-31</th>\n",
       "      <th>2018-11-30</th>\n",
       "      <th>2018-12-31</th>\n",
       "      <th>2019-01-31</th>\n",
       "      <th>2019-02-28</th>\n",
       "      <th>...</th>\n",
       "      <th>2022-12-31</th>\n",
       "      <th>2023-01-31</th>\n",
       "      <th>2023-02-28</th>\n",
       "      <th>2023-03-31</th>\n",
       "      <th>2023-04-30</th>\n",
       "      <th>2023-05-31</th>\n",
       "      <th>2023-06-30</th>\n",
       "      <th>2023-07-31</th>\n",
       "      <th>2023-08-31</th>\n",
       "      <th>2023-09-30</th>\n",
       "    </tr>\n",
       "  </thead>\n",
       "  <tbody>\n",
       "    <tr>\n",
       "      <th>0</th>\n",
       "      <td>91982</td>\n",
       "      <td>TX</td>\n",
       "      <td>Katy</td>\n",
       "      <td>77494</td>\n",
       "      <td>Fort Bend County</td>\n",
       "      <td>1590.488945</td>\n",
       "      <td>1594.393947</td>\n",
       "      <td>1598.275260</td>\n",
       "      <td>1604.520456</td>\n",
       "      <td>1610.434841</td>\n",
       "      <td>...</td>\n",
       "      <td>1994.653463</td>\n",
       "      <td>2027.438438</td>\n",
       "      <td>2042.237444</td>\n",
       "      <td>2049.325559</td>\n",
       "      <td>2016.531345</td>\n",
       "      <td>2023.438976</td>\n",
       "      <td>2031.558202</td>\n",
       "      <td>2046.144009</td>\n",
       "      <td>2053.486247</td>\n",
       "      <td>2055.771355</td>\n",
       "    </tr>\n",
       "    <tr>\n",
       "      <th>1</th>\n",
       "      <td>91940</td>\n",
       "      <td>TX</td>\n",
       "      <td>Katy</td>\n",
       "      <td>77449</td>\n",
       "      <td>Harris County</td>\n",
       "      <td>1356.220524</td>\n",
       "      <td>1356.988632</td>\n",
       "      <td>1353.259235</td>\n",
       "      <td>1350.062265</td>\n",
       "      <td>1348.472443</td>\n",
       "      <td>...</td>\n",
       "      <td>1749.697900</td>\n",
       "      <td>1738.217986</td>\n",
       "      <td>1747.305840</td>\n",
       "      <td>1758.407295</td>\n",
       "      <td>1758.891075</td>\n",
       "      <td>1762.980879</td>\n",
       "      <td>1771.751591</td>\n",
       "      <td>1779.338402</td>\n",
       "      <td>1795.384582</td>\n",
       "      <td>1799.631140</td>\n",
       "    </tr>\n",
       "    <tr>\n",
       "      <th>2</th>\n",
       "      <td>91733</td>\n",
       "      <td>TX</td>\n",
       "      <td>Houston</td>\n",
       "      <td>77084</td>\n",
       "      <td>Harris County</td>\n",
       "      <td>1333.479680</td>\n",
       "      <td>1341.995595</td>\n",
       "      <td>1341.381470</td>\n",
       "      <td>1345.813983</td>\n",
       "      <td>1332.540790</td>\n",
       "      <td>...</td>\n",
       "      <td>1701.217520</td>\n",
       "      <td>1706.900064</td>\n",
       "      <td>1706.067787</td>\n",
       "      <td>1723.722320</td>\n",
       "      <td>1735.484670</td>\n",
       "      <td>1752.132904</td>\n",
       "      <td>1756.990323</td>\n",
       "      <td>1754.429516</td>\n",
       "      <td>1757.602011</td>\n",
       "      <td>1755.031490</td>\n",
       "    </tr>\n",
       "    <tr>\n",
       "      <th>3</th>\n",
       "      <td>93144</td>\n",
       "      <td>TX</td>\n",
       "      <td>El Paso</td>\n",
       "      <td>79936</td>\n",
       "      <td>El Paso County</td>\n",
       "      <td>NaN</td>\n",
       "      <td>NaN</td>\n",
       "      <td>NaN</td>\n",
       "      <td>NaN</td>\n",
       "      <td>NaN</td>\n",
       "      <td>...</td>\n",
       "      <td>1419.480272</td>\n",
       "      <td>1458.063897</td>\n",
       "      <td>1471.726681</td>\n",
       "      <td>1466.734658</td>\n",
       "      <td>1456.175660</td>\n",
       "      <td>1462.478506</td>\n",
       "      <td>1466.267391</td>\n",
       "      <td>1490.237063</td>\n",
       "      <td>1488.180414</td>\n",
       "      <td>1494.366097</td>\n",
       "    </tr>\n",
       "    <tr>\n",
       "      <th>4</th>\n",
       "      <td>62093</td>\n",
       "      <td>NY</td>\n",
       "      <td>New York</td>\n",
       "      <td>11385</td>\n",
       "      <td>Queens County</td>\n",
       "      <td>2419.898399</td>\n",
       "      <td>2420.804474</td>\n",
       "      <td>2420.254366</td>\n",
       "      <td>2400.882444</td>\n",
       "      <td>2419.392453</td>\n",
       "      <td>...</td>\n",
       "      <td>2935.808220</td>\n",
       "      <td>2895.699421</td>\n",
       "      <td>2873.209025</td>\n",
       "      <td>2881.906361</td>\n",
       "      <td>2913.546218</td>\n",
       "      <td>2963.964134</td>\n",
       "      <td>3005.735342</td>\n",
       "      <td>3034.413822</td>\n",
       "      <td>3064.476503</td>\n",
       "      <td>3079.585783</td>\n",
       "    </tr>\n",
       "  </tbody>\n",
       "</table>\n",
       "<p>5 rows × 65 columns</p>\n",
       "</div>"
      ],
      "text/plain": [
       "   RegionID State      City  RegionName        CountyName   2018-10-31  \\\n",
       "0     91982    TX      Katy       77494  Fort Bend County  1590.488945   \n",
       "1     91940    TX      Katy       77449     Harris County  1356.220524   \n",
       "2     91733    TX   Houston       77084     Harris County  1333.479680   \n",
       "3     93144    TX   El Paso       79936    El Paso County          NaN   \n",
       "4     62093    NY  New York       11385     Queens County  2419.898399   \n",
       "\n",
       "    2018-11-30   2018-12-31   2019-01-31   2019-02-28  ...   2022-12-31  \\\n",
       "0  1594.393947  1598.275260  1604.520456  1610.434841  ...  1994.653463   \n",
       "1  1356.988632  1353.259235  1350.062265  1348.472443  ...  1749.697900   \n",
       "2  1341.995595  1341.381470  1345.813983  1332.540790  ...  1701.217520   \n",
       "3          NaN          NaN          NaN          NaN  ...  1419.480272   \n",
       "4  2420.804474  2420.254366  2400.882444  2419.392453  ...  2935.808220   \n",
       "\n",
       "    2023-01-31   2023-02-28   2023-03-31   2023-04-30   2023-05-31  \\\n",
       "0  2027.438438  2042.237444  2049.325559  2016.531345  2023.438976   \n",
       "1  1738.217986  1747.305840  1758.407295  1758.891075  1762.980879   \n",
       "2  1706.900064  1706.067787  1723.722320  1735.484670  1752.132904   \n",
       "3  1458.063897  1471.726681  1466.734658  1456.175660  1462.478506   \n",
       "4  2895.699421  2873.209025  2881.906361  2913.546218  2963.964134   \n",
       "\n",
       "    2023-06-30   2023-07-31   2023-08-31   2023-09-30  \n",
       "0  2031.558202  2046.144009  2053.486247  2055.771355  \n",
       "1  1771.751591  1779.338402  1795.384582  1799.631140  \n",
       "2  1756.990323  1754.429516  1757.602011  1755.031490  \n",
       "3  1466.267391  1490.237063  1488.180414  1494.366097  \n",
       "4  3005.735342  3034.413822  3064.476503  3079.585783  \n",
       "\n",
       "[5 rows x 65 columns]"
      ]
     },
     "execution_count": 19,
     "metadata": {},
     "output_type": "execute_result"
    }
   ],
   "source": [
    "# Choose necessary columns\n",
    "necessary_columns = ['RegionID', 'State', 'City', 'RegionName', 'CountyName', '2018-10-31', '2018-11-30', '2018-12-31', '2019-01-31',\n",
    "                    '2019-02-28', '2019-03-31', '2019-04-30', '2019-05-31', '2019-06-30', '2019-07-31','2019-08-31',\n",
    "                    '2019-09-30','2019-10-31','2019-11-30','2019-12-31', '2020-01-31','2020-02-29','2020-03-31',\n",
    "                    '2020-04-30', '2020-05-31', '2020-06-30', '2020-07-31', '2020-08-31', '2020-09-30', '2020-10-31',\n",
    "                    '2020-11-30', '2020-12-31', '2021-01-31', '2021-02-28', '2021-03-31', '2021-04-30', '2021-05-31',\n",
    "                    '2021-06-30', '2021-07-31', '2021-08-31', '2021-09-30', '2021-10-31', '2021-11-30', '2021-12-31',\n",
    "                    '2022-01-31', '2022-02-28', '2022-03-31', '2022-04-30', '2022-05-31', '2022-06-30', '2022-07-31',\n",
    "                    '2022-08-31', '2022-09-30', '2022-10-31', '2022-11-30', '2022-12-31', '2023-01-31', '2023-02-28',\n",
    "                    '2023-03-31', '2023-04-30', '2023-05-31', '2023-06-30', '2023-07-31', '2023-08-31', '2023-09-30']\n",
    "zillow_df = zillow_df[necessary_columns]\n",
    "zillow_df.head()"
   ]
  },
  {
   "cell_type": "code",
   "execution_count": 20,
   "id": "079d6090",
   "metadata": {},
   "outputs": [
    {
     "data": {
      "text/html": [
       "<div>\n",
       "<style scoped>\n",
       "    .dataframe tbody tr th:only-of-type {\n",
       "        vertical-align: middle;\n",
       "    }\n",
       "\n",
       "    .dataframe tbody tr th {\n",
       "        vertical-align: top;\n",
       "    }\n",
       "\n",
       "    .dataframe thead th {\n",
       "        text-align: right;\n",
       "    }\n",
       "</style>\n",
       "<table border=\"1\" class=\"dataframe\">\n",
       "  <thead>\n",
       "    <tr style=\"text-align: right;\">\n",
       "      <th></th>\n",
       "      <th>regionid</th>\n",
       "      <th>state</th>\n",
       "      <th>city</th>\n",
       "      <th>regionname</th>\n",
       "      <th>countyname</th>\n",
       "      <th>2018-10-31</th>\n",
       "      <th>2018-11-30</th>\n",
       "      <th>2018-12-31</th>\n",
       "      <th>2019-01-31</th>\n",
       "      <th>2019-02-28</th>\n",
       "      <th>...</th>\n",
       "      <th>2022-12-31</th>\n",
       "      <th>2023-01-31</th>\n",
       "      <th>2023-02-28</th>\n",
       "      <th>2023-03-31</th>\n",
       "      <th>2023-04-30</th>\n",
       "      <th>2023-05-31</th>\n",
       "      <th>2023-06-30</th>\n",
       "      <th>2023-07-31</th>\n",
       "      <th>2023-08-31</th>\n",
       "      <th>2023-09-30</th>\n",
       "    </tr>\n",
       "  </thead>\n",
       "  <tbody>\n",
       "    <tr>\n",
       "      <th>0</th>\n",
       "      <td>91982</td>\n",
       "      <td>TX</td>\n",
       "      <td>Katy</td>\n",
       "      <td>77494</td>\n",
       "      <td>Fort Bend County</td>\n",
       "      <td>1590.488945</td>\n",
       "      <td>1594.393947</td>\n",
       "      <td>1598.275260</td>\n",
       "      <td>1604.520456</td>\n",
       "      <td>1610.434841</td>\n",
       "      <td>...</td>\n",
       "      <td>1994.653463</td>\n",
       "      <td>2027.438438</td>\n",
       "      <td>2042.237444</td>\n",
       "      <td>2049.325559</td>\n",
       "      <td>2016.531345</td>\n",
       "      <td>2023.438976</td>\n",
       "      <td>2031.558202</td>\n",
       "      <td>2046.144009</td>\n",
       "      <td>2053.486247</td>\n",
       "      <td>2055.771355</td>\n",
       "    </tr>\n",
       "    <tr>\n",
       "      <th>1</th>\n",
       "      <td>91940</td>\n",
       "      <td>TX</td>\n",
       "      <td>Katy</td>\n",
       "      <td>77449</td>\n",
       "      <td>Harris County</td>\n",
       "      <td>1356.220524</td>\n",
       "      <td>1356.988632</td>\n",
       "      <td>1353.259235</td>\n",
       "      <td>1350.062265</td>\n",
       "      <td>1348.472443</td>\n",
       "      <td>...</td>\n",
       "      <td>1749.697900</td>\n",
       "      <td>1738.217986</td>\n",
       "      <td>1747.305840</td>\n",
       "      <td>1758.407295</td>\n",
       "      <td>1758.891075</td>\n",
       "      <td>1762.980879</td>\n",
       "      <td>1771.751591</td>\n",
       "      <td>1779.338402</td>\n",
       "      <td>1795.384582</td>\n",
       "      <td>1799.631140</td>\n",
       "    </tr>\n",
       "    <tr>\n",
       "      <th>2</th>\n",
       "      <td>91733</td>\n",
       "      <td>TX</td>\n",
       "      <td>Houston</td>\n",
       "      <td>77084</td>\n",
       "      <td>Harris County</td>\n",
       "      <td>1333.479680</td>\n",
       "      <td>1341.995595</td>\n",
       "      <td>1341.381470</td>\n",
       "      <td>1345.813983</td>\n",
       "      <td>1332.540790</td>\n",
       "      <td>...</td>\n",
       "      <td>1701.217520</td>\n",
       "      <td>1706.900064</td>\n",
       "      <td>1706.067787</td>\n",
       "      <td>1723.722320</td>\n",
       "      <td>1735.484670</td>\n",
       "      <td>1752.132904</td>\n",
       "      <td>1756.990323</td>\n",
       "      <td>1754.429516</td>\n",
       "      <td>1757.602011</td>\n",
       "      <td>1755.031490</td>\n",
       "    </tr>\n",
       "    <tr>\n",
       "      <th>3</th>\n",
       "      <td>93144</td>\n",
       "      <td>TX</td>\n",
       "      <td>El Paso</td>\n",
       "      <td>79936</td>\n",
       "      <td>El Paso County</td>\n",
       "      <td>NaN</td>\n",
       "      <td>NaN</td>\n",
       "      <td>NaN</td>\n",
       "      <td>NaN</td>\n",
       "      <td>NaN</td>\n",
       "      <td>...</td>\n",
       "      <td>1419.480272</td>\n",
       "      <td>1458.063897</td>\n",
       "      <td>1471.726681</td>\n",
       "      <td>1466.734658</td>\n",
       "      <td>1456.175660</td>\n",
       "      <td>1462.478506</td>\n",
       "      <td>1466.267391</td>\n",
       "      <td>1490.237063</td>\n",
       "      <td>1488.180414</td>\n",
       "      <td>1494.366097</td>\n",
       "    </tr>\n",
       "    <tr>\n",
       "      <th>4</th>\n",
       "      <td>62093</td>\n",
       "      <td>NY</td>\n",
       "      <td>New York</td>\n",
       "      <td>11385</td>\n",
       "      <td>Queens County</td>\n",
       "      <td>2419.898399</td>\n",
       "      <td>2420.804474</td>\n",
       "      <td>2420.254366</td>\n",
       "      <td>2400.882444</td>\n",
       "      <td>2419.392453</td>\n",
       "      <td>...</td>\n",
       "      <td>2935.808220</td>\n",
       "      <td>2895.699421</td>\n",
       "      <td>2873.209025</td>\n",
       "      <td>2881.906361</td>\n",
       "      <td>2913.546218</td>\n",
       "      <td>2963.964134</td>\n",
       "      <td>3005.735342</td>\n",
       "      <td>3034.413822</td>\n",
       "      <td>3064.476503</td>\n",
       "      <td>3079.585783</td>\n",
       "    </tr>\n",
       "  </tbody>\n",
       "</table>\n",
       "<p>5 rows × 65 columns</p>\n",
       "</div>"
      ],
      "text/plain": [
       "   regionid state      city  regionname        countyname   2018-10-31  \\\n",
       "0     91982    TX      Katy       77494  Fort Bend County  1590.488945   \n",
       "1     91940    TX      Katy       77449     Harris County  1356.220524   \n",
       "2     91733    TX   Houston       77084     Harris County  1333.479680   \n",
       "3     93144    TX   El Paso       79936    El Paso County          NaN   \n",
       "4     62093    NY  New York       11385     Queens County  2419.898399   \n",
       "\n",
       "    2018-11-30   2018-12-31   2019-01-31   2019-02-28  ...   2022-12-31  \\\n",
       "0  1594.393947  1598.275260  1604.520456  1610.434841  ...  1994.653463   \n",
       "1  1356.988632  1353.259235  1350.062265  1348.472443  ...  1749.697900   \n",
       "2  1341.995595  1341.381470  1345.813983  1332.540790  ...  1701.217520   \n",
       "3          NaN          NaN          NaN          NaN  ...  1419.480272   \n",
       "4  2420.804474  2420.254366  2400.882444  2419.392453  ...  2935.808220   \n",
       "\n",
       "    2023-01-31   2023-02-28   2023-03-31   2023-04-30   2023-05-31  \\\n",
       "0  2027.438438  2042.237444  2049.325559  2016.531345  2023.438976   \n",
       "1  1738.217986  1747.305840  1758.407295  1758.891075  1762.980879   \n",
       "2  1706.900064  1706.067787  1723.722320  1735.484670  1752.132904   \n",
       "3  1458.063897  1471.726681  1466.734658  1456.175660  1462.478506   \n",
       "4  2895.699421  2873.209025  2881.906361  2913.546218  2963.964134   \n",
       "\n",
       "    2023-06-30   2023-07-31   2023-08-31   2023-09-30  \n",
       "0  2031.558202  2046.144009  2053.486247  2055.771355  \n",
       "1  1771.751591  1779.338402  1795.384582  1799.631140  \n",
       "2  1756.990323  1754.429516  1757.602011  1755.031490  \n",
       "3  1466.267391  1490.237063  1488.180414  1494.366097  \n",
       "4  3005.735342  3034.413822  3064.476503  3079.585783  \n",
       "\n",
       "[5 rows x 65 columns]"
      ]
     },
     "execution_count": 20,
     "metadata": {},
     "output_type": "execute_result"
    }
   ],
   "source": [
    "# Normalize column names & types\n",
    "zillow_df.columns = zillow_df.columns.str.lower()\n",
    "\n",
    "zillow_df.head()"
   ]
  },
  {
   "cell_type": "code",
   "execution_count": 21,
   "id": "a73da6a7",
   "metadata": {},
   "outputs": [],
   "source": [
    "# Normalize SRID\n",
    "zillow_df.crs = \"EPSG:4326\""
   ]
  },
  {
   "cell_type": "code",
   "execution_count": 22,
   "id": "086ef484",
   "metadata": {},
   "outputs": [],
   "source": [
    "zillow_df.to_csv('data/cleaned_zillow_rent_data.csv', index=False)"
   ]
  },
  {
   "cell_type": "markdown",
   "id": "21de4886",
   "metadata": {},
   "source": [
    "### Zip Code"
   ]
  },
  {
   "cell_type": "code",
   "execution_count": 23,
   "id": "4447b860",
   "metadata": {},
   "outputs": [
    {
     "name": "stdout",
     "output_type": "stream",
     "text": [
      "Requirement already satisfied: dbfread in /Users/jayfeng/opt/anaconda3/lib/python3.9/site-packages (2.0.7)\n",
      "Note: you may need to restart the kernel to use updated packages.\n"
     ]
    }
   ],
   "source": [
    "pip install dbfread"
   ]
  },
  {
   "cell_type": "code",
   "execution_count": 24,
   "id": "3fe70024",
   "metadata": {},
   "outputs": [
    {
     "data": {
      "text/html": [
       "<div>\n",
       "<style scoped>\n",
       "    .dataframe tbody tr th:only-of-type {\n",
       "        vertical-align: middle;\n",
       "    }\n",
       "\n",
       "    .dataframe tbody tr th {\n",
       "        vertical-align: top;\n",
       "    }\n",
       "\n",
       "    .dataframe thead th {\n",
       "        text-align: right;\n",
       "    }\n",
       "</style>\n",
       "<table border=\"1\" class=\"dataframe\">\n",
       "  <thead>\n",
       "    <tr style=\"text-align: right;\">\n",
       "      <th></th>\n",
       "      <th>ZIPCODE</th>\n",
       "      <th>BLDGZIP</th>\n",
       "      <th>PO_NAME</th>\n",
       "      <th>POPULATION</th>\n",
       "      <th>AREA</th>\n",
       "      <th>STATE</th>\n",
       "      <th>COUNTY</th>\n",
       "      <th>ST_FIPS</th>\n",
       "      <th>CTY_FIPS</th>\n",
       "      <th>URL</th>\n",
       "      <th>SHAPE_AREA</th>\n",
       "      <th>SHAPE_LEN</th>\n",
       "    </tr>\n",
       "  </thead>\n",
       "  <tbody>\n",
       "    <tr>\n",
       "      <th>0</th>\n",
       "      <td>11436</td>\n",
       "      <td>0</td>\n",
       "      <td>Jamaica</td>\n",
       "      <td>18681.0</td>\n",
       "      <td>2.269930e+07</td>\n",
       "      <td>NY</td>\n",
       "      <td>Queens</td>\n",
       "      <td>36</td>\n",
       "      <td>081</td>\n",
       "      <td>http://www.usps.com/</td>\n",
       "      <td>0.0</td>\n",
       "      <td>0.0</td>\n",
       "    </tr>\n",
       "    <tr>\n",
       "      <th>1</th>\n",
       "      <td>11213</td>\n",
       "      <td>0</td>\n",
       "      <td>Brooklyn</td>\n",
       "      <td>62426.0</td>\n",
       "      <td>2.963100e+07</td>\n",
       "      <td>NY</td>\n",
       "      <td>Kings</td>\n",
       "      <td>36</td>\n",
       "      <td>047</td>\n",
       "      <td>http://www.usps.com/</td>\n",
       "      <td>0.0</td>\n",
       "      <td>0.0</td>\n",
       "    </tr>\n",
       "    <tr>\n",
       "      <th>2</th>\n",
       "      <td>11212</td>\n",
       "      <td>0</td>\n",
       "      <td>Brooklyn</td>\n",
       "      <td>83866.0</td>\n",
       "      <td>4.197210e+07</td>\n",
       "      <td>NY</td>\n",
       "      <td>Kings</td>\n",
       "      <td>36</td>\n",
       "      <td>047</td>\n",
       "      <td>http://www.usps.com/</td>\n",
       "      <td>0.0</td>\n",
       "      <td>0.0</td>\n",
       "    </tr>\n",
       "    <tr>\n",
       "      <th>3</th>\n",
       "      <td>11225</td>\n",
       "      <td>0</td>\n",
       "      <td>Brooklyn</td>\n",
       "      <td>56527.0</td>\n",
       "      <td>2.369863e+07</td>\n",
       "      <td>NY</td>\n",
       "      <td>Kings</td>\n",
       "      <td>36</td>\n",
       "      <td>047</td>\n",
       "      <td>http://www.usps.com/</td>\n",
       "      <td>0.0</td>\n",
       "      <td>0.0</td>\n",
       "    </tr>\n",
       "    <tr>\n",
       "      <th>4</th>\n",
       "      <td>11218</td>\n",
       "      <td>0</td>\n",
       "      <td>Brooklyn</td>\n",
       "      <td>72280.0</td>\n",
       "      <td>3.686880e+07</td>\n",
       "      <td>NY</td>\n",
       "      <td>Kings</td>\n",
       "      <td>36</td>\n",
       "      <td>047</td>\n",
       "      <td>http://www.usps.com/</td>\n",
       "      <td>0.0</td>\n",
       "      <td>0.0</td>\n",
       "    </tr>\n",
       "  </tbody>\n",
       "</table>\n",
       "</div>"
      ],
      "text/plain": [
       "  ZIPCODE BLDGZIP   PO_NAME  POPULATION          AREA STATE  COUNTY ST_FIPS  \\\n",
       "0   11436       0   Jamaica     18681.0  2.269930e+07    NY  Queens      36   \n",
       "1   11213       0  Brooklyn     62426.0  2.963100e+07    NY   Kings      36   \n",
       "2   11212       0  Brooklyn     83866.0  4.197210e+07    NY   Kings      36   \n",
       "3   11225       0  Brooklyn     56527.0  2.369863e+07    NY   Kings      36   \n",
       "4   11218       0  Brooklyn     72280.0  3.686880e+07    NY   Kings      36   \n",
       "\n",
       "  CTY_FIPS                   URL  SHAPE_AREA  SHAPE_LEN  \n",
       "0      081  http://www.usps.com/         0.0        0.0  \n",
       "1      047  http://www.usps.com/         0.0        0.0  \n",
       "2      047  http://www.usps.com/         0.0        0.0  \n",
       "3      047  http://www.usps.com/         0.0        0.0  \n",
       "4      047  http://www.usps.com/         0.0        0.0  "
      ]
     },
     "execution_count": 24,
     "metadata": {},
     "output_type": "execute_result"
    }
   ],
   "source": [
    "from dbfread import DBF\n",
    "\n",
    "# Specify the path to your DBF file\n",
    "dbf_path = 'data/nyc_zipcodes.dbf'\n",
    "\n",
    "# Use dbfread to read the DBF file\n",
    "zip_table = DBF(dbf_path)\n",
    "\n",
    "# Convert the table to a pandas DataFrame\n",
    "zip_code_df = pd.DataFrame(iter(zip_table))\n",
    "\n",
    "# Display the DataFrame\n",
    "zip_code_df.head()"
   ]
  },
  {
   "cell_type": "code",
   "execution_count": 25,
   "id": "c31faa13",
   "metadata": {},
   "outputs": [
    {
     "data": {
      "text/html": [
       "<div>\n",
       "<style scoped>\n",
       "    .dataframe tbody tr th:only-of-type {\n",
       "        vertical-align: middle;\n",
       "    }\n",
       "\n",
       "    .dataframe tbody tr th {\n",
       "        vertical-align: top;\n",
       "    }\n",
       "\n",
       "    .dataframe thead th {\n",
       "        text-align: right;\n",
       "    }\n",
       "</style>\n",
       "<table border=\"1\" class=\"dataframe\">\n",
       "  <thead>\n",
       "    <tr style=\"text-align: right;\">\n",
       "      <th></th>\n",
       "      <th>ZIPCODE</th>\n",
       "      <th>PO_NAME</th>\n",
       "      <th>POPULATION</th>\n",
       "      <th>STATE</th>\n",
       "      <th>COUNTY</th>\n",
       "    </tr>\n",
       "  </thead>\n",
       "  <tbody>\n",
       "    <tr>\n",
       "      <th>0</th>\n",
       "      <td>11436</td>\n",
       "      <td>Jamaica</td>\n",
       "      <td>18681.0</td>\n",
       "      <td>NY</td>\n",
       "      <td>Queens</td>\n",
       "    </tr>\n",
       "    <tr>\n",
       "      <th>1</th>\n",
       "      <td>11213</td>\n",
       "      <td>Brooklyn</td>\n",
       "      <td>62426.0</td>\n",
       "      <td>NY</td>\n",
       "      <td>Kings</td>\n",
       "    </tr>\n",
       "    <tr>\n",
       "      <th>2</th>\n",
       "      <td>11212</td>\n",
       "      <td>Brooklyn</td>\n",
       "      <td>83866.0</td>\n",
       "      <td>NY</td>\n",
       "      <td>Kings</td>\n",
       "    </tr>\n",
       "    <tr>\n",
       "      <th>3</th>\n",
       "      <td>11225</td>\n",
       "      <td>Brooklyn</td>\n",
       "      <td>56527.0</td>\n",
       "      <td>NY</td>\n",
       "      <td>Kings</td>\n",
       "    </tr>\n",
       "    <tr>\n",
       "      <th>4</th>\n",
       "      <td>11218</td>\n",
       "      <td>Brooklyn</td>\n",
       "      <td>72280.0</td>\n",
       "      <td>NY</td>\n",
       "      <td>Kings</td>\n",
       "    </tr>\n",
       "  </tbody>\n",
       "</table>\n",
       "</div>"
      ],
      "text/plain": [
       "  ZIPCODE   PO_NAME  POPULATION STATE  COUNTY\n",
       "0   11436   Jamaica     18681.0    NY  Queens\n",
       "1   11213  Brooklyn     62426.0    NY   Kings\n",
       "2   11212  Brooklyn     83866.0    NY   Kings\n",
       "3   11225  Brooklyn     56527.0    NY   Kings\n",
       "4   11218  Brooklyn     72280.0    NY   Kings"
      ]
     },
     "execution_count": 25,
     "metadata": {},
     "output_type": "execute_result"
    }
   ],
   "source": [
    "# Remove unnecessary columns\n",
    "keep_columns = ['ZIPCODE', 'PO_NAME', 'POPULATION', 'STATE', 'COUNTY']\n",
    "zip_code_df = zip_code_df[keep_columns]\n",
    "zip_code_df.head()"
   ]
  },
  {
   "cell_type": "code",
   "execution_count": 26,
   "id": "0c26e647",
   "metadata": {},
   "outputs": [],
   "source": [
    "# Normalize column names & types\n",
    "zip_code_df.columns = zip_code_df.columns.str.lower()\n"
   ]
  },
  {
   "cell_type": "code",
   "execution_count": 28,
   "id": "da45d82a",
   "metadata": {},
   "outputs": [
    {
     "name": "stdout",
     "output_type": "stream",
     "text": [
      "Current CRS: None\n",
      "Updated CRS: EPSG:4326\n",
      "Final CRS: EPSG:4326\n"
     ]
    }
   ],
   "source": [
    "gdf = gpd.read_file(\"data/nyc_zipcodes.shp\")\n",
    "\n",
    "# Check the current CRS (it might be None if not set)\n",
    "print(\"Current CRS:\", gdf.crs)\n",
    "\n",
    "# Set the CRS to a known value (replace 'EPSG:4326' with your current CRS if known)\n",
    "gdf.crs = \"EPSG:4326\"  # Replace with the actual CRS if known\n",
    "\n",
    "# Check the updated CRS\n",
    "print(\"Updated CRS:\", gdf.crs)\n",
    "\n",
    "# Now, you can transform the geometries to the desired CRS\n",
    "gdf = gdf.to_crs(\"EPSG:4326\")\n",
    "\n",
    "# Check the final CRS\n",
    "print(\"Final CRS:\", gdf.crs)"
   ]
  },
  {
   "cell_type": "code",
   "execution_count": null,
   "id": "85cd69a4",
   "metadata": {},
   "outputs": [],
   "source": []
  },
  {
   "cell_type": "markdown",
   "id": "830ada9e",
   "metadata": {},
   "source": [
    "\n",
    "\n",
    "## Data Cleaning & Data Filtering"
   ]
  },
  {
   "cell_type": "code",
   "execution_count": null,
   "id": "88019f81955e9636",
   "metadata": {
    "ExecuteTime": {
     "end_time": "2023-11-29T03:22:34.307891500Z",
     "start_time": "2023-11-29T03:22:34.286464900Z"
    }
   },
   "outputs": [],
   "source": [
    "tree_df.head()"
   ]
  },
  {
   "cell_type": "markdown",
   "id": "16dea2f1da9eaed5",
   "metadata": {},
   "source": [
    "# Storing Data"
   ]
  },
  {
   "cell_type": "code",
   "execution_count": null,
   "id": "6dbefcc832d105dc",
   "metadata": {
    "ExecuteTime": {
     "end_time": "2023-11-29T01:55:53.627984200Z",
     "start_time": "2023-11-29T01:55:53.586770400Z"
    }
   },
   "outputs": [],
   "source": [
    "!createdb FINAL_PROJECT\n",
    "!psql --dbname FINAL_PROJECT -c 'CREATE EXTENSION postgis;'"
   ]
  },
  {
   "cell_type": "code",
   "execution_count": null,
   "id": "6529d8e5",
   "metadata": {},
   "outputs": [],
   "source": [
    "pip install psycopg2-binary"
   ]
  },
  {
   "cell_type": "code",
   "execution_count": null,
   "id": "63488583",
   "metadata": {
    "ExecuteTime": {
     "end_time": "2023-11-29T03:08:38.188433400Z",
     "start_time": "2023-11-29T03:08:38.174506500Z"
    }
   },
   "outputs": [],
   "source": [
    "import psycopg2"
   ]
  },
  {
   "cell_type": "code",
   "execution_count": null,
   "id": "796567f058261f19",
   "metadata": {
    "ExecuteTime": {
     "end_time": "2023-11-29T03:08:38.424507500Z",
     "start_time": "2023-11-29T03:08:38.354942700Z"
    }
   },
   "outputs": [],
   "source": [
    "conn = psycopg2.connect(\"dbname=FINAL_PROJECT user=postgres password=123456\")\n",
    "cur = conn.cursor()"
   ]
  },
  {
   "cell_type": "code",
   "execution_count": null,
   "id": "5bcb6eca",
   "metadata": {
    "ExecuteTime": {
     "end_time": "2023-11-29T03:08:38.547727600Z",
     "start_time": "2023-11-29T03:08:38.515450300Z"
    }
   },
   "outputs": [],
   "source": [
    "with open('schema.sql', 'w') as f:\n",
    "    command = \"\"\"\n",
    "        CREATE TABLE zip_codes (\n",
    "            zip_code Integer PRIMARY KEY,\n",
    "            neighborhood TEXT,\n",
    "            borough TEXT,\n",
    "            geometry GEOMETRY(Point, 4326)\n",
    "        );\n",
    "\n",
    "        CREATE TABLE complaints (\n",
    "            complaint_id Integer PRIMARY KEY,\n",
    "            created_date TIMESTAMP,\n",
    "            complaint_type TEXT,\n",
    "            descriptor TEXT,\n",
    "            zip_code Integer REFERENCES zip_codes(zip_code),\n",
    "            latitude FLOAT,\n",
    "            longitude FLOAT,\n",
    "            geometry GEOMETRY(Point, 4326)\n",
    "        );\n",
    "\n",
    "        CREATE TABLE trees (\n",
    "            tree_id Integer PRIMARY KEY,\n",
    "            species TEXT,\n",
    "            diameter_inches FLOAT,\n",
    "            health TEXT,\n",
    "            zip_code Integer REFERENCES zip_codes(zip_code),\n",
    "            latitude FLOAT,\n",
    "            longitude FLOAT,\n",
    "            geometry GEOMETRY(Point, 4326)\n",
    "        );\n",
    "\n",
    "        CREATE TABLE average_rents (\n",
    "            zip_code Integer PRIMARY KEY,\n",
    "            year INT,\n",
    "            avg_rent DECIMAL\n",
    "        );\n",
    "    \"\"\"\n",
    "    f.write(command)"
   ]
  },
  {
   "cell_type": "code",
   "execution_count": null,
   "id": "595eaa9f",
   "metadata": {
    "ExecuteTime": {
     "end_time": "2023-11-29T03:08:39.276523Z",
     "start_time": "2023-11-29T03:08:39.235973700Z"
    }
   },
   "outputs": [],
   "source": [
    "cur.execute(command)\n",
    "conn.commit()"
   ]
  },
  {
   "cell_type": "markdown",
   "id": "b42c6bc5c024a8c2",
   "metadata": {},
   "source": [
    "# Understanding Data"
   ]
  },
  {
   "cell_type": "code",
   "execution_count": null,
   "id": "c4a02c5e133f921d",
   "metadata": {},
   "outputs": [],
   "source": []
  },
  {
   "cell_type": "markdown",
   "id": "18ffd1bb99075ea9",
   "metadata": {},
   "source": [
    "# Visualizing Data"
   ]
  },
  {
   "cell_type": "code",
   "execution_count": null,
   "id": "83af7d548eed2ae8",
   "metadata": {
    "ExecuteTime": {
     "start_time": "2023-11-24T11:43:13.539677300Z"
    }
   },
   "outputs": [],
   "source": []
  }
 ],
 "metadata": {
  "kernelspec": {
   "display_name": "Python 3 (ipykernel)",
   "language": "python",
   "name": "python3"
  },
  "language_info": {
   "codemirror_mode": {
    "name": "ipython",
    "version": 3
   },
   "file_extension": ".py",
   "mimetype": "text/x-python",
   "name": "python",
   "nbconvert_exporter": "python",
   "pygments_lexer": "ipython3",
   "version": "3.9.13"
  }
 },
 "nbformat": 4,
 "nbformat_minor": 5
}

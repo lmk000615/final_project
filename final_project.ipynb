{
 "cells": [
  {
   "cell_type": "code",
   "execution_count": 1,
   "id": "7fa2124787128ed2",
   "metadata": {
    "ExecuteTime": {
     "end_time": "2023-11-29T16:56:52.918762600Z",
     "start_time": "2023-11-29T16:56:52.401021600Z"
    }
   },
   "outputs": [],
   "source": [
    "import pandas as pd\n",
    "import requests"
   ]
  },
  {
   "cell_type": "code",
   "execution_count": 2,
   "id": "1624f0365a54c523",
   "metadata": {
    "ExecuteTime": {
     "end_time": "2023-11-29T16:57:00.505740700Z",
     "start_time": "2023-11-29T16:57:00.497808700Z"
    }
   },
   "outputs": [],
   "source": [
    "app_token = \"Rl5BUiRawpr4H2LA9OQeKB47L\""
   ]
  },
  {
   "cell_type": "markdown",
   "id": "3f6c2feb6b97c6ff",
   "metadata": {},
   "source": [
    "# Data Preprocessing"
   ]
  },
  {
   "cell_type": "code",
   "execution_count": 3,
   "id": "ec03733eb377e5f1",
   "metadata": {
    "ExecuteTime": {
     "end_time": "2023-11-29T16:57:07.586130300Z",
     "start_time": "2023-11-29T16:57:07.525054100Z"
    }
   },
   "outputs": [],
   "source": [
    "zillow_df = pd.read_csv(\"data/zillow_rent_data.csv\")"
   ]
  },
  {
   "cell_type": "code",
   "execution_count": 10,
   "id": "5fa0d83ff0ab42b8",
   "metadata": {
    "ExecuteTime": {
     "end_time": "2023-11-29T09:38:24.970933700Z",
     "start_time": "2023-11-29T09:38:18.653621900Z"
    }
   },
   "outputs": [],
   "source": [
    "complaints_data = requests.get(url=\"https://data.cityofnewyork.us/resource/erm2-nwe9.json\",\n",
    "                               params={\"$$app_token\": app_token, \"$where\": \"created_date between '2018-10-01T00:00:00' and '2018-10-10T23:59:59.9999'\", \"$limit\": 99999999}).json()\n",
    "complaints_df = pd.DataFrame(complaints_data)"
   ]
  },
  {
   "cell_type": "code",
   "execution_count": 24,
   "outputs": [
    {
     "name": "stdout",
     "output_type": "stream",
     "text": [
      "initial: 2018-10-01 00:00:00\n"
     ]
    }
   ],
   "source": [
    "from datetime import datetime, timedelta\n",
    "\n",
    "def generate_month_ranges(start_date, end_date):\n",
    "    current = start_date\n",
    "    print(\"initial: {}\".format(current))\n",
    "    temp = 0\n",
    "    while current < end_date:\n",
    "        temp += 1\n",
    "        month_end = current.replace(day=1) + timedelta(days=32)\n",
    "        month_end = month_end.replace(day=1) - timedelta(days=1) # 9 30\n",
    "        yield (current, month_end)\n",
    "        current = month_end + timedelta(days=1)\n",
    "        if temp == 100:\n",
    "            break\n",
    "\n",
    "# 设置起始和结束日期\n",
    "start_date = datetime(2018, 10, 1)\n",
    "end_date = datetime(2023, 9, 30)\n",
    "\n",
    "# 生成月份范围\n",
    "month_ranges = list(generate_month_ranges(start_date, end_date))"
   ],
   "metadata": {
    "collapsed": false,
    "ExecuteTime": {
     "end_time": "2023-11-29T17:12:02.906961900Z",
     "start_time": "2023-11-29T17:12:02.897088700Z"
    }
   },
   "id": "3295db8a6395ef7d"
  },
  {
   "cell_type": "code",
   "execution_count": 25,
   "outputs": [
    {
     "name": "stdout",
     "output_type": "stream",
     "text": [
      "Downloading data for the period: 2018-10-01 to 2018-10-31\n",
      "Downloading data for the period: 2018-11-01 to 2018-11-30\n",
      "Downloading data for the period: 2018-12-01 to 2018-12-31\n",
      "Downloading data for the period: 2019-01-01 to 2019-01-31\n",
      "Downloading data for the period: 2019-02-01 to 2019-02-28\n",
      "Downloading data for the period: 2019-03-01 to 2019-03-31\n",
      "Downloading data for the period: 2019-04-01 to 2019-04-30\n",
      "Downloading data for the period: 2019-05-01 to 2019-05-31\n",
      "Downloading data for the period: 2019-06-01 to 2019-06-30\n",
      "Downloading data for the period: 2019-07-01 to 2019-07-31\n",
      "Downloading data for the period: 2019-08-01 to 2019-08-31\n",
      "Downloading data for the period: 2019-09-01 to 2019-09-30\n",
      "Downloading data for the period: 2019-10-01 to 2019-10-31\n",
      "Downloading data for the period: 2019-11-01 to 2019-11-30\n",
      "Downloading data for the period: 2019-12-01 to 2019-12-31\n",
      "Downloading data for the period: 2020-01-01 to 2020-01-31\n",
      "Downloading data for the period: 2020-02-01 to 2020-02-29\n",
      "Downloading data for the period: 2020-03-01 to 2020-03-31\n",
      "Downloading data for the period: 2020-04-01 to 2020-04-30\n",
      "Downloading data for the period: 2020-05-01 to 2020-05-31\n",
      "Downloading data for the period: 2020-06-01 to 2020-06-30\n",
      "Downloading data for the period: 2020-07-01 to 2020-07-31\n",
      "Downloading data for the period: 2020-08-01 to 2020-08-31\n",
      "Downloading data for the period: 2020-09-01 to 2020-09-30\n",
      "Downloading data for the period: 2020-10-01 to 2020-10-31\n",
      "Downloading data for the period: 2020-11-01 to 2020-11-30\n",
      "Downloading data for the period: 2020-12-01 to 2020-12-31\n",
      "Downloading data for the period: 2021-01-01 to 2021-01-31\n",
      "Downloading data for the period: 2021-02-01 to 2021-02-28\n",
      "Downloading data for the period: 2021-03-01 to 2021-03-31\n",
      "Downloading data for the period: 2021-04-01 to 2021-04-30\n",
      "Downloading data for the period: 2021-05-01 to 2021-05-31\n",
      "Downloading data for the period: 2021-06-01 to 2021-06-30\n",
      "Downloading data for the period: 2021-07-01 to 2021-07-31\n",
      "Downloading data for the period: 2021-08-01 to 2021-08-31\n",
      "Downloading data for the period: 2021-09-01 to 2021-09-30\n",
      "Downloading data for the period: 2021-10-01 to 2021-10-31\n",
      "Downloading data for the period: 2021-11-01 to 2021-11-30\n",
      "Downloading data for the period: 2021-12-01 to 2021-12-31\n",
      "Downloading data for the period: 2022-01-01 to 2022-01-31\n",
      "Downloading data for the period: 2022-02-01 to 2022-02-28\n",
      "Downloading data for the period: 2022-03-01 to 2022-03-31\n",
      "Downloading data for the period: 2022-04-01 to 2022-04-30\n",
      "Downloading data for the period: 2022-05-01 to 2022-05-31\n",
      "Downloading data for the period: 2022-06-01 to 2022-06-30\n",
      "Downloading data for the period: 2022-07-01 to 2022-07-31\n",
      "Downloading data for the period: 2022-08-01 to 2022-08-31\n",
      "Downloading data for the period: 2022-09-01 to 2022-09-30\n",
      "Downloading data for the period: 2022-10-01 to 2022-10-31\n",
      "Downloading data for the period: 2022-11-01 to 2022-11-30\n",
      "Downloading data for the period: 2022-12-01 to 2022-12-31\n",
      "Downloading data for the period: 2023-01-01 to 2023-01-31\n",
      "Downloading data for the period: 2023-02-01 to 2023-02-28\n",
      "Downloading data for the period: 2023-03-01 to 2023-03-31\n",
      "Downloading data for the period: 2023-04-01 to 2023-04-30\n",
      "Downloading data for the period: 2023-05-01 to 2023-05-31\n",
      "Downloading data for the period: 2023-06-01 to 2023-06-30\n",
      "Downloading data for the period: 2023-07-01 to 2023-07-31\n",
      "Downloading data for the period: 2023-08-01 to 2023-08-31\n",
      "Downloading data for the period: 2023-09-01 to 2023-09-30\n",
      "Data download complete.\n"
     ]
    }
   ],
   "source": [
    "import os\n",
    "\n",
    "for start, end in month_ranges:\n",
    "    year = start.year\n",
    "    csv_file = f\"data/complaints_data_{year}.csv\"\n",
    "    print(f\"Downloading data for the period: {start.strftime('%Y-%m-%d')} to {end.strftime('%Y-%m-%d')}\")\n",
    "\n",
    "    query = f\"created_date between '{start.strftime('%Y-%m-%dT%H:%M:%S')}' and '{end.strftime('%Y-%m-%dT%H:%M:%S')}'\"\n",
    "    response = requests.get(\n",
    "        url=\"https://data.cityofnewyork.us/resource/erm2-nwe9.json\",\n",
    "        params={\"$$app_token\": app_token, \"$where\": query, \"$limit\": 999999,\n",
    "                \"$select\": \"unique_key, created_date, closed_date, agency,  complaint_type, descriptor, location_type, incident_zip, latitude, longitude, borough\"\n",
    "                }\n",
    "    )\n",
    "    data = response.json()\n",
    "    batch_df = pd.DataFrame(data)\n",
    "\n",
    "    # 根据年份写入或追加到对应的CSV文件\n",
    "    mode = 'a' if os.path.exists(csv_file) else 'w'\n",
    "    batch_df.to_csv(csv_file, mode=mode, index=False, header=not os.path.exists(csv_file))\n",
    "\n",
    "print(\"Data download complete.\")"
   ],
   "metadata": {
    "collapsed": false,
    "ExecuteTime": {
     "end_time": "2023-11-29T17:24:11.674616400Z",
     "start_time": "2023-11-29T17:12:24.126641100Z"
    }
   },
   "id": "83354ebeb00066c5"
  },
  {
   "cell_type": "code",
   "execution_count": 26,
   "outputs": [
    {
     "name": "stderr",
     "output_type": "stream",
     "text": [
      "C:\\Users\\dota\\AppData\\Local\\Temp\\ipykernel_11908\\3808333257.py:1: DtypeWarning: Columns (7,10) have mixed types. Specify dtype option on import or set low_memory=False.\n",
      "  complaints_2021_df = pd.read_csv(\"data/complaints_data_2021.csv\")\n"
     ]
    }
   ],
   "source": [
    "complaints_2021_df = pd.read_csv(\"data/complaints_data_2021.csv\")"
   ],
   "metadata": {
    "collapsed": false,
    "ExecuteTime": {
     "end_time": "2023-11-29T17:27:40.381644800Z",
     "start_time": "2023-11-29T17:27:35.357502100Z"
    }
   },
   "id": "372e01d9fb9e1761"
  },
  {
   "cell_type": "code",
   "execution_count": 27,
   "id": "c897ac444f8148ea",
   "metadata": {
    "ExecuteTime": {
     "end_time": "2023-11-29T17:27:52.199922Z",
     "start_time": "2023-11-29T17:27:52.193559700Z"
    }
   },
   "outputs": [
    {
     "data": {
      "text/plain": "(3115045, 11)"
     },
     "execution_count": 27,
     "metadata": {},
     "output_type": "execute_result"
    }
   ],
   "source": [
    "complaints_2021_df.shape"
   ]
  },
  {
   "cell_type": "code",
   "execution_count": 13,
   "outputs": [
    {
     "data": {
      "text/plain": "Index(['unique_key', 'created_date', 'closed_date', 'agency', 'agency_name',\n       'complaint_type', 'descriptor', 'location_type', 'incident_zip',\n       'incident_address', 'street_name', 'address_type', 'city',\n       'facility_type', 'status', 'due_date', 'resolution_description',\n       'resolution_action_updated_date', 'community_board', 'borough',\n       'x_coordinate_state_plane', 'y_coordinate_state_plane',\n       'open_data_channel_type', 'park_facility_name', 'park_borough',\n       'latitude', 'longitude', 'location', 'cross_street_1', 'cross_street_2',\n       'bbl', 'intersection_street_1', 'intersection_street_2',\n       'taxi_pick_up_location', 'taxi_company_borough', 'bridge_highway_name',\n       'bridge_highway_direction', 'road_ramp', 'bridge_highway_segment',\n       'landmark', 'vehicle_type'],\n      dtype='object')"
     },
     "execution_count": 13,
     "metadata": {},
     "output_type": "execute_result"
    }
   ],
   "source": [
    "complaints_df.columns"
   ],
   "metadata": {
    "collapsed": false,
    "ExecuteTime": {
     "end_time": "2023-11-29T15:34:56.109164300Z",
     "start_time": "2023-11-29T15:34:56.100418600Z"
    }
   },
   "id": "2ecc6491b4f9ddd7"
  },
  {
   "cell_type": "code",
   "execution_count": 16,
   "id": "335f0b9f4294314d",
   "metadata": {
    "ExecuteTime": {
     "end_time": "2023-11-29T09:16:26.100239300Z",
     "start_time": "2023-11-29T09:16:26.085954600Z"
    }
   },
   "outputs": [
    {
     "data": {
      "text/plain": "  unique_key             created_date              closed_date agency  \\\n0   40517253  2018-10-11T00:00:00.000  2018-10-17T00:00:00.000  DOHMH   \n1   40524495  2018-10-11T00:00:00.000  2018-10-12T00:00:00.000  DOHMH   \n2   40524470  2018-10-11T00:00:00.000  2018-10-18T00:00:00.000  DOHMH   \n3   40524469  2018-10-11T00:00:00.000  2018-10-19T15:57:58.000  DOHMH   \n4   40524454  2018-10-11T00:00:00.000  2018-10-15T00:00:00.000  DOHMH   \n\n                               agency_name                  complaint_type  \\\n0  Department of Health and Mental Hygiene                          Rodent   \n1  Department of Health and Mental Hygiene  Unsanitary Animal Pvt Property   \n2  Department of Health and Mental Hygiene                          Rodent   \n3  Department of Health and Mental Hygiene                          Rodent   \n4  Department of Health and Mental Hygiene                          Rodent   \n\n                     descriptor                 location_type incident_zip  \\\n0                  Rat Sighting         Other (Explain Below)        10451   \n1                           Cat           1-2 Family Dwelling        11367   \n2  Condition Attracting Rodents           1-2 Family Dwelling        11362   \n3  Condition Attracting Rodents  3+ Family Mixed Use Building        10003   \n4                  Rat Sighting         Other (Explain Below)        11206   \n\n       incident_address  ... intersection_street_1 intersection_street_2  \\\n0   223 EAST 144 STREET  ...                   NaN                   NaN   \n1      144-46 69 AVENUE  ...                   NaN                   NaN   \n2  52-20 CONCORD STREET  ...                   NaN                   NaN   \n3     67 ST MARKS PLACE  ...                   NaN                   NaN   \n4           ARION PLACE  ...                   NaN                   NaN   \n\n  taxi_pick_up_location taxi_company_borough bridge_highway_name  \\\n0                   NaN                  NaN                 NaN   \n1                   NaN                  NaN                 NaN   \n2                   NaN                  NaN                 NaN   \n3                   NaN                  NaN                 NaN   \n4                   NaN                  NaN                 NaN   \n\n  bridge_highway_direction road_ramp bridge_highway_segment landmark  \\\n0                      NaN       NaN                    NaN      NaN   \n1                      NaN       NaN                    NaN      NaN   \n2                      NaN       NaN                    NaN      NaN   \n3                      NaN       NaN                    NaN      NaN   \n4                      NaN       NaN                    NaN      NaN   \n\n  vehicle_type  \n0          NaN  \n1          NaN  \n2          NaN  \n3          NaN  \n4          NaN  \n\n[5 rows x 41 columns]",
      "text/html": "<div>\n<style scoped>\n    .dataframe tbody tr th:only-of-type {\n        vertical-align: middle;\n    }\n\n    .dataframe tbody tr th {\n        vertical-align: top;\n    }\n\n    .dataframe thead th {\n        text-align: right;\n    }\n</style>\n<table border=\"1\" class=\"dataframe\">\n  <thead>\n    <tr style=\"text-align: right;\">\n      <th></th>\n      <th>unique_key</th>\n      <th>created_date</th>\n      <th>closed_date</th>\n      <th>agency</th>\n      <th>agency_name</th>\n      <th>complaint_type</th>\n      <th>descriptor</th>\n      <th>location_type</th>\n      <th>incident_zip</th>\n      <th>incident_address</th>\n      <th>...</th>\n      <th>intersection_street_1</th>\n      <th>intersection_street_2</th>\n      <th>taxi_pick_up_location</th>\n      <th>taxi_company_borough</th>\n      <th>bridge_highway_name</th>\n      <th>bridge_highway_direction</th>\n      <th>road_ramp</th>\n      <th>bridge_highway_segment</th>\n      <th>landmark</th>\n      <th>vehicle_type</th>\n    </tr>\n  </thead>\n  <tbody>\n    <tr>\n      <th>0</th>\n      <td>40517253</td>\n      <td>2018-10-11T00:00:00.000</td>\n      <td>2018-10-17T00:00:00.000</td>\n      <td>DOHMH</td>\n      <td>Department of Health and Mental Hygiene</td>\n      <td>Rodent</td>\n      <td>Rat Sighting</td>\n      <td>Other (Explain Below)</td>\n      <td>10451</td>\n      <td>223 EAST 144 STREET</td>\n      <td>...</td>\n      <td>NaN</td>\n      <td>NaN</td>\n      <td>NaN</td>\n      <td>NaN</td>\n      <td>NaN</td>\n      <td>NaN</td>\n      <td>NaN</td>\n      <td>NaN</td>\n      <td>NaN</td>\n      <td>NaN</td>\n    </tr>\n    <tr>\n      <th>1</th>\n      <td>40524495</td>\n      <td>2018-10-11T00:00:00.000</td>\n      <td>2018-10-12T00:00:00.000</td>\n      <td>DOHMH</td>\n      <td>Department of Health and Mental Hygiene</td>\n      <td>Unsanitary Animal Pvt Property</td>\n      <td>Cat</td>\n      <td>1-2 Family Dwelling</td>\n      <td>11367</td>\n      <td>144-46 69 AVENUE</td>\n      <td>...</td>\n      <td>NaN</td>\n      <td>NaN</td>\n      <td>NaN</td>\n      <td>NaN</td>\n      <td>NaN</td>\n      <td>NaN</td>\n      <td>NaN</td>\n      <td>NaN</td>\n      <td>NaN</td>\n      <td>NaN</td>\n    </tr>\n    <tr>\n      <th>2</th>\n      <td>40524470</td>\n      <td>2018-10-11T00:00:00.000</td>\n      <td>2018-10-18T00:00:00.000</td>\n      <td>DOHMH</td>\n      <td>Department of Health and Mental Hygiene</td>\n      <td>Rodent</td>\n      <td>Condition Attracting Rodents</td>\n      <td>1-2 Family Dwelling</td>\n      <td>11362</td>\n      <td>52-20 CONCORD STREET</td>\n      <td>...</td>\n      <td>NaN</td>\n      <td>NaN</td>\n      <td>NaN</td>\n      <td>NaN</td>\n      <td>NaN</td>\n      <td>NaN</td>\n      <td>NaN</td>\n      <td>NaN</td>\n      <td>NaN</td>\n      <td>NaN</td>\n    </tr>\n    <tr>\n      <th>3</th>\n      <td>40524469</td>\n      <td>2018-10-11T00:00:00.000</td>\n      <td>2018-10-19T15:57:58.000</td>\n      <td>DOHMH</td>\n      <td>Department of Health and Mental Hygiene</td>\n      <td>Rodent</td>\n      <td>Condition Attracting Rodents</td>\n      <td>3+ Family Mixed Use Building</td>\n      <td>10003</td>\n      <td>67 ST MARKS PLACE</td>\n      <td>...</td>\n      <td>NaN</td>\n      <td>NaN</td>\n      <td>NaN</td>\n      <td>NaN</td>\n      <td>NaN</td>\n      <td>NaN</td>\n      <td>NaN</td>\n      <td>NaN</td>\n      <td>NaN</td>\n      <td>NaN</td>\n    </tr>\n    <tr>\n      <th>4</th>\n      <td>40524454</td>\n      <td>2018-10-11T00:00:00.000</td>\n      <td>2018-10-15T00:00:00.000</td>\n      <td>DOHMH</td>\n      <td>Department of Health and Mental Hygiene</td>\n      <td>Rodent</td>\n      <td>Rat Sighting</td>\n      <td>Other (Explain Below)</td>\n      <td>11206</td>\n      <td>ARION PLACE</td>\n      <td>...</td>\n      <td>NaN</td>\n      <td>NaN</td>\n      <td>NaN</td>\n      <td>NaN</td>\n      <td>NaN</td>\n      <td>NaN</td>\n      <td>NaN</td>\n      <td>NaN</td>\n      <td>NaN</td>\n      <td>NaN</td>\n    </tr>\n  </tbody>\n</table>\n<p>5 rows × 41 columns</p>\n</div>"
     },
     "execution_count": 16,
     "metadata": {},
     "output_type": "execute_result"
    }
   ],
   "source": [
    "complaints_df.head()"
   ]
  },
  {
   "cell_type": "markdown",
   "id": "6642b7c86e51ace0",
   "metadata": {},
   "source": []
  },
  {
   "cell_type": "code",
   "execution_count": 13,
   "id": "96d3be5437f18791",
   "metadata": {
    "ExecuteTime": {
     "end_time": "2023-11-24T12:28:17.404288300Z",
     "start_time": "2023-11-24T12:27:10.545855600Z"
    }
   },
   "outputs": [],
   "source": [
    "tree_data = requests.get(url=\"https://data.cityofnewyork.us/resource/5rq2-4hqu.json\",\n",
    "                         params={\"$$app_token\": app_token, \"$limit\": 99999999999999999999}).json()\n",
    "tree_df = pd.DataFrame(tree_data)"
   ]
  },
  {
   "cell_type": "code",
   "execution_count": 14,
   "id": "93fc1876d444cc23",
   "metadata": {
    "ExecuteTime": {
     "end_time": "2023-11-24T12:28:17.411914400Z",
     "start_time": "2023-11-24T12:28:17.404288300Z"
    }
   },
   "outputs": [
    {
     "data": {
      "text/plain": [
       "(683788, 42)"
      ]
     },
     "execution_count": 14,
     "metadata": {},
     "output_type": "execute_result"
    }
   ],
   "source": [
    "tree_df.shape"
   ]
  },
  {
   "cell_type": "code",
   "execution_count": 15,
   "id": "13eae695234321c0",
   "metadata": {
    "ExecuteTime": {
     "end_time": "2023-11-24T12:28:17.426731900Z",
     "start_time": "2023-11-24T12:28:17.408818300Z"
    }
   },
   "outputs": [
    {
     "data": {
      "text/html": [
       "<div>\n",
       "<style scoped>\n",
       "    .dataframe tbody tr th:only-of-type {\n",
       "        vertical-align: middle;\n",
       "    }\n",
       "\n",
       "    .dataframe tbody tr th {\n",
       "        vertical-align: top;\n",
       "    }\n",
       "\n",
       "    .dataframe thead th {\n",
       "        text-align: right;\n",
       "    }\n",
       "</style>\n",
       "<table border=\"1\" class=\"dataframe\">\n",
       "  <thead>\n",
       "    <tr style=\"text-align: right;\">\n",
       "      <th></th>\n",
       "      <th>created_at</th>\n",
       "      <th>tree_id</th>\n",
       "      <th>block_id</th>\n",
       "      <th>the_geom</th>\n",
       "      <th>tree_dbh</th>\n",
       "      <th>stump_diam</th>\n",
       "      <th>curb_loc</th>\n",
       "      <th>status</th>\n",
       "      <th>health</th>\n",
       "      <th>spc_latin</th>\n",
       "      <th>...</th>\n",
       "      <th>st_assem</th>\n",
       "      <th>st_senate</th>\n",
       "      <th>nta</th>\n",
       "      <th>nta_name</th>\n",
       "      <th>boro_ct</th>\n",
       "      <th>state</th>\n",
       "      <th>latitude</th>\n",
       "      <th>longitude</th>\n",
       "      <th>x_sp</th>\n",
       "      <th>y_sp</th>\n",
       "    </tr>\n",
       "  </thead>\n",
       "  <tbody>\n",
       "    <tr>\n",
       "      <th>0</th>\n",
       "      <td>08/27/2015</td>\n",
       "      <td>180683</td>\n",
       "      <td>348711</td>\n",
       "      <td>{'type': 'Point', 'coordinates': [-73.84421521...</td>\n",
       "      <td>3</td>\n",
       "      <td>0</td>\n",
       "      <td>OnCurb</td>\n",
       "      <td>Alive</td>\n",
       "      <td>Fair</td>\n",
       "      <td>Acer rubrum</td>\n",
       "      <td>...</td>\n",
       "      <td>28</td>\n",
       "      <td>16</td>\n",
       "      <td>QN17</td>\n",
       "      <td>Forest Hills</td>\n",
       "      <td>4073900</td>\n",
       "      <td>New York</td>\n",
       "      <td>40.72309177</td>\n",
       "      <td>-73.84421522</td>\n",
       "      <td>1027431.14821</td>\n",
       "      <td>202756.768749</td>\n",
       "    </tr>\n",
       "    <tr>\n",
       "      <th>1</th>\n",
       "      <td>09/03/2015</td>\n",
       "      <td>200540</td>\n",
       "      <td>315986</td>\n",
       "      <td>{'type': 'Point', 'coordinates': [-73.81867945...</td>\n",
       "      <td>21</td>\n",
       "      <td>0</td>\n",
       "      <td>OnCurb</td>\n",
       "      <td>Alive</td>\n",
       "      <td>Fair</td>\n",
       "      <td>Quercus palustris</td>\n",
       "      <td>...</td>\n",
       "      <td>27</td>\n",
       "      <td>11</td>\n",
       "      <td>QN49</td>\n",
       "      <td>Whitestone</td>\n",
       "      <td>4097300</td>\n",
       "      <td>New York</td>\n",
       "      <td>40.79411067</td>\n",
       "      <td>-73.81867946</td>\n",
       "      <td>1034455.70109</td>\n",
       "      <td>228644.837379</td>\n",
       "    </tr>\n",
       "    <tr>\n",
       "      <th>2</th>\n",
       "      <td>09/05/2015</td>\n",
       "      <td>204026</td>\n",
       "      <td>218365</td>\n",
       "      <td>{'type': 'Point', 'coordinates': [-73.93660770...</td>\n",
       "      <td>3</td>\n",
       "      <td>0</td>\n",
       "      <td>OnCurb</td>\n",
       "      <td>Alive</td>\n",
       "      <td>Good</td>\n",
       "      <td>Gleditsia triacanthos var. inermis</td>\n",
       "      <td>...</td>\n",
       "      <td>50</td>\n",
       "      <td>18</td>\n",
       "      <td>BK90</td>\n",
       "      <td>East Williamsburg</td>\n",
       "      <td>3044900</td>\n",
       "      <td>New York</td>\n",
       "      <td>40.71758074</td>\n",
       "      <td>-73.9366077</td>\n",
       "      <td>1001822.83131</td>\n",
       "      <td>200716.891267</td>\n",
       "    </tr>\n",
       "    <tr>\n",
       "      <th>3</th>\n",
       "      <td>09/05/2015</td>\n",
       "      <td>204337</td>\n",
       "      <td>217969</td>\n",
       "      <td>{'type': 'Point', 'coordinates': [-73.93445615...</td>\n",
       "      <td>10</td>\n",
       "      <td>0</td>\n",
       "      <td>OnCurb</td>\n",
       "      <td>Alive</td>\n",
       "      <td>Good</td>\n",
       "      <td>Gleditsia triacanthos var. inermis</td>\n",
       "      <td>...</td>\n",
       "      <td>53</td>\n",
       "      <td>18</td>\n",
       "      <td>BK90</td>\n",
       "      <td>East Williamsburg</td>\n",
       "      <td>3044900</td>\n",
       "      <td>New York</td>\n",
       "      <td>40.71353749</td>\n",
       "      <td>-73.93445616</td>\n",
       "      <td>1002420.35833</td>\n",
       "      <td>199244.253136</td>\n",
       "    </tr>\n",
       "    <tr>\n",
       "      <th>4</th>\n",
       "      <td>08/30/2015</td>\n",
       "      <td>189565</td>\n",
       "      <td>223043</td>\n",
       "      <td>{'type': 'Point', 'coordinates': [-73.97597938...</td>\n",
       "      <td>21</td>\n",
       "      <td>0</td>\n",
       "      <td>OnCurb</td>\n",
       "      <td>Alive</td>\n",
       "      <td>Good</td>\n",
       "      <td>Tilia americana</td>\n",
       "      <td>...</td>\n",
       "      <td>44</td>\n",
       "      <td>21</td>\n",
       "      <td>BK37</td>\n",
       "      <td>Park Slope-Gowanus</td>\n",
       "      <td>3016500</td>\n",
       "      <td>New York</td>\n",
       "      <td>40.66677776</td>\n",
       "      <td>-73.97597938</td>\n",
       "      <td>990913.775046</td>\n",
       "      <td>182202.425999</td>\n",
       "    </tr>\n",
       "  </tbody>\n",
       "</table>\n",
       "<p>5 rows × 42 columns</p>\n",
       "</div>"
      ],
      "text/plain": [
       "   created_at tree_id block_id  \\\n",
       "0  08/27/2015  180683   348711   \n",
       "1  09/03/2015  200540   315986   \n",
       "2  09/05/2015  204026   218365   \n",
       "3  09/05/2015  204337   217969   \n",
       "4  08/30/2015  189565   223043   \n",
       "\n",
       "                                            the_geom tree_dbh stump_diam  \\\n",
       "0  {'type': 'Point', 'coordinates': [-73.84421521...        3          0   \n",
       "1  {'type': 'Point', 'coordinates': [-73.81867945...       21          0   \n",
       "2  {'type': 'Point', 'coordinates': [-73.93660770...        3          0   \n",
       "3  {'type': 'Point', 'coordinates': [-73.93445615...       10          0   \n",
       "4  {'type': 'Point', 'coordinates': [-73.97597938...       21          0   \n",
       "\n",
       "  curb_loc status health                           spc_latin  ... st_assem  \\\n",
       "0   OnCurb  Alive   Fair                         Acer rubrum  ...       28   \n",
       "1   OnCurb  Alive   Fair                   Quercus palustris  ...       27   \n",
       "2   OnCurb  Alive   Good  Gleditsia triacanthos var. inermis  ...       50   \n",
       "3   OnCurb  Alive   Good  Gleditsia triacanthos var. inermis  ...       53   \n",
       "4   OnCurb  Alive   Good                     Tilia americana  ...       44   \n",
       "\n",
       "  st_senate   nta            nta_name  boro_ct     state     latitude  \\\n",
       "0        16  QN17        Forest Hills  4073900  New York  40.72309177   \n",
       "1        11  QN49          Whitestone  4097300  New York  40.79411067   \n",
       "2        18  BK90   East Williamsburg  3044900  New York  40.71758074   \n",
       "3        18  BK90   East Williamsburg  3044900  New York  40.71353749   \n",
       "4        21  BK37  Park Slope-Gowanus  3016500  New York  40.66677776   \n",
       "\n",
       "      longitude           x_sp           y_sp  \n",
       "0  -73.84421522  1027431.14821  202756.768749  \n",
       "1  -73.81867946  1034455.70109  228644.837379  \n",
       "2   -73.9366077  1001822.83131  200716.891267  \n",
       "3  -73.93445616  1002420.35833  199244.253136  \n",
       "4  -73.97597938  990913.775046  182202.425999  \n",
       "\n",
       "[5 rows x 42 columns]"
      ]
     },
     "execution_count": 15,
     "metadata": {},
     "output_type": "execute_result"
    }
   ],
   "source": [
    "tree_df.head()"
   ]
  },
  {
   "cell_type": "markdown",
   "id": "c8cd31821847f025",
   "metadata": {},
   "source": [
    "To save time, I will save the datasets downloaded locally."
   ]
  },
  {
   "cell_type": "code",
   "execution_count": 17,
   "id": "53c58a380cc23633",
   "metadata": {
    "ExecuteTime": {
     "end_time": "2023-11-24T12:29:59.220065900Z",
     "start_time": "2023-11-24T12:29:48.816011600Z"
    }
   },
   "outputs": [],
   "source": [
    "complaints_df.to_csv(\"data/complaints.csv\")\n",
    "tree_df.to_csv(\"data/tree.csv\")\n"
   ]
  },
  {
   "cell_type": "code",
   "execution_count": 35,
   "id": "47a7b53b38fd84a9",
   "metadata": {
    "ExecuteTime": {
     "end_time": "2023-11-29T03:22:32.036725Z",
     "start_time": "2023-11-29T03:22:27.179840800Z"
    }
   },
   "outputs": [
    {
     "name": "stderr",
     "output_type": "stream",
     "text": [
      "C:\\Users\\dota\\AppData\\Local\\Temp\\ipykernel_16268\\96994190.py:1: DtypeWarning: Columns (8,40,41) have mixed types. Specify dtype option on import or set low_memory=False.\n",
      "  complaints_df = pd.read_csv(\"data/complaints.csv\", index_col=0)\n"
     ]
    }
   ],
   "source": [
    "complaints_df = pd.read_csv(\"data/complaints.csv\", index_col=0)\n",
    "tree_df = pd.read_csv(\"data/tree.csv\", index_col=0)"
   ]
  },
  {
   "cell_type": "markdown",
   "source": [
    "## Data Cleaning & Data Filtering"
   ],
   "metadata": {
    "collapsed": false
   },
   "id": "6b696afcf38df01b"
  },
  {
   "cell_type": "code",
   "execution_count": 36,
   "outputs": [
    {
     "data": {
      "text/plain": "   RegionID  SizeRank  RegionName RegionType StateName State      City  \\\n0     91982         1       77494        zip        TX    TX      Katy   \n1     91940         3       77449        zip        TX    TX      Katy   \n2     91733         5       77084        zip        TX    TX   Houston   \n3     93144         6       79936        zip        TX    TX   El Paso   \n4     62093         7       11385        zip        NY    NY  New York   \n\n                                   Metro        CountyName   2015-01-31  ...  \\\n0   Houston-The Woodlands-Sugar Land, TX  Fort Bend County  1606.206406  ...   \n1   Houston-The Woodlands-Sugar Land, TX     Harris County  1257.814660  ...   \n2   Houston-The Woodlands-Sugar Land, TX     Harris County          NaN  ...   \n3                            El Paso, TX    El Paso County          NaN  ...   \n4  New York-Newark-Jersey City, NY-NJ-PA     Queens County          NaN  ...   \n\n    2022-12-31   2023-01-31   2023-02-28   2023-03-31   2023-04-30  \\\n0  1994.653463  2027.438438  2042.237444  2049.325559  2016.531345   \n1  1749.697900  1738.217986  1747.305840  1758.407295  1758.891075   \n2  1701.217520  1706.900064  1706.067787  1723.722320  1735.484670   \n3  1419.480272  1458.063897  1471.726681  1466.734658  1456.175660   \n4  2935.808220  2895.699421  2873.209025  2881.906361  2913.546218   \n\n    2023-05-31   2023-06-30   2023-07-31   2023-08-31   2023-09-30  \n0  2023.438976  2031.558202  2046.144009  2053.486247  2055.771355  \n1  1762.980879  1771.751591  1779.338402  1795.384582  1799.631140  \n2  1752.132904  1756.990323  1754.429516  1757.602011  1755.031490  \n3  1462.478506  1466.267391  1490.237063  1488.180414  1494.366097  \n4  2963.964134  3005.735342  3034.413822  3064.476503  3079.585783  \n\n[5 rows x 114 columns]",
      "text/html": "<div>\n<style scoped>\n    .dataframe tbody tr th:only-of-type {\n        vertical-align: middle;\n    }\n\n    .dataframe tbody tr th {\n        vertical-align: top;\n    }\n\n    .dataframe thead th {\n        text-align: right;\n    }\n</style>\n<table border=\"1\" class=\"dataframe\">\n  <thead>\n    <tr style=\"text-align: right;\">\n      <th></th>\n      <th>RegionID</th>\n      <th>SizeRank</th>\n      <th>RegionName</th>\n      <th>RegionType</th>\n      <th>StateName</th>\n      <th>State</th>\n      <th>City</th>\n      <th>Metro</th>\n      <th>CountyName</th>\n      <th>2015-01-31</th>\n      <th>...</th>\n      <th>2022-12-31</th>\n      <th>2023-01-31</th>\n      <th>2023-02-28</th>\n      <th>2023-03-31</th>\n      <th>2023-04-30</th>\n      <th>2023-05-31</th>\n      <th>2023-06-30</th>\n      <th>2023-07-31</th>\n      <th>2023-08-31</th>\n      <th>2023-09-30</th>\n    </tr>\n  </thead>\n  <tbody>\n    <tr>\n      <th>0</th>\n      <td>91982</td>\n      <td>1</td>\n      <td>77494</td>\n      <td>zip</td>\n      <td>TX</td>\n      <td>TX</td>\n      <td>Katy</td>\n      <td>Houston-The Woodlands-Sugar Land, TX</td>\n      <td>Fort Bend County</td>\n      <td>1606.206406</td>\n      <td>...</td>\n      <td>1994.653463</td>\n      <td>2027.438438</td>\n      <td>2042.237444</td>\n      <td>2049.325559</td>\n      <td>2016.531345</td>\n      <td>2023.438976</td>\n      <td>2031.558202</td>\n      <td>2046.144009</td>\n      <td>2053.486247</td>\n      <td>2055.771355</td>\n    </tr>\n    <tr>\n      <th>1</th>\n      <td>91940</td>\n      <td>3</td>\n      <td>77449</td>\n      <td>zip</td>\n      <td>TX</td>\n      <td>TX</td>\n      <td>Katy</td>\n      <td>Houston-The Woodlands-Sugar Land, TX</td>\n      <td>Harris County</td>\n      <td>1257.814660</td>\n      <td>...</td>\n      <td>1749.697900</td>\n      <td>1738.217986</td>\n      <td>1747.305840</td>\n      <td>1758.407295</td>\n      <td>1758.891075</td>\n      <td>1762.980879</td>\n      <td>1771.751591</td>\n      <td>1779.338402</td>\n      <td>1795.384582</td>\n      <td>1799.631140</td>\n    </tr>\n    <tr>\n      <th>2</th>\n      <td>91733</td>\n      <td>5</td>\n      <td>77084</td>\n      <td>zip</td>\n      <td>TX</td>\n      <td>TX</td>\n      <td>Houston</td>\n      <td>Houston-The Woodlands-Sugar Land, TX</td>\n      <td>Harris County</td>\n      <td>NaN</td>\n      <td>...</td>\n      <td>1701.217520</td>\n      <td>1706.900064</td>\n      <td>1706.067787</td>\n      <td>1723.722320</td>\n      <td>1735.484670</td>\n      <td>1752.132904</td>\n      <td>1756.990323</td>\n      <td>1754.429516</td>\n      <td>1757.602011</td>\n      <td>1755.031490</td>\n    </tr>\n    <tr>\n      <th>3</th>\n      <td>93144</td>\n      <td>6</td>\n      <td>79936</td>\n      <td>zip</td>\n      <td>TX</td>\n      <td>TX</td>\n      <td>El Paso</td>\n      <td>El Paso, TX</td>\n      <td>El Paso County</td>\n      <td>NaN</td>\n      <td>...</td>\n      <td>1419.480272</td>\n      <td>1458.063897</td>\n      <td>1471.726681</td>\n      <td>1466.734658</td>\n      <td>1456.175660</td>\n      <td>1462.478506</td>\n      <td>1466.267391</td>\n      <td>1490.237063</td>\n      <td>1488.180414</td>\n      <td>1494.366097</td>\n    </tr>\n    <tr>\n      <th>4</th>\n      <td>62093</td>\n      <td>7</td>\n      <td>11385</td>\n      <td>zip</td>\n      <td>NY</td>\n      <td>NY</td>\n      <td>New York</td>\n      <td>New York-Newark-Jersey City, NY-NJ-PA</td>\n      <td>Queens County</td>\n      <td>NaN</td>\n      <td>...</td>\n      <td>2935.808220</td>\n      <td>2895.699421</td>\n      <td>2873.209025</td>\n      <td>2881.906361</td>\n      <td>2913.546218</td>\n      <td>2963.964134</td>\n      <td>3005.735342</td>\n      <td>3034.413822</td>\n      <td>3064.476503</td>\n      <td>3079.585783</td>\n    </tr>\n  </tbody>\n</table>\n<p>5 rows × 114 columns</p>\n</div>"
     },
     "execution_count": 36,
     "metadata": {},
     "output_type": "execute_result"
    }
   ],
   "source": [
    "zillow_df.head()"
   ],
   "metadata": {
    "collapsed": false,
    "ExecuteTime": {
     "end_time": "2023-11-29T03:22:33.177072500Z",
     "start_time": "2023-11-29T03:22:33.152662200Z"
    }
   },
   "id": "200dd51e974ebb48"
  },
  {
   "cell_type": "code",
   "execution_count": 37,
   "outputs": [
    {
     "data": {
      "text/plain": "   created_at  tree_id  block_id  \\\n0  08/27/2015   180683    348711   \n1  09/03/2015   200540    315986   \n2  09/05/2015   204026    218365   \n3  09/05/2015   204337    217969   \n4  08/30/2015   189565    223043   \n\n                                            the_geom  tree_dbh  stump_diam  \\\n0  {'type': 'Point', 'coordinates': [-73.84421521...         3           0   \n1  {'type': 'Point', 'coordinates': [-73.81867945...        21           0   \n2  {'type': 'Point', 'coordinates': [-73.93660770...         3           0   \n3  {'type': 'Point', 'coordinates': [-73.93445615...        10           0   \n4  {'type': 'Point', 'coordinates': [-73.97597938...        21           0   \n\n  curb_loc status health                           spc_latin  ... st_assem  \\\n0   OnCurb  Alive   Fair                         Acer rubrum  ...       28   \n1   OnCurb  Alive   Fair                   Quercus palustris  ...       27   \n2   OnCurb  Alive   Good  Gleditsia triacanthos var. inermis  ...       50   \n3   OnCurb  Alive   Good  Gleditsia triacanthos var. inermis  ...       53   \n4   OnCurb  Alive   Good                     Tilia americana  ...       44   \n\n  st_senate   nta            nta_name  boro_ct     state   latitude  \\\n0        16  QN17        Forest Hills  4073900  New York  40.723092   \n1        11  QN49          Whitestone  4097300  New York  40.794111   \n2        18  BK90   East Williamsburg  3044900  New York  40.717581   \n3        18  BK90   East Williamsburg  3044900  New York  40.713537   \n4        21  BK37  Park Slope-Gowanus  3016500  New York  40.666778   \n\n   longitude          x_sp           y_sp  \n0 -73.844215  1.027431e+06  202756.768749  \n1 -73.818679  1.034456e+06  228644.837379  \n2 -73.936608  1.001823e+06  200716.891267  \n3 -73.934456  1.002420e+06  199244.253136  \n4 -73.975979  9.909138e+05  182202.425999  \n\n[5 rows x 42 columns]",
      "text/html": "<div>\n<style scoped>\n    .dataframe tbody tr th:only-of-type {\n        vertical-align: middle;\n    }\n\n    .dataframe tbody tr th {\n        vertical-align: top;\n    }\n\n    .dataframe thead th {\n        text-align: right;\n    }\n</style>\n<table border=\"1\" class=\"dataframe\">\n  <thead>\n    <tr style=\"text-align: right;\">\n      <th></th>\n      <th>created_at</th>\n      <th>tree_id</th>\n      <th>block_id</th>\n      <th>the_geom</th>\n      <th>tree_dbh</th>\n      <th>stump_diam</th>\n      <th>curb_loc</th>\n      <th>status</th>\n      <th>health</th>\n      <th>spc_latin</th>\n      <th>...</th>\n      <th>st_assem</th>\n      <th>st_senate</th>\n      <th>nta</th>\n      <th>nta_name</th>\n      <th>boro_ct</th>\n      <th>state</th>\n      <th>latitude</th>\n      <th>longitude</th>\n      <th>x_sp</th>\n      <th>y_sp</th>\n    </tr>\n  </thead>\n  <tbody>\n    <tr>\n      <th>0</th>\n      <td>08/27/2015</td>\n      <td>180683</td>\n      <td>348711</td>\n      <td>{'type': 'Point', 'coordinates': [-73.84421521...</td>\n      <td>3</td>\n      <td>0</td>\n      <td>OnCurb</td>\n      <td>Alive</td>\n      <td>Fair</td>\n      <td>Acer rubrum</td>\n      <td>...</td>\n      <td>28</td>\n      <td>16</td>\n      <td>QN17</td>\n      <td>Forest Hills</td>\n      <td>4073900</td>\n      <td>New York</td>\n      <td>40.723092</td>\n      <td>-73.844215</td>\n      <td>1.027431e+06</td>\n      <td>202756.768749</td>\n    </tr>\n    <tr>\n      <th>1</th>\n      <td>09/03/2015</td>\n      <td>200540</td>\n      <td>315986</td>\n      <td>{'type': 'Point', 'coordinates': [-73.81867945...</td>\n      <td>21</td>\n      <td>0</td>\n      <td>OnCurb</td>\n      <td>Alive</td>\n      <td>Fair</td>\n      <td>Quercus palustris</td>\n      <td>...</td>\n      <td>27</td>\n      <td>11</td>\n      <td>QN49</td>\n      <td>Whitestone</td>\n      <td>4097300</td>\n      <td>New York</td>\n      <td>40.794111</td>\n      <td>-73.818679</td>\n      <td>1.034456e+06</td>\n      <td>228644.837379</td>\n    </tr>\n    <tr>\n      <th>2</th>\n      <td>09/05/2015</td>\n      <td>204026</td>\n      <td>218365</td>\n      <td>{'type': 'Point', 'coordinates': [-73.93660770...</td>\n      <td>3</td>\n      <td>0</td>\n      <td>OnCurb</td>\n      <td>Alive</td>\n      <td>Good</td>\n      <td>Gleditsia triacanthos var. inermis</td>\n      <td>...</td>\n      <td>50</td>\n      <td>18</td>\n      <td>BK90</td>\n      <td>East Williamsburg</td>\n      <td>3044900</td>\n      <td>New York</td>\n      <td>40.717581</td>\n      <td>-73.936608</td>\n      <td>1.001823e+06</td>\n      <td>200716.891267</td>\n    </tr>\n    <tr>\n      <th>3</th>\n      <td>09/05/2015</td>\n      <td>204337</td>\n      <td>217969</td>\n      <td>{'type': 'Point', 'coordinates': [-73.93445615...</td>\n      <td>10</td>\n      <td>0</td>\n      <td>OnCurb</td>\n      <td>Alive</td>\n      <td>Good</td>\n      <td>Gleditsia triacanthos var. inermis</td>\n      <td>...</td>\n      <td>53</td>\n      <td>18</td>\n      <td>BK90</td>\n      <td>East Williamsburg</td>\n      <td>3044900</td>\n      <td>New York</td>\n      <td>40.713537</td>\n      <td>-73.934456</td>\n      <td>1.002420e+06</td>\n      <td>199244.253136</td>\n    </tr>\n    <tr>\n      <th>4</th>\n      <td>08/30/2015</td>\n      <td>189565</td>\n      <td>223043</td>\n      <td>{'type': 'Point', 'coordinates': [-73.97597938...</td>\n      <td>21</td>\n      <td>0</td>\n      <td>OnCurb</td>\n      <td>Alive</td>\n      <td>Good</td>\n      <td>Tilia americana</td>\n      <td>...</td>\n      <td>44</td>\n      <td>21</td>\n      <td>BK37</td>\n      <td>Park Slope-Gowanus</td>\n      <td>3016500</td>\n      <td>New York</td>\n      <td>40.666778</td>\n      <td>-73.975979</td>\n      <td>9.909138e+05</td>\n      <td>182202.425999</td>\n    </tr>\n  </tbody>\n</table>\n<p>5 rows × 42 columns</p>\n</div>"
     },
     "execution_count": 37,
     "metadata": {},
     "output_type": "execute_result"
    }
   ],
   "source": [
    "tree_df.head()"
   ],
   "metadata": {
    "collapsed": false,
    "ExecuteTime": {
     "end_time": "2023-11-29T03:22:34.307891500Z",
     "start_time": "2023-11-29T03:22:34.286464900Z"
    }
   },
   "id": "88019f81955e9636"
  },
  {
   "cell_type": "code",
   "execution_count": 38,
   "outputs": [
    {
     "data": {
      "text/plain": "   unique_key             created_date              closed_date agency  \\\n0    29831247  2015-01-31T23:59:46.000  2015-02-05T10:00:00.000    DOT   \n1    29835781  2015-01-31T23:59:25.000  2015-02-01T02:50:39.000   NYPD   \n2    29837850  2015-01-31T23:59:08.000  2015-04-02T06:33:30.000  DOHMH   \n3    29833911  2015-01-31T23:58:50.000  2015-02-01T01:28:12.000   NYPD   \n4    29837016  2015-01-31T23:58:47.000  2015-02-01T05:26:00.000   NYPD   \n\n                               agency_name       complaint_type  \\\n0             Department of Transportation     Street Condition   \n1          New York City Police Department  Noise - Residential   \n2  Department of Health and Mental Hygiene   Food Establishment   \n3          New York City Police Department  Noise - Residential   \n4          New York City Police Department  Noise - Residential   \n\n            descriptor incident_zip intersection_street_1  \\\n0              Pothole        10451       EAST 149 STREET   \n1      Loud Television        11375                   NaN   \n2  Food Worker Hygiene        10016                   NaN   \n3     Banging/Pounding        10474                   NaN   \n4     Loud Music/Party        10034                   NaN   \n\n  intersection_street_2  ...                 due_date           bbl  \\\n0           PARK AVENUE  ...                      NaN           NaN   \n1                   NaN  ...  2015-02-01T07:59:25.000  4.021860e+09   \n2                   NaN  ...  2015-04-01T23:59:08.000  1.008820e+09   \n3                   NaN  ...  2015-02-01T07:58:50.000  2.027630e+09   \n4                   NaN  ...  2015-02-01T07:58:47.000  1.022170e+09   \n\n  taxi_pick_up_location bridge_highway_name bridge_highway_direction  \\\n0                   NaN                 NaN                      NaN   \n1                   NaN                 NaN                      NaN   \n2                   NaN                 NaN                      NaN   \n3                   NaN                 NaN                      NaN   \n4                   NaN                 NaN                      NaN   \n\n  road_ramp bridge_highway_segment taxi_company_borough  vehicle_type  \\\n0       NaN                    NaN                  NaN           NaN   \n1       NaN                    NaN                  NaN           NaN   \n2       NaN                    NaN                  NaN           NaN   \n3       NaN                    NaN                  NaN           NaN   \n4       NaN                    NaN                  NaN           NaN   \n\n   landmark  \n0       NaN  \n1       NaN  \n2       NaN  \n3       NaN  \n4       NaN  \n\n[5 rows x 41 columns]",
      "text/html": "<div>\n<style scoped>\n    .dataframe tbody tr th:only-of-type {\n        vertical-align: middle;\n    }\n\n    .dataframe tbody tr th {\n        vertical-align: top;\n    }\n\n    .dataframe thead th {\n        text-align: right;\n    }\n</style>\n<table border=\"1\" class=\"dataframe\">\n  <thead>\n    <tr style=\"text-align: right;\">\n      <th></th>\n      <th>unique_key</th>\n      <th>created_date</th>\n      <th>closed_date</th>\n      <th>agency</th>\n      <th>agency_name</th>\n      <th>complaint_type</th>\n      <th>descriptor</th>\n      <th>incident_zip</th>\n      <th>intersection_street_1</th>\n      <th>intersection_street_2</th>\n      <th>...</th>\n      <th>due_date</th>\n      <th>bbl</th>\n      <th>taxi_pick_up_location</th>\n      <th>bridge_highway_name</th>\n      <th>bridge_highway_direction</th>\n      <th>road_ramp</th>\n      <th>bridge_highway_segment</th>\n      <th>taxi_company_borough</th>\n      <th>vehicle_type</th>\n      <th>landmark</th>\n    </tr>\n  </thead>\n  <tbody>\n    <tr>\n      <th>0</th>\n      <td>29831247</td>\n      <td>2015-01-31T23:59:46.000</td>\n      <td>2015-02-05T10:00:00.000</td>\n      <td>DOT</td>\n      <td>Department of Transportation</td>\n      <td>Street Condition</td>\n      <td>Pothole</td>\n      <td>10451</td>\n      <td>EAST 149 STREET</td>\n      <td>PARK AVENUE</td>\n      <td>...</td>\n      <td>NaN</td>\n      <td>NaN</td>\n      <td>NaN</td>\n      <td>NaN</td>\n      <td>NaN</td>\n      <td>NaN</td>\n      <td>NaN</td>\n      <td>NaN</td>\n      <td>NaN</td>\n      <td>NaN</td>\n    </tr>\n    <tr>\n      <th>1</th>\n      <td>29835781</td>\n      <td>2015-01-31T23:59:25.000</td>\n      <td>2015-02-01T02:50:39.000</td>\n      <td>NYPD</td>\n      <td>New York City Police Department</td>\n      <td>Noise - Residential</td>\n      <td>Loud Television</td>\n      <td>11375</td>\n      <td>NaN</td>\n      <td>NaN</td>\n      <td>...</td>\n      <td>2015-02-01T07:59:25.000</td>\n      <td>4.021860e+09</td>\n      <td>NaN</td>\n      <td>NaN</td>\n      <td>NaN</td>\n      <td>NaN</td>\n      <td>NaN</td>\n      <td>NaN</td>\n      <td>NaN</td>\n      <td>NaN</td>\n    </tr>\n    <tr>\n      <th>2</th>\n      <td>29837850</td>\n      <td>2015-01-31T23:59:08.000</td>\n      <td>2015-04-02T06:33:30.000</td>\n      <td>DOHMH</td>\n      <td>Department of Health and Mental Hygiene</td>\n      <td>Food Establishment</td>\n      <td>Food Worker Hygiene</td>\n      <td>10016</td>\n      <td>NaN</td>\n      <td>NaN</td>\n      <td>...</td>\n      <td>2015-04-01T23:59:08.000</td>\n      <td>1.008820e+09</td>\n      <td>NaN</td>\n      <td>NaN</td>\n      <td>NaN</td>\n      <td>NaN</td>\n      <td>NaN</td>\n      <td>NaN</td>\n      <td>NaN</td>\n      <td>NaN</td>\n    </tr>\n    <tr>\n      <th>3</th>\n      <td>29833911</td>\n      <td>2015-01-31T23:58:50.000</td>\n      <td>2015-02-01T01:28:12.000</td>\n      <td>NYPD</td>\n      <td>New York City Police Department</td>\n      <td>Noise - Residential</td>\n      <td>Banging/Pounding</td>\n      <td>10474</td>\n      <td>NaN</td>\n      <td>NaN</td>\n      <td>...</td>\n      <td>2015-02-01T07:58:50.000</td>\n      <td>2.027630e+09</td>\n      <td>NaN</td>\n      <td>NaN</td>\n      <td>NaN</td>\n      <td>NaN</td>\n      <td>NaN</td>\n      <td>NaN</td>\n      <td>NaN</td>\n      <td>NaN</td>\n    </tr>\n    <tr>\n      <th>4</th>\n      <td>29837016</td>\n      <td>2015-01-31T23:58:47.000</td>\n      <td>2015-02-01T05:26:00.000</td>\n      <td>NYPD</td>\n      <td>New York City Police Department</td>\n      <td>Noise - Residential</td>\n      <td>Loud Music/Party</td>\n      <td>10034</td>\n      <td>NaN</td>\n      <td>NaN</td>\n      <td>...</td>\n      <td>2015-02-01T07:58:47.000</td>\n      <td>1.022170e+09</td>\n      <td>NaN</td>\n      <td>NaN</td>\n      <td>NaN</td>\n      <td>NaN</td>\n      <td>NaN</td>\n      <td>NaN</td>\n      <td>NaN</td>\n      <td>NaN</td>\n    </tr>\n  </tbody>\n</table>\n<p>5 rows × 41 columns</p>\n</div>"
     },
     "execution_count": 38,
     "metadata": {},
     "output_type": "execute_result"
    }
   ],
   "source": [
    "complaints_df.head()"
   ],
   "metadata": {
    "collapsed": false,
    "ExecuteTime": {
     "end_time": "2023-11-29T03:22:36.022586Z",
     "start_time": "2023-11-29T03:22:35.985444700Z"
    }
   },
   "id": "40ec7288d2852dc6"
  },
  {
   "cell_type": "markdown",
   "id": "16dea2f1da9eaed5",
   "metadata": {},
   "source": [
    "# Storing Data"
   ]
  },
  {
   "cell_type": "code",
   "execution_count": 3,
   "id": "6dbefcc832d105dc",
   "metadata": {
    "ExecuteTime": {
     "end_time": "2023-11-29T01:55:53.627984200Z",
     "start_time": "2023-11-29T01:55:53.586770400Z"
    }
   },
   "outputs": [
    {
     "name": "stderr",
     "output_type": "stream",
     "text": [
      "'createdb' is not recognized as an internal or external command,\n",
      "operable program or batch file.\n",
      "'psql' is not recognized as an internal or external command,\n",
      "operable program or batch file.\n"
     ]
    }
   ],
   "source": [
    "!createdb FINAL_PROJECT\n",
    "!psql --dbname FINAL_PROJECT -c 'CREATE EXTENSION postgis;'"
   ]
  },
  {
   "cell_type": "code",
   "execution_count": 21,
   "id": "63488583",
   "metadata": {
    "ExecuteTime": {
     "end_time": "2023-11-29T03:08:38.188433400Z",
     "start_time": "2023-11-29T03:08:38.174506500Z"
    }
   },
   "outputs": [],
   "source": [
    "import psycopg2"
   ]
  },
  {
   "cell_type": "code",
   "execution_count": 22,
   "id": "796567f058261f19",
   "metadata": {
    "collapsed": false,
    "ExecuteTime": {
     "end_time": "2023-11-29T03:08:38.424507500Z",
     "start_time": "2023-11-29T03:08:38.354942700Z"
    }
   },
   "outputs": [],
   "source": [
    "conn = psycopg2.connect(\"dbname=final_project user=postgres password=123456\")\n",
    "cur = conn.cursor()"
   ]
  },
  {
   "cell_type": "code",
   "execution_count": 23,
   "id": "5bcb6eca",
   "metadata": {
    "ExecuteTime": {
     "end_time": "2023-11-29T03:08:38.547727600Z",
     "start_time": "2023-11-29T03:08:38.515450300Z"
    }
   },
   "outputs": [],
   "source": [
    "with open('schema.sql', 'w') as f:\n",
    "    command = \"\"\"\n",
    "        CREATE TABLE zip_codes (\n",
    "            zip_code Integer PRIMARY KEY,\n",
    "            neighborhood TEXT,\n",
    "            borough TEXT,\n",
    "            geometry GEOMETRY(Point, 4326)\n",
    "        );\n",
    "\n",
    "        CREATE TABLE complaints (\n",
    "            complaint_id Integer PRIMARY KEY,\n",
    "            created_date TIMESTAMP,\n",
    "            complaint_type TEXT,\n",
    "            descriptor TEXT,\n",
    "            zip_code Integer REFERENCES zip_codes(zip_code),\n",
    "            latitude FLOAT,\n",
    "            longitude FLOAT,\n",
    "            geometry GEOMETRY(Point, 4326)\n",
    "        );\n",
    "\n",
    "        CREATE TABLE trees (\n",
    "            tree_id Integer PRIMARY KEY,\n",
    "            species TEXT,\n",
    "            diameter_inches FLOAT,\n",
    "            health TEXT,\n",
    "            zip_code Integer REFERENCES zip_codes(zip_code),\n",
    "            latitude FLOAT,\n",
    "            longitude FLOAT,\n",
    "            geometry GEOMETRY(Point, 4326)\n",
    "        );\n",
    "\n",
    "        CREATE TABLE average_rents (\n",
    "            zip_code Integer PRIMARY KEY,\n",
    "            year INT,\n",
    "            avg_rent DECIMAL\n",
    "        );\n",
    "    \"\"\"\n",
    "    f.write(command)"
   ]
  },
  {
   "cell_type": "code",
   "execution_count": 24,
   "id": "595eaa9f",
   "metadata": {
    "ExecuteTime": {
     "end_time": "2023-11-29T03:08:39.276523Z",
     "start_time": "2023-11-29T03:08:39.235973700Z"
    }
   },
   "outputs": [],
   "source": [
    "cur.execute(command)\n",
    "conn.commit()"
   ]
  },
  {
   "cell_type": "markdown",
   "id": "b42c6bc5c024a8c2",
   "metadata": {},
   "source": [
    "# Understanding Data"
   ]
  },
  {
   "cell_type": "code",
   "execution_count": null,
   "id": "c4a02c5e133f921d",
   "metadata": {},
   "outputs": [],
   "source": []
  },
  {
   "cell_type": "markdown",
   "id": "18ffd1bb99075ea9",
   "metadata": {},
   "source": [
    "# Visualizing Data"
   ]
  },
  {
   "cell_type": "code",
   "execution_count": null,
   "id": "83af7d548eed2ae8",
   "metadata": {
    "ExecuteTime": {
     "start_time": "2023-11-24T11:43:13.539677300Z"
    }
   },
   "outputs": [],
   "source": []
  }
 ],
 "metadata": {
  "kernelspec": {
   "display_name": "Python 3 (ipykernel)",
   "language": "python",
   "name": "python3"
  },
  "language_info": {
   "codemirror_mode": {
    "name": "ipython",
    "version": 3
   },
   "file_extension": ".py",
   "mimetype": "text/x-python",
   "name": "python",
   "nbconvert_exporter": "python",
   "pygments_lexer": "ipython3",
   "version": "3.11.6"
  }
 },
 "nbformat": 4,
 "nbformat_minor": 5
}

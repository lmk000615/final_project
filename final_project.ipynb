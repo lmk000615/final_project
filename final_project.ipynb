{
 "cells": [
  {
   "cell_type": "code",
   "execution_count": 1,
   "id": "7fa2124787128ed2",
   "metadata": {
    "ExecuteTime": {
     "end_time": "2023-12-03T06:10:09.709890700Z",
     "start_time": "2023-12-03T06:10:09.027181400Z"
    }
   },
   "outputs": [],
   "source": [
    "import pandas as pd\n",
    "import requests\n",
    "import geopandas as gpd\n",
    "from shapely.geometry import Point"
   ]
  },
  {
   "cell_type": "code",
   "execution_count": 2,
   "id": "1624f0365a54c523",
   "metadata": {
    "ExecuteTime": {
     "end_time": "2023-12-03T04:27:22.472078600Z",
     "start_time": "2023-12-03T04:27:22.465568600Z"
    }
   },
   "outputs": [],
   "source": [
    "app_token = \"Rl5BUiRawpr4H2LA9OQeKB47L\""
   ]
  },
  {
   "cell_type": "markdown",
   "id": "3f6c2feb6b97c6ff",
   "metadata": {},
   "source": [
    "# 1 Data Preprocessing"
   ]
  },
  {
   "cell_type": "markdown",
   "id": "330c4bf21749066b",
   "metadata": {},
   "source": [
    "## 1.1 Download 311 data and 2015 tree cencus data"
   ]
  },
  {
   "cell_type": "code",
   "execution_count": 3,
   "id": "3295db8a6395ef7d",
   "metadata": {
    "ExecuteTime": {
     "end_time": "2023-11-29T17:12:02.906961900Z",
     "start_time": "2023-11-29T17:12:02.897088700Z"
    }
   },
   "outputs": [],
   "source": [
    "from datetime import datetime, timedelta\n",
    "\n",
    "def generate_month_ranges(start_date, end_date):\n",
    "    current = start_date\n",
    "    temp = 0\n",
    "    while current < end_date:\n",
    "        temp += 1\n",
    "        month_end = current.replace(day=1) + timedelta(days=32)\n",
    "        month_end = month_end.replace(day=1) - timedelta(days=1) # 9 30\n",
    "        yield (current, month_end)\n",
    "        current = month_end + timedelta(days=1)\n",
    "        if temp == 100:\n",
    "            break\n",
    "\n",
    "#Set start date and end ate\n",
    "start_date = datetime(2018, 10, 1)\n",
    "end_date = datetime(2023, 9, 30)\n",
    "\n",
    "#Generate month's range\n",
    "month_ranges = list(generate_month_ranges(start_date, end_date))"
   ]
  },
  {
   "cell_type": "code",
   "execution_count": 4,
   "id": "83354ebeb00066c5",
   "metadata": {
    "ExecuteTime": {
     "end_time": "2023-11-29T17:24:11.674616400Z",
     "start_time": "2023-11-29T17:12:24.126641100Z"
    }
   },
   "outputs": [
    {
     "name": "stdout",
     "output_type": "stream",
     "text": [
      "Downloading data for the period: 2018-10-01 to 2018-10-31\n",
      "Downloading data for the period: 2018-11-01 to 2018-11-30\n",
      "Downloading data for the period: 2018-12-01 to 2018-12-31\n",
      "Downloading data for the period: 2019-01-01 to 2019-01-31\n",
      "Downloading data for the period: 2019-02-01 to 2019-02-28\n",
      "Downloading data for the period: 2019-03-01 to 2019-03-31\n",
      "Downloading data for the period: 2019-04-01 to 2019-04-30\n",
      "Downloading data for the period: 2019-05-01 to 2019-05-31\n",
      "Downloading data for the period: 2019-06-01 to 2019-06-30\n",
      "Downloading data for the period: 2019-07-01 to 2019-07-31\n",
      "Downloading data for the period: 2019-08-01 to 2019-08-31\n",
      "Downloading data for the period: 2019-09-01 to 2019-09-30\n",
      "Downloading data for the period: 2019-10-01 to 2019-10-31\n",
      "Downloading data for the period: 2019-11-01 to 2019-11-30\n",
      "Downloading data for the period: 2019-12-01 to 2019-12-31\n",
      "Downloading data for the period: 2020-01-01 to 2020-01-31\n",
      "Downloading data for the period: 2020-02-01 to 2020-02-29\n",
      "Downloading data for the period: 2020-03-01 to 2020-03-31\n",
      "Downloading data for the period: 2020-04-01 to 2020-04-30\n",
      "Downloading data for the period: 2020-05-01 to 2020-05-31\n",
      "Downloading data for the period: 2020-06-01 to 2020-06-30\n",
      "Downloading data for the period: 2020-07-01 to 2020-07-31\n",
      "Downloading data for the period: 2020-08-01 to 2020-08-31\n",
      "Downloading data for the period: 2020-09-01 to 2020-09-30\n",
      "Downloading data for the period: 2020-10-01 to 2020-10-31\n",
      "Downloading data for the period: 2020-11-01 to 2020-11-30\n",
      "Downloading data for the period: 2020-12-01 to 2020-12-31\n",
      "Downloading data for the period: 2021-01-01 to 2021-01-31\n",
      "Downloading data for the period: 2021-02-01 to 2021-02-28\n",
      "Downloading data for the period: 2021-03-01 to 2021-03-31\n",
      "Downloading data for the period: 2021-04-01 to 2021-04-30\n",
      "Downloading data for the period: 2021-05-01 to 2021-05-31\n",
      "Downloading data for the period: 2021-06-01 to 2021-06-30\n",
      "Downloading data for the period: 2021-07-01 to 2021-07-31\n",
      "Downloading data for the period: 2021-08-01 to 2021-08-31\n",
      "Downloading data for the period: 2021-09-01 to 2021-09-30\n",
      "Downloading data for the period: 2021-10-01 to 2021-10-31\n",
      "Downloading data for the period: 2021-11-01 to 2021-11-30\n",
      "Downloading data for the period: 2021-12-01 to 2021-12-31\n",
      "Downloading data for the period: 2022-01-01 to 2022-01-31\n",
      "Downloading data for the period: 2022-02-01 to 2022-02-28\n",
      "Downloading data for the period: 2022-03-01 to 2022-03-31\n",
      "Downloading data for the period: 2022-04-01 to 2022-04-30\n",
      "Downloading data for the period: 2022-05-01 to 2022-05-31\n",
      "Downloading data for the period: 2022-06-01 to 2022-06-30\n",
      "Downloading data for the period: 2022-07-01 to 2022-07-31\n",
      "Downloading data for the period: 2022-08-01 to 2022-08-31\n",
      "Downloading data for the period: 2022-09-01 to 2022-09-30\n",
      "Downloading data for the period: 2022-10-01 to 2022-10-31\n",
      "Downloading data for the period: 2022-11-01 to 2022-11-30\n",
      "Downloading data for the period: 2022-12-01 to 2022-12-31\n",
      "Downloading data for the period: 2023-01-01 to 2023-01-31\n",
      "Downloading data for the period: 2023-02-01 to 2023-02-28\n",
      "Downloading data for the period: 2023-03-01 to 2023-03-31\n",
      "Downloading data for the period: 2023-04-01 to 2023-04-30\n",
      "Downloading data for the period: 2023-05-01 to 2023-05-31\n",
      "Downloading data for the period: 2023-06-01 to 2023-06-30\n",
      "Downloading data for the period: 2023-07-01 to 2023-07-31\n",
      "Downloading data for the period: 2023-08-01 to 2023-08-31\n",
      "Downloading data for the period: 2023-09-01 to 2023-09-30\n",
      "Data download complete.\n"
     ]
    }
   ],
   "source": [
    "import os\n",
    "\n",
    "for start, end in month_ranges:\n",
    "    year = start.year\n",
    "    csv_file = f\"data/complaints_data_{year}.csv\"\n",
    "    print(f\"Downloading data for the period: {start.strftime('%Y-%m-%d')} to {end.strftime('%Y-%m-%d')}\")\n",
    "\n",
    "    query = f\"created_date between '{start.strftime('%Y-%m-%dT%H:%M:%S')}' and '{end.strftime('%Y-%m-%dT%H:%M:%S')}'\"\n",
    "    response = requests.get(\n",
    "        url=\"https://data.cityofnewyork.us/resource/erm2-nwe9.json\",\n",
    "        params={\"$$app_token\": app_token, \"$where\": query, \"$limit\": 999999,\n",
    "                \"$select\": \"unique_key, created_date, closed_date, agency,  complaint_type, descriptor, location_type, incident_zip, latitude, longitude, borough\"\n",
    "                }\n",
    "    )\n",
    "    data = response.json()\n",
    "    batch_df = pd.DataFrame(data)\n",
    "\n",
    "    # 根据年份写入或追加到对应的CSV文件\n",
    "    mode = 'a' if os.path.exists(csv_file) else 'w'\n",
    "    batch_df.to_csv(csv_file, mode=mode, index=False, header=not os.path.exists(csv_file))\n",
    "\n",
    "print(\"Data download complete.\")"
   ]
  },
  {
   "cell_type": "code",
   "execution_count": 5,
   "id": "96d3be5437f18791",
   "metadata": {
    "ExecuteTime": {
     "end_time": "2023-11-24T12:28:17.404288300Z",
     "start_time": "2023-11-24T12:27:10.545855600Z"
    }
   },
   "outputs": [],
   "source": [
    "tree_data = requests.get(url=\"https://data.cityofnewyork.us/resource/5rq2-4hqu.json\",\n",
    "                         params={\"$$app_token\": app_token, \"$limit\": 99999999999999999999}).json()\n",
    "tree_df = pd.DataFrame(tree_data)\n",
    "tree_df.to_csv(\"data/tree.csv\")"
   ]
  },
  {
   "cell_type": "markdown",
   "id": "6b696afcf38df01b",
   "metadata": {},
   "source": [
    "## 1.2 Data Cleaning & Filtering"
   ]
  },
  {
   "cell_type": "markdown",
   "id": "df2cdda1a5658915",
   "metadata": {},
   "source": [
    "### 1.2.1 311 Data Cleaning & Filtering"
   ]
  },
  {
   "cell_type": "code",
   "execution_count": 32,
   "id": "e56f7fc9c3685163",
   "metadata": {
    "ExecuteTime": {
     "end_time": "2023-12-03T06:25:53.102756800Z",
     "start_time": "2023-12-03T06:25:53.094669300Z"
    }
   },
   "outputs": [],
   "source": [
    "def clean_311_data(datafile):\n",
    "    import pandas as pd\n",
    "    import numpy as np\n",
    "    import datetime\n",
    "    import geopandas as gpd\n",
    "    from shapely.geometry import Point\n",
    "    \n",
    "    #Add fix_zip function\n",
    "    def fix_zip(input_zip):\n",
    "        try:\n",
    "            input_zip = int(float(input_zip))\n",
    "        except:\n",
    "            try:\n",
    "                input_zip = int(input_zip.split('-')[0])\n",
    "            except:\n",
    "                return np.NaN\n",
    "        if input_zip < 10000 or input_zip > 12000:\n",
    "            return np.NaN\n",
    "        return str(input_zip)\n",
    "\n",
    "    #Read the file\n",
    "    df = pd.read_csv(datafile, low_memory=False)\n",
    "\n",
    "    #fix the zip\n",
    "    df['incident_zip'] = df['incident_zip'].apply(fix_zip)\n",
    "\n",
    "    df = df.dropna(how='any')\n",
    "\n",
    "    #get rid of unspecified boroughs\n",
    "    df = df[df['borough'] != 'Unspecified']\n",
    "\n",
    "    df['latitude'] = df['latitude'].astype('float64')\n",
    "    df['longitude'] = df['longitude'].astype('float64')\n",
    "\n",
    "    #Converts the 'closed_date','created_date' column into a datetime object\n",
    "    df['created_date'] = pd.to_datetime(df['created_date'])\n",
    "    df['closed_date'] = pd.to_datetime(df['closed_date'])\n",
    "    # Convert longitude and latitude to a 'geometry' column for geopandas\n",
    "    df['geometry'] = df.apply(lambda row: Point(row['longitude'], row['latitude']), axis=1)\n",
    "\n",
    "    # Create a GeoDataFrame and set the coordinate reference system (CRS) to WGS84 (EPSG:4326)\n",
    "    gdf = gpd.GeoDataFrame(df, geometry='geometry')\n",
    "    gdf.set_crs(epsg=4326, inplace=True)\n",
    "    gdf = gdf.reset_index(drop=True)\n",
    "    \n",
    "    return gdf"
   ]
  },
  {
   "cell_type": "markdown",
   "id": "d9a118f36cd1e40d",
   "metadata": {},
   "source": [
    "### 1.2.2 2015 Tree census Data Cleaning & Filtering"
   ]
  },
  {
   "cell_type": "code",
   "execution_count": 4,
   "id": "5d3f4ec5dfdeeffc",
   "metadata": {
    "ExecuteTime": {
     "end_time": "2023-12-03T05:47:03.136128300Z",
     "start_time": "2023-12-03T05:46:58.894190800Z"
    }
   },
   "outputs": [],
   "source": [
    "tree = pd.read_csv('data/tree.csv', usecols=['tree_id', 'the_geom',   'spc_common', 'status', 'health', 'zipcode', 'boroname', 'latitude', 'longitude'])\n",
    "tree.to_csv('data/tree_data.csv',index=False)"
   ]
  },
  {
   "cell_type": "code",
   "execution_count": 5,
   "id": "6fa2f0e9bd8bfbdb",
   "metadata": {
    "ExecuteTime": {
     "end_time": "2023-12-03T05:47:05.683508800Z",
     "start_time": "2023-12-03T05:47:05.672005Z"
    }
   },
   "outputs": [],
   "source": [
    "import pandas as pd\n",
    "import numpy as np\n",
    "import geopandas as gpd\n",
    "from shapely.geometry import Point\n",
    "\n",
    "\n",
    "def clean_tree_data(datafile):\n",
    "\n",
    "    # Add fix_zip function\n",
    "    def fix_zip(input_zip):\n",
    "        try:\n",
    "            input_zip = int(float(input_zip))\n",
    "        except:\n",
    "            try:\n",
    "                input_zip = int(input_zip.split('-')[0]) \n",
    "            except:\n",
    "                return np.NaN\n",
    "        if input_zip < 10000 or input_zip > 12000:\n",
    "            return np.NaN\n",
    "        return str(input_zip)\n",
    "\n",
    "    # Read the file\n",
    "    df = pd.read_csv(datafile)\n",
    "\n",
    "    # Fix the zip\n",
    "    df['zipcode'] = df['zipcode'].apply(fix_zip)\n",
    "\n",
    "    df = df.dropna(how='any')\n",
    "\n",
    "    # Make some columns name readable\n",
    "    df.rename(columns={'the_geom': 'geometry', 'spc_common': 'species', 'boroname': 'borough'}, inplace=True)\n",
    "\n",
    "    # Convert longitude and latitude to a 'geometry' column for geopandas\n",
    "    df['geometry'] = df.apply(lambda row: Point(row['longitude'], row['latitude']), axis=1)\n",
    "\n",
    "    # Create a GeoDataFrame and set the coordinate reference system (CRS) to WGS84 (EPSG:4326)\n",
    "    gdf = gpd.GeoDataFrame(df, geometry='geometry')\n",
    "    gdf.set_crs(epsg=4326, inplace=True)\n",
    "    gdf = gdf.reset_index(drop=True)\n",
    "\n",
    "\n",
    "    return gdf"
   ]
  },
  {
   "cell_type": "code",
   "execution_count": 6,
   "id": "d8e5b3ff515cb203",
   "metadata": {
    "ExecuteTime": {
     "end_time": "2023-12-03T05:47:20.458620100Z",
     "start_time": "2023-12-03T05:47:10.020066200Z"
    }
   },
   "outputs": [
    {
     "name": "stdout",
     "output_type": "stream",
     "text": [
      "<class 'geopandas.geodataframe.GeoDataFrame'>\n",
      "Index: 651235 entries, 0 to 683787\n",
      "Data columns (total 9 columns):\n",
      " #   Column     Non-Null Count   Dtype   \n",
      "---  ------     --------------   -----   \n",
      " 0   tree_id    651235 non-null  int64   \n",
      " 1   geometry   651235 non-null  geometry\n",
      " 2   status     651235 non-null  object  \n",
      " 3   health     651235 non-null  object  \n",
      " 4   species    651235 non-null  object  \n",
      " 5   zipcode    651235 non-null  object  \n",
      " 6   borough    651235 non-null  object  \n",
      " 7   latitude   651235 non-null  float64 \n",
      " 8   longitude  651235 non-null  float64 \n",
      "dtypes: float64(2), geometry(1), int64(1), object(5)\n",
      "memory usage: 49.7+ MB\n"
     ]
    }
   ],
   "source": [
    "tree = clean_tree_data('data/tree_data.csv')\n",
    "tree.info()"
   ]
  },
  {
   "cell_type": "markdown",
   "id": "ce46dd6154979aed",
   "metadata": {},
   "source": [
    "### 1.2.3 Zillow Data Cleaning & Filtering"
   ]
  },
  {
   "cell_type": "code",
   "execution_count": 44,
   "id": "11cff05825dba5c",
   "metadata": {
    "ExecuteTime": {
     "end_time": "2023-12-03T07:58:01.540787700Z",
     "start_time": "2023-12-03T07:58:01.532191200Z"
    }
   },
   "outputs": [],
   "source": [
    "def clean_zillow_data(datafile):\n",
    "    import pandas as pd\n",
    "\n",
    "    df = pd.read_csv(datafile, low_memory=False)\n",
    "\n",
    "    df = df[df['City'] == 'New York']\n",
    "\n",
    "    # Select the 'RegionName' and 'CountyName' columns and store them in df1\n",
    "    df1 = df[['RegionName', 'CountyName']]\n",
    "    # Select all columns from '2018-09-30' onwards and store them in df2\n",
    "    df2 = df.loc[:, '2018-09-30':]\n",
    "\n",
    "    # Concatenate df1 and df2 along the columns (axis=1)\n",
    "    df = pd.concat([df1, df2], axis=1)\n",
    "\n",
    "    # Make columns' name more readable\n",
    "    df.rename(columns={'RegionName': 'zipcode', 'CountyName': 'county'}, inplace=True)\n",
    "\n",
    "    # Convert the 'zipcode' column to a string data type\n",
    "    df['zipcode'] = df['zipcode'].astype(str)\n",
    "\n",
    "    df = df.melt(id_vars=[\"zipcode\", \"county\"], var_name=\"date\")\n",
    "    \n",
    "    df = df.reset_index(drop=True)\n",
    "\n",
    "    return df"
   ]
  },
  {
   "cell_type": "code",
   "execution_count": 45,
   "id": "c2152708328b6953",
   "metadata": {
    "ExecuteTime": {
     "end_time": "2023-12-03T07:58:07.981365900Z",
     "start_time": "2023-12-03T07:58:07.901104400Z"
    }
   },
   "outputs": [
    {
     "data": {
      "text/plain": "  zipcode         county        date        value\n0   11385  Queens County  2018-09-30  2401.525193\n1   11208   Kings County  2018-09-30          NaN\n2   11236   Kings County  2018-09-30          NaN\n3   10467   Bronx County  2018-09-30  1773.839053\n4   11373  Queens County  2018-09-30          NaN",
      "text/html": "<div>\n<style scoped>\n    .dataframe tbody tr th:only-of-type {\n        vertical-align: middle;\n    }\n\n    .dataframe tbody tr th {\n        vertical-align: top;\n    }\n\n    .dataframe thead th {\n        text-align: right;\n    }\n</style>\n<table border=\"1\" class=\"dataframe\">\n  <thead>\n    <tr style=\"text-align: right;\">\n      <th></th>\n      <th>zipcode</th>\n      <th>county</th>\n      <th>date</th>\n      <th>value</th>\n    </tr>\n  </thead>\n  <tbody>\n    <tr>\n      <th>0</th>\n      <td>11385</td>\n      <td>Queens County</td>\n      <td>2018-09-30</td>\n      <td>2401.525193</td>\n    </tr>\n    <tr>\n      <th>1</th>\n      <td>11208</td>\n      <td>Kings County</td>\n      <td>2018-09-30</td>\n      <td>NaN</td>\n    </tr>\n    <tr>\n      <th>2</th>\n      <td>11236</td>\n      <td>Kings County</td>\n      <td>2018-09-30</td>\n      <td>NaN</td>\n    </tr>\n    <tr>\n      <th>3</th>\n      <td>10467</td>\n      <td>Bronx County</td>\n      <td>2018-09-30</td>\n      <td>1773.839053</td>\n    </tr>\n    <tr>\n      <th>4</th>\n      <td>11373</td>\n      <td>Queens County</td>\n      <td>2018-09-30</td>\n      <td>NaN</td>\n    </tr>\n  </tbody>\n</table>\n</div>"
     },
     "execution_count": 45,
     "metadata": {},
     "output_type": "execute_result"
    }
   ],
   "source": [
    "zillow = clean_zillow_data('data/zillow_rent_data.csv')\n",
    "zillow.head()"
   ]
  },
  {
   "cell_type": "markdown",
   "id": "ea1ccceb0d7b6b24",
   "metadata": {},
   "source": [
    "### 1.2.4 Zipcode data Cleaning & Filtering"
   ]
  },
  {
   "cell_type": "code",
   "execution_count": 52,
   "id": "a929ad3b8b67829",
   "metadata": {
    "ExecuteTime": {
     "end_time": "2023-12-03T08:07:41.777519300Z",
     "start_time": "2023-12-03T08:07:41.770032900Z"
    }
   },
   "outputs": [],
   "source": [
    "def clean_zipcode_data(datafile):\n",
    "    import geopandas as gpd\n",
    "\n",
    "    gdf = gpd.read_file(datafile)\n",
    "    \n",
    "    gdf.crs = 'EPSG:4326'\n",
    "    \n",
    "    gdf = gdf.to_crs('EPSG:4326')\n",
    "    #Select specific columns\n",
    "    gdf = gdf[['ZIPCODE', 'POPULATION', 'geometry' ]]\n",
    "\n",
    "    gdf.rename(columns={'ZIPCODE':'zipcode', 'POPULATION':'population'}, inplace=True)\n",
    "    gdf = gdf.reset_index(drop=True)\n",
    "    \n",
    "\n",
    "    return gdf"
   ]
  },
  {
   "cell_type": "code",
   "execution_count": 53,
   "id": "4d48f7e9f76065e4",
   "metadata": {
    "ExecuteTime": {
     "end_time": "2023-12-03T08:07:45.657200300Z",
     "start_time": "2023-12-03T08:07:45.514297700Z"
    }
   },
   "outputs": [
    {
     "name": "stdout",
     "output_type": "stream",
     "text": [
      "<class 'geopandas.geodataframe.GeoDataFrame'>\n",
      "RangeIndex: 263 entries, 0 to 262\n",
      "Data columns (total 3 columns):\n",
      " #   Column      Non-Null Count  Dtype   \n",
      "---  ------      --------------  -----   \n",
      " 0   zipcode     263 non-null    object  \n",
      " 1   population  263 non-null    float64 \n",
      " 2   geometry    263 non-null    geometry\n",
      "dtypes: float64(1), geometry(1), object(1)\n",
      "memory usage: 6.3+ KB\n"
     ]
    }
   ],
   "source": [
    "zipcode = clean_zipcode_data('data/nyc_zipcodes.shp')\n",
    "zipcode.info()\n"
   ]
  },
  {
   "cell_type": "markdown",
   "id": "16dea2f1da9eaed5",
   "metadata": {},
   "source": [
    "# 2 Storing Data"
   ]
  },
  {
   "cell_type": "markdown",
   "source": [
    "## 2.1 Creating database"
   ],
   "metadata": {
    "collapsed": false
   },
   "id": "5a64512fc942f7cb"
  },
  {
   "cell_type": "code",
   "execution_count": 11,
   "id": "6dbefcc832d105dc",
   "metadata": {
    "ExecuteTime": {
     "end_time": "2023-12-03T05:47:59.269297100Z",
     "start_time": "2023-12-03T05:47:59.216624500Z"
    }
   },
   "outputs": [
    {
     "name": "stderr",
     "output_type": "stream",
     "text": [
      "'createdb' is not recognized as an internal or external command,\n",
      "operable program or batch file.\n",
      "'psql' is not recognized as an internal or external command,\n",
      "operable program or batch file.\n",
      "'psql' is not recognized as an internal or external command,\n",
      "operable program or batch file.\n"
     ]
    }
   ],
   "source": [
    "!createdb FINAL_PROJECT\n",
    "!psql --dbname FINAL_PROJECT -c 'CREATE EXTENSION postgis;'\n",
    "!psql --dbname FINAL_PROJECT -f schema.sql"
   ]
  },
  {
   "cell_type": "code",
   "execution_count": 3,
   "id": "63488583",
   "metadata": {
    "ExecuteTime": {
     "end_time": "2023-12-03T06:10:37.125321900Z",
     "start_time": "2023-12-03T06:10:37.106148300Z"
    }
   },
   "outputs": [],
   "source": [
    "import psycopg2"
   ]
  },
  {
   "cell_type": "code",
   "execution_count": 4,
   "id": "796567f058261f19",
   "metadata": {
    "ExecuteTime": {
     "end_time": "2023-12-03T06:10:39.396423200Z",
     "start_time": "2023-12-03T06:10:39.335554500Z"
    }
   },
   "outputs": [],
   "source": [
    "conn = psycopg2.connect(\"dbname=final_project user=postgres password=123456\")\n",
    "cur = conn.cursor()"
   ]
  },
  {
   "cell_type": "markdown",
   "source": [
    "## 2.2 Creating tables"
   ],
   "metadata": {
    "collapsed": false
   },
   "id": "b16cf8921a117d8f"
  },
  {
   "cell_type": "code",
   "execution_count": 62,
   "id": "e4743c70",
   "metadata": {
    "ExecuteTime": {
     "end_time": "2023-12-03T08:13:36.579366200Z",
     "start_time": "2023-12-03T08:13:36.573242400Z"
    }
   },
   "outputs": [],
   "source": [
    "create_nyc_zipcodes_table = \"\"\"\n",
    "    CREATE TABLE IF NOT EXISTS nyc_zip_codes (\n",
    "        id INTEGER PRIMARY KEY,\n",
    "        zipcode INTEGER NOT NULL,\n",
    "        population INTEGER,\n",
    "        geometry geometry(Geometry, 4326)\n",
    "    );\n",
    "\"\"\""
   ]
  },
  {
   "cell_type": "code",
   "execution_count": 7,
   "id": "2e657cdd",
   "metadata": {
    "ExecuteTime": {
     "end_time": "2023-12-03T06:10:42.710317Z",
     "start_time": "2023-12-03T06:10:42.705092400Z"
    }
   },
   "outputs": [],
   "source": [
    "create_trees_table = \"\"\"\n",
    "    CREATE TABLE IF NOT EXISTS tree_census_2015 (\n",
    "        id INTEGER PRIMARY KEY,\n",
    "        geometry geometry(Geometry, 4326),\n",
    "        status VARCHAR,\n",
    "        health VARCHAR,\n",
    "        species VARCHAR,\n",
    "        zipcode INTEGER,\n",
    "        borough VARCHAR,\n",
    "        latitude FLOAT,\n",
    "        longitude FLOAT\n",
    "    );\n",
    "\"\"\""
   ]
  },
  {
   "cell_type": "code",
   "execution_count": 46,
   "id": "03829280",
   "metadata": {
    "ExecuteTime": {
     "end_time": "2023-12-03T08:02:02.341795400Z",
     "start_time": "2023-12-03T08:02:02.337487900Z"
    }
   },
   "outputs": [],
   "source": [
    "create_zillow_table = \"\"\"\n",
    "    CREATE TABLE IF NOT EXISTS zillow_rents(\n",
    "        id INTEGER PRIMARY KEY,\n",
    "        zipcode INTEGER,\n",
    "        county VARCHAR,\n",
    "        date DATE,\n",
    "        value FLOAT\n",
    "    );\n",
    "\"\"\""
   ]
  },
  {
   "cell_type": "code",
   "execution_count": 65,
   "outputs": [],
   "source": [
    "import psycopg2\n",
    "\n",
    "conn = psycopg2.connect(\"dbname=final_project user=postgres password=123456\")\n",
    "cur = conn.cursor()"
   ],
   "metadata": {
    "collapsed": false,
    "ExecuteTime": {
     "end_time": "2023-12-03T08:14:21.578861300Z",
     "start_time": "2023-12-03T08:14:21.516124400Z"
    }
   },
   "id": "586eec250fe493e8"
  },
  {
   "cell_type": "code",
   "execution_count": 66,
   "outputs": [],
   "source": [
    "cur.execute(create_nyc_zipcodes_table)\n",
    "cur.execute(create_trees_table)\n",
    "cur.execute(create_zillow_table)\n",
    "conn.commit()"
   ],
   "metadata": {
    "collapsed": false,
    "ExecuteTime": {
     "end_time": "2023-12-03T08:14:23.442563600Z",
     "start_time": "2023-12-03T08:14:23.423656100Z"
    }
   },
   "id": "626a1db7e91690b3"
  },
  {
   "cell_type": "code",
   "execution_count": 40,
   "outputs": [],
   "source": [
    "conn = psycopg2.connect(\"dbname=final_project user=postgres password=123456\")\n",
    "cur = conn.cursor()\n",
    "\n",
    "#Creating 311 tables by years\n",
    "for year in range(2018, 2024):\n",
    "    table_name = f\"complaints311_{year}\"\n",
    "    create_table_query = f\"\"\"\n",
    "        CREATE TABLE IF NOT EXISTS {table_name} (\n",
    "            id INTEGER PRIMARY KEY,\n",
    "            created_date DATE,\n",
    "            closed_date DATE,\n",
    "            agency VARCHAR,\n",
    "            complaint_type VARCHAR,\n",
    "            descriptor VARCHAR,\n",
    "            location_type VARCHAR,\n",
    "            incident_zip INTEGER,\n",
    "            latitude FLOAT,\n",
    "            longitude FLOAT,\n",
    "            borough VARCHAR,\n",
    "            geometry geometry(Geometry, 4326)\n",
    "        );\n",
    "    \"\"\"\n",
    "    \n",
    "    cur.execute(create_table_query)\n",
    "\n",
    "\n",
    "conn.commit()"
   ],
   "metadata": {
    "collapsed": false
   },
   "id": "846730599ab91416"
  },
  {
   "cell_type": "markdown",
   "source": [
    "## 2.3 Inserting data"
   ],
   "metadata": {
    "collapsed": false
   },
   "id": "9c3276b5d3a1d935"
  },
  {
   "cell_type": "markdown",
   "source": [
    "### 2.3.1 Inserting tree data"
   ],
   "metadata": {
    "collapsed": false
   },
   "id": "b7a1d086bc637e38"
  },
  {
   "cell_type": "code",
   "execution_count": 36,
   "outputs": [
    {
     "ename": "UniqueViolation",
     "evalue": "错误:  重复键违反唯一约束\"tree_census_2015_pkey\"\nDETAIL:  键值\"(id)=(0)\" 已经存在\n",
     "output_type": "error",
     "traceback": [
      "\u001B[1;31m---------------------------------------------------------------------------\u001B[0m",
      "\u001B[1;31mUniqueViolation\u001B[0m                           Traceback (most recent call last)",
      "Cell \u001B[1;32mIn[36], line 39\u001B[0m\n\u001B[0;32m     34\u001B[0m \u001B[38;5;66;03m# Insert data into the table\u001B[39;00m\n\u001B[0;32m     35\u001B[0m insert_query \u001B[38;5;241m=\u001B[39m \u001B[38;5;124m\"\"\"\u001B[39m\n\u001B[0;32m     36\u001B[0m \u001B[38;5;124m    INSERT INTO tree_census_2015 (id, geometry, status, health, species, zipcode, borough, latitude, longitude)\u001B[39m\n\u001B[0;32m     37\u001B[0m \u001B[38;5;124m    VALUES (\u001B[39m\u001B[38;5;132;01m%s\u001B[39;00m\u001B[38;5;124m, ST_GeomFromText(\u001B[39m\u001B[38;5;132;01m%s\u001B[39;00m\u001B[38;5;124m, 4326), \u001B[39m\u001B[38;5;132;01m%s\u001B[39;00m\u001B[38;5;124m, \u001B[39m\u001B[38;5;132;01m%s\u001B[39;00m\u001B[38;5;124m, \u001B[39m\u001B[38;5;132;01m%s\u001B[39;00m\u001B[38;5;124m, \u001B[39m\u001B[38;5;132;01m%s\u001B[39;00m\u001B[38;5;124m,\u001B[39m\u001B[38;5;132;01m%s\u001B[39;00m\u001B[38;5;124m, \u001B[39m\u001B[38;5;132;01m%s\u001B[39;00m\u001B[38;5;124m, \u001B[39m\u001B[38;5;132;01m%s\u001B[39;00m\u001B[38;5;124m);\u001B[39m\n\u001B[0;32m     38\u001B[0m \u001B[38;5;124m\"\"\"\u001B[39m\n\u001B[1;32m---> 39\u001B[0m \u001B[43mcur\u001B[49m\u001B[38;5;241;43m.\u001B[39;49m\u001B[43mexecutemany\u001B[49m\u001B[43m(\u001B[49m\u001B[43minsert_query\u001B[49m\u001B[43m,\u001B[49m\u001B[43m \u001B[49m\u001B[43mdata_to_insert\u001B[49m\u001B[43m)\u001B[49m\n\u001B[0;32m     41\u001B[0m \u001B[38;5;66;03m# Commit the changes\u001B[39;00m\n\u001B[0;32m     42\u001B[0m conn\u001B[38;5;241m.\u001B[39mcommit()\n",
      "\u001B[1;31mUniqueViolation\u001B[0m: 错误:  重复键违反唯一约束\"tree_census_2015_pkey\"\nDETAIL:  键值\"(id)=(0)\" 已经存在\n"
     ]
    }
   ],
   "source": [
    "import psycopg2\n",
    "from shapely import wkt  # Import the Well-Known Text (WKT) module from Shapely\n",
    "\n",
    "# Assuming you have a function clean_tree_data that reads and processes the CSV\n",
    "gdf = clean_tree_data('data/tree_data.csv')\n",
    "\n",
    "# Connect to PostgreSQL\n",
    "conn = psycopg2.connect(\"dbname=final_project user=postgres password=123456\")\n",
    "cur = conn.cursor()\n",
    "\n",
    "# Define the table schema\n",
    "create_trees_table = \"\"\"\n",
    "    CREATE TABLE IF NOT EXISTS tree_census_2015 (\n",
    "        id INTEGER PRIMARY KEY,\n",
    "        geometry geometry(Point, 4326),\n",
    "        status VARCHAR,\n",
    "        health VARCHAR,\n",
    "        species VARCHAR,\n",
    "        zipcode INTEGER,\n",
    "        borough VARCHAR,\n",
    "        latitude FLOAT,\n",
    "        longitude FLOAT\n",
    "    );\n",
    "\"\"\"\n",
    "cur.execute(create_trees_table)\n",
    "conn.commit()\n",
    "gdf=clean_tree_data('data/tree_data.csv')\n",
    "# Prepare data for insertion\n",
    "data_to_insert = [\n",
    "    (row.Index, wkt.dumps(row.geometry), row.status, row.health, row.species, row.zipcode, row.borough, row.latitude, row.longitude)\n",
    "                  for row in gdf.itertuples()]\n",
    "\n",
    "# Insert data into the table\n",
    "insert_query = \"\"\"\n",
    "    INSERT INTO tree_census_2015 (id, geometry, status, health, species, zipcode, borough, latitude, longitude)\n",
    "    VALUES (%s, ST_GeomFromText(%s, 4326), %s, %s, %s, %s,%s, %s, %s);\n",
    "\"\"\"\n",
    "cur.executemany(insert_query, data_to_insert)\n",
    "\n",
    "# Commit the changes\n",
    "conn.commit()\n",
    "\n",
    "# Close the connection\n",
    "conn.close()"
   ],
   "metadata": {
    "collapsed": false
   },
   "id": "2c0af8c7"
  },
  {
   "cell_type": "markdown",
   "source": [
    "### 2.3.2 Inserting 311 data"
   ],
   "metadata": {
    "collapsed": false
   },
   "id": "44e6558e5d670a48"
  },
  {
   "cell_type": "code",
   "execution_count": 41,
   "outputs": [
    {
     "name": "stdout",
     "output_type": "stream",
     "text": [
      "2018\n",
      "2019\n",
      "2020\n",
      "2021\n",
      "2022\n",
      "2023\n"
     ]
    }
   ],
   "source": [
    "import psycopg2\n",
    "from shapely import wkt\n",
    "\n",
    "# Connect to the PostgreSQL database\n",
    "conn = psycopg2.connect(\"dbname=final_project user=postgres password=123456\")\n",
    "cur = conn.cursor()\n",
    "\n",
    "for year in range(2018, 2024):\n",
    "    # Clean the data\n",
    "    complaints = clean_311_data(f\"data/complaints_data_{year}.csv\")\n",
    "\n",
    "\n",
    "    print(year)\n",
    "\n",
    "    # Prepare the SQL statement for data insertion, dynamically updating the table name\n",
    "    insert_query = f\"\"\"\n",
    "        INSERT INTO complaints311_{year} (id, created_date, closed_date, agency, complaint_type, descriptor, location_type, incident_zip, latitude, longitude, borough, geometry)\n",
    "        VALUES (%s, %s, %s, %s, %s, %s, %s, %s, %s, %s, %s, ST_GeomFromText(%s, 4326));\n",
    "    \"\"\"\n",
    "\n",
    "    # Prepare the data to be inserted\n",
    "    data_to_insert = [\n",
    "        (row.Index, row.created_date, row.closed_date, row.agency, row.complaint_type, row.descriptor, row.location_type, row.incident_zip, row.latitude, row.longitude, row.borough, wkt.dumps(row.geometry))\n",
    "        for row in complaints.itertuples()]\n",
    "\n",
    "    # Execute the insertion\n",
    "    cur.executemany(insert_query, data_to_insert)\n",
    "\n",
    "    # Commit the changes\n",
    "    conn.commit()\n",
    "\n",
    "# Close the connection\n",
    "conn.close()\n"
   ],
   "metadata": {
    "collapsed": false,
    "ExecuteTime": {
     "end_time": "2023-12-03T07:31:27.545600300Z",
     "start_time": "2023-12-03T07:04:04.461413100Z"
    }
   },
   "id": "7f7f28d19fda77ef"
  },
  {
   "cell_type": "markdown",
   "source": [
    "### 2.3.3 Inserting zillow data"
   ],
   "metadata": {
    "collapsed": false
   },
   "id": "8fb252e99b0c40d1"
  },
  {
   "cell_type": "code",
   "execution_count": 51,
   "outputs": [],
   "source": [
    "# Connect to PostgreSQL\n",
    "conn = psycopg2.connect(\"dbname=final_project user=postgres password=123456\")\n",
    "cur = conn.cursor()\n",
    "\n",
    "# Prepare data for insertion\n",
    "data_to_insert = [\n",
    "    (row.Index,  row.zipcode, row.county, row.date, row.value)\n",
    "    for row in zillow.itertuples()]\n",
    "\n",
    "# Insert data into the table\n",
    "insert_query = \"\"\"\n",
    "    INSERT INTO zillow_rents (id,  zipcode, county, date, value)\n",
    "    VALUES ( %s, %s,%s, %s, %s);\n",
    "\"\"\"\n",
    "cur.executemany(insert_query, data_to_insert)\n",
    "\n",
    "# Commit the changes\n",
    "conn.commit()\n",
    "\n",
    "# Close the connection\n",
    "conn.close()"
   ],
   "metadata": {
    "collapsed": false,
    "ExecuteTime": {
     "end_time": "2023-12-03T08:04:45.838655400Z",
     "start_time": "2023-12-03T08:04:45.029153300Z"
    }
   },
   "id": "63003a71c729e7e2"
  },
  {
   "cell_type": "markdown",
   "source": [
    "### 2.3.4 Inserting zipcodes data"
   ],
   "metadata": {
    "collapsed": false
   },
   "id": "de4069d763dbe3e1"
  },
  {
   "cell_type": "code",
   "execution_count": 67,
   "outputs": [],
   "source": [
    "# Connect to PostgreSQL\n",
    "conn = psycopg2.connect(\"dbname=final_project user=postgres password=123456\")\n",
    "cur = conn.cursor()\n",
    "\n",
    "# Prepare data for insertion\n",
    "data_to_insert = [\n",
    "    (row.Index,  row.zipcode, row.population, wkt.dumps(row.geometry) )\n",
    "    for row in zipcode.itertuples()]\n",
    "\n",
    "# Insert data into the table\n",
    "insert_query = \"\"\"\n",
    "    INSERT INTO nyc_zip_codes (id,  zipcode, population, geometry)\n",
    "    VALUES ( %s, %s,%s, ST_GeomFromText(%s, 4326));\n",
    "\"\"\"\n",
    "cur.executemany(insert_query, data_to_insert)\n",
    "\n",
    "# Commit the changes\n",
    "conn.commit()\n",
    "\n",
    "# Close the conn\n",
    "conn.close()"
   ],
   "metadata": {
    "collapsed": false,
    "ExecuteTime": {
     "end_time": "2023-12-03T08:14:52.440564800Z",
     "start_time": "2023-12-03T08:14:51.792655Z"
    }
   },
   "id": "c43aae6c3ae889fd"
  },
  {
   "cell_type": "markdown",
   "id": "b42c6bc5c024a8c2",
   "metadata": {},
   "source": [
    "# Understanding Data"
   ]
  },
  {
   "cell_type": "markdown",
   "id": "18ffd1bb99075ea9",
   "metadata": {},
   "source": [
    "# Visualizing Data"
   ]
  },
  {
   "cell_type": "code",
   "execution_count": null,
   "id": "83af7d548eed2ae8",
   "metadata": {
    "ExecuteTime": {
     "start_time": "2023-12-03T03:48:51.949889700Z"
    }
   },
   "outputs": [],
   "source": []
  }
 ],
 "metadata": {
  "kernelspec": {
   "display_name": "Python 3 (ipykernel)",
   "language": "python",
   "name": "python3"
  },
  "language_info": {
   "codemirror_mode": {
    "name": "ipython",
    "version": 3
   },
   "file_extension": ".py",
   "mimetype": "text/x-python",
   "name": "python",
   "nbconvert_exporter": "python",
   "pygments_lexer": "ipython3",
   "version": "3.9.13"
  }
 },
 "nbformat": 4,
 "nbformat_minor": 5
}

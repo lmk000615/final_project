{
 "cells": [
  {
   "cell_type": "code",
   "execution_count": 1,
   "outputs": [],
   "source": [
    "import pandas as pd\n",
    "import requests"
   ],
   "metadata": {
    "collapsed": false,
    "ExecuteTime": {
     "end_time": "2023-11-24T12:31:50.698143600Z",
     "start_time": "2023-11-24T12:31:50.264334500Z"
    }
   },
   "id": "7fa2124787128ed2"
  },
  {
   "cell_type": "code",
   "execution_count": 2,
   "outputs": [],
   "source": [
    "app_token = \"Rl5BUiRawpr4H2LA9OQeKB47L\""
   ],
   "metadata": {
    "collapsed": false,
    "ExecuteTime": {
     "end_time": "2023-11-24T12:31:51.065657200Z",
     "start_time": "2023-11-24T12:31:51.062733900Z"
    }
   },
   "id": "1624f0365a54c523"
  },
  {
   "cell_type": "markdown",
   "source": [
    "# Data Preprocessing"
   ],
   "metadata": {
    "collapsed": false
   },
   "id": "3f6c2feb6b97c6ff"
  },
  {
   "cell_type": "code",
   "execution_count": 3,
   "outputs": [],
   "source": [
    "zillow_df = pd.read_csv(\"data/zillow_rent_data.csv\")"
   ],
   "metadata": {
    "collapsed": false,
    "ExecuteTime": {
     "end_time": "2023-11-24T12:31:52.758581700Z",
     "start_time": "2023-11-24T12:31:52.698655800Z"
    }
   },
   "id": "ec03733eb377e5f1"
  },
  {
   "cell_type": "code",
   "execution_count": 6,
   "outputs": [],
   "source": [
    "complaints_data = requests.get(url=\"https://data.cityofnewyork.us/resource/erm2-nwe9.json\",\n",
    "                               params={\"$$app_token\": app_token, \"$where\": \"created_date between '2015-01-01T00:00:00' and '2015-01-31T23:59:59.9999'\", \"$limit\": 999999}).json()\n",
    "complaints_df = pd.DataFrame(complaints_data)"
   ],
   "metadata": {
    "collapsed": false,
    "ExecuteTime": {
     "end_time": "2023-11-24T12:33:04.115076600Z",
     "start_time": "2023-11-24T12:32:41.320111Z"
    }
   },
   "id": "5fa0d83ff0ab42b8"
  },
  {
   "cell_type": "code",
   "execution_count": null,
   "outputs": [],
   "source": [
    "complaints_df.shape"
   ],
   "metadata": {
    "collapsed": false,
    "ExecuteTime": {
     "start_time": "2023-11-24T12:32:36.506826500Z"
    }
   },
   "id": "c897ac444f8148ea"
  },
  {
   "cell_type": "code",
   "execution_count": 6,
   "outputs": [
    {
     "data": {
      "text/plain": "  unique_key             created_date              closed_date agency  \\\n0   29831247  2015-01-31T23:59:46.000  2015-02-05T10:00:00.000    DOT   \n1   29835781  2015-01-31T23:59:25.000  2015-02-01T02:50:39.000   NYPD   \n2   29837850  2015-01-31T23:59:08.000  2015-04-02T06:33:30.000  DOHMH   \n3   29833911  2015-01-31T23:58:50.000  2015-02-01T01:28:12.000   NYPD   \n4   29837016  2015-01-31T23:58:47.000  2015-02-01T05:26:00.000   NYPD   \n\n                               agency_name       complaint_type  \\\n0             Department of Transportation     Street Condition   \n1          New York City Police Department  Noise - Residential   \n2  Department of Health and Mental Hygiene   Food Establishment   \n3          New York City Police Department  Noise - Residential   \n4          New York City Police Department  Noise - Residential   \n\n            descriptor incident_zip intersection_street_1  \\\n0              Pothole        10451       EAST 149 STREET   \n1      Loud Television        11375                   NaN   \n2  Food Worker Hygiene        10016                   NaN   \n3     Banging/Pounding        10474                   NaN   \n4     Loud Music/Party        10034                   NaN   \n\n  intersection_street_2  ...                 due_date         bbl  \\\n0           PARK AVENUE  ...                      NaN         NaN   \n1                   NaN  ...  2015-02-01T07:59:25.000  4021860038   \n2                   NaN  ...  2015-04-01T23:59:08.000  1008820047   \n3                   NaN  ...  2015-02-01T07:58:50.000  2027630252   \n4                   NaN  ...  2015-02-01T07:58:47.000  1022170035   \n\n  taxi_pick_up_location bridge_highway_name bridge_highway_direction  \\\n0                   NaN                 NaN                      NaN   \n1                   NaN                 NaN                      NaN   \n2                   NaN                 NaN                      NaN   \n3                   NaN                 NaN                      NaN   \n4                   NaN                 NaN                      NaN   \n\n  road_ramp bridge_highway_segment taxi_company_borough vehicle_type landmark  \n0       NaN                    NaN                  NaN          NaN      NaN  \n1       NaN                    NaN                  NaN          NaN      NaN  \n2       NaN                    NaN                  NaN          NaN      NaN  \n3       NaN                    NaN                  NaN          NaN      NaN  \n4       NaN                    NaN                  NaN          NaN      NaN  \n\n[5 rows x 41 columns]",
      "text/html": "<div>\n<style scoped>\n    .dataframe tbody tr th:only-of-type {\n        vertical-align: middle;\n    }\n\n    .dataframe tbody tr th {\n        vertical-align: top;\n    }\n\n    .dataframe thead th {\n        text-align: right;\n    }\n</style>\n<table border=\"1\" class=\"dataframe\">\n  <thead>\n    <tr style=\"text-align: right;\">\n      <th></th>\n      <th>unique_key</th>\n      <th>created_date</th>\n      <th>closed_date</th>\n      <th>agency</th>\n      <th>agency_name</th>\n      <th>complaint_type</th>\n      <th>descriptor</th>\n      <th>incident_zip</th>\n      <th>intersection_street_1</th>\n      <th>intersection_street_2</th>\n      <th>...</th>\n      <th>due_date</th>\n      <th>bbl</th>\n      <th>taxi_pick_up_location</th>\n      <th>bridge_highway_name</th>\n      <th>bridge_highway_direction</th>\n      <th>road_ramp</th>\n      <th>bridge_highway_segment</th>\n      <th>taxi_company_borough</th>\n      <th>vehicle_type</th>\n      <th>landmark</th>\n    </tr>\n  </thead>\n  <tbody>\n    <tr>\n      <th>0</th>\n      <td>29831247</td>\n      <td>2015-01-31T23:59:46.000</td>\n      <td>2015-02-05T10:00:00.000</td>\n      <td>DOT</td>\n      <td>Department of Transportation</td>\n      <td>Street Condition</td>\n      <td>Pothole</td>\n      <td>10451</td>\n      <td>EAST 149 STREET</td>\n      <td>PARK AVENUE</td>\n      <td>...</td>\n      <td>NaN</td>\n      <td>NaN</td>\n      <td>NaN</td>\n      <td>NaN</td>\n      <td>NaN</td>\n      <td>NaN</td>\n      <td>NaN</td>\n      <td>NaN</td>\n      <td>NaN</td>\n      <td>NaN</td>\n    </tr>\n    <tr>\n      <th>1</th>\n      <td>29835781</td>\n      <td>2015-01-31T23:59:25.000</td>\n      <td>2015-02-01T02:50:39.000</td>\n      <td>NYPD</td>\n      <td>New York City Police Department</td>\n      <td>Noise - Residential</td>\n      <td>Loud Television</td>\n      <td>11375</td>\n      <td>NaN</td>\n      <td>NaN</td>\n      <td>...</td>\n      <td>2015-02-01T07:59:25.000</td>\n      <td>4021860038</td>\n      <td>NaN</td>\n      <td>NaN</td>\n      <td>NaN</td>\n      <td>NaN</td>\n      <td>NaN</td>\n      <td>NaN</td>\n      <td>NaN</td>\n      <td>NaN</td>\n    </tr>\n    <tr>\n      <th>2</th>\n      <td>29837850</td>\n      <td>2015-01-31T23:59:08.000</td>\n      <td>2015-04-02T06:33:30.000</td>\n      <td>DOHMH</td>\n      <td>Department of Health and Mental Hygiene</td>\n      <td>Food Establishment</td>\n      <td>Food Worker Hygiene</td>\n      <td>10016</td>\n      <td>NaN</td>\n      <td>NaN</td>\n      <td>...</td>\n      <td>2015-04-01T23:59:08.000</td>\n      <td>1008820047</td>\n      <td>NaN</td>\n      <td>NaN</td>\n      <td>NaN</td>\n      <td>NaN</td>\n      <td>NaN</td>\n      <td>NaN</td>\n      <td>NaN</td>\n      <td>NaN</td>\n    </tr>\n    <tr>\n      <th>3</th>\n      <td>29833911</td>\n      <td>2015-01-31T23:58:50.000</td>\n      <td>2015-02-01T01:28:12.000</td>\n      <td>NYPD</td>\n      <td>New York City Police Department</td>\n      <td>Noise - Residential</td>\n      <td>Banging/Pounding</td>\n      <td>10474</td>\n      <td>NaN</td>\n      <td>NaN</td>\n      <td>...</td>\n      <td>2015-02-01T07:58:50.000</td>\n      <td>2027630252</td>\n      <td>NaN</td>\n      <td>NaN</td>\n      <td>NaN</td>\n      <td>NaN</td>\n      <td>NaN</td>\n      <td>NaN</td>\n      <td>NaN</td>\n      <td>NaN</td>\n    </tr>\n    <tr>\n      <th>4</th>\n      <td>29837016</td>\n      <td>2015-01-31T23:58:47.000</td>\n      <td>2015-02-01T05:26:00.000</td>\n      <td>NYPD</td>\n      <td>New York City Police Department</td>\n      <td>Noise - Residential</td>\n      <td>Loud Music/Party</td>\n      <td>10034</td>\n      <td>NaN</td>\n      <td>NaN</td>\n      <td>...</td>\n      <td>2015-02-01T07:58:47.000</td>\n      <td>1022170035</td>\n      <td>NaN</td>\n      <td>NaN</td>\n      <td>NaN</td>\n      <td>NaN</td>\n      <td>NaN</td>\n      <td>NaN</td>\n      <td>NaN</td>\n      <td>NaN</td>\n    </tr>\n  </tbody>\n</table>\n<p>5 rows × 41 columns</p>\n</div>"
     },
     "execution_count": 6,
     "metadata": {},
     "output_type": "execute_result"
    }
   ],
   "source": [
    "complaints_df.head()"
   ],
   "metadata": {
    "collapsed": false,
    "ExecuteTime": {
     "end_time": "2023-11-24T12:25:59.146972300Z",
     "start_time": "2023-11-24T12:25:59.129686400Z"
    }
   },
   "id": "335f0b9f4294314d"
  },
  {
   "cell_type": "markdown",
   "source": [],
   "metadata": {
    "collapsed": false
   },
   "id": "6642b7c86e51ace0"
  },
  {
   "cell_type": "code",
   "execution_count": 8,
   "outputs": [],
   "source": [
    "tree_data = requests.get(url=\"https://data.cityofnewyork.us/resource/5rq2-4hqu.json\",\n",
    "                         params={\"$$app_token\": app_token, \"$limit\": 99999999999999999999}).json()\n",
    "tree_df = pd.DataFrame(tree_data)"
   ],
   "metadata": {
    "collapsed": false,
    "ExecuteTime": {
     "end_time": "2023-11-24T12:28:17.404288300Z",
     "start_time": "2023-11-24T12:27:10.545855600Z"
    }
   },
   "id": "96d3be5437f18791"
  },
  {
   "cell_type": "code",
   "execution_count": 9,
   "outputs": [
    {
     "data": {
      "text/plain": "(683788, 42)"
     },
     "execution_count": 9,
     "metadata": {},
     "output_type": "execute_result"
    }
   ],
   "source": [
    "tree_df.shape"
   ],
   "metadata": {
    "collapsed": false,
    "ExecuteTime": {
     "end_time": "2023-11-24T12:28:17.411914400Z",
     "start_time": "2023-11-24T12:28:17.404288300Z"
    }
   },
   "id": "93fc1876d444cc23"
  },
  {
   "cell_type": "code",
   "execution_count": 10,
   "outputs": [
    {
     "data": {
      "text/plain": "   created_at tree_id block_id  \\\n0  08/27/2015  180683   348711   \n1  09/03/2015  200540   315986   \n2  09/05/2015  204026   218365   \n3  09/05/2015  204337   217969   \n4  08/30/2015  189565   223043   \n\n                                            the_geom tree_dbh stump_diam  \\\n0  {'type': 'Point', 'coordinates': [-73.84421521...        3          0   \n1  {'type': 'Point', 'coordinates': [-73.81867945...       21          0   \n2  {'type': 'Point', 'coordinates': [-73.93660770...        3          0   \n3  {'type': 'Point', 'coordinates': [-73.93445615...       10          0   \n4  {'type': 'Point', 'coordinates': [-73.97597938...       21          0   \n\n  curb_loc status health                           spc_latin  ... st_assem  \\\n0   OnCurb  Alive   Fair                         Acer rubrum  ...       28   \n1   OnCurb  Alive   Fair                   Quercus palustris  ...       27   \n2   OnCurb  Alive   Good  Gleditsia triacanthos var. inermis  ...       50   \n3   OnCurb  Alive   Good  Gleditsia triacanthos var. inermis  ...       53   \n4   OnCurb  Alive   Good                     Tilia americana  ...       44   \n\n  st_senate   nta            nta_name  boro_ct     state     latitude  \\\n0        16  QN17        Forest Hills  4073900  New York  40.72309177   \n1        11  QN49          Whitestone  4097300  New York  40.79411067   \n2        18  BK90   East Williamsburg  3044900  New York  40.71758074   \n3        18  BK90   East Williamsburg  3044900  New York  40.71353749   \n4        21  BK37  Park Slope-Gowanus  3016500  New York  40.66677776   \n\n      longitude           x_sp           y_sp  \n0  -73.84421522  1027431.14821  202756.768749  \n1  -73.81867946  1034455.70109  228644.837379  \n2   -73.9366077  1001822.83131  200716.891267  \n3  -73.93445616  1002420.35833  199244.253136  \n4  -73.97597938  990913.775046  182202.425999  \n\n[5 rows x 42 columns]",
      "text/html": "<div>\n<style scoped>\n    .dataframe tbody tr th:only-of-type {\n        vertical-align: middle;\n    }\n\n    .dataframe tbody tr th {\n        vertical-align: top;\n    }\n\n    .dataframe thead th {\n        text-align: right;\n    }\n</style>\n<table border=\"1\" class=\"dataframe\">\n  <thead>\n    <tr style=\"text-align: right;\">\n      <th></th>\n      <th>created_at</th>\n      <th>tree_id</th>\n      <th>block_id</th>\n      <th>the_geom</th>\n      <th>tree_dbh</th>\n      <th>stump_diam</th>\n      <th>curb_loc</th>\n      <th>status</th>\n      <th>health</th>\n      <th>spc_latin</th>\n      <th>...</th>\n      <th>st_assem</th>\n      <th>st_senate</th>\n      <th>nta</th>\n      <th>nta_name</th>\n      <th>boro_ct</th>\n      <th>state</th>\n      <th>latitude</th>\n      <th>longitude</th>\n      <th>x_sp</th>\n      <th>y_sp</th>\n    </tr>\n  </thead>\n  <tbody>\n    <tr>\n      <th>0</th>\n      <td>08/27/2015</td>\n      <td>180683</td>\n      <td>348711</td>\n      <td>{'type': 'Point', 'coordinates': [-73.84421521...</td>\n      <td>3</td>\n      <td>0</td>\n      <td>OnCurb</td>\n      <td>Alive</td>\n      <td>Fair</td>\n      <td>Acer rubrum</td>\n      <td>...</td>\n      <td>28</td>\n      <td>16</td>\n      <td>QN17</td>\n      <td>Forest Hills</td>\n      <td>4073900</td>\n      <td>New York</td>\n      <td>40.72309177</td>\n      <td>-73.84421522</td>\n      <td>1027431.14821</td>\n      <td>202756.768749</td>\n    </tr>\n    <tr>\n      <th>1</th>\n      <td>09/03/2015</td>\n      <td>200540</td>\n      <td>315986</td>\n      <td>{'type': 'Point', 'coordinates': [-73.81867945...</td>\n      <td>21</td>\n      <td>0</td>\n      <td>OnCurb</td>\n      <td>Alive</td>\n      <td>Fair</td>\n      <td>Quercus palustris</td>\n      <td>...</td>\n      <td>27</td>\n      <td>11</td>\n      <td>QN49</td>\n      <td>Whitestone</td>\n      <td>4097300</td>\n      <td>New York</td>\n      <td>40.79411067</td>\n      <td>-73.81867946</td>\n      <td>1034455.70109</td>\n      <td>228644.837379</td>\n    </tr>\n    <tr>\n      <th>2</th>\n      <td>09/05/2015</td>\n      <td>204026</td>\n      <td>218365</td>\n      <td>{'type': 'Point', 'coordinates': [-73.93660770...</td>\n      <td>3</td>\n      <td>0</td>\n      <td>OnCurb</td>\n      <td>Alive</td>\n      <td>Good</td>\n      <td>Gleditsia triacanthos var. inermis</td>\n      <td>...</td>\n      <td>50</td>\n      <td>18</td>\n      <td>BK90</td>\n      <td>East Williamsburg</td>\n      <td>3044900</td>\n      <td>New York</td>\n      <td>40.71758074</td>\n      <td>-73.9366077</td>\n      <td>1001822.83131</td>\n      <td>200716.891267</td>\n    </tr>\n    <tr>\n      <th>3</th>\n      <td>09/05/2015</td>\n      <td>204337</td>\n      <td>217969</td>\n      <td>{'type': 'Point', 'coordinates': [-73.93445615...</td>\n      <td>10</td>\n      <td>0</td>\n      <td>OnCurb</td>\n      <td>Alive</td>\n      <td>Good</td>\n      <td>Gleditsia triacanthos var. inermis</td>\n      <td>...</td>\n      <td>53</td>\n      <td>18</td>\n      <td>BK90</td>\n      <td>East Williamsburg</td>\n      <td>3044900</td>\n      <td>New York</td>\n      <td>40.71353749</td>\n      <td>-73.93445616</td>\n      <td>1002420.35833</td>\n      <td>199244.253136</td>\n    </tr>\n    <tr>\n      <th>4</th>\n      <td>08/30/2015</td>\n      <td>189565</td>\n      <td>223043</td>\n      <td>{'type': 'Point', 'coordinates': [-73.97597938...</td>\n      <td>21</td>\n      <td>0</td>\n      <td>OnCurb</td>\n      <td>Alive</td>\n      <td>Good</td>\n      <td>Tilia americana</td>\n      <td>...</td>\n      <td>44</td>\n      <td>21</td>\n      <td>BK37</td>\n      <td>Park Slope-Gowanus</td>\n      <td>3016500</td>\n      <td>New York</td>\n      <td>40.66677776</td>\n      <td>-73.97597938</td>\n      <td>990913.775046</td>\n      <td>182202.425999</td>\n    </tr>\n  </tbody>\n</table>\n<p>5 rows × 42 columns</p>\n</div>"
     },
     "execution_count": 10,
     "metadata": {},
     "output_type": "execute_result"
    }
   ],
   "source": [
    "tree_df.head()"
   ],
   "metadata": {
    "collapsed": false,
    "ExecuteTime": {
     "end_time": "2023-11-24T12:28:17.426731900Z",
     "start_time": "2023-11-24T12:28:17.408818300Z"
    }
   },
   "id": "13eae695234321c0"
  },
  {
   "cell_type": "markdown",
   "source": [
    "To save time, I will save the datasets downloaded locally."
   ],
   "metadata": {
    "collapsed": false
   },
   "id": "c8cd31821847f025"
  },
  {
   "cell_type": "code",
   "execution_count": 11,
   "outputs": [],
   "source": [
    "complaints_df.to_csv(\"data/complaints.csv\")\n",
    "tree_df.to_csv(\"data/tree.csv\")\n"
   ],
   "metadata": {
    "collapsed": false,
    "ExecuteTime": {
     "end_time": "2023-11-24T12:29:59.220065900Z",
     "start_time": "2023-11-24T12:29:48.816011600Z"
    }
   },
   "id": "53c58a380cc23633"
  },
  {
   "cell_type": "code",
   "execution_count": 7,
   "outputs": [
    {
     "ename": "FileNotFoundError",
     "evalue": "[Errno 2] No such file or directory: 'data/complaints.csv'",
     "output_type": "error",
     "traceback": [
      "\u001B[1;31m---------------------------------------------------------------------------\u001B[0m",
      "\u001B[1;31mFileNotFoundError\u001B[0m                         Traceback (most recent call last)",
      "Cell \u001B[1;32mIn[7], line 1\u001B[0m\n\u001B[1;32m----> 1\u001B[0m complaints_df \u001B[38;5;241m=\u001B[39m \u001B[43mpd\u001B[49m\u001B[38;5;241;43m.\u001B[39;49m\u001B[43mread_csv\u001B[49m\u001B[43m(\u001B[49m\u001B[38;5;124;43m\"\u001B[39;49m\u001B[38;5;124;43mdata/complaints.csv\u001B[39;49m\u001B[38;5;124;43m\"\u001B[39;49m\u001B[43m)\u001B[49m\n\u001B[0;32m      2\u001B[0m tree_df \u001B[38;5;241m=\u001B[39m pd\u001B[38;5;241m.\u001B[39mread_csv(\u001B[38;5;124m\"\u001B[39m\u001B[38;5;124mdata/tree.csv\u001B[39m\u001B[38;5;124m\"\u001B[39m)\n",
      "File \u001B[1;32m~\\AppData\\Local\\Programs\\Python\\Python311\\Lib\\site-packages\\pandas\\io\\parsers\\readers.py:948\u001B[0m, in \u001B[0;36mread_csv\u001B[1;34m(filepath_or_buffer, sep, delimiter, header, names, index_col, usecols, dtype, engine, converters, true_values, false_values, skipinitialspace, skiprows, skipfooter, nrows, na_values, keep_default_na, na_filter, verbose, skip_blank_lines, parse_dates, infer_datetime_format, keep_date_col, date_parser, date_format, dayfirst, cache_dates, iterator, chunksize, compression, thousands, decimal, lineterminator, quotechar, quoting, doublequote, escapechar, comment, encoding, encoding_errors, dialect, on_bad_lines, delim_whitespace, low_memory, memory_map, float_precision, storage_options, dtype_backend)\u001B[0m\n\u001B[0;32m    935\u001B[0m kwds_defaults \u001B[38;5;241m=\u001B[39m _refine_defaults_read(\n\u001B[0;32m    936\u001B[0m     dialect,\n\u001B[0;32m    937\u001B[0m     delimiter,\n\u001B[1;32m   (...)\u001B[0m\n\u001B[0;32m    944\u001B[0m     dtype_backend\u001B[38;5;241m=\u001B[39mdtype_backend,\n\u001B[0;32m    945\u001B[0m )\n\u001B[0;32m    946\u001B[0m kwds\u001B[38;5;241m.\u001B[39mupdate(kwds_defaults)\n\u001B[1;32m--> 948\u001B[0m \u001B[38;5;28;01mreturn\u001B[39;00m \u001B[43m_read\u001B[49m\u001B[43m(\u001B[49m\u001B[43mfilepath_or_buffer\u001B[49m\u001B[43m,\u001B[49m\u001B[43m \u001B[49m\u001B[43mkwds\u001B[49m\u001B[43m)\u001B[49m\n",
      "File \u001B[1;32m~\\AppData\\Local\\Programs\\Python\\Python311\\Lib\\site-packages\\pandas\\io\\parsers\\readers.py:611\u001B[0m, in \u001B[0;36m_read\u001B[1;34m(filepath_or_buffer, kwds)\u001B[0m\n\u001B[0;32m    608\u001B[0m _validate_names(kwds\u001B[38;5;241m.\u001B[39mget(\u001B[38;5;124m\"\u001B[39m\u001B[38;5;124mnames\u001B[39m\u001B[38;5;124m\"\u001B[39m, \u001B[38;5;28;01mNone\u001B[39;00m))\n\u001B[0;32m    610\u001B[0m \u001B[38;5;66;03m# Create the parser.\u001B[39;00m\n\u001B[1;32m--> 611\u001B[0m parser \u001B[38;5;241m=\u001B[39m \u001B[43mTextFileReader\u001B[49m\u001B[43m(\u001B[49m\u001B[43mfilepath_or_buffer\u001B[49m\u001B[43m,\u001B[49m\u001B[43m \u001B[49m\u001B[38;5;241;43m*\u001B[39;49m\u001B[38;5;241;43m*\u001B[39;49m\u001B[43mkwds\u001B[49m\u001B[43m)\u001B[49m\n\u001B[0;32m    613\u001B[0m \u001B[38;5;28;01mif\u001B[39;00m chunksize \u001B[38;5;129;01mor\u001B[39;00m iterator:\n\u001B[0;32m    614\u001B[0m     \u001B[38;5;28;01mreturn\u001B[39;00m parser\n",
      "File \u001B[1;32m~\\AppData\\Local\\Programs\\Python\\Python311\\Lib\\site-packages\\pandas\\io\\parsers\\readers.py:1448\u001B[0m, in \u001B[0;36mTextFileReader.__init__\u001B[1;34m(self, f, engine, **kwds)\u001B[0m\n\u001B[0;32m   1445\u001B[0m     \u001B[38;5;28mself\u001B[39m\u001B[38;5;241m.\u001B[39moptions[\u001B[38;5;124m\"\u001B[39m\u001B[38;5;124mhas_index_names\u001B[39m\u001B[38;5;124m\"\u001B[39m] \u001B[38;5;241m=\u001B[39m kwds[\u001B[38;5;124m\"\u001B[39m\u001B[38;5;124mhas_index_names\u001B[39m\u001B[38;5;124m\"\u001B[39m]\n\u001B[0;32m   1447\u001B[0m \u001B[38;5;28mself\u001B[39m\u001B[38;5;241m.\u001B[39mhandles: IOHandles \u001B[38;5;241m|\u001B[39m \u001B[38;5;28;01mNone\u001B[39;00m \u001B[38;5;241m=\u001B[39m \u001B[38;5;28;01mNone\u001B[39;00m\n\u001B[1;32m-> 1448\u001B[0m \u001B[38;5;28mself\u001B[39m\u001B[38;5;241m.\u001B[39m_engine \u001B[38;5;241m=\u001B[39m \u001B[38;5;28;43mself\u001B[39;49m\u001B[38;5;241;43m.\u001B[39;49m\u001B[43m_make_engine\u001B[49m\u001B[43m(\u001B[49m\u001B[43mf\u001B[49m\u001B[43m,\u001B[49m\u001B[43m \u001B[49m\u001B[38;5;28;43mself\u001B[39;49m\u001B[38;5;241;43m.\u001B[39;49m\u001B[43mengine\u001B[49m\u001B[43m)\u001B[49m\n",
      "File \u001B[1;32m~\\AppData\\Local\\Programs\\Python\\Python311\\Lib\\site-packages\\pandas\\io\\parsers\\readers.py:1705\u001B[0m, in \u001B[0;36mTextFileReader._make_engine\u001B[1;34m(self, f, engine)\u001B[0m\n\u001B[0;32m   1703\u001B[0m     \u001B[38;5;28;01mif\u001B[39;00m \u001B[38;5;124m\"\u001B[39m\u001B[38;5;124mb\u001B[39m\u001B[38;5;124m\"\u001B[39m \u001B[38;5;129;01mnot\u001B[39;00m \u001B[38;5;129;01min\u001B[39;00m mode:\n\u001B[0;32m   1704\u001B[0m         mode \u001B[38;5;241m+\u001B[39m\u001B[38;5;241m=\u001B[39m \u001B[38;5;124m\"\u001B[39m\u001B[38;5;124mb\u001B[39m\u001B[38;5;124m\"\u001B[39m\n\u001B[1;32m-> 1705\u001B[0m \u001B[38;5;28mself\u001B[39m\u001B[38;5;241m.\u001B[39mhandles \u001B[38;5;241m=\u001B[39m \u001B[43mget_handle\u001B[49m\u001B[43m(\u001B[49m\n\u001B[0;32m   1706\u001B[0m \u001B[43m    \u001B[49m\u001B[43mf\u001B[49m\u001B[43m,\u001B[49m\n\u001B[0;32m   1707\u001B[0m \u001B[43m    \u001B[49m\u001B[43mmode\u001B[49m\u001B[43m,\u001B[49m\n\u001B[0;32m   1708\u001B[0m \u001B[43m    \u001B[49m\u001B[43mencoding\u001B[49m\u001B[38;5;241;43m=\u001B[39;49m\u001B[38;5;28;43mself\u001B[39;49m\u001B[38;5;241;43m.\u001B[39;49m\u001B[43moptions\u001B[49m\u001B[38;5;241;43m.\u001B[39;49m\u001B[43mget\u001B[49m\u001B[43m(\u001B[49m\u001B[38;5;124;43m\"\u001B[39;49m\u001B[38;5;124;43mencoding\u001B[39;49m\u001B[38;5;124;43m\"\u001B[39;49m\u001B[43m,\u001B[49m\u001B[43m \u001B[49m\u001B[38;5;28;43;01mNone\u001B[39;49;00m\u001B[43m)\u001B[49m\u001B[43m,\u001B[49m\n\u001B[0;32m   1709\u001B[0m \u001B[43m    \u001B[49m\u001B[43mcompression\u001B[49m\u001B[38;5;241;43m=\u001B[39;49m\u001B[38;5;28;43mself\u001B[39;49m\u001B[38;5;241;43m.\u001B[39;49m\u001B[43moptions\u001B[49m\u001B[38;5;241;43m.\u001B[39;49m\u001B[43mget\u001B[49m\u001B[43m(\u001B[49m\u001B[38;5;124;43m\"\u001B[39;49m\u001B[38;5;124;43mcompression\u001B[39;49m\u001B[38;5;124;43m\"\u001B[39;49m\u001B[43m,\u001B[49m\u001B[43m \u001B[49m\u001B[38;5;28;43;01mNone\u001B[39;49;00m\u001B[43m)\u001B[49m\u001B[43m,\u001B[49m\n\u001B[0;32m   1710\u001B[0m \u001B[43m    \u001B[49m\u001B[43mmemory_map\u001B[49m\u001B[38;5;241;43m=\u001B[39;49m\u001B[38;5;28;43mself\u001B[39;49m\u001B[38;5;241;43m.\u001B[39;49m\u001B[43moptions\u001B[49m\u001B[38;5;241;43m.\u001B[39;49m\u001B[43mget\u001B[49m\u001B[43m(\u001B[49m\u001B[38;5;124;43m\"\u001B[39;49m\u001B[38;5;124;43mmemory_map\u001B[39;49m\u001B[38;5;124;43m\"\u001B[39;49m\u001B[43m,\u001B[49m\u001B[43m \u001B[49m\u001B[38;5;28;43;01mFalse\u001B[39;49;00m\u001B[43m)\u001B[49m\u001B[43m,\u001B[49m\n\u001B[0;32m   1711\u001B[0m \u001B[43m    \u001B[49m\u001B[43mis_text\u001B[49m\u001B[38;5;241;43m=\u001B[39;49m\u001B[43mis_text\u001B[49m\u001B[43m,\u001B[49m\n\u001B[0;32m   1712\u001B[0m \u001B[43m    \u001B[49m\u001B[43merrors\u001B[49m\u001B[38;5;241;43m=\u001B[39;49m\u001B[38;5;28;43mself\u001B[39;49m\u001B[38;5;241;43m.\u001B[39;49m\u001B[43moptions\u001B[49m\u001B[38;5;241;43m.\u001B[39;49m\u001B[43mget\u001B[49m\u001B[43m(\u001B[49m\u001B[38;5;124;43m\"\u001B[39;49m\u001B[38;5;124;43mencoding_errors\u001B[39;49m\u001B[38;5;124;43m\"\u001B[39;49m\u001B[43m,\u001B[49m\u001B[43m \u001B[49m\u001B[38;5;124;43m\"\u001B[39;49m\u001B[38;5;124;43mstrict\u001B[39;49m\u001B[38;5;124;43m\"\u001B[39;49m\u001B[43m)\u001B[49m\u001B[43m,\u001B[49m\n\u001B[0;32m   1713\u001B[0m \u001B[43m    \u001B[49m\u001B[43mstorage_options\u001B[49m\u001B[38;5;241;43m=\u001B[39;49m\u001B[38;5;28;43mself\u001B[39;49m\u001B[38;5;241;43m.\u001B[39;49m\u001B[43moptions\u001B[49m\u001B[38;5;241;43m.\u001B[39;49m\u001B[43mget\u001B[49m\u001B[43m(\u001B[49m\u001B[38;5;124;43m\"\u001B[39;49m\u001B[38;5;124;43mstorage_options\u001B[39;49m\u001B[38;5;124;43m\"\u001B[39;49m\u001B[43m,\u001B[49m\u001B[43m \u001B[49m\u001B[38;5;28;43;01mNone\u001B[39;49;00m\u001B[43m)\u001B[49m\u001B[43m,\u001B[49m\n\u001B[0;32m   1714\u001B[0m \u001B[43m\u001B[49m\u001B[43m)\u001B[49m\n\u001B[0;32m   1715\u001B[0m \u001B[38;5;28;01massert\u001B[39;00m \u001B[38;5;28mself\u001B[39m\u001B[38;5;241m.\u001B[39mhandles \u001B[38;5;129;01mis\u001B[39;00m \u001B[38;5;129;01mnot\u001B[39;00m \u001B[38;5;28;01mNone\u001B[39;00m\n\u001B[0;32m   1716\u001B[0m f \u001B[38;5;241m=\u001B[39m \u001B[38;5;28mself\u001B[39m\u001B[38;5;241m.\u001B[39mhandles\u001B[38;5;241m.\u001B[39mhandle\n",
      "File \u001B[1;32m~\\AppData\\Local\\Programs\\Python\\Python311\\Lib\\site-packages\\pandas\\io\\common.py:863\u001B[0m, in \u001B[0;36mget_handle\u001B[1;34m(path_or_buf, mode, encoding, compression, memory_map, is_text, errors, storage_options)\u001B[0m\n\u001B[0;32m    858\u001B[0m \u001B[38;5;28;01melif\u001B[39;00m \u001B[38;5;28misinstance\u001B[39m(handle, \u001B[38;5;28mstr\u001B[39m):\n\u001B[0;32m    859\u001B[0m     \u001B[38;5;66;03m# Check whether the filename is to be opened in binary mode.\u001B[39;00m\n\u001B[0;32m    860\u001B[0m     \u001B[38;5;66;03m# Binary mode does not support 'encoding' and 'newline'.\u001B[39;00m\n\u001B[0;32m    861\u001B[0m     \u001B[38;5;28;01mif\u001B[39;00m ioargs\u001B[38;5;241m.\u001B[39mencoding \u001B[38;5;129;01mand\u001B[39;00m \u001B[38;5;124m\"\u001B[39m\u001B[38;5;124mb\u001B[39m\u001B[38;5;124m\"\u001B[39m \u001B[38;5;129;01mnot\u001B[39;00m \u001B[38;5;129;01min\u001B[39;00m ioargs\u001B[38;5;241m.\u001B[39mmode:\n\u001B[0;32m    862\u001B[0m         \u001B[38;5;66;03m# Encoding\u001B[39;00m\n\u001B[1;32m--> 863\u001B[0m         handle \u001B[38;5;241m=\u001B[39m \u001B[38;5;28;43mopen\u001B[39;49m\u001B[43m(\u001B[49m\n\u001B[0;32m    864\u001B[0m \u001B[43m            \u001B[49m\u001B[43mhandle\u001B[49m\u001B[43m,\u001B[49m\n\u001B[0;32m    865\u001B[0m \u001B[43m            \u001B[49m\u001B[43mioargs\u001B[49m\u001B[38;5;241;43m.\u001B[39;49m\u001B[43mmode\u001B[49m\u001B[43m,\u001B[49m\n\u001B[0;32m    866\u001B[0m \u001B[43m            \u001B[49m\u001B[43mencoding\u001B[49m\u001B[38;5;241;43m=\u001B[39;49m\u001B[43mioargs\u001B[49m\u001B[38;5;241;43m.\u001B[39;49m\u001B[43mencoding\u001B[49m\u001B[43m,\u001B[49m\n\u001B[0;32m    867\u001B[0m \u001B[43m            \u001B[49m\u001B[43merrors\u001B[49m\u001B[38;5;241;43m=\u001B[39;49m\u001B[43merrors\u001B[49m\u001B[43m,\u001B[49m\n\u001B[0;32m    868\u001B[0m \u001B[43m            \u001B[49m\u001B[43mnewline\u001B[49m\u001B[38;5;241;43m=\u001B[39;49m\u001B[38;5;124;43m\"\u001B[39;49m\u001B[38;5;124;43m\"\u001B[39;49m\u001B[43m,\u001B[49m\n\u001B[0;32m    869\u001B[0m \u001B[43m        \u001B[49m\u001B[43m)\u001B[49m\n\u001B[0;32m    870\u001B[0m     \u001B[38;5;28;01melse\u001B[39;00m:\n\u001B[0;32m    871\u001B[0m         \u001B[38;5;66;03m# Binary mode\u001B[39;00m\n\u001B[0;32m    872\u001B[0m         handle \u001B[38;5;241m=\u001B[39m \u001B[38;5;28mopen\u001B[39m(handle, ioargs\u001B[38;5;241m.\u001B[39mmode)\n",
      "\u001B[1;31mFileNotFoundError\u001B[0m: [Errno 2] No such file or directory: 'data/complaints.csv'"
     ]
    }
   ],
   "source": [
    "complaints_df = pd.read_csv(\"data/complaints.csv\")\n",
    "tree_df = pd.read_csv(\"data/tree.csv\")"
   ],
   "metadata": {
    "collapsed": false,
    "ExecuteTime": {
     "end_time": "2023-11-24T12:33:04.209127300Z",
     "start_time": "2023-11-24T12:33:04.115076600Z"
    }
   },
   "id": "47a7b53b38fd84a9"
  },
  {
   "cell_type": "markdown",
   "source": [
    "# Storing Data"
   ],
   "metadata": {
    "collapsed": false
   },
   "id": "16dea2f1da9eaed5"
  },
  {
   "cell_type": "code",
   "execution_count": null,
   "outputs": [],
   "source": [],
   "metadata": {
    "collapsed": false
   },
   "id": "6dbefcc832d105dc"
  },
  {
   "cell_type": "markdown",
   "source": [
    "# Understanding Data"
   ],
   "metadata": {
    "collapsed": false
   },
   "id": "b42c6bc5c024a8c2"
  },
  {
   "cell_type": "code",
   "execution_count": null,
   "outputs": [],
   "source": [],
   "metadata": {
    "collapsed": false
   },
   "id": "c4a02c5e133f921d"
  },
  {
   "cell_type": "markdown",
   "source": [
    "# Visualizing Data"
   ],
   "metadata": {
    "collapsed": false
   },
   "id": "18ffd1bb99075ea9"
  },
  {
   "cell_type": "code",
   "execution_count": null,
   "outputs": [],
   "source": [],
   "metadata": {
    "collapsed": false,
    "ExecuteTime": {
     "start_time": "2023-11-24T11:43:13.539677300Z"
    }
   },
   "id": "83af7d548eed2ae8"
  }
 ],
 "metadata": {
  "kernelspec": {
   "display_name": "Python 3",
   "language": "python",
   "name": "python3"
  },
  "language_info": {
   "codemirror_mode": {
    "name": "ipython",
    "version": 2
   },
   "file_extension": ".py",
   "mimetype": "text/x-python",
   "name": "python",
   "nbconvert_exporter": "python",
   "pygments_lexer": "ipython2",
   "version": "2.7.6"
  }
 },
 "nbformat": 4,
 "nbformat_minor": 5
}
